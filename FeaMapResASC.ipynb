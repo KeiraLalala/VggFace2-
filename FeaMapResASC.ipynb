{
 "cells": [
  {
   "cell_type": "code",
   "execution_count": null,
   "metadata": {},
   "outputs": [],
   "source": [
    "import os\n",
    "import numpy as np\n",
    "import torch.nn as nn\n",
    "import torch\n",
    "import plotly.graph_objects as go\n",
    "from torch.optim import Adam\n",
    "\n",
    "import resnet50_128BSC as model\n",
    "from misc_functions import preprocess_image, recreate_image, save_image"
   ]
  },
  {
   "cell_type": "code",
   "execution_count": null,
   "metadata": {},
   "outputs": [],
   "source": [
    "class CNNLayerVisualization():\n",
    "    \"\"\"\n",
    "        Produces an image that minimizes the loss of a convolution\n",
    "        operation for a specific layer and filter\n",
    "    \"\"\"\n",
    "    def __init__(self, model, selected_layer):\n",
    "        self.model = model\n",
    "        self.model.eval()\n",
    "        self.selected_layer = selected_layer        \n",
    "        self.conv_output = 0\n",
    "        # Create the folder to export images if not exists\n",
    "        if not os.path.exists('generated'):\n",
    "            os.makedirs('generated')\n",
    "        # Generate a random image       \n",
    "        random_image = np.uint8(np.random.uniform(150, 180, (224, 224, 3)))\n",
    "        # Process image and return variable\n",
    "        self.processed_image = preprocess_image(random_image, False)\n",
    "    def calculate_mean_activation(self):        \n",
    "        def sortSecond(val): \n",
    "            return val[1]         \n",
    "        filters = [] #X axis of bar chart\n",
    "        activations = [] # mean of activation in each filters\n",
    "        sele_filters = [] #filters No. and mean activation \n",
    "        maxfilter = [] #selected filters of each layer\n",
    "        minfilter = []\n",
    "        sel_filter = 15 # amount of choosen filters       \n",
    "        x = self.processed_image.cuda()\n",
    "                \n",
    "        x = self.model.cho_layer(x, self.selected_layer) \n",
    "        print(self.selected_layer,'-', x.shape)\n",
    "        for k in range(x.shape[1]):\n",
    "            mea_act = float(torch.mean(x[0, k]))\n",
    "            filters.append(k)\n",
    "            activations.append(mea_act)\n",
    "            sele_filters.append((k,mea_act))\n",
    "\n",
    "        sele_filters.sort(key = sortSecond, reverse = True)  \n",
    "        if len(sele_filters) < sel_filter:\n",
    "            sel_filter = len(sele_filters)\n",
    "        for f in range(sel_filter):\n",
    "            maxfilter.append(sele_filters[f][0])\n",
    "            maxfilter.append(sele_filters[-f-1][0])\n",
    "        print(self.selected_layer,'-',maxfilter)\n",
    "#         fig = go.Figure([go.Bar(x=filters, y=activations)])\n",
    "#         fig.show()        \n",
    "        return maxfilter\n",
    "    def visualise_layer_without_hooks(self,selected_filter):       \n",
    "        # Process image and return variable\n",
    "        # Define optimizer for the image\n",
    "        optimizer = Adam([self.processed_image], lr=0.1, weight_decay=1e-6)\n",
    "        \n",
    "        for i in range(1, 181):\n",
    "            x = self.processed_image.cuda()\n",
    "            optimizer.zero_grad()  \n",
    "            x = self.model.cho_layer(x, self.selected_layer)                \n",
    "            self.conv_output = x[0, selected_filter]\n",
    "            # Loss function is the mean of the output of the selected layer/filter\n",
    "            # We try to minimize the mean of the output of that specific filter\n",
    "            loss = -torch.mean(self.conv_output)\n",
    "            #print('Iteration:', str(i), 'Loss:', \"{0:.2f}\".format(float(loss)))\n",
    "            # Backward\n",
    "            loss.backward()\n",
    "            # Update image\n",
    "            optimizer.step()\n",
    "            # Recreate image\n",
    "            self.created_image = recreate_image(self.processed_image)\n",
    "            # Save image\n",
    "            if i % 90 == 0:\n",
    "                im_path = 'generated/ASC_res50_vis_l' + str(self.selected_layer) + \\\n",
    "                    '_f' + str(selected_filter) + '_iter' + str(i) + '.jpg'\n",
    "                save_image(self.created_image, im_path)"
   ]
  },
  {
   "cell_type": "code",
   "execution_count": null,
   "metadata": {},
   "outputs": [],
   "source": [
    "device = torch.device(\"cuda:0\" if torch.cuda.is_available() else \"cpu\")\n",
    "modelRes50 = model.resnet50_128(weights_path='./model/resnet50_128.pth')\n",
    "modelRes50 = modelRes50.to(device)"
   ]
  },
  {
   "cell_type": "code",
   "execution_count": null,
   "metadata": {
    "scrolled": false
   },
   "outputs": [],
   "source": [
    "for l in range(7,9):\n",
    "    layer_vis = CNNLayerVisualization(modelRes50, l)\n",
    "    filter_pos = layer_vis.calculate_mean_activation()\n",
    "    for f in filter_pos:\n",
    "        layer_vis.visualise_layer_without_hooks(f) "
   ]
  }
 ],
 "metadata": {
  "kernelspec": {
   "display_name": "Python (myenv)",
   "language": "python",
   "name": "myenv"
  },
  "language_info": {
   "codemirror_mode": {
    "name": "ipython",
    "version": 3
   },
   "file_extension": ".py",
   "mimetype": "text/x-python",
   "name": "python",
   "nbconvert_exporter": "python",
   "pygments_lexer": "ipython3",
   "version": "3.7.5"
  }
 },
 "nbformat": 4,
 "nbformat_minor": 2
}
