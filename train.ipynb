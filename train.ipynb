{
 "cells": [
  {
   "cell_type": "code",
   "execution_count": 2,
   "metadata": {},
   "outputs": [],
   "source": [
    "import torch\n",
    "import torch.nn as nn\n",
    "\n",
    "import datasets\n",
    "import models.resnet as ResNet\n",
    "import models.senet as SENet\n",
    "from trainer import Trainer, Validator\n",
    "from extractor import Extractor\n",
    "import utils"
   ]
  },
  {
   "cell_type": "code",
   "execution_count": 3,
   "metadata": {},
   "outputs": [
    {
     "name": "stdout",
     "output_type": "stream",
     "text": [
      "torch.backends.cudnn.version: 7005\n"
     ]
    }
   ],
   "source": [
    "# 定义是否使用GPU\n",
    "cuda = torch.cuda.is_available()\n",
    "if cuda:\n",
    "    print(\"torch.backends.cudnn.version: {}\".format(torch.backends.cudnn.version()))\n",
    "\n",
    "    torch.manual_seed(1337)\n",
    "if cuda:\n",
    "    torch.cuda.manual_seed(1337)\n"
   ]
  },
  {
   "cell_type": "code",
   "execution_count": 4,
   "metadata": {},
   "outputs": [],
   "source": [
    "# 超参数设置\n",
    "configurations = {\n",
    "    1: dict(\n",
    "        max_iteration=1000000,\n",
    "        lr=1.0e-1,\n",
    "        momentum=0.9,\n",
    "        weight_decay=0.0,\n",
    "        gamma=0.1, # \"lr_policy: step\"\n",
    "        step_size=1000000, # \"lr_policy: step\"\n",
    "        interval_validate=1000,\n",
    "    ),\n",
    "}"
   ]
  },
  {
   "cell_type": "code",
   "execution_count": 5,
   "metadata": {},
   "outputs": [],
   "source": [
    "# get parameters of each layer\n",
    "def get_parameters(model, bias=False):\n",
    "    for k, m in model._modules.items():\n",
    "        if k == \"fc\" and isinstance(m, nn.Linear):\n",
    "            if bias:\n",
    "                yield m.bias\n",
    "            else:\n",
    "                yield m.weight\n",
    "\n",
    "N_IDENTITY = 8631  # the number of identities in VGGFace2 for which ResNet and SENet are trained"
   ]
  },
  {
   "cell_type": "code",
   "execution_count": 6,
   "metadata": {},
   "outputs": [],
   "source": [
    "utils.create_dir('checkpoint_directory')\n",
    "cfg = configurations[1]\n",
    "log_file = 'log_file'\n",
    "resume = ''"
   ]
  },
  {
   "cell_type": "code",
   "execution_count": 7,
   "metadata": {},
   "outputs": [
    {
     "name": "stderr",
     "output_type": "stream",
     "text": [
      "C:\\Users\\s439476\\Documents\\VGGFace2-pytorch-master\\utils.py:37: ParserWarning: Falling back to the 'python' engine because the 'c' engine does not support regex separators (separators > 1 char and different from '\\s+' are interpreted as regex); you can avoid this warning by specifying engine='python'.\n",
      "  df = pd.read_csv(identity_list, sep=',\\s+', quoting=csv.QUOTE_ALL, encoding=\"utf-8\")\n"
     ]
    }
   ],
   "source": [
    "# 0. id label map\n",
    "meta_file = 'identity_meta.csv'\n",
    "id_label_dict = utils.get_id_label_map(meta_file)"
   ]
  },
  {
   "cell_type": "code",
   "execution_count": 8,
   "metadata": {},
   "outputs": [],
   "source": [
    "# 1. data loader\n",
    "root = 'datasets'    \n",
    "train_img_list_file = 'train_list.txt'\n",
    "test_img_list_file = 'test_list.txt'\n",
    "kwargs = {'num_workers': 4, 'pin_memory': True} if cuda else {}"
   ]
  },
  {
   "cell_type": "code",
   "execution_count": 9,
   "metadata": {},
   "outputs": [
    {
     "name": "stdout",
     "output_type": "stream",
     "text": [
      "processing: 0 images for train\n",
      "processing: 1000 images for train\n",
      "processing: 2000 images for train\n",
      "processing: 3000 images for train\n",
      "processing: 4000 images for train\n",
      "processing: 5000 images for train\n",
      "processing: 6000 images for train\n",
      "processing: 7000 images for train\n",
      "processing: 8000 images for train\n",
      "processing: 9000 images for train\n",
      "processing: 10000 images for train\n",
      "processing: 11000 images for train\n",
      "processing: 12000 images for train\n",
      "processing: 13000 images for train\n",
      "processing: 14000 images for train\n",
      "processing: 15000 images for train\n",
      "processing: 16000 images for train\n",
      "processing: 17000 images for train\n",
      "processing: 18000 images for train\n",
      "processing: 19000 images for train\n",
      "processing: 20000 images for train\n",
      "processing: 21000 images for train\n",
      "processing: 22000 images for train\n",
      "processing: 23000 images for train\n",
      "processing: 24000 images for train\n",
      "processing: 25000 images for train\n",
      "processing: 26000 images for train\n",
      "processing: 27000 images for train\n",
      "processing: 28000 images for train\n",
      "processing: 29000 images for train\n",
      "processing: 30000 images for train\n",
      "processing: 31000 images for train\n",
      "processing: 32000 images for train\n",
      "processing: 33000 images for train\n",
      "processing: 34000 images for train\n",
      "processing: 35000 images for train\n",
      "processing: 36000 images for train\n",
      "processing: 37000 images for train\n",
      "processing: 38000 images for train\n",
      "processing: 39000 images for train\n",
      "processing: 40000 images for train\n",
      "processing: 41000 images for train\n",
      "processing: 42000 images for train\n",
      "processing: 43000 images for train\n",
      "processing: 44000 images for train\n",
      "processing: 45000 images for train\n",
      "processing: 46000 images for train\n",
      "processing: 47000 images for train\n",
      "processing: 48000 images for train\n",
      "processing: 49000 images for train\n",
      "processing: 50000 images for train\n",
      "processing: 51000 images for train\n",
      "processing: 52000 images for train\n",
      "processing: 53000 images for train\n",
      "processing: 54000 images for train\n",
      "processing: 55000 images for train\n",
      "processing: 56000 images for train\n",
      "processing: 57000 images for train\n",
      "processing: 58000 images for train\n",
      "processing: 59000 images for train\n",
      "processing: 60000 images for train\n",
      "processing: 61000 images for train\n",
      "processing: 62000 images for train\n",
      "processing: 63000 images for train\n",
      "processing: 64000 images for train\n",
      "processing: 65000 images for train\n",
      "processing: 66000 images for train\n",
      "processing: 67000 images for train\n",
      "processing: 68000 images for train\n",
      "processing: 69000 images for train\n",
      "processing: 70000 images for train\n",
      "processing: 71000 images for train\n",
      "processing: 72000 images for train\n",
      "processing: 73000 images for train\n",
      "processing: 74000 images for train\n",
      "processing: 75000 images for train\n",
      "processing: 76000 images for train\n",
      "processing: 77000 images for train\n",
      "processing: 78000 images for train\n",
      "processing: 79000 images for train\n",
      "processing: 80000 images for train\n",
      "processing: 81000 images for train\n",
      "processing: 82000 images for train\n",
      "processing: 83000 images for train\n",
      "processing: 84000 images for train\n",
      "processing: 85000 images for train\n",
      "processing: 86000 images for train\n",
      "processing: 87000 images for train\n",
      "processing: 88000 images for train\n",
      "processing: 89000 images for train\n",
      "processing: 90000 images for train\n",
      "processing: 91000 images for train\n",
      "processing: 92000 images for train\n",
      "processing: 93000 images for train\n",
      "processing: 94000 images for train\n",
      "processing: 95000 images for train\n",
      "processing: 96000 images for train\n",
      "processing: 97000 images for train\n",
      "processing: 98000 images for train\n",
      "processing: 99000 images for train\n",
      "processing: 100000 images for train\n",
      "processing: 101000 images for train\n",
      "processing: 102000 images for train\n",
      "processing: 103000 images for train\n",
      "processing: 104000 images for train\n",
      "processing: 105000 images for train\n",
      "processing: 106000 images for train\n",
      "processing: 107000 images for train\n",
      "processing: 108000 images for train\n",
      "processing: 109000 images for train\n",
      "processing: 110000 images for train\n",
      "processing: 111000 images for train\n",
      "processing: 112000 images for train\n",
      "processing: 113000 images for train\n",
      "processing: 114000 images for train\n",
      "processing: 115000 images for train\n",
      "processing: 116000 images for train\n",
      "processing: 117000 images for train\n",
      "processing: 118000 images for train\n",
      "processing: 119000 images for train\n",
      "processing: 120000 images for train\n",
      "processing: 121000 images for train\n",
      "processing: 122000 images for train\n",
      "processing: 123000 images for train\n",
      "processing: 124000 images for train\n",
      "processing: 125000 images for train\n",
      "processing: 126000 images for train\n",
      "processing: 127000 images for train\n",
      "processing: 128000 images for train\n",
      "processing: 129000 images for train\n",
      "processing: 130000 images for train\n",
      "processing: 131000 images for train\n",
      "processing: 132000 images for train\n",
      "processing: 133000 images for train\n",
      "processing: 134000 images for train\n",
      "processing: 135000 images for train\n",
      "processing: 136000 images for train\n",
      "processing: 137000 images for train\n",
      "processing: 138000 images for train\n",
      "processing: 139000 images for train\n",
      "processing: 140000 images for train\n",
      "processing: 141000 images for train\n",
      "processing: 142000 images for train\n",
      "processing: 143000 images for train\n",
      "processing: 144000 images for train\n",
      "processing: 145000 images for train\n",
      "processing: 146000 images for train\n",
      "processing: 147000 images for train\n",
      "processing: 148000 images for train\n",
      "processing: 149000 images for train\n",
      "processing: 150000 images for train\n",
      "processing: 151000 images for train\n",
      "processing: 152000 images for train\n",
      "processing: 153000 images for train\n",
      "processing: 154000 images for train\n",
      "processing: 155000 images for train\n",
      "processing: 156000 images for train\n",
      "processing: 157000 images for train\n",
      "processing: 158000 images for train\n",
      "processing: 159000 images for train\n",
      "processing: 160000 images for train\n",
      "processing: 161000 images for train\n",
      "processing: 162000 images for train\n",
      "processing: 163000 images for train\n",
      "processing: 164000 images for train\n",
      "processing: 165000 images for train\n",
      "processing: 166000 images for train\n",
      "processing: 167000 images for train\n",
      "processing: 168000 images for train\n",
      "processing: 169000 images for train\n",
      "processing: 170000 images for train\n",
      "processing: 171000 images for train\n",
      "processing: 172000 images for train\n",
      "processing: 173000 images for train\n",
      "processing: 174000 images for train\n",
      "processing: 175000 images for train\n",
      "processing: 176000 images for train\n",
      "processing: 177000 images for train\n",
      "processing: 178000 images for train\n",
      "processing: 179000 images for train\n",
      "processing: 180000 images for train\n",
      "processing: 181000 images for train\n",
      "processing: 182000 images for train\n",
      "processing: 183000 images for train\n",
      "processing: 184000 images for train\n",
      "processing: 185000 images for train\n",
      "processing: 186000 images for train\n",
      "processing: 187000 images for train\n",
      "processing: 188000 images for train\n",
      "processing: 189000 images for train\n",
      "processing: 190000 images for train\n",
      "processing: 191000 images for train\n",
      "processing: 192000 images for train\n",
      "processing: 193000 images for train\n",
      "processing: 194000 images for train\n",
      "processing: 195000 images for train\n",
      "processing: 196000 images for train\n",
      "processing: 197000 images for train\n",
      "processing: 198000 images for train\n",
      "processing: 199000 images for train\n",
      "processing: 200000 images for train\n",
      "processing: 201000 images for train\n",
      "processing: 202000 images for train\n",
      "processing: 203000 images for train\n",
      "processing: 204000 images for train\n",
      "processing: 205000 images for train\n",
      "processing: 206000 images for train\n",
      "processing: 207000 images for train\n",
      "processing: 208000 images for train\n",
      "processing: 209000 images for train\n",
      "processing: 210000 images for train\n",
      "processing: 211000 images for train\n",
      "processing: 212000 images for train\n",
      "processing: 213000 images for train\n",
      "processing: 214000 images for train\n",
      "processing: 215000 images for train\n",
      "processing: 216000 images for train\n",
      "processing: 217000 images for train\n",
      "processing: 218000 images for train\n",
      "processing: 219000 images for train\n",
      "processing: 220000 images for train\n",
      "processing: 221000 images for train\n",
      "processing: 222000 images for train\n",
      "processing: 223000 images for train\n",
      "processing: 224000 images for train\n",
      "processing: 225000 images for train\n",
      "processing: 226000 images for train\n",
      "processing: 227000 images for train\n",
      "processing: 228000 images for train\n",
      "processing: 229000 images for train\n",
      "processing: 230000 images for train\n",
      "processing: 231000 images for train\n",
      "processing: 232000 images for train\n",
      "processing: 233000 images for train\n",
      "processing: 234000 images for train\n",
      "processing: 235000 images for train\n",
      "processing: 236000 images for train\n",
      "processing: 237000 images for train\n",
      "processing: 238000 images for train\n",
      "processing: 239000 images for train\n",
      "processing: 240000 images for train\n",
      "processing: 241000 images for train\n",
      "processing: 242000 images for train\n",
      "processing: 243000 images for train\n",
      "processing: 244000 images for train\n",
      "processing: 245000 images for train\n",
      "processing: 246000 images for train\n",
      "processing: 247000 images for train\n",
      "processing: 248000 images for train\n",
      "processing: 249000 images for train\n",
      "processing: 250000 images for train\n",
      "processing: 251000 images for train\n",
      "processing: 252000 images for train\n",
      "processing: 253000 images for train\n",
      "processing: 254000 images for train\n",
      "processing: 255000 images for train\n",
      "processing: 256000 images for train\n",
      "processing: 257000 images for train\n",
      "processing: 258000 images for train\n",
      "processing: 259000 images for train\n",
      "processing: 260000 images for train\n",
      "processing: 261000 images for train\n",
      "processing: 262000 images for train\n",
      "processing: 263000 images for train\n",
      "processing: 264000 images for train\n",
      "processing: 265000 images for train\n",
      "processing: 266000 images for train\n",
      "processing: 267000 images for train\n",
      "processing: 268000 images for train\n",
      "processing: 269000 images for train\n",
      "processing: 270000 images for train\n",
      "processing: 271000 images for train\n",
      "processing: 272000 images for train\n",
      "processing: 273000 images for train\n",
      "processing: 274000 images for train\n",
      "processing: 275000 images for train\n",
      "processing: 276000 images for train\n",
      "processing: 277000 images for train\n",
      "processing: 278000 images for train\n",
      "processing: 279000 images for train\n",
      "processing: 280000 images for train\n",
      "processing: 281000 images for train\n",
      "processing: 282000 images for train\n",
      "processing: 283000 images for train\n",
      "processing: 284000 images for train\n",
      "processing: 285000 images for train\n",
      "processing: 286000 images for train\n",
      "processing: 287000 images for train\n",
      "processing: 288000 images for train\n",
      "processing: 289000 images for train\n",
      "processing: 290000 images for train\n",
      "processing: 291000 images for train\n",
      "processing: 292000 images for train\n",
      "processing: 293000 images for train\n",
      "processing: 294000 images for train\n",
      "processing: 295000 images for train\n",
      "processing: 296000 images for train\n",
      "processing: 297000 images for train\n",
      "processing: 298000 images for train\n",
      "processing: 299000 images for train\n",
      "processing: 300000 images for train\n",
      "processing: 301000 images for train\n",
      "processing: 302000 images for train\n",
      "processing: 303000 images for train\n",
      "processing: 304000 images for train\n",
      "processing: 305000 images for train\n",
      "processing: 306000 images for train\n",
      "processing: 307000 images for train\n",
      "processing: 308000 images for train\n",
      "processing: 309000 images for train\n",
      "processing: 310000 images for train\n",
      "processing: 311000 images for train\n",
      "processing: 312000 images for train\n",
      "processing: 313000 images for train\n",
      "processing: 314000 images for train\n",
      "processing: 315000 images for train\n",
      "processing: 316000 images for train\n",
      "processing: 317000 images for train\n",
      "processing: 318000 images for train\n",
      "processing: 319000 images for train\n",
      "processing: 320000 images for train\n",
      "processing: 321000 images for train\n",
      "processing: 322000 images for train\n",
      "processing: 323000 images for train\n",
      "processing: 324000 images for train\n",
      "processing: 325000 images for train\n",
      "processing: 326000 images for train\n",
      "processing: 327000 images for train\n",
      "processing: 328000 images for train\n",
      "processing: 329000 images for train\n",
      "processing: 330000 images for train\n",
      "processing: 331000 images for train\n",
      "processing: 332000 images for train\n",
      "processing: 333000 images for train\n",
      "processing: 334000 images for train\n",
      "processing: 335000 images for train\n",
      "processing: 336000 images for train\n",
      "processing: 337000 images for train\n",
      "processing: 338000 images for train\n",
      "processing: 339000 images for train\n",
      "processing: 340000 images for train\n",
      "processing: 341000 images for train\n",
      "processing: 342000 images for train\n",
      "processing: 343000 images for train\n",
      "processing: 344000 images for train\n",
      "processing: 345000 images for train\n",
      "processing: 346000 images for train\n",
      "processing: 347000 images for train\n",
      "processing: 348000 images for train\n",
      "processing: 349000 images for train\n",
      "processing: 350000 images for train\n",
      "processing: 351000 images for train\n",
      "processing: 352000 images for train\n",
      "processing: 353000 images for train\n",
      "processing: 354000 images for train\n",
      "processing: 355000 images for train\n",
      "processing: 356000 images for train\n",
      "processing: 357000 images for train\n",
      "processing: 358000 images for train\n",
      "processing: 359000 images for train\n",
      "processing: 360000 images for train\n",
      "processing: 361000 images for train\n",
      "processing: 362000 images for train\n",
      "processing: 363000 images for train\n",
      "processing: 364000 images for train\n",
      "processing: 365000 images for train\n",
      "processing: 366000 images for train\n",
      "processing: 367000 images for train\n",
      "processing: 368000 images for train\n",
      "processing: 369000 images for train\n",
      "processing: 370000 images for train\n",
      "processing: 371000 images for train\n",
      "processing: 372000 images for train\n",
      "processing: 373000 images for train\n",
      "processing: 374000 images for train\n",
      "processing: 375000 images for train\n",
      "processing: 376000 images for train\n",
      "processing: 377000 images for train\n",
      "processing: 378000 images for train\n",
      "processing: 379000 images for train\n",
      "processing: 380000 images for train\n",
      "processing: 381000 images for train\n",
      "processing: 382000 images for train\n",
      "processing: 383000 images for train\n",
      "processing: 384000 images for train\n",
      "processing: 385000 images for train\n",
      "processing: 386000 images for train\n",
      "processing: 387000 images for train\n",
      "processing: 388000 images for train\n",
      "processing: 389000 images for train\n",
      "processing: 390000 images for train\n",
      "processing: 391000 images for train\n",
      "processing: 392000 images for train\n",
      "processing: 393000 images for train\n",
      "processing: 394000 images for train\n",
      "processing: 395000 images for train\n",
      "processing: 396000 images for train\n",
      "processing: 397000 images for train\n",
      "processing: 398000 images for train\n",
      "processing: 399000 images for train\n",
      "processing: 400000 images for train\n",
      "processing: 401000 images for train\n",
      "processing: 402000 images for train\n",
      "processing: 403000 images for train\n",
      "processing: 404000 images for train\n",
      "processing: 405000 images for train\n",
      "processing: 406000 images for train\n",
      "processing: 407000 images for train\n",
      "processing: 408000 images for train\n",
      "processing: 409000 images for train\n",
      "processing: 410000 images for train\n",
      "processing: 411000 images for train\n",
      "processing: 412000 images for train\n",
      "processing: 413000 images for train\n",
      "processing: 414000 images for train\n",
      "processing: 415000 images for train\n",
      "processing: 416000 images for train\n",
      "processing: 417000 images for train\n",
      "processing: 418000 images for train\n",
      "processing: 419000 images for train\n",
      "processing: 420000 images for train\n",
      "processing: 421000 images for train\n",
      "processing: 422000 images for train\n",
      "processing: 423000 images for train\n",
      "processing: 424000 images for train\n",
      "processing: 425000 images for train\n",
      "processing: 426000 images for train\n",
      "processing: 427000 images for train\n",
      "processing: 428000 images for train\n",
      "processing: 429000 images for train\n",
      "processing: 430000 images for train\n",
      "processing: 431000 images for train\n",
      "processing: 432000 images for train\n",
      "processing: 433000 images for train\n",
      "processing: 434000 images for train\n",
      "processing: 435000 images for train\n",
      "processing: 436000 images for train\n",
      "processing: 437000 images for train\n",
      "processing: 438000 images for train\n",
      "processing: 439000 images for train\n",
      "processing: 440000 images for train\n",
      "processing: 441000 images for train\n",
      "processing: 442000 images for train\n",
      "processing: 443000 images for train\n",
      "processing: 444000 images for train\n",
      "processing: 445000 images for train\n",
      "processing: 446000 images for train\n",
      "processing: 447000 images for train\n",
      "processing: 448000 images for train\n",
      "processing: 449000 images for train\n",
      "processing: 450000 images for train\n",
      "processing: 451000 images for train\n",
      "processing: 452000 images for train\n",
      "processing: 453000 images for train\n",
      "processing: 454000 images for train\n",
      "processing: 455000 images for train\n",
      "processing: 456000 images for train\n"
     ]
    },
    {
     "name": "stdout",
     "output_type": "stream",
     "text": [
      "processing: 457000 images for train\n",
      "processing: 458000 images for train\n",
      "processing: 459000 images for train\n",
      "processing: 460000 images for train\n",
      "processing: 461000 images for train\n",
      "processing: 462000 images for train\n",
      "processing: 463000 images for train\n",
      "processing: 464000 images for train\n",
      "processing: 465000 images for train\n",
      "processing: 466000 images for train\n",
      "processing: 467000 images for train\n",
      "processing: 468000 images for train\n",
      "processing: 469000 images for train\n",
      "processing: 470000 images for train\n",
      "processing: 471000 images for train\n",
      "processing: 472000 images for train\n",
      "processing: 473000 images for train\n",
      "processing: 474000 images for train\n",
      "processing: 475000 images for train\n",
      "processing: 476000 images for train\n",
      "processing: 477000 images for train\n",
      "processing: 478000 images for train\n",
      "processing: 479000 images for train\n",
      "processing: 480000 images for train\n",
      "processing: 481000 images for train\n",
      "processing: 482000 images for train\n",
      "processing: 483000 images for train\n",
      "processing: 484000 images for train\n",
      "processing: 485000 images for train\n",
      "processing: 486000 images for train\n",
      "processing: 487000 images for train\n",
      "processing: 488000 images for train\n",
      "processing: 489000 images for train\n",
      "processing: 490000 images for train\n",
      "processing: 491000 images for train\n",
      "processing: 492000 images for train\n",
      "processing: 493000 images for train\n",
      "processing: 494000 images for train\n",
      "processing: 495000 images for train\n",
      "processing: 496000 images for train\n",
      "processing: 497000 images for train\n",
      "processing: 498000 images for train\n",
      "processing: 499000 images for train\n",
      "processing: 500000 images for train\n",
      "processing: 501000 images for train\n",
      "processing: 502000 images for train\n",
      "processing: 503000 images for train\n",
      "processing: 504000 images for train\n",
      "processing: 505000 images for train\n",
      "processing: 506000 images for train\n",
      "processing: 507000 images for train\n",
      "processing: 508000 images for train\n",
      "processing: 509000 images for train\n",
      "processing: 510000 images for train\n",
      "processing: 511000 images for train\n",
      "processing: 512000 images for train\n",
      "processing: 513000 images for train\n",
      "processing: 514000 images for train\n",
      "processing: 515000 images for train\n",
      "processing: 516000 images for train\n",
      "processing: 517000 images for train\n",
      "processing: 518000 images for train\n",
      "processing: 519000 images for train\n",
      "processing: 520000 images for train\n",
      "processing: 521000 images for train\n",
      "processing: 522000 images for train\n",
      "processing: 523000 images for train\n",
      "processing: 524000 images for train\n",
      "processing: 525000 images for train\n",
      "processing: 526000 images for train\n",
      "processing: 527000 images for train\n",
      "processing: 528000 images for train\n",
      "processing: 529000 images for train\n",
      "processing: 530000 images for train\n",
      "processing: 531000 images for train\n",
      "processing: 532000 images for train\n",
      "processing: 533000 images for train\n",
      "processing: 534000 images for train\n",
      "processing: 535000 images for train\n",
      "processing: 536000 images for train\n",
      "processing: 537000 images for train\n",
      "processing: 538000 images for train\n",
      "processing: 539000 images for train\n",
      "processing: 540000 images for train\n",
      "processing: 541000 images for train\n",
      "processing: 542000 images for train\n",
      "processing: 543000 images for train\n",
      "processing: 544000 images for train\n",
      "processing: 545000 images for train\n",
      "processing: 546000 images for train\n",
      "processing: 547000 images for train\n",
      "processing: 548000 images for train\n",
      "processing: 549000 images for train\n",
      "processing: 550000 images for train\n",
      "processing: 551000 images for train\n",
      "processing: 552000 images for train\n",
      "processing: 553000 images for train\n",
      "processing: 554000 images for train\n",
      "processing: 555000 images for train\n",
      "processing: 556000 images for train\n",
      "processing: 557000 images for train\n",
      "processing: 558000 images for train\n",
      "processing: 559000 images for train\n",
      "processing: 560000 images for train\n",
      "processing: 561000 images for train\n",
      "processing: 562000 images for train\n",
      "processing: 563000 images for train\n",
      "processing: 564000 images for train\n",
      "processing: 565000 images for train\n",
      "processing: 566000 images for train\n",
      "processing: 567000 images for train\n",
      "processing: 568000 images for train\n",
      "processing: 569000 images for train\n",
      "processing: 570000 images for train\n",
      "processing: 571000 images for train\n",
      "processing: 572000 images for train\n",
      "processing: 573000 images for train\n",
      "processing: 574000 images for train\n",
      "processing: 575000 images for train\n",
      "processing: 576000 images for train\n",
      "processing: 577000 images for train\n",
      "processing: 578000 images for train\n",
      "processing: 579000 images for train\n",
      "processing: 580000 images for train\n",
      "processing: 581000 images for train\n",
      "processing: 582000 images for train\n",
      "processing: 583000 images for train\n",
      "processing: 584000 images for train\n",
      "processing: 585000 images for train\n",
      "processing: 586000 images for train\n",
      "processing: 587000 images for train\n",
      "processing: 588000 images for train\n",
      "processing: 589000 images for train\n",
      "processing: 590000 images for train\n",
      "processing: 591000 images for train\n",
      "processing: 592000 images for train\n",
      "processing: 593000 images for train\n",
      "processing: 594000 images for train\n",
      "processing: 595000 images for train\n",
      "processing: 596000 images for train\n",
      "processing: 597000 images for train\n",
      "processing: 598000 images for train\n",
      "processing: 599000 images for train\n",
      "processing: 600000 images for train\n",
      "processing: 601000 images for train\n",
      "processing: 602000 images for train\n",
      "processing: 603000 images for train\n",
      "processing: 604000 images for train\n",
      "processing: 605000 images for train\n",
      "processing: 606000 images for train\n",
      "processing: 607000 images for train\n",
      "processing: 608000 images for train\n",
      "processing: 609000 images for train\n",
      "processing: 610000 images for train\n",
      "processing: 611000 images for train\n",
      "processing: 612000 images for train\n",
      "processing: 613000 images for train\n",
      "processing: 614000 images for train\n",
      "processing: 615000 images for train\n",
      "processing: 616000 images for train\n",
      "processing: 617000 images for train\n",
      "processing: 618000 images for train\n",
      "processing: 619000 images for train\n",
      "processing: 620000 images for train\n",
      "processing: 621000 images for train\n",
      "processing: 622000 images for train\n",
      "processing: 623000 images for train\n",
      "processing: 624000 images for train\n",
      "processing: 625000 images for train\n",
      "processing: 626000 images for train\n",
      "processing: 627000 images for train\n",
      "processing: 628000 images for train\n",
      "processing: 629000 images for train\n",
      "processing: 630000 images for train\n",
      "processing: 631000 images for train\n",
      "processing: 632000 images for train\n",
      "processing: 633000 images for train\n",
      "processing: 634000 images for train\n",
      "processing: 635000 images for train\n",
      "processing: 636000 images for train\n",
      "processing: 637000 images for train\n",
      "processing: 638000 images for train\n",
      "processing: 639000 images for train\n",
      "processing: 640000 images for train\n",
      "processing: 641000 images for train\n",
      "processing: 642000 images for train\n",
      "processing: 643000 images for train\n",
      "processing: 644000 images for train\n",
      "processing: 645000 images for train\n",
      "processing: 646000 images for train\n",
      "processing: 647000 images for train\n",
      "processing: 648000 images for train\n",
      "processing: 649000 images for train\n",
      "processing: 650000 images for train\n",
      "processing: 651000 images for train\n",
      "processing: 652000 images for train\n",
      "processing: 653000 images for train\n",
      "processing: 654000 images for train\n",
      "processing: 655000 images for train\n",
      "processing: 656000 images for train\n",
      "processing: 657000 images for train\n",
      "processing: 658000 images for train\n",
      "processing: 659000 images for train\n",
      "processing: 660000 images for train\n",
      "processing: 661000 images for train\n",
      "processing: 662000 images for train\n",
      "processing: 663000 images for train\n",
      "processing: 664000 images for train\n",
      "processing: 665000 images for train\n",
      "processing: 666000 images for train\n",
      "processing: 667000 images for train\n",
      "processing: 668000 images for train\n",
      "processing: 669000 images for train\n",
      "processing: 670000 images for train\n",
      "processing: 671000 images for train\n",
      "processing: 672000 images for train\n",
      "processing: 673000 images for train\n",
      "processing: 674000 images for train\n",
      "processing: 675000 images for train\n",
      "processing: 676000 images for train\n",
      "processing: 677000 images for train\n",
      "processing: 678000 images for train\n",
      "processing: 679000 images for train\n",
      "processing: 680000 images for train\n",
      "processing: 681000 images for train\n",
      "processing: 682000 images for train\n",
      "processing: 683000 images for train\n",
      "processing: 684000 images for train\n",
      "processing: 685000 images for train\n",
      "processing: 686000 images for train\n",
      "processing: 687000 images for train\n",
      "processing: 688000 images for train\n",
      "processing: 689000 images for train\n",
      "processing: 690000 images for train\n",
      "processing: 691000 images for train\n",
      "processing: 692000 images for train\n",
      "processing: 693000 images for train\n",
      "processing: 694000 images for train\n",
      "processing: 695000 images for train\n",
      "processing: 696000 images for train\n",
      "processing: 697000 images for train\n",
      "processing: 698000 images for train\n",
      "processing: 699000 images for train\n",
      "processing: 700000 images for train\n",
      "processing: 701000 images for train\n",
      "processing: 702000 images for train\n",
      "processing: 703000 images for train\n",
      "processing: 704000 images for train\n",
      "processing: 705000 images for train\n",
      "processing: 706000 images for train\n",
      "processing: 707000 images for train\n",
      "processing: 708000 images for train\n",
      "processing: 709000 images for train\n",
      "processing: 710000 images for train\n",
      "processing: 711000 images for train\n",
      "processing: 712000 images for train\n",
      "processing: 713000 images for train\n",
      "processing: 714000 images for train\n",
      "processing: 715000 images for train\n",
      "processing: 716000 images for train\n",
      "processing: 717000 images for train\n",
      "processing: 718000 images for train\n",
      "processing: 719000 images for train\n",
      "processing: 720000 images for train\n",
      "processing: 721000 images for train\n",
      "processing: 722000 images for train\n",
      "processing: 723000 images for train\n",
      "processing: 724000 images for train\n",
      "processing: 725000 images for train\n",
      "processing: 726000 images for train\n",
      "processing: 727000 images for train\n",
      "processing: 728000 images for train\n",
      "processing: 729000 images for train\n",
      "processing: 730000 images for train\n",
      "processing: 731000 images for train\n",
      "processing: 732000 images for train\n",
      "processing: 733000 images for train\n",
      "processing: 734000 images for train\n",
      "processing: 735000 images for train\n",
      "processing: 736000 images for train\n",
      "processing: 737000 images for train\n",
      "processing: 738000 images for train\n",
      "processing: 739000 images for train\n",
      "processing: 740000 images for train\n",
      "processing: 741000 images for train\n",
      "processing: 742000 images for train\n",
      "processing: 743000 images for train\n",
      "processing: 744000 images for train\n",
      "processing: 745000 images for train\n",
      "processing: 746000 images for train\n",
      "processing: 747000 images for train\n",
      "processing: 748000 images for train\n",
      "processing: 749000 images for train\n",
      "processing: 750000 images for train\n",
      "processing: 751000 images for train\n",
      "processing: 752000 images for train\n",
      "processing: 753000 images for train\n",
      "processing: 754000 images for train\n",
      "processing: 755000 images for train\n",
      "processing: 756000 images for train\n",
      "processing: 757000 images for train\n",
      "processing: 758000 images for train\n",
      "processing: 759000 images for train\n",
      "processing: 760000 images for train\n",
      "processing: 761000 images for train\n",
      "processing: 762000 images for train\n",
      "processing: 763000 images for train\n",
      "processing: 764000 images for train\n",
      "processing: 765000 images for train\n",
      "processing: 766000 images for train\n",
      "processing: 767000 images for train\n",
      "processing: 768000 images for train\n",
      "processing: 769000 images for train\n",
      "processing: 770000 images for train\n",
      "processing: 771000 images for train\n",
      "processing: 772000 images for train\n",
      "processing: 773000 images for train\n",
      "processing: 774000 images for train\n",
      "processing: 775000 images for train\n",
      "processing: 776000 images for train\n",
      "processing: 777000 images for train\n",
      "processing: 778000 images for train\n",
      "processing: 779000 images for train\n",
      "processing: 780000 images for train\n",
      "processing: 781000 images for train\n",
      "processing: 782000 images for train\n",
      "processing: 783000 images for train\n",
      "processing: 784000 images for train\n",
      "processing: 785000 images for train\n",
      "processing: 786000 images for train\n",
      "processing: 787000 images for train\n",
      "processing: 788000 images for train\n",
      "processing: 789000 images for train\n",
      "processing: 790000 images for train\n",
      "processing: 791000 images for train\n",
      "processing: 792000 images for train\n",
      "processing: 793000 images for train\n",
      "processing: 794000 images for train\n",
      "processing: 795000 images for train\n",
      "processing: 796000 images for train\n",
      "processing: 797000 images for train\n",
      "processing: 798000 images for train\n",
      "processing: 799000 images for train\n",
      "processing: 800000 images for train\n",
      "processing: 801000 images for train\n",
      "processing: 802000 images for train\n",
      "processing: 803000 images for train\n",
      "processing: 804000 images for train\n",
      "processing: 805000 images for train\n",
      "processing: 806000 images for train\n",
      "processing: 807000 images for train\n",
      "processing: 808000 images for train\n",
      "processing: 809000 images for train\n",
      "processing: 810000 images for train\n",
      "processing: 811000 images for train\n",
      "processing: 812000 images for train\n",
      "processing: 813000 images for train\n",
      "processing: 814000 images for train\n",
      "processing: 815000 images for train\n",
      "processing: 816000 images for train\n",
      "processing: 817000 images for train\n",
      "processing: 818000 images for train\n",
      "processing: 819000 images for train\n",
      "processing: 820000 images for train\n",
      "processing: 821000 images for train\n",
      "processing: 822000 images for train\n",
      "processing: 823000 images for train\n",
      "processing: 824000 images for train\n",
      "processing: 825000 images for train\n",
      "processing: 826000 images for train\n",
      "processing: 827000 images for train\n",
      "processing: 828000 images for train\n",
      "processing: 829000 images for train\n",
      "processing: 830000 images for train\n",
      "processing: 831000 images for train\n",
      "processing: 832000 images for train\n",
      "processing: 833000 images for train\n",
      "processing: 834000 images for train\n",
      "processing: 835000 images for train\n",
      "processing: 836000 images for train\n",
      "processing: 837000 images for train\n",
      "processing: 838000 images for train\n",
      "processing: 839000 images for train\n",
      "processing: 840000 images for train\n",
      "processing: 841000 images for train\n",
      "processing: 842000 images for train\n",
      "processing: 843000 images for train\n",
      "processing: 844000 images for train\n",
      "processing: 845000 images for train\n",
      "processing: 846000 images for train\n",
      "processing: 847000 images for train\n",
      "processing: 848000 images for train\n",
      "processing: 849000 images for train\n",
      "processing: 850000 images for train\n",
      "processing: 851000 images for train\n",
      "processing: 852000 images for train\n",
      "processing: 853000 images for train\n",
      "processing: 854000 images for train\n",
      "processing: 855000 images for train\n",
      "processing: 856000 images for train\n",
      "processing: 857000 images for train\n",
      "processing: 858000 images for train\n",
      "processing: 859000 images for train\n",
      "processing: 860000 images for train\n",
      "processing: 861000 images for train\n",
      "processing: 862000 images for train\n",
      "processing: 863000 images for train\n",
      "processing: 864000 images for train\n",
      "processing: 865000 images for train\n",
      "processing: 866000 images for train\n",
      "processing: 867000 images for train\n",
      "processing: 868000 images for train\n",
      "processing: 869000 images for train\n",
      "processing: 870000 images for train\n",
      "processing: 871000 images for train\n",
      "processing: 872000 images for train\n",
      "processing: 873000 images for train\n",
      "processing: 874000 images for train\n",
      "processing: 875000 images for train\n",
      "processing: 876000 images for train\n",
      "processing: 877000 images for train\n",
      "processing: 878000 images for train\n",
      "processing: 879000 images for train\n",
      "processing: 880000 images for train\n",
      "processing: 881000 images for train\n",
      "processing: 882000 images for train\n",
      "processing: 883000 images for train\n",
      "processing: 884000 images for train\n",
      "processing: 885000 images for train\n",
      "processing: 886000 images for train\n",
      "processing: 887000 images for train\n",
      "processing: 888000 images for train\n",
      "processing: 889000 images for train\n",
      "processing: 890000 images for train\n",
      "processing: 891000 images for train\n",
      "processing: 892000 images for train\n",
      "processing: 893000 images for train\n",
      "processing: 894000 images for train\n",
      "processing: 895000 images for train\n",
      "processing: 896000 images for train\n",
      "processing: 897000 images for train\n",
      "processing: 898000 images for train\n",
      "processing: 899000 images for train\n",
      "processing: 900000 images for train\n",
      "processing: 901000 images for train\n",
      "processing: 902000 images for train\n",
      "processing: 903000 images for train\n",
      "processing: 904000 images for train\n",
      "processing: 905000 images for train\n",
      "processing: 906000 images for train\n",
      "processing: 907000 images for train\n",
      "processing: 908000 images for train\n",
      "processing: 909000 images for train\n",
      "processing: 910000 images for train\n"
     ]
    },
    {
     "name": "stdout",
     "output_type": "stream",
     "text": [
      "processing: 911000 images for train\n",
      "processing: 912000 images for train\n",
      "processing: 913000 images for train\n",
      "processing: 914000 images for train\n",
      "processing: 915000 images for train\n",
      "processing: 916000 images for train\n",
      "processing: 917000 images for train\n",
      "processing: 918000 images for train\n",
      "processing: 919000 images for train\n",
      "processing: 920000 images for train\n",
      "processing: 921000 images for train\n",
      "processing: 922000 images for train\n",
      "processing: 923000 images for train\n",
      "processing: 924000 images for train\n",
      "processing: 925000 images for train\n",
      "processing: 926000 images for train\n",
      "processing: 927000 images for train\n",
      "processing: 928000 images for train\n",
      "processing: 929000 images for train\n",
      "processing: 930000 images for train\n",
      "processing: 931000 images for train\n",
      "processing: 932000 images for train\n",
      "processing: 933000 images for train\n",
      "processing: 934000 images for train\n",
      "processing: 935000 images for train\n",
      "processing: 936000 images for train\n",
      "processing: 937000 images for train\n",
      "processing: 938000 images for train\n",
      "processing: 939000 images for train\n",
      "processing: 940000 images for train\n",
      "processing: 941000 images for train\n",
      "processing: 942000 images for train\n",
      "processing: 943000 images for train\n",
      "processing: 944000 images for train\n",
      "processing: 945000 images for train\n",
      "processing: 946000 images for train\n",
      "processing: 947000 images for train\n",
      "processing: 948000 images for train\n",
      "processing: 949000 images for train\n",
      "processing: 950000 images for train\n",
      "processing: 951000 images for train\n",
      "processing: 952000 images for train\n",
      "processing: 953000 images for train\n",
      "processing: 954000 images for train\n",
      "processing: 955000 images for train\n",
      "processing: 956000 images for train\n",
      "processing: 957000 images for train\n",
      "processing: 958000 images for train\n",
      "processing: 959000 images for train\n",
      "processing: 960000 images for train\n",
      "processing: 961000 images for train\n",
      "processing: 962000 images for train\n",
      "processing: 963000 images for train\n",
      "processing: 964000 images for train\n",
      "processing: 965000 images for train\n",
      "processing: 966000 images for train\n",
      "processing: 967000 images for train\n",
      "processing: 968000 images for train\n",
      "processing: 969000 images for train\n",
      "processing: 970000 images for train\n",
      "processing: 971000 images for train\n",
      "processing: 972000 images for train\n",
      "processing: 973000 images for train\n",
      "processing: 974000 images for train\n",
      "processing: 975000 images for train\n",
      "processing: 976000 images for train\n",
      "processing: 977000 images for train\n",
      "processing: 978000 images for train\n",
      "processing: 979000 images for train\n",
      "processing: 980000 images for train\n",
      "processing: 981000 images for train\n",
      "processing: 982000 images for train\n",
      "processing: 983000 images for train\n",
      "processing: 984000 images for train\n",
      "processing: 985000 images for train\n",
      "processing: 986000 images for train\n",
      "processing: 987000 images for train\n",
      "processing: 988000 images for train\n",
      "processing: 989000 images for train\n",
      "processing: 990000 images for train\n",
      "processing: 991000 images for train\n",
      "processing: 992000 images for train\n",
      "processing: 993000 images for train\n",
      "processing: 994000 images for train\n",
      "processing: 995000 images for train\n",
      "processing: 996000 images for train\n",
      "processing: 997000 images for train\n",
      "processing: 998000 images for train\n",
      "processing: 999000 images for train\n",
      "processing: 1000000 images for train\n",
      "processing: 1001000 images for train\n",
      "processing: 1002000 images for train\n",
      "processing: 1003000 images for train\n",
      "processing: 1004000 images for train\n",
      "processing: 1005000 images for train\n",
      "processing: 1006000 images for train\n",
      "processing: 1007000 images for train\n",
      "processing: 1008000 images for train\n",
      "processing: 1009000 images for train\n",
      "processing: 1010000 images for train\n",
      "processing: 1011000 images for train\n",
      "processing: 1012000 images for train\n",
      "processing: 1013000 images for train\n",
      "processing: 1014000 images for train\n",
      "processing: 1015000 images for train\n",
      "processing: 1016000 images for train\n",
      "processing: 1017000 images for train\n",
      "processing: 1018000 images for train\n",
      "processing: 1019000 images for train\n",
      "processing: 1020000 images for train\n",
      "processing: 1021000 images for train\n",
      "processing: 1022000 images for train\n",
      "processing: 1023000 images for train\n",
      "processing: 1024000 images for train\n",
      "processing: 1025000 images for train\n",
      "processing: 1026000 images for train\n",
      "processing: 1027000 images for train\n",
      "processing: 1028000 images for train\n",
      "processing: 1029000 images for train\n",
      "processing: 1030000 images for train\n",
      "processing: 1031000 images for train\n",
      "processing: 1032000 images for train\n",
      "processing: 1033000 images for train\n",
      "processing: 1034000 images for train\n",
      "processing: 1035000 images for train\n",
      "processing: 1036000 images for train\n",
      "processing: 1037000 images for train\n",
      "processing: 1038000 images for train\n",
      "processing: 1039000 images for train\n",
      "processing: 1040000 images for train\n",
      "processing: 1041000 images for train\n",
      "processing: 1042000 images for train\n",
      "processing: 1043000 images for train\n",
      "processing: 1044000 images for train\n",
      "processing: 1045000 images for train\n",
      "processing: 1046000 images for train\n",
      "processing: 1047000 images for train\n",
      "processing: 1048000 images for train\n",
      "processing: 1049000 images for train\n",
      "processing: 1050000 images for train\n",
      "processing: 1051000 images for train\n",
      "processing: 1052000 images for train\n",
      "processing: 1053000 images for train\n",
      "processing: 1054000 images for train\n",
      "processing: 1055000 images for train\n",
      "processing: 1056000 images for train\n",
      "processing: 1057000 images for train\n",
      "processing: 1058000 images for train\n",
      "processing: 1059000 images for train\n",
      "processing: 1060000 images for train\n",
      "processing: 1061000 images for train\n",
      "processing: 1062000 images for train\n",
      "processing: 1063000 images for train\n",
      "processing: 1064000 images for train\n",
      "processing: 1065000 images for train\n",
      "processing: 1066000 images for train\n",
      "processing: 1067000 images for train\n",
      "processing: 1068000 images for train\n",
      "processing: 1069000 images for train\n",
      "processing: 1070000 images for train\n",
      "processing: 1071000 images for train\n",
      "processing: 1072000 images for train\n",
      "processing: 1073000 images for train\n",
      "processing: 1074000 images for train\n",
      "processing: 1075000 images for train\n",
      "processing: 1076000 images for train\n",
      "processing: 1077000 images for train\n",
      "processing: 1078000 images for train\n",
      "processing: 1079000 images for train\n",
      "processing: 1080000 images for train\n",
      "processing: 1081000 images for train\n",
      "processing: 1082000 images for train\n",
      "processing: 1083000 images for train\n",
      "processing: 1084000 images for train\n",
      "processing: 1085000 images for train\n",
      "processing: 1086000 images for train\n",
      "processing: 1087000 images for train\n",
      "processing: 1088000 images for train\n",
      "processing: 1089000 images for train\n",
      "processing: 1090000 images for train\n",
      "processing: 1091000 images for train\n",
      "processing: 1092000 images for train\n",
      "processing: 1093000 images for train\n",
      "processing: 1094000 images for train\n",
      "processing: 1095000 images for train\n",
      "processing: 1096000 images for train\n",
      "processing: 1097000 images for train\n",
      "processing: 1098000 images for train\n",
      "processing: 1099000 images for train\n",
      "processing: 1100000 images for train\n",
      "processing: 1101000 images for train\n",
      "processing: 1102000 images for train\n",
      "processing: 1103000 images for train\n",
      "processing: 1104000 images for train\n",
      "processing: 1105000 images for train\n",
      "processing: 1106000 images for train\n",
      "processing: 1107000 images for train\n",
      "processing: 1108000 images for train\n",
      "processing: 1109000 images for train\n",
      "processing: 1110000 images for train\n",
      "processing: 1111000 images for train\n",
      "processing: 1112000 images for train\n",
      "processing: 1113000 images for train\n",
      "processing: 1114000 images for train\n",
      "processing: 1115000 images for train\n",
      "processing: 1116000 images for train\n",
      "processing: 1117000 images for train\n",
      "processing: 1118000 images for train\n",
      "processing: 1119000 images for train\n",
      "processing: 1120000 images for train\n",
      "processing: 1121000 images for train\n",
      "processing: 1122000 images for train\n",
      "processing: 1123000 images for train\n",
      "processing: 1124000 images for train\n",
      "processing: 1125000 images for train\n",
      "processing: 1126000 images for train\n",
      "processing: 1127000 images for train\n",
      "processing: 1128000 images for train\n",
      "processing: 1129000 images for train\n",
      "processing: 1130000 images for train\n",
      "processing: 1131000 images for train\n",
      "processing: 1132000 images for train\n",
      "processing: 1133000 images for train\n",
      "processing: 1134000 images for train\n",
      "processing: 1135000 images for train\n",
      "processing: 1136000 images for train\n",
      "processing: 1137000 images for train\n",
      "processing: 1138000 images for train\n",
      "processing: 1139000 images for train\n",
      "processing: 1140000 images for train\n",
      "processing: 1141000 images for train\n",
      "processing: 1142000 images for train\n",
      "processing: 1143000 images for train\n",
      "processing: 1144000 images for train\n",
      "processing: 1145000 images for train\n",
      "processing: 1146000 images for train\n",
      "processing: 1147000 images for train\n",
      "processing: 1148000 images for train\n",
      "processing: 1149000 images for train\n",
      "processing: 1150000 images for train\n",
      "processing: 1151000 images for train\n",
      "processing: 1152000 images for train\n",
      "processing: 1153000 images for train\n",
      "processing: 1154000 images for train\n",
      "processing: 1155000 images for train\n",
      "processing: 1156000 images for train\n",
      "processing: 1157000 images for train\n",
      "processing: 1158000 images for train\n",
      "processing: 1159000 images for train\n",
      "processing: 1160000 images for train\n",
      "processing: 1161000 images for train\n",
      "processing: 1162000 images for train\n",
      "processing: 1163000 images for train\n",
      "processing: 1164000 images for train\n",
      "processing: 1165000 images for train\n",
      "processing: 1166000 images for train\n",
      "processing: 1167000 images for train\n",
      "processing: 1168000 images for train\n",
      "processing: 1169000 images for train\n",
      "processing: 1170000 images for train\n",
      "processing: 1171000 images for train\n",
      "processing: 1172000 images for train\n",
      "processing: 1173000 images for train\n",
      "processing: 1174000 images for train\n",
      "processing: 1175000 images for train\n",
      "processing: 1176000 images for train\n",
      "processing: 1177000 images for train\n",
      "processing: 1178000 images for train\n",
      "processing: 1179000 images for train\n",
      "processing: 1180000 images for train\n",
      "processing: 1181000 images for train\n",
      "processing: 1182000 images for train\n",
      "processing: 1183000 images for train\n",
      "processing: 1184000 images for train\n",
      "processing: 1185000 images for train\n",
      "processing: 1186000 images for train\n",
      "processing: 1187000 images for train\n",
      "processing: 1188000 images for train\n",
      "processing: 1189000 images for train\n",
      "processing: 1190000 images for train\n",
      "processing: 1191000 images for train\n",
      "processing: 1192000 images for train\n",
      "processing: 1193000 images for train\n",
      "processing: 1194000 images for train\n",
      "processing: 1195000 images for train\n",
      "processing: 1196000 images for train\n",
      "processing: 1197000 images for train\n",
      "processing: 1198000 images for train\n",
      "processing: 1199000 images for train\n",
      "processing: 1200000 images for train\n",
      "processing: 1201000 images for train\n",
      "processing: 1202000 images for train\n",
      "processing: 1203000 images for train\n",
      "processing: 1204000 images for train\n",
      "processing: 1205000 images for train\n",
      "processing: 1206000 images for train\n",
      "processing: 1207000 images for train\n",
      "processing: 1208000 images for train\n",
      "processing: 1209000 images for train\n",
      "processing: 1210000 images for train\n",
      "processing: 1211000 images for train\n",
      "processing: 1212000 images for train\n",
      "processing: 1213000 images for train\n",
      "processing: 1214000 images for train\n",
      "processing: 1215000 images for train\n",
      "processing: 1216000 images for train\n",
      "processing: 1217000 images for train\n",
      "processing: 1218000 images for train\n",
      "processing: 1219000 images for train\n",
      "processing: 1220000 images for train\n",
      "processing: 1221000 images for train\n",
      "processing: 1222000 images for train\n",
      "processing: 1223000 images for train\n",
      "processing: 1224000 images for train\n",
      "processing: 1225000 images for train\n",
      "processing: 1226000 images for train\n",
      "processing: 1227000 images for train\n",
      "processing: 1228000 images for train\n",
      "processing: 1229000 images for train\n",
      "processing: 1230000 images for train\n",
      "processing: 1231000 images for train\n",
      "processing: 1232000 images for train\n",
      "processing: 1233000 images for train\n",
      "processing: 1234000 images for train\n",
      "processing: 1235000 images for train\n",
      "processing: 1236000 images for train\n",
      "processing: 1237000 images for train\n",
      "processing: 1238000 images for train\n",
      "processing: 1239000 images for train\n",
      "processing: 1240000 images for train\n",
      "processing: 1241000 images for train\n",
      "processing: 1242000 images for train\n",
      "processing: 1243000 images for train\n",
      "processing: 1244000 images for train\n",
      "processing: 1245000 images for train\n",
      "processing: 1246000 images for train\n",
      "processing: 1247000 images for train\n",
      "processing: 1248000 images for train\n",
      "processing: 1249000 images for train\n",
      "processing: 1250000 images for train\n",
      "processing: 1251000 images for train\n",
      "processing: 1252000 images for train\n",
      "processing: 1253000 images for train\n",
      "processing: 1254000 images for train\n",
      "processing: 1255000 images for train\n",
      "processing: 1256000 images for train\n",
      "processing: 1257000 images for train\n",
      "processing: 1258000 images for train\n",
      "processing: 1259000 images for train\n",
      "processing: 1260000 images for train\n",
      "processing: 1261000 images for train\n",
      "processing: 1262000 images for train\n",
      "processing: 1263000 images for train\n",
      "processing: 1264000 images for train\n",
      "processing: 1265000 images for train\n",
      "processing: 1266000 images for train\n",
      "processing: 1267000 images for train\n",
      "processing: 1268000 images for train\n",
      "processing: 1269000 images for train\n",
      "processing: 1270000 images for train\n",
      "processing: 1271000 images for train\n",
      "processing: 1272000 images for train\n",
      "processing: 1273000 images for train\n",
      "processing: 1274000 images for train\n",
      "processing: 1275000 images for train\n",
      "processing: 1276000 images for train\n",
      "processing: 1277000 images for train\n",
      "processing: 1278000 images for train\n",
      "processing: 1279000 images for train\n",
      "processing: 1280000 images for train\n",
      "processing: 1281000 images for train\n",
      "processing: 1282000 images for train\n",
      "processing: 1283000 images for train\n",
      "processing: 1284000 images for train\n",
      "processing: 1285000 images for train\n",
      "processing: 1286000 images for train\n",
      "processing: 1287000 images for train\n",
      "processing: 1288000 images for train\n",
      "processing: 1289000 images for train\n",
      "processing: 1290000 images for train\n",
      "processing: 1291000 images for train\n",
      "processing: 1292000 images for train\n",
      "processing: 1293000 images for train\n",
      "processing: 1294000 images for train\n",
      "processing: 1295000 images for train\n",
      "processing: 1296000 images for train\n",
      "processing: 1297000 images for train\n",
      "processing: 1298000 images for train\n",
      "processing: 1299000 images for train\n",
      "processing: 1300000 images for train\n",
      "processing: 1301000 images for train\n",
      "processing: 1302000 images for train\n",
      "processing: 1303000 images for train\n",
      "processing: 1304000 images for train\n",
      "processing: 1305000 images for train\n",
      "processing: 1306000 images for train\n",
      "processing: 1307000 images for train\n",
      "processing: 1308000 images for train\n",
      "processing: 1309000 images for train\n",
      "processing: 1310000 images for train\n",
      "processing: 1311000 images for train\n",
      "processing: 1312000 images for train\n",
      "processing: 1313000 images for train\n",
      "processing: 1314000 images for train\n",
      "processing: 1315000 images for train\n",
      "processing: 1316000 images for train\n",
      "processing: 1317000 images for train\n",
      "processing: 1318000 images for train\n",
      "processing: 1319000 images for train\n",
      "processing: 1320000 images for train\n",
      "processing: 1321000 images for train\n",
      "processing: 1322000 images for train\n",
      "processing: 1323000 images for train\n",
      "processing: 1324000 images for train\n",
      "processing: 1325000 images for train\n",
      "processing: 1326000 images for train\n",
      "processing: 1327000 images for train\n",
      "processing: 1328000 images for train\n",
      "processing: 1329000 images for train\n",
      "processing: 1330000 images for train\n",
      "processing: 1331000 images for train\n",
      "processing: 1332000 images for train\n",
      "processing: 1333000 images for train\n",
      "processing: 1334000 images for train\n",
      "processing: 1335000 images for train\n",
      "processing: 1336000 images for train\n",
      "processing: 1337000 images for train\n",
      "processing: 1338000 images for train\n",
      "processing: 1339000 images for train\n",
      "processing: 1340000 images for train\n",
      "processing: 1341000 images for train\n",
      "processing: 1342000 images for train\n",
      "processing: 1343000 images for train\n",
      "processing: 1344000 images for train\n",
      "processing: 1345000 images for train\n",
      "processing: 1346000 images for train\n",
      "processing: 1347000 images for train\n",
      "processing: 1348000 images for train\n",
      "processing: 1349000 images for train\n",
      "processing: 1350000 images for train\n",
      "processing: 1351000 images for train\n",
      "processing: 1352000 images for train\n",
      "processing: 1353000 images for train\n",
      "processing: 1354000 images for train\n"
     ]
    },
    {
     "name": "stdout",
     "output_type": "stream",
     "text": [
      "processing: 1355000 images for train\n",
      "processing: 1356000 images for train\n",
      "processing: 1357000 images for train\n",
      "processing: 1358000 images for train\n",
      "processing: 1359000 images for train\n",
      "processing: 1360000 images for train\n",
      "processing: 1361000 images for train\n",
      "processing: 1362000 images for train\n",
      "processing: 1363000 images for train\n",
      "processing: 1364000 images for train\n",
      "processing: 1365000 images for train\n",
      "processing: 1366000 images for train\n",
      "processing: 1367000 images for train\n",
      "processing: 1368000 images for train\n",
      "processing: 1369000 images for train\n",
      "processing: 1370000 images for train\n",
      "processing: 1371000 images for train\n",
      "processing: 1372000 images for train\n",
      "processing: 1373000 images for train\n",
      "processing: 1374000 images for train\n",
      "processing: 1375000 images for train\n",
      "processing: 1376000 images for train\n",
      "processing: 1377000 images for train\n",
      "processing: 1378000 images for train\n",
      "processing: 1379000 images for train\n",
      "processing: 1380000 images for train\n",
      "processing: 1381000 images for train\n",
      "processing: 1382000 images for train\n",
      "processing: 1383000 images for train\n",
      "processing: 1384000 images for train\n",
      "processing: 1385000 images for train\n",
      "processing: 1386000 images for train\n",
      "processing: 1387000 images for train\n",
      "processing: 1388000 images for train\n",
      "processing: 1389000 images for train\n",
      "processing: 1390000 images for train\n",
      "processing: 1391000 images for train\n",
      "processing: 1392000 images for train\n",
      "processing: 1393000 images for train\n",
      "processing: 1394000 images for train\n",
      "processing: 1395000 images for train\n",
      "processing: 1396000 images for train\n",
      "processing: 1397000 images for train\n",
      "processing: 1398000 images for train\n",
      "processing: 1399000 images for train\n",
      "processing: 1400000 images for train\n",
      "processing: 1401000 images for train\n",
      "processing: 1402000 images for train\n",
      "processing: 1403000 images for train\n",
      "processing: 1404000 images for train\n",
      "processing: 1405000 images for train\n",
      "processing: 1406000 images for train\n",
      "processing: 1407000 images for train\n",
      "processing: 1408000 images for train\n",
      "processing: 1409000 images for train\n",
      "processing: 1410000 images for train\n",
      "processing: 1411000 images for train\n",
      "processing: 1412000 images for train\n",
      "processing: 1413000 images for train\n",
      "processing: 1414000 images for train\n",
      "processing: 1415000 images for train\n",
      "processing: 1416000 images for train\n",
      "processing: 1417000 images for train\n",
      "processing: 1418000 images for train\n",
      "processing: 1419000 images for train\n",
      "processing: 1420000 images for train\n",
      "processing: 1421000 images for train\n",
      "processing: 1422000 images for train\n",
      "processing: 1423000 images for train\n",
      "processing: 1424000 images for train\n",
      "processing: 1425000 images for train\n",
      "processing: 1426000 images for train\n",
      "processing: 1427000 images for train\n",
      "processing: 1428000 images for train\n",
      "processing: 1429000 images for train\n",
      "processing: 1430000 images for train\n",
      "processing: 1431000 images for train\n",
      "processing: 1432000 images for train\n",
      "processing: 1433000 images for train\n",
      "processing: 1434000 images for train\n",
      "processing: 1435000 images for train\n",
      "processing: 1436000 images for train\n",
      "processing: 1437000 images for train\n",
      "processing: 1438000 images for train\n",
      "processing: 1439000 images for train\n",
      "processing: 1440000 images for train\n",
      "processing: 1441000 images for train\n",
      "processing: 1442000 images for train\n",
      "processing: 1443000 images for train\n",
      "processing: 1444000 images for train\n",
      "processing: 1445000 images for train\n",
      "processing: 1446000 images for train\n",
      "processing: 1447000 images for train\n",
      "processing: 1448000 images for train\n",
      "processing: 1449000 images for train\n",
      "processing: 1450000 images for train\n",
      "processing: 1451000 images for train\n",
      "processing: 1452000 images for train\n",
      "processing: 1453000 images for train\n",
      "processing: 1454000 images for train\n",
      "processing: 1455000 images for train\n",
      "processing: 1456000 images for train\n",
      "processing: 1457000 images for train\n",
      "processing: 1458000 images for train\n",
      "processing: 1459000 images for train\n",
      "processing: 1460000 images for train\n",
      "processing: 1461000 images for train\n",
      "processing: 1462000 images for train\n",
      "processing: 1463000 images for train\n",
      "processing: 1464000 images for train\n",
      "processing: 1465000 images for train\n",
      "processing: 1466000 images for train\n",
      "processing: 1467000 images for train\n",
      "processing: 1468000 images for train\n",
      "processing: 1469000 images for train\n",
      "processing: 1470000 images for train\n",
      "processing: 1471000 images for train\n",
      "processing: 1472000 images for train\n",
      "processing: 1473000 images for train\n",
      "processing: 1474000 images for train\n",
      "processing: 1475000 images for train\n",
      "processing: 1476000 images for train\n",
      "processing: 1477000 images for train\n",
      "processing: 1478000 images for train\n",
      "processing: 1479000 images for train\n",
      "processing: 1480000 images for train\n",
      "processing: 1481000 images for train\n",
      "processing: 1482000 images for train\n",
      "processing: 1483000 images for train\n",
      "processing: 1484000 images for train\n",
      "processing: 1485000 images for train\n",
      "processing: 1486000 images for train\n",
      "processing: 1487000 images for train\n",
      "processing: 1488000 images for train\n",
      "processing: 1489000 images for train\n",
      "processing: 1490000 images for train\n",
      "processing: 1491000 images for train\n",
      "processing: 1492000 images for train\n",
      "processing: 1493000 images for train\n",
      "processing: 1494000 images for train\n",
      "processing: 1495000 images for train\n",
      "processing: 1496000 images for train\n",
      "processing: 1497000 images for train\n",
      "processing: 1498000 images for train\n",
      "processing: 1499000 images for train\n",
      "processing: 1500000 images for train\n",
      "processing: 1501000 images for train\n",
      "processing: 1502000 images for train\n",
      "processing: 1503000 images for train\n",
      "processing: 1504000 images for train\n",
      "processing: 1505000 images for train\n",
      "processing: 1506000 images for train\n",
      "processing: 1507000 images for train\n",
      "processing: 1508000 images for train\n",
      "processing: 1509000 images for train\n",
      "processing: 1510000 images for train\n",
      "processing: 1511000 images for train\n",
      "processing: 1512000 images for train\n",
      "processing: 1513000 images for train\n",
      "processing: 1514000 images for train\n",
      "processing: 1515000 images for train\n",
      "processing: 1516000 images for train\n",
      "processing: 1517000 images for train\n",
      "processing: 1518000 images for train\n",
      "processing: 1519000 images for train\n",
      "processing: 1520000 images for train\n",
      "processing: 1521000 images for train\n",
      "processing: 1522000 images for train\n",
      "processing: 1523000 images for train\n",
      "processing: 1524000 images for train\n",
      "processing: 1525000 images for train\n",
      "processing: 1526000 images for train\n",
      "processing: 1527000 images for train\n",
      "processing: 1528000 images for train\n",
      "processing: 1529000 images for train\n",
      "processing: 1530000 images for train\n",
      "processing: 1531000 images for train\n",
      "processing: 1532000 images for train\n",
      "processing: 1533000 images for train\n",
      "processing: 1534000 images for train\n",
      "processing: 1535000 images for train\n",
      "processing: 1536000 images for train\n",
      "processing: 1537000 images for train\n",
      "processing: 1538000 images for train\n",
      "processing: 1539000 images for train\n",
      "processing: 1540000 images for train\n",
      "processing: 1541000 images for train\n",
      "processing: 1542000 images for train\n",
      "processing: 1543000 images for train\n",
      "processing: 1544000 images for train\n",
      "processing: 1545000 images for train\n",
      "processing: 1546000 images for train\n",
      "processing: 1547000 images for train\n",
      "processing: 1548000 images for train\n",
      "processing: 1549000 images for train\n",
      "processing: 1550000 images for train\n",
      "processing: 1551000 images for train\n",
      "processing: 1552000 images for train\n",
      "processing: 1553000 images for train\n",
      "processing: 1554000 images for train\n",
      "processing: 1555000 images for train\n",
      "processing: 1556000 images for train\n",
      "processing: 1557000 images for train\n",
      "processing: 1558000 images for train\n",
      "processing: 1559000 images for train\n",
      "processing: 1560000 images for train\n",
      "processing: 1561000 images for train\n",
      "processing: 1562000 images for train\n",
      "processing: 1563000 images for train\n",
      "processing: 1564000 images for train\n",
      "processing: 1565000 images for train\n",
      "processing: 1566000 images for train\n",
      "processing: 1567000 images for train\n",
      "processing: 1568000 images for train\n",
      "processing: 1569000 images for train\n",
      "processing: 1570000 images for train\n",
      "processing: 1571000 images for train\n",
      "processing: 1572000 images for train\n",
      "processing: 1573000 images for train\n",
      "processing: 1574000 images for train\n",
      "processing: 1575000 images for train\n",
      "processing: 1576000 images for train\n",
      "processing: 1577000 images for train\n",
      "processing: 1578000 images for train\n",
      "processing: 1579000 images for train\n",
      "processing: 1580000 images for train\n",
      "processing: 1581000 images for train\n",
      "processing: 1582000 images for train\n",
      "processing: 1583000 images for train\n",
      "processing: 1584000 images for train\n",
      "processing: 1585000 images for train\n",
      "processing: 1586000 images for train\n",
      "processing: 1587000 images for train\n",
      "processing: 1588000 images for train\n",
      "processing: 1589000 images for train\n",
      "processing: 1590000 images for train\n",
      "processing: 1591000 images for train\n",
      "processing: 1592000 images for train\n",
      "processing: 1593000 images for train\n",
      "processing: 1594000 images for train\n",
      "processing: 1595000 images for train\n",
      "processing: 1596000 images for train\n",
      "processing: 1597000 images for train\n",
      "processing: 1598000 images for train\n",
      "processing: 1599000 images for train\n",
      "processing: 1600000 images for train\n",
      "processing: 1601000 images for train\n",
      "processing: 1602000 images for train\n",
      "processing: 1603000 images for train\n",
      "processing: 1604000 images for train\n",
      "processing: 1605000 images for train\n",
      "processing: 1606000 images for train\n",
      "processing: 1607000 images for train\n",
      "processing: 1608000 images for train\n",
      "processing: 1609000 images for train\n",
      "processing: 1610000 images for train\n",
      "processing: 1611000 images for train\n",
      "processing: 1612000 images for train\n",
      "processing: 1613000 images for train\n",
      "processing: 1614000 images for train\n",
      "processing: 1615000 images for train\n",
      "processing: 1616000 images for train\n",
      "processing: 1617000 images for train\n",
      "processing: 1618000 images for train\n",
      "processing: 1619000 images for train\n",
      "processing: 1620000 images for train\n",
      "processing: 1621000 images for train\n",
      "processing: 1622000 images for train\n",
      "processing: 1623000 images for train\n",
      "processing: 1624000 images for train\n",
      "processing: 1625000 images for train\n",
      "processing: 1626000 images for train\n",
      "processing: 1627000 images for train\n",
      "processing: 1628000 images for train\n",
      "processing: 1629000 images for train\n",
      "processing: 1630000 images for train\n",
      "processing: 1631000 images for train\n",
      "processing: 1632000 images for train\n",
      "processing: 1633000 images for train\n",
      "processing: 1634000 images for train\n",
      "processing: 1635000 images for train\n",
      "processing: 1636000 images for train\n",
      "processing: 1637000 images for train\n",
      "processing: 1638000 images for train\n",
      "processing: 1639000 images for train\n",
      "processing: 1640000 images for train\n",
      "processing: 1641000 images for train\n",
      "processing: 1642000 images for train\n",
      "processing: 1643000 images for train\n",
      "processing: 1644000 images for train\n",
      "processing: 1645000 images for train\n",
      "processing: 1646000 images for train\n",
      "processing: 1647000 images for train\n",
      "processing: 1648000 images for train\n",
      "processing: 1649000 images for train\n",
      "processing: 1650000 images for train\n",
      "processing: 1651000 images for train\n",
      "processing: 1652000 images for train\n",
      "processing: 1653000 images for train\n",
      "processing: 1654000 images for train\n",
      "processing: 1655000 images for train\n",
      "processing: 1656000 images for train\n",
      "processing: 1657000 images for train\n",
      "processing: 1658000 images for train\n",
      "processing: 1659000 images for train\n",
      "processing: 1660000 images for train\n",
      "processing: 1661000 images for train\n",
      "processing: 1662000 images for train\n",
      "processing: 1663000 images for train\n",
      "processing: 1664000 images for train\n",
      "processing: 1665000 images for train\n",
      "processing: 1666000 images for train\n",
      "processing: 1667000 images for train\n",
      "processing: 1668000 images for train\n",
      "processing: 1669000 images for train\n",
      "processing: 1670000 images for train\n",
      "processing: 1671000 images for train\n",
      "processing: 1672000 images for train\n",
      "processing: 1673000 images for train\n",
      "processing: 1674000 images for train\n",
      "processing: 1675000 images for train\n",
      "processing: 1676000 images for train\n",
      "processing: 1677000 images for train\n",
      "processing: 1678000 images for train\n",
      "processing: 1679000 images for train\n",
      "processing: 1680000 images for train\n",
      "processing: 1681000 images for train\n",
      "processing: 1682000 images for train\n",
      "processing: 1683000 images for train\n",
      "processing: 1684000 images for train\n",
      "processing: 1685000 images for train\n",
      "processing: 1686000 images for train\n",
      "processing: 1687000 images for train\n",
      "processing: 1688000 images for train\n",
      "processing: 1689000 images for train\n",
      "processing: 1690000 images for train\n",
      "processing: 1691000 images for train\n",
      "processing: 1692000 images for train\n",
      "processing: 1693000 images for train\n",
      "processing: 1694000 images for train\n",
      "processing: 1695000 images for train\n",
      "processing: 1696000 images for train\n",
      "processing: 1697000 images for train\n",
      "processing: 1698000 images for train\n",
      "processing: 1699000 images for train\n",
      "processing: 1700000 images for train\n",
      "processing: 1701000 images for train\n",
      "processing: 1702000 images for train\n",
      "processing: 1703000 images for train\n",
      "processing: 1704000 images for train\n",
      "processing: 1705000 images for train\n",
      "processing: 1706000 images for train\n",
      "processing: 1707000 images for train\n",
      "processing: 1708000 images for train\n",
      "processing: 1709000 images for train\n",
      "processing: 1710000 images for train\n",
      "processing: 1711000 images for train\n",
      "processing: 1712000 images for train\n",
      "processing: 1713000 images for train\n",
      "processing: 1714000 images for train\n",
      "processing: 1715000 images for train\n",
      "processing: 1716000 images for train\n",
      "processing: 1717000 images for train\n",
      "processing: 1718000 images for train\n",
      "processing: 1719000 images for train\n",
      "processing: 1720000 images for train\n",
      "processing: 1721000 images for train\n",
      "processing: 1722000 images for train\n",
      "processing: 1723000 images for train\n",
      "processing: 1724000 images for train\n",
      "processing: 1725000 images for train\n",
      "processing: 1726000 images for train\n",
      "processing: 1727000 images for train\n",
      "processing: 1728000 images for train\n",
      "processing: 1729000 images for train\n",
      "processing: 1730000 images for train\n",
      "processing: 1731000 images for train\n",
      "processing: 1732000 images for train\n",
      "processing: 1733000 images for train\n",
      "processing: 1734000 images for train\n",
      "processing: 1735000 images for train\n",
      "processing: 1736000 images for train\n",
      "processing: 1737000 images for train\n",
      "processing: 1738000 images for train\n",
      "processing: 1739000 images for train\n",
      "processing: 1740000 images for train\n",
      "processing: 1741000 images for train\n",
      "processing: 1742000 images for train\n",
      "processing: 1743000 images for train\n",
      "processing: 1744000 images for train\n",
      "processing: 1745000 images for train\n",
      "processing: 1746000 images for train\n",
      "processing: 1747000 images for train\n",
      "processing: 1748000 images for train\n",
      "processing: 1749000 images for train\n",
      "processing: 1750000 images for train\n",
      "processing: 1751000 images for train\n",
      "processing: 1752000 images for train\n",
      "processing: 1753000 images for train\n",
      "processing: 1754000 images for train\n",
      "processing: 1755000 images for train\n",
      "processing: 1756000 images for train\n",
      "processing: 1757000 images for train\n",
      "processing: 1758000 images for train\n",
      "processing: 1759000 images for train\n",
      "processing: 1760000 images for train\n",
      "processing: 1761000 images for train\n",
      "processing: 1762000 images for train\n",
      "processing: 1763000 images for train\n",
      "processing: 1764000 images for train\n",
      "processing: 1765000 images for train\n",
      "processing: 1766000 images for train\n",
      "processing: 1767000 images for train\n",
      "processing: 1768000 images for train\n",
      "processing: 1769000 images for train\n",
      "processing: 1770000 images for train\n",
      "processing: 1771000 images for train\n",
      "processing: 1772000 images for train\n",
      "processing: 1773000 images for train\n",
      "processing: 1774000 images for train\n",
      "processing: 1775000 images for train\n",
      "processing: 1776000 images for train\n",
      "processing: 1777000 images for train\n",
      "processing: 1778000 images for train\n",
      "processing: 1779000 images for train\n",
      "processing: 1780000 images for train\n",
      "processing: 1781000 images for train\n",
      "processing: 1782000 images for train\n",
      "processing: 1783000 images for train\n",
      "processing: 1784000 images for train\n",
      "processing: 1785000 images for train\n",
      "processing: 1786000 images for train\n",
      "processing: 1787000 images for train\n",
      "processing: 1788000 images for train\n",
      "processing: 1789000 images for train\n",
      "processing: 1790000 images for train\n",
      "processing: 1791000 images for train\n",
      "processing: 1792000 images for train\n",
      "processing: 1793000 images for train\n",
      "processing: 1794000 images for train\n",
      "processing: 1795000 images for train\n",
      "processing: 1796000 images for train\n"
     ]
    },
    {
     "name": "stdout",
     "output_type": "stream",
     "text": [
      "processing: 1797000 images for train\n",
      "processing: 1798000 images for train\n",
      "processing: 1799000 images for train\n",
      "processing: 1800000 images for train\n",
      "processing: 1801000 images for train\n",
      "processing: 1802000 images for train\n",
      "processing: 1803000 images for train\n",
      "processing: 1804000 images for train\n",
      "processing: 1805000 images for train\n",
      "processing: 1806000 images for train\n",
      "processing: 1807000 images for train\n",
      "processing: 1808000 images for train\n",
      "processing: 1809000 images for train\n",
      "processing: 1810000 images for train\n",
      "processing: 1811000 images for train\n",
      "processing: 1812000 images for train\n",
      "processing: 1813000 images for train\n",
      "processing: 1814000 images for train\n",
      "processing: 1815000 images for train\n",
      "processing: 1816000 images for train\n",
      "processing: 1817000 images for train\n",
      "processing: 1818000 images for train\n",
      "processing: 1819000 images for train\n",
      "processing: 1820000 images for train\n",
      "processing: 1821000 images for train\n",
      "processing: 1822000 images for train\n",
      "processing: 1823000 images for train\n",
      "processing: 1824000 images for train\n",
      "processing: 1825000 images for train\n",
      "processing: 1826000 images for train\n",
      "processing: 1827000 images for train\n",
      "processing: 1828000 images for train\n",
      "processing: 1829000 images for train\n",
      "processing: 1830000 images for train\n",
      "processing: 1831000 images for train\n",
      "processing: 1832000 images for train\n",
      "processing: 1833000 images for train\n",
      "processing: 1834000 images for train\n",
      "processing: 1835000 images for train\n",
      "processing: 1836000 images for train\n",
      "processing: 1837000 images for train\n",
      "processing: 1838000 images for train\n",
      "processing: 1839000 images for train\n",
      "processing: 1840000 images for train\n",
      "processing: 1841000 images for train\n",
      "processing: 1842000 images for train\n",
      "processing: 1843000 images for train\n",
      "processing: 1844000 images for train\n",
      "processing: 1845000 images for train\n",
      "processing: 1846000 images for train\n",
      "processing: 1847000 images for train\n",
      "processing: 1848000 images for train\n",
      "processing: 1849000 images for train\n",
      "processing: 1850000 images for train\n",
      "processing: 1851000 images for train\n",
      "processing: 1852000 images for train\n",
      "processing: 1853000 images for train\n",
      "processing: 1854000 images for train\n",
      "processing: 1855000 images for train\n",
      "processing: 1856000 images for train\n",
      "processing: 1857000 images for train\n",
      "processing: 1858000 images for train\n",
      "processing: 1859000 images for train\n",
      "processing: 1860000 images for train\n",
      "processing: 1861000 images for train\n",
      "processing: 1862000 images for train\n",
      "processing: 1863000 images for train\n",
      "processing: 1864000 images for train\n",
      "processing: 1865000 images for train\n",
      "processing: 1866000 images for train\n",
      "processing: 1867000 images for train\n",
      "processing: 1868000 images for train\n",
      "processing: 1869000 images for train\n",
      "processing: 1870000 images for train\n",
      "processing: 1871000 images for train\n",
      "processing: 1872000 images for train\n",
      "processing: 1873000 images for train\n",
      "processing: 1874000 images for train\n",
      "processing: 1875000 images for train\n",
      "processing: 1876000 images for train\n",
      "processing: 1877000 images for train\n",
      "processing: 1878000 images for train\n",
      "processing: 1879000 images for train\n",
      "processing: 1880000 images for train\n",
      "processing: 1881000 images for train\n",
      "processing: 1882000 images for train\n",
      "processing: 1883000 images for train\n",
      "processing: 1884000 images for train\n",
      "processing: 1885000 images for train\n",
      "processing: 1886000 images for train\n",
      "processing: 1887000 images for train\n",
      "processing: 1888000 images for train\n",
      "processing: 1889000 images for train\n",
      "processing: 1890000 images for train\n",
      "processing: 1891000 images for train\n",
      "processing: 1892000 images for train\n",
      "processing: 1893000 images for train\n",
      "processing: 1894000 images for train\n",
      "processing: 1895000 images for train\n",
      "processing: 1896000 images for train\n",
      "processing: 1897000 images for train\n",
      "processing: 1898000 images for train\n",
      "processing: 1899000 images for train\n",
      "processing: 1900000 images for train\n",
      "processing: 1901000 images for train\n",
      "processing: 1902000 images for train\n",
      "processing: 1903000 images for train\n",
      "processing: 1904000 images for train\n",
      "processing: 1905000 images for train\n",
      "processing: 1906000 images for train\n",
      "processing: 1907000 images for train\n",
      "processing: 1908000 images for train\n",
      "processing: 1909000 images for train\n",
      "processing: 1910000 images for train\n",
      "processing: 1911000 images for train\n",
      "processing: 1912000 images for train\n",
      "processing: 1913000 images for train\n",
      "processing: 1914000 images for train\n",
      "processing: 1915000 images for train\n",
      "processing: 1916000 images for train\n",
      "processing: 1917000 images for train\n",
      "processing: 1918000 images for train\n",
      "processing: 1919000 images for train\n",
      "processing: 1920000 images for train\n",
      "processing: 1921000 images for train\n",
      "processing: 1922000 images for train\n",
      "processing: 1923000 images for train\n",
      "processing: 1924000 images for train\n",
      "processing: 1925000 images for train\n",
      "processing: 1926000 images for train\n",
      "processing: 1927000 images for train\n",
      "processing: 1928000 images for train\n",
      "processing: 1929000 images for train\n",
      "processing: 1930000 images for train\n",
      "processing: 1931000 images for train\n",
      "processing: 1932000 images for train\n",
      "processing: 1933000 images for train\n",
      "processing: 1934000 images for train\n",
      "processing: 1935000 images for train\n",
      "processing: 1936000 images for train\n",
      "processing: 1937000 images for train\n",
      "processing: 1938000 images for train\n",
      "processing: 1939000 images for train\n",
      "processing: 1940000 images for train\n",
      "processing: 1941000 images for train\n",
      "processing: 1942000 images for train\n",
      "processing: 1943000 images for train\n",
      "processing: 1944000 images for train\n",
      "processing: 1945000 images for train\n",
      "processing: 1946000 images for train\n",
      "processing: 1947000 images for train\n",
      "processing: 1948000 images for train\n",
      "processing: 1949000 images for train\n",
      "processing: 1950000 images for train\n",
      "processing: 1951000 images for train\n",
      "processing: 1952000 images for train\n",
      "processing: 1953000 images for train\n",
      "processing: 1954000 images for train\n",
      "processing: 1955000 images for train\n",
      "processing: 1956000 images for train\n",
      "processing: 1957000 images for train\n",
      "processing: 1958000 images for train\n",
      "processing: 1959000 images for train\n",
      "processing: 1960000 images for train\n",
      "processing: 1961000 images for train\n",
      "processing: 1962000 images for train\n",
      "processing: 1963000 images for train\n",
      "processing: 1964000 images for train\n",
      "processing: 1965000 images for train\n",
      "processing: 1966000 images for train\n",
      "processing: 1967000 images for train\n",
      "processing: 1968000 images for train\n",
      "processing: 1969000 images for train\n",
      "processing: 1970000 images for train\n",
      "processing: 1971000 images for train\n",
      "processing: 1972000 images for train\n",
      "processing: 1973000 images for train\n",
      "processing: 1974000 images for train\n",
      "processing: 1975000 images for train\n",
      "processing: 1976000 images for train\n",
      "processing: 1977000 images for train\n",
      "processing: 1978000 images for train\n",
      "processing: 1979000 images for train\n",
      "processing: 1980000 images for train\n",
      "processing: 1981000 images for train\n",
      "processing: 1982000 images for train\n",
      "processing: 1983000 images for train\n",
      "processing: 1984000 images for train\n",
      "processing: 1985000 images for train\n",
      "processing: 1986000 images for train\n",
      "processing: 1987000 images for train\n",
      "processing: 1988000 images for train\n",
      "processing: 1989000 images for train\n",
      "processing: 1990000 images for train\n",
      "processing: 1991000 images for train\n",
      "processing: 1992000 images for train\n",
      "processing: 1993000 images for train\n",
      "processing: 1994000 images for train\n",
      "processing: 1995000 images for train\n",
      "processing: 1996000 images for train\n",
      "processing: 1997000 images for train\n",
      "processing: 1998000 images for train\n",
      "processing: 1999000 images for train\n",
      "processing: 2000000 images for train\n",
      "processing: 2001000 images for train\n",
      "processing: 2002000 images for train\n",
      "processing: 2003000 images for train\n",
      "processing: 2004000 images for train\n",
      "processing: 2005000 images for train\n",
      "processing: 2006000 images for train\n",
      "processing: 2007000 images for train\n",
      "processing: 2008000 images for train\n",
      "processing: 2009000 images for train\n",
      "processing: 2010000 images for train\n",
      "processing: 2011000 images for train\n",
      "processing: 2012000 images for train\n",
      "processing: 2013000 images for train\n",
      "processing: 2014000 images for train\n",
      "processing: 2015000 images for train\n",
      "processing: 2016000 images for train\n",
      "processing: 2017000 images for train\n",
      "processing: 2018000 images for train\n",
      "processing: 2019000 images for train\n",
      "processing: 2020000 images for train\n",
      "processing: 2021000 images for train\n",
      "processing: 2022000 images for train\n",
      "processing: 2023000 images for train\n",
      "processing: 2024000 images for train\n",
      "processing: 2025000 images for train\n",
      "processing: 2026000 images for train\n",
      "processing: 2027000 images for train\n",
      "processing: 2028000 images for train\n",
      "processing: 2029000 images for train\n",
      "processing: 2030000 images for train\n",
      "processing: 2031000 images for train\n",
      "processing: 2032000 images for train\n",
      "processing: 2033000 images for train\n",
      "processing: 2034000 images for train\n",
      "processing: 2035000 images for train\n",
      "processing: 2036000 images for train\n",
      "processing: 2037000 images for train\n",
      "processing: 2038000 images for train\n",
      "processing: 2039000 images for train\n",
      "processing: 2040000 images for train\n",
      "processing: 2041000 images for train\n",
      "processing: 2042000 images for train\n",
      "processing: 2043000 images for train\n",
      "processing: 2044000 images for train\n",
      "processing: 2045000 images for train\n",
      "processing: 2046000 images for train\n",
      "processing: 2047000 images for train\n",
      "processing: 2048000 images for train\n",
      "processing: 2049000 images for train\n",
      "processing: 2050000 images for train\n",
      "processing: 2051000 images for train\n",
      "processing: 2052000 images for train\n",
      "processing: 2053000 images for train\n",
      "processing: 2054000 images for train\n",
      "processing: 2055000 images for train\n",
      "processing: 2056000 images for train\n",
      "processing: 2057000 images for train\n",
      "processing: 2058000 images for train\n",
      "processing: 2059000 images for train\n",
      "processing: 2060000 images for train\n",
      "processing: 2061000 images for train\n",
      "processing: 2062000 images for train\n",
      "processing: 2063000 images for train\n",
      "processing: 2064000 images for train\n",
      "processing: 2065000 images for train\n",
      "processing: 2066000 images for train\n",
      "processing: 2067000 images for train\n",
      "processing: 2068000 images for train\n",
      "processing: 2069000 images for train\n",
      "processing: 2070000 images for train\n",
      "processing: 2071000 images for train\n",
      "processing: 2072000 images for train\n",
      "processing: 2073000 images for train\n",
      "processing: 2074000 images for train\n",
      "processing: 2075000 images for train\n",
      "processing: 2076000 images for train\n",
      "processing: 2077000 images for train\n",
      "processing: 2078000 images for train\n",
      "processing: 2079000 images for train\n",
      "processing: 2080000 images for train\n",
      "processing: 2081000 images for train\n",
      "processing: 2082000 images for train\n",
      "processing: 2083000 images for train\n",
      "processing: 2084000 images for train\n",
      "processing: 2085000 images for train\n",
      "processing: 2086000 images for train\n",
      "processing: 2087000 images for train\n",
      "processing: 2088000 images for train\n",
      "processing: 2089000 images for train\n",
      "processing: 2090000 images for train\n",
      "processing: 2091000 images for train\n",
      "processing: 2092000 images for train\n",
      "processing: 2093000 images for train\n",
      "processing: 2094000 images for train\n",
      "processing: 2095000 images for train\n",
      "processing: 2096000 images for train\n",
      "processing: 2097000 images for train\n",
      "processing: 2098000 images for train\n",
      "processing: 2099000 images for train\n",
      "processing: 2100000 images for train\n",
      "processing: 2101000 images for train\n",
      "processing: 2102000 images for train\n",
      "processing: 2103000 images for train\n",
      "processing: 2104000 images for train\n",
      "processing: 2105000 images for train\n",
      "processing: 2106000 images for train\n",
      "processing: 2107000 images for train\n",
      "processing: 2108000 images for train\n",
      "processing: 2109000 images for train\n",
      "processing: 2110000 images for train\n",
      "processing: 2111000 images for train\n",
      "processing: 2112000 images for train\n",
      "processing: 2113000 images for train\n",
      "processing: 2114000 images for train\n",
      "processing: 2115000 images for train\n",
      "processing: 2116000 images for train\n",
      "processing: 2117000 images for train\n",
      "processing: 2118000 images for train\n",
      "processing: 2119000 images for train\n",
      "processing: 2120000 images for train\n",
      "processing: 2121000 images for train\n",
      "processing: 2122000 images for train\n",
      "processing: 2123000 images for train\n",
      "processing: 2124000 images for train\n",
      "processing: 2125000 images for train\n",
      "processing: 2126000 images for train\n",
      "processing: 2127000 images for train\n",
      "processing: 2128000 images for train\n",
      "processing: 2129000 images for train\n",
      "processing: 2130000 images for train\n",
      "processing: 2131000 images for train\n",
      "processing: 2132000 images for train\n",
      "processing: 2133000 images for train\n",
      "processing: 2134000 images for train\n",
      "processing: 2135000 images for train\n",
      "processing: 2136000 images for train\n",
      "processing: 2137000 images for train\n",
      "processing: 2138000 images for train\n",
      "processing: 2139000 images for train\n",
      "processing: 2140000 images for train\n",
      "processing: 2141000 images for train\n",
      "processing: 2142000 images for train\n",
      "processing: 2143000 images for train\n",
      "processing: 2144000 images for train\n",
      "processing: 2145000 images for train\n",
      "processing: 2146000 images for train\n",
      "processing: 2147000 images for train\n",
      "processing: 2148000 images for train\n",
      "processing: 2149000 images for train\n",
      "processing: 2150000 images for train\n",
      "processing: 2151000 images for train\n",
      "processing: 2152000 images for train\n",
      "processing: 2153000 images for train\n",
      "processing: 2154000 images for train\n",
      "processing: 2155000 images for train\n",
      "processing: 2156000 images for train\n",
      "processing: 2157000 images for train\n",
      "processing: 2158000 images for train\n",
      "processing: 2159000 images for train\n",
      "processing: 2160000 images for train\n",
      "processing: 2161000 images for train\n",
      "processing: 2162000 images for train\n",
      "processing: 2163000 images for train\n",
      "processing: 2164000 images for train\n",
      "processing: 2165000 images for train\n",
      "processing: 2166000 images for train\n",
      "processing: 2167000 images for train\n",
      "processing: 2168000 images for train\n",
      "processing: 2169000 images for train\n",
      "processing: 2170000 images for train\n",
      "processing: 2171000 images for train\n",
      "processing: 2172000 images for train\n",
      "processing: 2173000 images for train\n",
      "processing: 2174000 images for train\n",
      "processing: 2175000 images for train\n",
      "processing: 2176000 images for train\n",
      "processing: 2177000 images for train\n",
      "processing: 2178000 images for train\n",
      "processing: 2179000 images for train\n",
      "processing: 2180000 images for train\n",
      "processing: 2181000 images for train\n",
      "processing: 2182000 images for train\n",
      "processing: 2183000 images for train\n",
      "processing: 2184000 images for train\n",
      "processing: 2185000 images for train\n",
      "processing: 2186000 images for train\n",
      "processing: 2187000 images for train\n",
      "processing: 2188000 images for train\n",
      "processing: 2189000 images for train\n",
      "processing: 2190000 images for train\n",
      "processing: 2191000 images for train\n",
      "processing: 2192000 images for train\n",
      "processing: 2193000 images for train\n",
      "processing: 2194000 images for train\n",
      "processing: 2195000 images for train\n",
      "processing: 2196000 images for train\n",
      "processing: 2197000 images for train\n",
      "processing: 2198000 images for train\n",
      "processing: 2199000 images for train\n",
      "processing: 2200000 images for train\n",
      "processing: 2201000 images for train\n",
      "processing: 2202000 images for train\n",
      "processing: 2203000 images for train\n",
      "processing: 2204000 images for train\n",
      "processing: 2205000 images for train\n",
      "processing: 2206000 images for train\n",
      "processing: 2207000 images for train\n",
      "processing: 2208000 images for train\n",
      "processing: 2209000 images for train\n",
      "processing: 2210000 images for train\n",
      "processing: 2211000 images for train\n",
      "processing: 2212000 images for train\n",
      "processing: 2213000 images for train\n",
      "processing: 2214000 images for train\n",
      "processing: 2215000 images for train\n",
      "processing: 2216000 images for train\n",
      "processing: 2217000 images for train\n",
      "processing: 2218000 images for train\n",
      "processing: 2219000 images for train\n",
      "processing: 2220000 images for train\n",
      "processing: 2221000 images for train\n",
      "processing: 2222000 images for train\n",
      "processing: 2223000 images for train\n",
      "processing: 2224000 images for train\n",
      "processing: 2225000 images for train\n",
      "processing: 2226000 images for train\n",
      "processing: 2227000 images for train\n",
      "processing: 2228000 images for train\n",
      "processing: 2229000 images for train\n",
      "processing: 2230000 images for train\n",
      "processing: 2231000 images for train\n",
      "processing: 2232000 images for train\n",
      "processing: 2233000 images for train\n",
      "processing: 2234000 images for train\n",
      "processing: 2235000 images for train\n",
      "processing: 2236000 images for train\n",
      "processing: 2237000 images for train\n",
      "processing: 2238000 images for train\n"
     ]
    },
    {
     "name": "stdout",
     "output_type": "stream",
     "text": [
      "processing: 2239000 images for train\n",
      "processing: 2240000 images for train\n",
      "processing: 2241000 images for train\n",
      "processing: 2242000 images for train\n",
      "processing: 2243000 images for train\n",
      "processing: 2244000 images for train\n",
      "processing: 2245000 images for train\n",
      "processing: 2246000 images for train\n",
      "processing: 2247000 images for train\n",
      "processing: 2248000 images for train\n",
      "processing: 2249000 images for train\n",
      "processing: 2250000 images for train\n",
      "processing: 2251000 images for train\n",
      "processing: 2252000 images for train\n",
      "processing: 2253000 images for train\n",
      "processing: 2254000 images for train\n",
      "processing: 2255000 images for train\n",
      "processing: 2256000 images for train\n",
      "processing: 2257000 images for train\n",
      "processing: 2258000 images for train\n",
      "processing: 2259000 images for train\n",
      "processing: 2260000 images for train\n",
      "processing: 2261000 images for train\n",
      "processing: 2262000 images for train\n",
      "processing: 2263000 images for train\n",
      "processing: 2264000 images for train\n",
      "processing: 2265000 images for train\n",
      "processing: 2266000 images for train\n",
      "processing: 2267000 images for train\n",
      "processing: 2268000 images for train\n",
      "processing: 2269000 images for train\n",
      "processing: 2270000 images for train\n",
      "processing: 2271000 images for train\n",
      "processing: 2272000 images for train\n",
      "processing: 2273000 images for train\n",
      "processing: 2274000 images for train\n",
      "processing: 2275000 images for train\n",
      "processing: 2276000 images for train\n",
      "processing: 2277000 images for train\n",
      "processing: 2278000 images for train\n",
      "processing: 2279000 images for train\n",
      "processing: 2280000 images for train\n",
      "processing: 2281000 images for train\n",
      "processing: 2282000 images for train\n",
      "processing: 2283000 images for train\n",
      "processing: 2284000 images for train\n",
      "processing: 2285000 images for train\n",
      "processing: 2286000 images for train\n",
      "processing: 2287000 images for train\n",
      "processing: 2288000 images for train\n",
      "processing: 2289000 images for train\n",
      "processing: 2290000 images for train\n",
      "processing: 2291000 images for train\n",
      "processing: 2292000 images for train\n",
      "processing: 2293000 images for train\n",
      "processing: 2294000 images for train\n",
      "processing: 2295000 images for train\n",
      "processing: 2296000 images for train\n",
      "processing: 2297000 images for train\n",
      "processing: 2298000 images for train\n",
      "processing: 2299000 images for train\n",
      "processing: 2300000 images for train\n",
      "processing: 2301000 images for train\n",
      "processing: 2302000 images for train\n",
      "processing: 2303000 images for train\n",
      "processing: 2304000 images for train\n",
      "processing: 2305000 images for train\n",
      "processing: 2306000 images for train\n",
      "processing: 2307000 images for train\n",
      "processing: 2308000 images for train\n",
      "processing: 2309000 images for train\n",
      "processing: 2310000 images for train\n",
      "processing: 2311000 images for train\n",
      "processing: 2312000 images for train\n",
      "processing: 2313000 images for train\n",
      "processing: 2314000 images for train\n",
      "processing: 2315000 images for train\n",
      "processing: 2316000 images for train\n",
      "processing: 2317000 images for train\n",
      "processing: 2318000 images for train\n",
      "processing: 2319000 images for train\n",
      "processing: 2320000 images for train\n",
      "processing: 2321000 images for train\n",
      "processing: 2322000 images for train\n",
      "processing: 2323000 images for train\n",
      "processing: 2324000 images for train\n",
      "processing: 2325000 images for train\n",
      "processing: 2326000 images for train\n",
      "processing: 2327000 images for train\n",
      "processing: 2328000 images for train\n",
      "processing: 2329000 images for train\n",
      "processing: 2330000 images for train\n",
      "processing: 2331000 images for train\n",
      "processing: 2332000 images for train\n",
      "processing: 2333000 images for train\n",
      "processing: 2334000 images for train\n",
      "processing: 2335000 images for train\n",
      "processing: 2336000 images for train\n",
      "processing: 2337000 images for train\n",
      "processing: 2338000 images for train\n",
      "processing: 2339000 images for train\n",
      "processing: 2340000 images for train\n",
      "processing: 2341000 images for train\n",
      "processing: 2342000 images for train\n",
      "processing: 2343000 images for train\n",
      "processing: 2344000 images for train\n",
      "processing: 2345000 images for train\n",
      "processing: 2346000 images for train\n",
      "processing: 2347000 images for train\n",
      "processing: 2348000 images for train\n",
      "processing: 2349000 images for train\n",
      "processing: 2350000 images for train\n",
      "processing: 2351000 images for train\n",
      "processing: 2352000 images for train\n",
      "processing: 2353000 images for train\n",
      "processing: 2354000 images for train\n",
      "processing: 2355000 images for train\n",
      "processing: 2356000 images for train\n",
      "processing: 2357000 images for train\n",
      "processing: 2358000 images for train\n",
      "processing: 2359000 images for train\n",
      "processing: 2360000 images for train\n",
      "processing: 2361000 images for train\n",
      "processing: 2362000 images for train\n",
      "processing: 2363000 images for train\n",
      "processing: 2364000 images for train\n",
      "processing: 2365000 images for train\n",
      "processing: 2366000 images for train\n",
      "processing: 2367000 images for train\n",
      "processing: 2368000 images for train\n",
      "processing: 2369000 images for train\n",
      "processing: 2370000 images for train\n",
      "processing: 2371000 images for train\n",
      "processing: 2372000 images for train\n",
      "processing: 2373000 images for train\n",
      "processing: 2374000 images for train\n",
      "processing: 2375000 images for train\n",
      "processing: 2376000 images for train\n",
      "processing: 2377000 images for train\n",
      "processing: 2378000 images for train\n",
      "processing: 2379000 images for train\n",
      "processing: 2380000 images for train\n",
      "processing: 2381000 images for train\n",
      "processing: 2382000 images for train\n",
      "processing: 2383000 images for train\n",
      "processing: 2384000 images for train\n",
      "processing: 2385000 images for train\n",
      "processing: 2386000 images for train\n",
      "processing: 2387000 images for train\n",
      "processing: 2388000 images for train\n",
      "processing: 2389000 images for train\n",
      "processing: 2390000 images for train\n",
      "processing: 2391000 images for train\n",
      "processing: 2392000 images for train\n",
      "processing: 2393000 images for train\n",
      "processing: 2394000 images for train\n",
      "processing: 2395000 images for train\n",
      "processing: 2396000 images for train\n",
      "processing: 2397000 images for train\n",
      "processing: 2398000 images for train\n",
      "processing: 2399000 images for train\n",
      "processing: 2400000 images for train\n",
      "processing: 2401000 images for train\n",
      "processing: 2402000 images for train\n",
      "processing: 2403000 images for train\n",
      "processing: 2404000 images for train\n",
      "processing: 2405000 images for train\n",
      "processing: 2406000 images for train\n",
      "processing: 2407000 images for train\n",
      "processing: 2408000 images for train\n",
      "processing: 2409000 images for train\n",
      "processing: 2410000 images for train\n",
      "processing: 2411000 images for train\n",
      "processing: 2412000 images for train\n",
      "processing: 2413000 images for train\n",
      "processing: 2414000 images for train\n",
      "processing: 2415000 images for train\n",
      "processing: 2416000 images for train\n",
      "processing: 2417000 images for train\n",
      "processing: 2418000 images for train\n",
      "processing: 2419000 images for train\n",
      "processing: 2420000 images for train\n",
      "processing: 2421000 images for train\n",
      "processing: 2422000 images for train\n",
      "processing: 2423000 images for train\n",
      "processing: 2424000 images for train\n",
      "processing: 2425000 images for train\n",
      "processing: 2426000 images for train\n",
      "processing: 2427000 images for train\n",
      "processing: 2428000 images for train\n",
      "processing: 2429000 images for train\n",
      "processing: 2430000 images for train\n",
      "processing: 2431000 images for train\n",
      "processing: 2432000 images for train\n",
      "processing: 2433000 images for train\n",
      "processing: 2434000 images for train\n",
      "processing: 2435000 images for train\n",
      "processing: 2436000 images for train\n",
      "processing: 2437000 images for train\n",
      "processing: 2438000 images for train\n",
      "processing: 2439000 images for train\n",
      "processing: 2440000 images for train\n",
      "processing: 2441000 images for train\n",
      "processing: 2442000 images for train\n",
      "processing: 2443000 images for train\n",
      "processing: 2444000 images for train\n",
      "processing: 2445000 images for train\n",
      "processing: 2446000 images for train\n",
      "processing: 2447000 images for train\n",
      "processing: 2448000 images for train\n",
      "processing: 2449000 images for train\n",
      "processing: 2450000 images for train\n",
      "processing: 2451000 images for train\n",
      "processing: 2452000 images for train\n",
      "processing: 2453000 images for train\n",
      "processing: 2454000 images for train\n",
      "processing: 2455000 images for train\n",
      "processing: 2456000 images for train\n",
      "processing: 2457000 images for train\n",
      "processing: 2458000 images for train\n",
      "processing: 2459000 images for train\n",
      "processing: 2460000 images for train\n",
      "processing: 2461000 images for train\n",
      "processing: 2462000 images for train\n",
      "processing: 2463000 images for train\n",
      "processing: 2464000 images for train\n",
      "processing: 2465000 images for train\n",
      "processing: 2466000 images for train\n",
      "processing: 2467000 images for train\n",
      "processing: 2468000 images for train\n",
      "processing: 2469000 images for train\n",
      "processing: 2470000 images for train\n",
      "processing: 2471000 images for train\n",
      "processing: 2472000 images for train\n",
      "processing: 2473000 images for train\n",
      "processing: 2474000 images for train\n",
      "processing: 2475000 images for train\n",
      "processing: 2476000 images for train\n",
      "processing: 2477000 images for train\n",
      "processing: 2478000 images for train\n",
      "processing: 2479000 images for train\n",
      "processing: 2480000 images for train\n",
      "processing: 2481000 images for train\n",
      "processing: 2482000 images for train\n",
      "processing: 2483000 images for train\n",
      "processing: 2484000 images for train\n",
      "processing: 2485000 images for train\n",
      "processing: 2486000 images for train\n",
      "processing: 2487000 images for train\n",
      "processing: 2488000 images for train\n",
      "processing: 2489000 images for train\n",
      "processing: 2490000 images for train\n",
      "processing: 2491000 images for train\n",
      "processing: 2492000 images for train\n",
      "processing: 2493000 images for train\n",
      "processing: 2494000 images for train\n",
      "processing: 2495000 images for train\n",
      "processing: 2496000 images for train\n",
      "processing: 2497000 images for train\n",
      "processing: 2498000 images for train\n",
      "processing: 2499000 images for train\n",
      "processing: 2500000 images for train\n",
      "processing: 2501000 images for train\n",
      "processing: 2502000 images for train\n",
      "processing: 2503000 images for train\n",
      "processing: 2504000 images for train\n",
      "processing: 2505000 images for train\n",
      "processing: 2506000 images for train\n",
      "processing: 2507000 images for train\n",
      "processing: 2508000 images for train\n",
      "processing: 2509000 images for train\n",
      "processing: 2510000 images for train\n",
      "processing: 2511000 images for train\n",
      "processing: 2512000 images for train\n",
      "processing: 2513000 images for train\n",
      "processing: 2514000 images for train\n",
      "processing: 2515000 images for train\n",
      "processing: 2516000 images for train\n",
      "processing: 2517000 images for train\n",
      "processing: 2518000 images for train\n",
      "processing: 2519000 images for train\n",
      "processing: 2520000 images for train\n",
      "processing: 2521000 images for train\n",
      "processing: 2522000 images for train\n",
      "processing: 2523000 images for train\n",
      "processing: 2524000 images for train\n",
      "processing: 2525000 images for train\n",
      "processing: 2526000 images for train\n",
      "processing: 2527000 images for train\n",
      "processing: 2528000 images for train\n",
      "processing: 2529000 images for train\n",
      "processing: 2530000 images for train\n",
      "processing: 2531000 images for train\n",
      "processing: 2532000 images for train\n",
      "processing: 2533000 images for train\n",
      "processing: 2534000 images for train\n",
      "processing: 2535000 images for train\n",
      "processing: 2536000 images for train\n",
      "processing: 2537000 images for train\n",
      "processing: 2538000 images for train\n",
      "processing: 2539000 images for train\n",
      "processing: 2540000 images for train\n",
      "processing: 2541000 images for train\n",
      "processing: 2542000 images for train\n",
      "processing: 2543000 images for train\n",
      "processing: 2544000 images for train\n",
      "processing: 2545000 images for train\n",
      "processing: 2546000 images for train\n",
      "processing: 2547000 images for train\n",
      "processing: 2548000 images for train\n",
      "processing: 2549000 images for train\n",
      "processing: 2550000 images for train\n",
      "processing: 2551000 images for train\n",
      "processing: 2552000 images for train\n",
      "processing: 2553000 images for train\n",
      "processing: 2554000 images for train\n",
      "processing: 2555000 images for train\n",
      "processing: 2556000 images for train\n",
      "processing: 2557000 images for train\n",
      "processing: 2558000 images for train\n",
      "processing: 2559000 images for train\n",
      "processing: 2560000 images for train\n",
      "processing: 2561000 images for train\n",
      "processing: 2562000 images for train\n",
      "processing: 2563000 images for train\n",
      "processing: 2564000 images for train\n",
      "processing: 2565000 images for train\n",
      "processing: 2566000 images for train\n",
      "processing: 2567000 images for train\n",
      "processing: 2568000 images for train\n",
      "processing: 2569000 images for train\n",
      "processing: 2570000 images for train\n",
      "processing: 2571000 images for train\n",
      "processing: 2572000 images for train\n",
      "processing: 2573000 images for train\n",
      "processing: 2574000 images for train\n",
      "processing: 2575000 images for train\n",
      "processing: 2576000 images for train\n",
      "processing: 2577000 images for train\n",
      "processing: 2578000 images for train\n",
      "processing: 2579000 images for train\n",
      "processing: 2580000 images for train\n",
      "processing: 2581000 images for train\n",
      "processing: 2582000 images for train\n",
      "processing: 2583000 images for train\n",
      "processing: 2584000 images for train\n",
      "processing: 2585000 images for train\n",
      "processing: 2586000 images for train\n",
      "processing: 2587000 images for train\n",
      "processing: 2588000 images for train\n",
      "processing: 2589000 images for train\n",
      "processing: 2590000 images for train\n",
      "processing: 2591000 images for train\n",
      "processing: 2592000 images for train\n",
      "processing: 2593000 images for train\n",
      "processing: 2594000 images for train\n",
      "processing: 2595000 images for train\n",
      "processing: 2596000 images for train\n",
      "processing: 2597000 images for train\n",
      "processing: 2598000 images for train\n",
      "processing: 2599000 images for train\n",
      "processing: 2600000 images for train\n",
      "processing: 2601000 images for train\n",
      "processing: 2602000 images for train\n",
      "processing: 2603000 images for train\n",
      "processing: 2604000 images for train\n",
      "processing: 2605000 images for train\n",
      "processing: 2606000 images for train\n",
      "processing: 2607000 images for train\n",
      "processing: 2608000 images for train\n",
      "processing: 2609000 images for train\n",
      "processing: 2610000 images for train\n",
      "processing: 2611000 images for train\n",
      "processing: 2612000 images for train\n",
      "processing: 2613000 images for train\n",
      "processing: 2614000 images for train\n",
      "processing: 2615000 images for train\n",
      "processing: 2616000 images for train\n",
      "processing: 2617000 images for train\n",
      "processing: 2618000 images for train\n",
      "processing: 2619000 images for train\n",
      "processing: 2620000 images for train\n",
      "processing: 2621000 images for train\n",
      "processing: 2622000 images for train\n",
      "processing: 2623000 images for train\n",
      "processing: 2624000 images for train\n",
      "processing: 2625000 images for train\n",
      "processing: 2626000 images for train\n",
      "processing: 2627000 images for train\n",
      "processing: 2628000 images for train\n",
      "processing: 2629000 images for train\n",
      "processing: 2630000 images for train\n",
      "processing: 2631000 images for train\n",
      "processing: 2632000 images for train\n",
      "processing: 2633000 images for train\n",
      "processing: 2634000 images for train\n",
      "processing: 2635000 images for train\n",
      "processing: 2636000 images for train\n",
      "processing: 2637000 images for train\n",
      "processing: 2638000 images for train\n",
      "processing: 2639000 images for train\n",
      "processing: 2640000 images for train\n",
      "processing: 2641000 images for train\n",
      "processing: 2642000 images for train\n",
      "processing: 2643000 images for train\n",
      "processing: 2644000 images for train\n",
      "processing: 2645000 images for train\n",
      "processing: 2646000 images for train\n",
      "processing: 2647000 images for train\n",
      "processing: 2648000 images for train\n",
      "processing: 2649000 images for train\n",
      "processing: 2650000 images for train\n",
      "processing: 2651000 images for train\n",
      "processing: 2652000 images for train\n",
      "processing: 2653000 images for train\n",
      "processing: 2654000 images for train\n",
      "processing: 2655000 images for train\n",
      "processing: 2656000 images for train\n",
      "processing: 2657000 images for train\n",
      "processing: 2658000 images for train\n",
      "processing: 2659000 images for train\n",
      "processing: 2660000 images for train\n",
      "processing: 2661000 images for train\n",
      "processing: 2662000 images for train\n",
      "processing: 2663000 images for train\n",
      "processing: 2664000 images for train\n",
      "processing: 2665000 images for train\n",
      "processing: 2666000 images for train\n",
      "processing: 2667000 images for train\n",
      "processing: 2668000 images for train\n",
      "processing: 2669000 images for train\n",
      "processing: 2670000 images for train\n",
      "processing: 2671000 images for train\n",
      "processing: 2672000 images for train\n",
      "processing: 2673000 images for train\n",
      "processing: 2674000 images for train\n",
      "processing: 2675000 images for train\n",
      "processing: 2676000 images for train\n",
      "processing: 2677000 images for train\n",
      "processing: 2678000 images for train\n",
      "processing: 2679000 images for train\n",
      "processing: 2680000 images for train\n"
     ]
    },
    {
     "name": "stdout",
     "output_type": "stream",
     "text": [
      "processing: 2681000 images for train\n",
      "processing: 2682000 images for train\n",
      "processing: 2683000 images for train\n",
      "processing: 2684000 images for train\n",
      "processing: 2685000 images for train\n",
      "processing: 2686000 images for train\n",
      "processing: 2687000 images for train\n",
      "processing: 2688000 images for train\n",
      "processing: 2689000 images for train\n",
      "processing: 2690000 images for train\n",
      "processing: 2691000 images for train\n",
      "processing: 2692000 images for train\n",
      "processing: 2693000 images for train\n",
      "processing: 2694000 images for train\n",
      "processing: 2695000 images for train\n",
      "processing: 2696000 images for train\n",
      "processing: 2697000 images for train\n",
      "processing: 2698000 images for train\n",
      "processing: 2699000 images for train\n",
      "processing: 2700000 images for train\n",
      "processing: 2701000 images for train\n",
      "processing: 2702000 images for train\n",
      "processing: 2703000 images for train\n",
      "processing: 2704000 images for train\n",
      "processing: 2705000 images for train\n",
      "processing: 2706000 images for train\n",
      "processing: 2707000 images for train\n",
      "processing: 2708000 images for train\n",
      "processing: 2709000 images for train\n",
      "processing: 2710000 images for train\n",
      "processing: 2711000 images for train\n",
      "processing: 2712000 images for train\n",
      "processing: 2713000 images for train\n",
      "processing: 2714000 images for train\n",
      "processing: 2715000 images for train\n",
      "processing: 2716000 images for train\n",
      "processing: 2717000 images for train\n",
      "processing: 2718000 images for train\n",
      "processing: 2719000 images for train\n",
      "processing: 2720000 images for train\n",
      "processing: 2721000 images for train\n",
      "processing: 2722000 images for train\n",
      "processing: 2723000 images for train\n",
      "processing: 2724000 images for train\n",
      "processing: 2725000 images for train\n",
      "processing: 2726000 images for train\n",
      "processing: 2727000 images for train\n",
      "processing: 2728000 images for train\n",
      "processing: 2729000 images for train\n",
      "processing: 2730000 images for train\n",
      "processing: 2731000 images for train\n",
      "processing: 2732000 images for train\n",
      "processing: 2733000 images for train\n",
      "processing: 2734000 images for train\n",
      "processing: 2735000 images for train\n",
      "processing: 2736000 images for train\n",
      "processing: 2737000 images for train\n",
      "processing: 2738000 images for train\n",
      "processing: 2739000 images for train\n",
      "processing: 2740000 images for train\n",
      "processing: 2741000 images for train\n",
      "processing: 2742000 images for train\n",
      "processing: 2743000 images for train\n",
      "processing: 2744000 images for train\n",
      "processing: 2745000 images for train\n",
      "processing: 2746000 images for train\n",
      "processing: 2747000 images for train\n",
      "processing: 2748000 images for train\n",
      "processing: 2749000 images for train\n",
      "processing: 2750000 images for train\n",
      "processing: 2751000 images for train\n",
      "processing: 2752000 images for train\n",
      "processing: 2753000 images for train\n",
      "processing: 2754000 images for train\n",
      "processing: 2755000 images for train\n",
      "processing: 2756000 images for train\n",
      "processing: 2757000 images for train\n",
      "processing: 2758000 images for train\n",
      "processing: 2759000 images for train\n",
      "processing: 2760000 images for train\n",
      "processing: 2761000 images for train\n",
      "processing: 2762000 images for train\n",
      "processing: 2763000 images for train\n",
      "processing: 2764000 images for train\n",
      "processing: 2765000 images for train\n",
      "processing: 2766000 images for train\n",
      "processing: 2767000 images for train\n",
      "processing: 2768000 images for train\n",
      "processing: 2769000 images for train\n",
      "processing: 2770000 images for train\n",
      "processing: 2771000 images for train\n",
      "processing: 2772000 images for train\n",
      "processing: 2773000 images for train\n",
      "processing: 2774000 images for train\n",
      "processing: 2775000 images for train\n",
      "processing: 2776000 images for train\n",
      "processing: 2777000 images for train\n",
      "processing: 2778000 images for train\n",
      "processing: 2779000 images for train\n",
      "processing: 2780000 images for train\n",
      "processing: 2781000 images for train\n",
      "processing: 2782000 images for train\n",
      "processing: 2783000 images for train\n",
      "processing: 2784000 images for train\n",
      "processing: 2785000 images for train\n",
      "processing: 2786000 images for train\n",
      "processing: 2787000 images for train\n",
      "processing: 2788000 images for train\n",
      "processing: 2789000 images for train\n",
      "processing: 2790000 images for train\n",
      "processing: 2791000 images for train\n",
      "processing: 2792000 images for train\n",
      "processing: 2793000 images for train\n",
      "processing: 2794000 images for train\n",
      "processing: 2795000 images for train\n",
      "processing: 2796000 images for train\n",
      "processing: 2797000 images for train\n",
      "processing: 2798000 images for train\n",
      "processing: 2799000 images for train\n",
      "processing: 2800000 images for train\n",
      "processing: 2801000 images for train\n",
      "processing: 2802000 images for train\n",
      "processing: 2803000 images for train\n",
      "processing: 2804000 images for train\n",
      "processing: 2805000 images for train\n",
      "processing: 2806000 images for train\n",
      "processing: 2807000 images for train\n",
      "processing: 2808000 images for train\n",
      "processing: 2809000 images for train\n",
      "processing: 2810000 images for train\n",
      "processing: 2811000 images for train\n",
      "processing: 2812000 images for train\n",
      "processing: 2813000 images for train\n",
      "processing: 2814000 images for train\n",
      "processing: 2815000 images for train\n",
      "processing: 2816000 images for train\n",
      "processing: 2817000 images for train\n",
      "processing: 2818000 images for train\n",
      "processing: 2819000 images for train\n",
      "processing: 2820000 images for train\n",
      "processing: 2821000 images for train\n",
      "processing: 2822000 images for train\n",
      "processing: 2823000 images for train\n",
      "processing: 2824000 images for train\n",
      "processing: 2825000 images for train\n",
      "processing: 2826000 images for train\n",
      "processing: 2827000 images for train\n",
      "processing: 2828000 images for train\n",
      "processing: 2829000 images for train\n",
      "processing: 2830000 images for train\n",
      "processing: 2831000 images for train\n",
      "processing: 2832000 images for train\n",
      "processing: 2833000 images for train\n",
      "processing: 2834000 images for train\n",
      "processing: 2835000 images for train\n",
      "processing: 2836000 images for train\n",
      "processing: 2837000 images for train\n",
      "processing: 2838000 images for train\n",
      "processing: 2839000 images for train\n",
      "processing: 2840000 images for train\n",
      "processing: 2841000 images for train\n",
      "processing: 2842000 images for train\n",
      "processing: 2843000 images for train\n",
      "processing: 2844000 images for train\n",
      "processing: 2845000 images for train\n",
      "processing: 2846000 images for train\n",
      "processing: 2847000 images for train\n",
      "processing: 2848000 images for train\n",
      "processing: 2849000 images for train\n",
      "processing: 2850000 images for train\n",
      "processing: 2851000 images for train\n",
      "processing: 2852000 images for train\n",
      "processing: 2853000 images for train\n",
      "processing: 2854000 images for train\n",
      "processing: 2855000 images for train\n",
      "processing: 2856000 images for train\n",
      "processing: 2857000 images for train\n",
      "processing: 2858000 images for train\n",
      "processing: 2859000 images for train\n",
      "processing: 2860000 images for train\n",
      "processing: 2861000 images for train\n",
      "processing: 2862000 images for train\n",
      "processing: 2863000 images for train\n",
      "processing: 2864000 images for train\n",
      "processing: 2865000 images for train\n",
      "processing: 2866000 images for train\n",
      "processing: 2867000 images for train\n",
      "processing: 2868000 images for train\n",
      "processing: 2869000 images for train\n",
      "processing: 2870000 images for train\n",
      "processing: 2871000 images for train\n",
      "processing: 2872000 images for train\n",
      "processing: 2873000 images for train\n",
      "processing: 2874000 images for train\n",
      "processing: 2875000 images for train\n",
      "processing: 2876000 images for train\n",
      "processing: 2877000 images for train\n",
      "processing: 2878000 images for train\n",
      "processing: 2879000 images for train\n",
      "processing: 2880000 images for train\n",
      "processing: 2881000 images for train\n",
      "processing: 2882000 images for train\n",
      "processing: 2883000 images for train\n",
      "processing: 2884000 images for train\n",
      "processing: 2885000 images for train\n",
      "processing: 2886000 images for train\n",
      "processing: 2887000 images for train\n",
      "processing: 2888000 images for train\n",
      "processing: 2889000 images for train\n",
      "processing: 2890000 images for train\n",
      "processing: 2891000 images for train\n",
      "processing: 2892000 images for train\n",
      "processing: 2893000 images for train\n",
      "processing: 2894000 images for train\n",
      "processing: 2895000 images for train\n",
      "processing: 2896000 images for train\n",
      "processing: 2897000 images for train\n",
      "processing: 2898000 images for train\n",
      "processing: 2899000 images for train\n",
      "processing: 2900000 images for train\n",
      "processing: 2901000 images for train\n",
      "processing: 2902000 images for train\n",
      "processing: 2903000 images for train\n",
      "processing: 2904000 images for train\n",
      "processing: 2905000 images for train\n",
      "processing: 2906000 images for train\n",
      "processing: 2907000 images for train\n",
      "processing: 2908000 images for train\n",
      "processing: 2909000 images for train\n",
      "processing: 2910000 images for train\n",
      "processing: 2911000 images for train\n",
      "processing: 2912000 images for train\n",
      "processing: 2913000 images for train\n",
      "processing: 2914000 images for train\n",
      "processing: 2915000 images for train\n",
      "processing: 2916000 images for train\n",
      "processing: 2917000 images for train\n",
      "processing: 2918000 images for train\n",
      "processing: 2919000 images for train\n",
      "processing: 2920000 images for train\n",
      "processing: 2921000 images for train\n",
      "processing: 2922000 images for train\n",
      "processing: 2923000 images for train\n",
      "processing: 2924000 images for train\n",
      "processing: 2925000 images for train\n",
      "processing: 2926000 images for train\n",
      "processing: 2927000 images for train\n",
      "processing: 2928000 images for train\n",
      "processing: 2929000 images for train\n",
      "processing: 2930000 images for train\n",
      "processing: 2931000 images for train\n",
      "processing: 2932000 images for train\n",
      "processing: 2933000 images for train\n",
      "processing: 2934000 images for train\n",
      "processing: 2935000 images for train\n",
      "processing: 2936000 images for train\n",
      "processing: 2937000 images for train\n",
      "processing: 2938000 images for train\n",
      "processing: 2939000 images for train\n",
      "processing: 2940000 images for train\n",
      "processing: 2941000 images for train\n",
      "processing: 2942000 images for train\n",
      "processing: 2943000 images for train\n",
      "processing: 2944000 images for train\n",
      "processing: 2945000 images for train\n",
      "processing: 2946000 images for train\n",
      "processing: 2947000 images for train\n",
      "processing: 2948000 images for train\n",
      "processing: 2949000 images for train\n",
      "processing: 2950000 images for train\n",
      "processing: 2951000 images for train\n",
      "processing: 2952000 images for train\n",
      "processing: 2953000 images for train\n",
      "processing: 2954000 images for train\n",
      "processing: 2955000 images for train\n",
      "processing: 2956000 images for train\n",
      "processing: 2957000 images for train\n",
      "processing: 2958000 images for train\n",
      "processing: 2959000 images for train\n",
      "processing: 2960000 images for train\n",
      "processing: 2961000 images for train\n",
      "processing: 2962000 images for train\n",
      "processing: 2963000 images for train\n",
      "processing: 2964000 images for train\n",
      "processing: 2965000 images for train\n",
      "processing: 2966000 images for train\n",
      "processing: 2967000 images for train\n",
      "processing: 2968000 images for train\n",
      "processing: 2969000 images for train\n",
      "processing: 2970000 images for train\n",
      "processing: 2971000 images for train\n",
      "processing: 2972000 images for train\n",
      "processing: 2973000 images for train\n",
      "processing: 2974000 images for train\n",
      "processing: 2975000 images for train\n",
      "processing: 2976000 images for train\n",
      "processing: 2977000 images for train\n",
      "processing: 2978000 images for train\n",
      "processing: 2979000 images for train\n",
      "processing: 2980000 images for train\n",
      "processing: 2981000 images for train\n",
      "processing: 2982000 images for train\n",
      "processing: 2983000 images for train\n",
      "processing: 2984000 images for train\n",
      "processing: 2985000 images for train\n",
      "processing: 2986000 images for train\n",
      "processing: 2987000 images for train\n",
      "processing: 2988000 images for train\n",
      "processing: 2989000 images for train\n",
      "processing: 2990000 images for train\n",
      "processing: 2991000 images for train\n",
      "processing: 2992000 images for train\n",
      "processing: 2993000 images for train\n",
      "processing: 2994000 images for train\n",
      "processing: 2995000 images for train\n",
      "processing: 2996000 images for train\n",
      "processing: 2997000 images for train\n",
      "processing: 2998000 images for train\n",
      "processing: 2999000 images for train\n",
      "processing: 3000000 images for train\n",
      "processing: 3001000 images for train\n",
      "processing: 3002000 images for train\n",
      "processing: 3003000 images for train\n",
      "processing: 3004000 images for train\n",
      "processing: 3005000 images for train\n",
      "processing: 3006000 images for train\n",
      "processing: 3007000 images for train\n",
      "processing: 3008000 images for train\n",
      "processing: 3009000 images for train\n",
      "processing: 3010000 images for train\n",
      "processing: 3011000 images for train\n",
      "processing: 3012000 images for train\n",
      "processing: 3013000 images for train\n",
      "processing: 3014000 images for train\n",
      "processing: 3015000 images for train\n",
      "processing: 3016000 images for train\n",
      "processing: 3017000 images for train\n",
      "processing: 3018000 images for train\n",
      "processing: 3019000 images for train\n",
      "processing: 3020000 images for train\n",
      "processing: 3021000 images for train\n",
      "processing: 3022000 images for train\n",
      "processing: 3023000 images for train\n",
      "processing: 3024000 images for train\n",
      "processing: 3025000 images for train\n",
      "processing: 3026000 images for train\n",
      "processing: 3027000 images for train\n",
      "processing: 3028000 images for train\n",
      "processing: 3029000 images for train\n",
      "processing: 3030000 images for train\n",
      "processing: 3031000 images for train\n",
      "processing: 3032000 images for train\n",
      "processing: 3033000 images for train\n",
      "processing: 3034000 images for train\n",
      "processing: 3035000 images for train\n",
      "processing: 3036000 images for train\n",
      "processing: 3037000 images for train\n",
      "processing: 3038000 images for train\n",
      "processing: 3039000 images for train\n",
      "processing: 3040000 images for train\n",
      "processing: 3041000 images for train\n",
      "processing: 3042000 images for train\n",
      "processing: 3043000 images for train\n",
      "processing: 3044000 images for train\n",
      "processing: 3045000 images for train\n",
      "processing: 3046000 images for train\n",
      "processing: 3047000 images for train\n",
      "processing: 3048000 images for train\n",
      "processing: 3049000 images for train\n",
      "processing: 3050000 images for train\n",
      "processing: 3051000 images for train\n",
      "processing: 3052000 images for train\n",
      "processing: 3053000 images for train\n",
      "processing: 3054000 images for train\n",
      "processing: 3055000 images for train\n",
      "processing: 3056000 images for train\n",
      "processing: 3057000 images for train\n",
      "processing: 3058000 images for train\n",
      "processing: 3059000 images for train\n",
      "processing: 3060000 images for train\n",
      "processing: 3061000 images for train\n",
      "processing: 3062000 images for train\n",
      "processing: 3063000 images for train\n",
      "processing: 3064000 images for train\n",
      "processing: 3065000 images for train\n",
      "processing: 3066000 images for train\n",
      "processing: 3067000 images for train\n",
      "processing: 3068000 images for train\n",
      "processing: 3069000 images for train\n",
      "processing: 3070000 images for train\n",
      "processing: 3071000 images for train\n",
      "processing: 3072000 images for train\n",
      "processing: 3073000 images for train\n",
      "processing: 3074000 images for train\n",
      "processing: 3075000 images for train\n",
      "processing: 3076000 images for train\n",
      "processing: 3077000 images for train\n",
      "processing: 3078000 images for train\n",
      "processing: 3079000 images for train\n",
      "processing: 3080000 images for train\n",
      "processing: 3081000 images for train\n",
      "processing: 3082000 images for train\n",
      "processing: 3083000 images for train\n",
      "processing: 3084000 images for train\n",
      "processing: 3085000 images for train\n",
      "processing: 3086000 images for train\n",
      "processing: 3087000 images for train\n",
      "processing: 3088000 images for train\n",
      "processing: 3089000 images for train\n",
      "processing: 3090000 images for train\n",
      "processing: 3091000 images for train\n",
      "processing: 3092000 images for train\n",
      "processing: 3093000 images for train\n",
      "processing: 3094000 images for train\n",
      "processing: 3095000 images for train\n",
      "processing: 3096000 images for train\n",
      "processing: 3097000 images for train\n",
      "processing: 3098000 images for train\n",
      "processing: 3099000 images for train\n",
      "processing: 3100000 images for train\n",
      "processing: 3101000 images for train\n",
      "processing: 3102000 images for train\n",
      "processing: 3103000 images for train\n",
      "processing: 3104000 images for train\n",
      "processing: 3105000 images for train\n",
      "processing: 3106000 images for train\n",
      "processing: 3107000 images for train\n",
      "processing: 3108000 images for train\n",
      "processing: 3109000 images for train\n",
      "processing: 3110000 images for train\n",
      "processing: 3111000 images for train\n",
      "processing: 3112000 images for train\n",
      "processing: 3113000 images for train\n",
      "processing: 3114000 images for train\n",
      "processing: 3115000 images for train\n",
      "processing: 3116000 images for train\n",
      "processing: 3117000 images for train\n",
      "processing: 3118000 images for train\n",
      "processing: 3119000 images for train\n",
      "processing: 3120000 images for train\n",
      "processing: 3121000 images for train\n",
      "processing: 3122000 images for train\n"
     ]
    },
    {
     "name": "stdout",
     "output_type": "stream",
     "text": [
      "processing: 3123000 images for train\n",
      "processing: 3124000 images for train\n",
      "processing: 3125000 images for train\n",
      "processing: 3126000 images for train\n",
      "processing: 3127000 images for train\n",
      "processing: 3128000 images for train\n",
      "processing: 3129000 images for train\n",
      "processing: 3130000 images for train\n",
      "processing: 3131000 images for train\n",
      "processing: 3132000 images for train\n",
      "processing: 3133000 images for train\n",
      "processing: 3134000 images for train\n",
      "processing: 3135000 images for train\n",
      "processing: 3136000 images for train\n",
      "processing: 3137000 images for train\n",
      "processing: 3138000 images for train\n",
      "processing: 3139000 images for train\n",
      "processing: 3140000 images for train\n",
      "processing: 3141000 images for train\n",
      "processing: 0 images for test\n",
      "processing: 1000 images for test\n",
      "processing: 2000 images for test\n",
      "processing: 3000 images for test\n",
      "processing: 4000 images for test\n",
      "processing: 5000 images for test\n",
      "processing: 6000 images for test\n",
      "processing: 7000 images for test\n",
      "processing: 8000 images for test\n",
      "processing: 9000 images for test\n",
      "processing: 10000 images for test\n",
      "processing: 11000 images for test\n",
      "processing: 12000 images for test\n",
      "processing: 13000 images for test\n",
      "processing: 14000 images for test\n",
      "processing: 15000 images for test\n",
      "processing: 16000 images for test\n",
      "processing: 17000 images for test\n",
      "processing: 18000 images for test\n",
      "processing: 19000 images for test\n",
      "processing: 20000 images for test\n",
      "processing: 21000 images for test\n",
      "processing: 22000 images for test\n",
      "processing: 23000 images for test\n",
      "processing: 24000 images for test\n",
      "processing: 25000 images for test\n",
      "processing: 26000 images for test\n",
      "processing: 27000 images for test\n",
      "processing: 28000 images for test\n",
      "processing: 29000 images for test\n",
      "processing: 30000 images for test\n",
      "processing: 31000 images for test\n",
      "processing: 32000 images for test\n",
      "processing: 33000 images for test\n",
      "processing: 34000 images for test\n",
      "processing: 35000 images for test\n",
      "processing: 36000 images for test\n",
      "processing: 37000 images for test\n",
      "processing: 38000 images for test\n",
      "processing: 39000 images for test\n",
      "processing: 40000 images for test\n",
      "processing: 41000 images for test\n",
      "processing: 42000 images for test\n",
      "processing: 43000 images for test\n",
      "processing: 44000 images for test\n",
      "processing: 45000 images for test\n",
      "processing: 46000 images for test\n",
      "processing: 47000 images for test\n",
      "processing: 48000 images for test\n",
      "processing: 49000 images for test\n",
      "processing: 50000 images for test\n",
      "processing: 51000 images for test\n",
      "processing: 52000 images for test\n",
      "processing: 53000 images for test\n",
      "processing: 54000 images for test\n",
      "processing: 55000 images for test\n",
      "processing: 56000 images for test\n",
      "processing: 57000 images for test\n",
      "processing: 58000 images for test\n",
      "processing: 59000 images for test\n",
      "processing: 60000 images for test\n",
      "processing: 61000 images for test\n",
      "processing: 62000 images for test\n",
      "processing: 63000 images for test\n",
      "processing: 64000 images for test\n",
      "processing: 65000 images for test\n",
      "processing: 66000 images for test\n",
      "processing: 67000 images for test\n",
      "processing: 68000 images for test\n",
      "processing: 69000 images for test\n",
      "processing: 70000 images for test\n",
      "processing: 71000 images for test\n",
      "processing: 72000 images for test\n",
      "processing: 73000 images for test\n",
      "processing: 74000 images for test\n",
      "processing: 75000 images for test\n",
      "processing: 76000 images for test\n",
      "processing: 77000 images for test\n",
      "processing: 78000 images for test\n",
      "processing: 79000 images for test\n",
      "processing: 80000 images for test\n",
      "processing: 81000 images for test\n",
      "processing: 82000 images for test\n",
      "processing: 83000 images for test\n",
      "processing: 84000 images for test\n",
      "processing: 85000 images for test\n",
      "processing: 86000 images for test\n",
      "processing: 87000 images for test\n",
      "processing: 88000 images for test\n",
      "processing: 89000 images for test\n",
      "processing: 90000 images for test\n",
      "processing: 91000 images for test\n",
      "processing: 92000 images for test\n",
      "processing: 93000 images for test\n",
      "processing: 94000 images for test\n",
      "processing: 95000 images for test\n",
      "processing: 96000 images for test\n",
      "processing: 97000 images for test\n",
      "processing: 98000 images for test\n",
      "processing: 99000 images for test\n",
      "processing: 100000 images for test\n",
      "processing: 101000 images for test\n",
      "processing: 102000 images for test\n",
      "processing: 103000 images for test\n",
      "processing: 104000 images for test\n",
      "processing: 105000 images for test\n",
      "processing: 106000 images for test\n",
      "processing: 107000 images for test\n",
      "processing: 108000 images for test\n",
      "processing: 109000 images for test\n",
      "processing: 110000 images for test\n",
      "processing: 111000 images for test\n",
      "processing: 112000 images for test\n",
      "processing: 113000 images for test\n",
      "processing: 114000 images for test\n",
      "processing: 115000 images for test\n",
      "processing: 116000 images for test\n",
      "processing: 117000 images for test\n",
      "processing: 118000 images for test\n",
      "processing: 119000 images for test\n",
      "processing: 120000 images for test\n",
      "processing: 121000 images for test\n",
      "processing: 122000 images for test\n",
      "processing: 123000 images for test\n",
      "processing: 124000 images for test\n",
      "processing: 125000 images for test\n",
      "processing: 126000 images for test\n",
      "processing: 127000 images for test\n",
      "processing: 128000 images for test\n",
      "processing: 129000 images for test\n",
      "processing: 130000 images for test\n",
      "processing: 131000 images for test\n",
      "processing: 132000 images for test\n",
      "processing: 133000 images for test\n",
      "processing: 134000 images for test\n",
      "processing: 135000 images for test\n",
      "processing: 136000 images for test\n",
      "processing: 137000 images for test\n",
      "processing: 138000 images for test\n",
      "processing: 139000 images for test\n",
      "processing: 140000 images for test\n",
      "processing: 141000 images for test\n",
      "processing: 142000 images for test\n",
      "processing: 143000 images for test\n",
      "processing: 144000 images for test\n",
      "processing: 145000 images for test\n",
      "processing: 146000 images for test\n",
      "processing: 147000 images for test\n",
      "processing: 148000 images for test\n",
      "processing: 149000 images for test\n",
      "processing: 150000 images for test\n",
      "processing: 151000 images for test\n",
      "processing: 152000 images for test\n",
      "processing: 153000 images for test\n",
      "processing: 154000 images for test\n",
      "processing: 155000 images for test\n",
      "processing: 156000 images for test\n",
      "processing: 157000 images for test\n",
      "processing: 158000 images for test\n",
      "processing: 159000 images for test\n",
      "processing: 160000 images for test\n",
      "processing: 161000 images for test\n",
      "processing: 162000 images for test\n",
      "processing: 163000 images for test\n",
      "processing: 164000 images for test\n",
      "processing: 165000 images for test\n",
      "processing: 166000 images for test\n",
      "processing: 167000 images for test\n",
      "processing: 168000 images for test\n",
      "processing: 169000 images for test\n"
     ]
    }
   ],
   "source": [
    "# 准备数据集并预处理\n",
    "bs = 16#16#32\n",
    "dt = datasets.VGG_Faces2(root, train_img_list_file, id_label_dict, split='train')\n",
    "train_loader = torch.utils.data.DataLoader(dt, batch_size=bs, shuffle=True, **kwargs)\n",
    "\n",
    "dv = datasets.VGG_Faces2(root, test_img_list_file, id_label_dict, split='test',\n",
    "                             horizontal_flip='store_true')\n",
    "val_loader = torch.utils.data.DataLoader(dv, batch_size=bs, shuffle=False, **kwargs)"
   ]
  },
  {
   "cell_type": "code",
   "execution_count": 10,
   "metadata": {},
   "outputs": [],
   "source": [
    "# 2. model\n",
    "include_top = True\n",
    "model = ResNet.resnet50(num_classes=N_IDENTITY, include_top=include_top)"
   ]
  },
  {
   "cell_type": "code",
   "execution_count": 11,
   "metadata": {},
   "outputs": [],
   "source": [
    "# 超参数设置\n",
    "start_epoch = 0\n",
    "start_iteration = 0\n",
    "weight_file = 'resnet50_ft_weight.pkl'\n",
    "utils.load_state_dict(model, weight_file)\n",
    "model.fc.reset_parameters()"
   ]
  },
  {
   "cell_type": "code",
   "execution_count": 12,
   "metadata": {},
   "outputs": [],
   "source": [
    "# 定义损失函数\n",
    "if cuda:\n",
    "    model = model.cuda()\n",
    "    \n",
    "criterion = nn.CrossEntropyLoss()\n",
    "if cuda:\n",
    "    criterion = criterion.cuda()"
   ]
  },
  {
   "cell_type": "code",
   "execution_count": 13,
   "metadata": {},
   "outputs": [],
   "source": [
    "# 3. optimizer\n",
    "optim = torch.optim.SGD(\n",
    "    [\n",
    "        {'params': get_parameters(model, bias=False)},\n",
    "        {'params': get_parameters(model, bias=True), 'lr': cfg['lr'] * 2, 'weight_decay': 0},\n",
    "    ],\n",
    "    lr=cfg['lr'],\n",
    "    momentum=cfg['momentum'],\n",
    "    weight_decay=cfg['weight_decay'])"
   ]
  },
  {
   "cell_type": "code",
   "execution_count": 14,
   "metadata": {},
   "outputs": [],
   "source": [
    "last_epoch = start_iteration if resume else -1\n",
    "lr_scheduler = torch.optim.lr_scheduler.StepLR(optim,  cfg['step_size'],\n",
    "                           gamma=cfg['gamma'], last_epoch=last_epoch)"
   ]
  },
  {
   "cell_type": "code",
   "execution_count": 15,
   "metadata": {},
   "outputs": [],
   "source": [
    "#call the trainer\n",
    "trainer = Trainer(\n",
    "    cmd='train',\n",
    "    cuda=cuda,\n",
    "    model=model,\n",
    "    criterion=criterion,\n",
    "    optimizer=optim,\n",
    "    lr_scheduler=lr_scheduler,\n",
    "    train_loader=train_loader,\n",
    "    val_loader=val_loader,\n",
    "    log_file=log_file,\n",
    "    max_iter=cfg['max_iteration'],\n",
    "    checkpoint_dir='checkpoint_directory',\n",
    "    print_freq=1,\n",
    ")\n",
    "trainer.epoch = start_epoch\n",
    "trainer.iteration = start_iteration"
   ]
  },
  {
   "cell_type": "code",
   "execution_count": 16,
   "metadata": {},
   "outputs": [
    {
     "name": "stderr",
     "output_type": "stream",
     "text": [
      "Train:   0%|                                              | 0/4 [00:00<?, ?it/s]\n",
      "Train epoch=0, iter=0:   0%|                         | 0/261825 [00:00<?, ?it/s]"
     ]
    },
    {
     "name": "stdout",
     "output_type": "stream",
     "text": [
      "Train: [0/261825/12]\tepoch: 0\titer: 0\tTime: 29.265 (29.265)\tData: 27.615 (27.615)\tLoss: 9.5512 (9.5512)\tPrec@1: 0.000 (0.000)\tPrec@5: 0.000 (0.000)\tlr 0.100000\n"
     ]
    },
    {
     "name": "stderr",
     "output_type": "stream",
     "text": [
      "\n",
      "Train epoch=0, iter=0:   0%|             | 1/261825 [00:01<144:40:55,  1.99s/it]"
     ]
    },
    {
     "name": "stdout",
     "output_type": "stream",
     "text": [
      "Train: [1/261825/24]\tepoch: 0\titer: 1\tTime: 0.559 (14.912)\tData: 0.236 (13.925)\tLoss: 32.6815 (21.1163)\tPrec@1: 0.000 (0.000)\tPrec@5: 0.000 (0.000)\tlr 0.100000\n"
     ]
    },
    {
     "name": "stderr",
     "output_type": "stream",
     "text": [
      "\n",
      "Train epoch=0, iter=0:   0%|             | 2/261825 [00:02<114:46:14,  1.58s/it]"
     ]
    },
    {
     "name": "stdout",
     "output_type": "stream",
     "text": [
      "Train: [2/261825/36]\tepoch: 0\titer: 2\tTime: 0.608 (10.144)\tData: 0.296 (9.382)\tLoss: 50.9010 (31.0445)\tPrec@1: 0.000 (0.000)\tPrec@5: 0.000 (0.000)\tlr 0.100000\n"
     ]
    },
    {
     "name": "stderr",
     "output_type": "stream",
     "text": [
      "\n",
      "Train epoch=0, iter=0:   0%|              | 3/261825 [00:03<93:35:32,  1.29s/it]"
     ]
    },
    {
     "name": "stdout",
     "output_type": "stream",
     "text": [
      "Train: [3/261825/48]\tepoch: 0\titer: 3\tTime: 0.605 (7.759)\tData: 0.295 (7.111)\tLoss: 64.3574 (39.3728)\tPrec@1: 0.000 (0.000)\tPrec@5: 0.000 (0.000)\tlr 0.100000\n"
     ]
    },
    {
     "name": "stderr",
     "output_type": "stream",
     "text": [
      "\n",
      "Train epoch=0, iter=0:   0%|              | 4/261825 [00:03<78:25:15,  1.08s/it]"
     ]
    },
    {
     "name": "stdout",
     "output_type": "stream",
     "text": [
      "Train: [4/261825/60]\tepoch: 0\titer: 4\tTime: 0.601 (6.328)\tData: 0.296 (5.748)\tLoss: 77.1980 (46.9378)\tPrec@1: 0.000 (0.000)\tPrec@5: 0.000 (0.000)\tlr 0.100000\n"
     ]
    },
    {
     "name": "stderr",
     "output_type": "stream",
     "text": [
      "\n",
      "Train epoch=0, iter=0:   0%|              | 5/261825 [00:04<68:23:49,  1.06it/s]"
     ]
    },
    {
     "name": "stdout",
     "output_type": "stream",
     "text": [
      "Train: [5/261825/72]\tepoch: 0\titer: 5\tTime: 0.605 (5.374)\tData: 0.297 (4.839)\tLoss: 88.5632 (53.8754)\tPrec@1: 0.000 (0.000)\tPrec@5: 0.000 (0.000)\tlr 0.100000\n"
     ]
    },
    {
     "name": "stderr",
     "output_type": "stream",
     "text": [
      "\n",
      "Train epoch=0, iter=0:   0%|              | 6/261825 [00:05<61:04:07,  1.19it/s]"
     ]
    },
    {
     "name": "stdout",
     "output_type": "stream",
     "text": [
      "Train: [6/261825/84]\tepoch: 0\titer: 6\tTime: 0.610 (4.693)\tData: 0.297 (4.190)\tLoss: 94.4579 (59.6729)\tPrec@1: 0.000 (0.000)\tPrec@5: 0.000 (0.000)\tlr 0.100000\n"
     ]
    },
    {
     "name": "stderr",
     "output_type": "stream",
     "text": [
      "\n",
      "Train epoch=0, iter=0:   0%|              | 7/261825 [00:05<55:57:26,  1.30it/s]"
     ]
    },
    {
     "name": "stdout",
     "output_type": "stream",
     "text": [
      "Train: [7/261825/96]\tepoch: 0\titer: 7\tTime: 0.614 (4.184)\tData: 0.294 (3.703)\tLoss: 109.3899 (65.8875)\tPrec@1: 0.000 (0.000)\tPrec@5: 0.000 (0.000)\tlr 0.100000\n"
     ]
    },
    {
     "name": "stderr",
     "output_type": "stream",
     "text": [
      "\n",
      "Train epoch=0, iter=0:   0%|              | 8/261825 [00:06<52:39:47,  1.38it/s]"
     ]
    },
    {
     "name": "stdout",
     "output_type": "stream",
     "text": [
      "Train: [8/261825/108]\tepoch: 0\titer: 8\tTime: 0.616 (3.787)\tData: 0.298 (3.325)\tLoss: 114.7377 (71.3153)\tPrec@1: 0.000 (0.000)\tPrec@5: 0.000 (0.000)\tlr 0.100000\n"
     ]
    },
    {
     "name": "stderr",
     "output_type": "stream",
     "text": [
      "\n",
      "Train epoch=0, iter=0:   0%|              | 9/261825 [00:06<50:17:30,  1.45it/s]"
     ]
    },
    {
     "name": "stdout",
     "output_type": "stream",
     "text": [
      "Train: [9/261825/120]\tepoch: 0\titer: 9\tTime: 0.610 (3.470)\tData: 0.296 (3.022)\tLoss: 123.0246 (76.4862)\tPrec@1: 0.000 (0.000)\tPrec@5: 0.000 (0.000)\tlr 0.100000\n"
     ]
    },
    {
     "name": "stderr",
     "output_type": "stream",
     "text": [
      "\n",
      "Train epoch=0, iter=0:   0%|             | 10/261825 [00:07<48:28:43,  1.50it/s]"
     ]
    },
    {
     "name": "stdout",
     "output_type": "stream",
     "text": [
      "Train: [10/261825/132]\tepoch: 0\titer: 10\tTime: 0.603 (3.209)\tData: 0.294 (2.774)\tLoss: 131.1534 (81.4560)\tPrec@1: 0.000 (0.000)\tPrec@5: 0.000 (0.000)\tlr 0.100000\n"
     ]
    },
    {
     "name": "stderr",
     "output_type": "stream",
     "text": [
      "\n",
      "Train epoch=0, iter=0:   0%|             | 11/261825 [00:08<47:09:56,  1.54it/s]"
     ]
    },
    {
     "name": "stdout",
     "output_type": "stream",
     "text": [
      "Train: [11/261825/144]\tepoch: 0\titer: 11\tTime: 0.597 (2.991)\tData: 0.305 (2.568)\tLoss: 136.9720 (86.0823)\tPrec@1: 0.000 (0.000)\tPrec@5: 0.000 (0.000)\tlr 0.100000\n"
     ]
    },
    {
     "name": "stderr",
     "output_type": "stream",
     "text": [
      "\n",
      "Train epoch=0, iter=0:   0%|             | 12/261825 [00:08<46:22:23,  1.57it/s]"
     ]
    },
    {
     "name": "stdout",
     "output_type": "stream",
     "text": [
      "Train: [12/261825/156]\tepoch: 0\titer: 12\tTime: 0.622 (2.809)\tData: 0.314 (2.395)\tLoss: 153.8145 (91.2925)\tPrec@1: 0.000 (0.000)\tPrec@5: 0.000 (0.000)\tlr 0.100000\n"
     ]
    },
    {
     "name": "stderr",
     "output_type": "stream",
     "text": [
      "\n",
      "Train epoch=0, iter=0:   0%|             | 13/261825 [00:09<45:20:33,  1.60it/s]"
     ]
    },
    {
     "name": "stdout",
     "output_type": "stream",
     "text": [
      "Train: [13/261825/168]\tepoch: 0\titer: 13\tTime: 0.595 (2.651)\tData: 0.297 (2.245)\tLoss: 138.8755 (94.6913)\tPrec@1: 8.333 (0.595)\tPrec@5: 8.333 (0.595)\tlr 0.100000\n"
     ]
    },
    {
     "name": "stderr",
     "output_type": "stream",
     "text": [
      "\n",
      "Train epoch=0, iter=0:   0%|             | 14/261825 [00:09<45:19:21,  1.60it/s]"
     ]
    },
    {
     "name": "stdout",
     "output_type": "stream",
     "text": [
      "Train: [14/261825/180]\tepoch: 0\titer: 14\tTime: 0.623 (2.516)\tData: 0.310 (2.116)\tLoss: 164.8913 (99.3713)\tPrec@1: 0.000 (0.556)\tPrec@5: 0.000 (0.556)\tlr 0.100000\n"
     ]
    },
    {
     "name": "stderr",
     "output_type": "stream",
     "text": [
      "\n",
      "Train epoch=0, iter=0:   0%|             | 15/261825 [00:10<44:57:23,  1.62it/s]"
     ]
    },
    {
     "name": "stdout",
     "output_type": "stream",
     "text": [
      "Train: [15/261825/192]\tepoch: 0\titer: 15\tTime: 0.602 (2.396)\tData: 0.293 (2.002)\tLoss: 165.3917 (103.4975)\tPrec@1: 0.000 (0.521)\tPrec@5: 0.000 (0.521)\tlr 0.100000\n"
     ]
    },
    {
     "name": "stderr",
     "output_type": "stream",
     "text": [
      "\n",
      "Train epoch=0, iter=0:   0%|             | 16/261825 [00:11<44:43:19,  1.63it/s]"
     ]
    },
    {
     "name": "stdout",
     "output_type": "stream",
     "text": [
      "Train: [16/261825/204]\tepoch: 0\titer: 16\tTime: 0.591 (2.290)\tData: 0.298 (1.902)\tLoss: 163.6924 (107.0384)\tPrec@1: 8.333 (0.980)\tPrec@5: 8.333 (0.980)\tlr 0.100000\n"
     ]
    },
    {
     "name": "stderr",
     "output_type": "stream",
     "text": [
      "\n",
      "Train epoch=0, iter=0:   0%|             | 17/261825 [00:11<44:34:46,  1.63it/s]"
     ]
    },
    {
     "name": "stdout",
     "output_type": "stream",
     "text": [
      "Train: [17/261825/216]\tepoch: 0\titer: 17\tTime: 0.636 (2.198)\tData: 0.317 (1.814)\tLoss: 167.8540 (110.4171)\tPrec@1: 0.000 (0.926)\tPrec@5: 0.000 (0.926)\tlr 0.100000\n"
     ]
    },
    {
     "name": "stderr",
     "output_type": "stream",
     "text": [
      "\n",
      "Train epoch=0, iter=0:   0%|             | 18/261825 [00:12<45:03:02,  1.61it/s]"
     ]
    },
    {
     "name": "stdout",
     "output_type": "stream",
     "text": [
      "Train: [18/261825/228]\tepoch: 0\titer: 18\tTime: 0.637 (2.116)\tData: 0.318 (1.735)\tLoss: 180.1251 (114.0859)\tPrec@1: 0.000 (0.877)\tPrec@5: 0.000 (0.877)\tlr 0.100000\n"
     ]
    },
    {
     "name": "stderr",
     "output_type": "stream",
     "text": [
      "\n",
      "Train epoch=0, iter=0:   0%|             | 19/261825 [00:13<45:29:10,  1.60it/s]"
     ]
    },
    {
     "name": "stdout",
     "output_type": "stream",
     "text": [
      "Train: [19/261825/240]\tepoch: 0\titer: 19\tTime: 0.659 (2.043)\tData: 0.318 (1.664)\tLoss: 191.4757 (117.9554)\tPrec@1: 0.000 (0.833)\tPrec@5: 0.000 (0.833)\tlr 0.100000\n"
     ]
    },
    {
     "name": "stderr",
     "output_type": "stream",
     "text": [
      "\n",
      "Train epoch=0, iter=0:   0%|             | 20/261825 [00:13<46:12:21,  1.57it/s]"
     ]
    },
    {
     "name": "stdout",
     "output_type": "stream",
     "text": [
      "Train: [20/261825/252]\tepoch: 0\titer: 20\tTime: 0.626 (1.976)\tData: 0.317 (1.600)\tLoss: 176.5130 (120.7439)\tPrec@1: 0.000 (0.794)\tPrec@5: 0.000 (0.794)\tlr 0.100000\n"
     ]
    },
    {
     "name": "stderr",
     "output_type": "stream",
     "text": [
      "\n",
      "Train epoch=0, iter=0:   0%|             | 21/261825 [00:14<45:57:56,  1.58it/s]"
     ]
    },
    {
     "name": "stdout",
     "output_type": "stream",
     "text": [
      "Train: [21/261825/264]\tepoch: 0\titer: 21\tTime: 0.635 (1.915)\tData: 0.319 (1.542)\tLoss: 179.7894 (123.4277)\tPrec@1: 8.333 (1.136)\tPrec@5: 8.333 (1.136)\tlr 0.100000\n"
     ]
    },
    {
     "name": "stderr",
     "output_type": "stream",
     "text": [
      "\n",
      "Train epoch=0, iter=0:   0%|             | 22/261825 [00:14<46:06:36,  1.58it/s]"
     ]
    },
    {
     "name": "stdout",
     "output_type": "stream",
     "text": [
      "Train: [22/261825/276]\tepoch: 0\titer: 22\tTime: 0.662 (1.860)\tData: 0.329 (1.489)\tLoss: 207.3957 (127.0785)\tPrec@1: 0.000 (1.087)\tPrec@5: 0.000 (1.087)\tlr 0.100000\n"
     ]
    },
    {
     "name": "stderr",
     "output_type": "stream",
     "text": [
      "\n",
      "Train epoch=0, iter=0:   0%|             | 23/261825 [00:15<46:39:18,  1.56it/s]"
     ]
    },
    {
     "name": "stdout",
     "output_type": "stream",
     "text": [
      "Train: [23/261825/288]\tepoch: 0\titer: 23\tTime: 0.652 (1.810)\tData: 0.330 (1.441)\tLoss: 202.6353 (130.2267)\tPrec@1: 0.000 (1.042)\tPrec@5: 0.000 (1.042)\tlr 0.100000\n"
     ]
    },
    {
     "name": "stderr",
     "output_type": "stream",
     "text": [
      "\n",
      "Train epoch=0, iter=0:   0%|             | 24/261825 [00:16<46:53:26,  1.55it/s]"
     ]
    },
    {
     "name": "stdout",
     "output_type": "stream",
     "text": [
      "Train: [24/261825/300]\tepoch: 0\titer: 24\tTime: 0.636 (1.763)\tData: 0.319 (1.396)\tLoss: 203.2790 (133.1488)\tPrec@1: 0.000 (1.000)\tPrec@5: 0.000 (1.000)\tlr 0.100000\n"
     ]
    },
    {
     "name": "stderr",
     "output_type": "stream",
     "text": [
      "\n",
      "Train epoch=0, iter=0:   0%|             | 25/261825 [00:16<47:03:20,  1.55it/s]"
     ]
    },
    {
     "name": "stdout",
     "output_type": "stream",
     "text": [
      "Train: [25/261825/312]\tepoch: 0\titer: 25\tTime: 0.675 (1.721)\tData: 0.330 (1.355)\tLoss: 208.5476 (136.0488)\tPrec@1: 0.000 (0.962)\tPrec@5: 0.000 (0.962)\tlr 0.100000\n"
     ]
    },
    {
     "name": "stderr",
     "output_type": "stream",
     "text": [
      "\n",
      "Train epoch=0, iter=0:   0%|             | 26/261825 [00:17<47:20:52,  1.54it/s]"
     ]
    },
    {
     "name": "stdout",
     "output_type": "stream",
     "text": [
      "Train: [26/261825/324]\tepoch: 0\titer: 26\tTime: 0.645 (1.681)\tData: 0.317 (1.317)\tLoss: 213.1518 (138.9044)\tPrec@1: 0.000 (0.926)\tPrec@5: 0.000 (0.926)\tlr 0.100000\n"
     ]
    },
    {
     "name": "stderr",
     "output_type": "stream",
     "text": [
      "\n",
      "Train epoch=0, iter=0:   0%|             | 27/261825 [00:18<47:13:30,  1.54it/s]"
     ]
    },
    {
     "name": "stdout",
     "output_type": "stream",
     "text": [
      "Train: [27/261825/336]\tepoch: 0\titer: 27\tTime: 0.632 (1.644)\tData: 0.317 (1.281)\tLoss: 205.1231 (141.2694)\tPrec@1: 0.000 (0.893)\tPrec@5: 8.333 (1.190)\tlr 0.100000\n"
     ]
    },
    {
     "name": "stderr",
     "output_type": "stream",
     "text": [
      "\n",
      "Train epoch=0, iter=0:   0%|             | 28/261825 [00:18<46:52:37,  1.55it/s]"
     ]
    },
    {
     "name": "stdout",
     "output_type": "stream",
     "text": [
      "Train: [28/261825/348]\tepoch: 0\titer: 28\tTime: 0.676 (1.610)\tData: 0.318 (1.248)\tLoss: 224.3187 (144.1331)\tPrec@1: 0.000 (0.862)\tPrec@5: 0.000 (1.149)\tlr 0.100000\n"
     ]
    },
    {
     "name": "stderr",
     "output_type": "stream",
     "text": [
      "\n",
      "Train epoch=0, iter=0:   0%|             | 29/261825 [00:19<47:31:42,  1.53it/s]"
     ]
    },
    {
     "name": "stdout",
     "output_type": "stream",
     "text": [
      "Train: [29/261825/360]\tepoch: 0\titer: 29\tTime: 0.645 (1.578)\tData: 0.316 (1.217)\tLoss: 217.2440 (146.5702)\tPrec@1: 0.000 (0.833)\tPrec@5: 0.000 (1.111)\tlr 0.100000\n"
     ]
    },
    {
     "name": "stderr",
     "output_type": "stream",
     "text": [
      "\n",
      "Train epoch=0, iter=0:   0%|             | 30/261825 [00:20<47:19:11,  1.54it/s]"
     ]
    },
    {
     "name": "stdout",
     "output_type": "stream",
     "text": [
      "Train: [30/261825/372]\tepoch: 0\titer: 30\tTime: 0.659 (1.549)\tData: 0.312 (1.187)\tLoss: 223.0726 (149.0380)\tPrec@1: 0.000 (0.806)\tPrec@5: 0.000 (1.075)\tlr 0.100000\n"
     ]
    },
    {
     "name": "stderr",
     "output_type": "stream",
     "text": [
      "\n",
      "Train epoch=0, iter=0:   0%|             | 31/261825 [00:20<47:48:05,  1.52it/s]"
     ]
    },
    {
     "name": "stdout",
     "output_type": "stream",
     "text": [
      "Train: [31/261825/384]\tepoch: 0\titer: 31\tTime: 0.642 (1.520)\tData: 0.328 (1.161)\tLoss: 217.3367 (151.1723)\tPrec@1: 8.333 (1.042)\tPrec@5: 8.333 (1.302)\tlr 0.100000\n"
     ]
    },
    {
     "name": "stderr",
     "output_type": "stream",
     "text": [
      "\n",
      "Train epoch=0, iter=0:   0%|             | 32/261825 [00:21<46:46:41,  1.55it/s]"
     ]
    },
    {
     "name": "stdout",
     "output_type": "stream",
     "text": [
      "Train: [32/261825/396]\tepoch: 0\titer: 32\tTime: 0.644 (1.494)\tData: 0.297 (1.134)\tLoss: 226.7200 (153.4617)\tPrec@1: 0.000 (1.010)\tPrec@5: 0.000 (1.263)\tlr 0.100000\n"
     ]
    },
    {
     "name": "stderr",
     "output_type": "stream",
     "text": [
      "\n",
      "Train epoch=0, iter=0:   0%|             | 33/261825 [00:22<47:17:04,  1.54it/s]"
     ]
    },
    {
     "name": "stdout",
     "output_type": "stream",
     "text": [
      "Train: [33/261825/408]\tepoch: 0\titer: 33\tTime: 0.704 (1.471)\tData: 0.320 (1.110)\tLoss: 259.8392 (156.5904)\tPrec@1: 0.000 (0.980)\tPrec@5: 0.000 (1.225)\tlr 0.100000\n"
     ]
    },
    {
     "name": "stderr",
     "output_type": "stream",
     "text": [
      "\n",
      "Train epoch=0, iter=0:   0%|             | 34/261825 [00:22<48:25:28,  1.50it/s]"
     ]
    },
    {
     "name": "stdout",
     "output_type": "stream",
     "text": [
      "Train: [34/261825/420]\tepoch: 0\titer: 34\tTime: 0.643 (1.447)\tData: 0.317 (1.088)\tLoss: 237.7331 (158.9088)\tPrec@1: 0.000 (0.952)\tPrec@5: 0.000 (1.190)\tlr 0.100000\n"
     ]
    },
    {
     "name": "stderr",
     "output_type": "stream",
     "text": [
      "\n",
      "Train epoch=0, iter=0:   0%|             | 35/261825 [00:23<47:54:46,  1.52it/s]"
     ]
    },
    {
     "name": "stdout",
     "output_type": "stream",
     "text": [
      "Train: [35/261825/432]\tepoch: 0\titer: 35\tTime: 0.628 (1.424)\tData: 0.314 (1.066)\tLoss: 223.2904 (160.6972)\tPrec@1: 8.333 (1.157)\tPrec@5: 8.333 (1.389)\tlr 0.100000\n"
     ]
    },
    {
     "name": "stderr",
     "output_type": "stream",
     "text": [
      "\n",
      "Train epoch=0, iter=0:   0%|             | 36/261825 [00:24<46:50:59,  1.55it/s]"
     ]
    },
    {
     "name": "stdout",
     "output_type": "stream",
     "text": [
      "Train: [36/261825/444]\tepoch: 0\titer: 36\tTime: 0.673 (1.404)\tData: 0.297 (1.046)\tLoss: 204.7992 (161.8891)\tPrec@1: 0.000 (1.126)\tPrec@5: 8.333 (1.577)\tlr 0.100000\n"
     ]
    },
    {
     "name": "stderr",
     "output_type": "stream",
     "text": [
      "\n",
      "Train epoch=0, iter=0:   0%|             | 37/261825 [00:24<47:54:06,  1.52it/s]"
     ]
    },
    {
     "name": "stdout",
     "output_type": "stream",
     "text": [
      "Train: [37/261825/456]\tepoch: 0\titer: 37\tTime: 0.654 (1.384)\tData: 0.316 (1.026)\tLoss: 241.0947 (163.9735)\tPrec@1: 0.000 (1.096)\tPrec@5: 0.000 (1.535)\tlr 0.100000\n"
     ]
    },
    {
     "name": "stderr",
     "output_type": "stream",
     "text": [
      "\n",
      "Train epoch=0, iter=0:   0%|             | 38/261825 [00:25<47:45:21,  1.52it/s]"
     ]
    },
    {
     "name": "stdout",
     "output_type": "stream",
     "text": [
      "Train: [38/261825/468]\tepoch: 0\titer: 38\tTime: 0.644 (1.365)\tData: 0.327 (1.008)\tLoss: 264.6859 (166.5558)\tPrec@1: 0.000 (1.068)\tPrec@5: 0.000 (1.496)\tlr 0.100000\n"
     ]
    },
    {
     "name": "stderr",
     "output_type": "stream",
     "text": [
      "\n",
      "Train epoch=0, iter=0:   0%|             | 39/261825 [00:26<47:41:58,  1.52it/s]"
     ]
    },
    {
     "name": "stdout",
     "output_type": "stream",
     "text": [
      "Train: [39/261825/480]\tepoch: 0\titer: 39\tTime: 0.705 (1.349)\tData: 0.325 (0.991)\tLoss: 249.2928 (168.6243)\tPrec@1: 0.000 (1.042)\tPrec@5: 0.000 (1.458)\tlr 0.100000\n"
     ]
    },
    {
     "name": "stderr",
     "output_type": "stream",
     "text": [
      "\n",
      "Train epoch=0, iter=0:   0%|             | 40/261825 [00:26<48:36:20,  1.50it/s]"
     ]
    },
    {
     "name": "stdout",
     "output_type": "stream",
     "text": [
      "Train: [40/261825/492]\tepoch: 0\titer: 40\tTime: 0.646 (1.332)\tData: 0.318 (0.975)\tLoss: 247.8974 (170.5577)\tPrec@1: 0.000 (1.016)\tPrec@5: 0.000 (1.423)\tlr 0.100000\n"
     ]
    },
    {
     "name": "stderr",
     "output_type": "stream",
     "text": [
      "\n",
      "Train epoch=0, iter=0:   0%|             | 41/261825 [00:27<48:15:27,  1.51it/s]"
     ]
    },
    {
     "name": "stdout",
     "output_type": "stream",
     "text": [
      "Train: [41/261825/504]\tepoch: 0\titer: 41\tTime: 0.640 (1.315)\tData: 0.323 (0.959)\tLoss: 257.2275 (172.6213)\tPrec@1: 0.000 (0.992)\tPrec@5: 0.000 (1.389)\tlr 0.100000\n"
     ]
    },
    {
     "name": "stderr",
     "output_type": "stream",
     "text": [
      "\n",
      "Train epoch=0, iter=0:   0%|             | 42/261825 [00:28<47:18:55,  1.54it/s]"
     ]
    },
    {
     "name": "stdout",
     "output_type": "stream",
     "text": [
      "Train: [42/261825/516]\tepoch: 0\titer: 42\tTime: 0.663 (1.300)\tData: 0.304 (0.944)\tLoss: 268.5063 (174.8512)\tPrec@1: 0.000 (0.969)\tPrec@5: 0.000 (1.357)\tlr 0.100000\n"
     ]
    },
    {
     "name": "stderr",
     "output_type": "stream",
     "text": [
      "\n",
      "Train epoch=0, iter=0:   0%|             | 43/261825 [00:28<47:55:18,  1.52it/s]"
     ]
    },
    {
     "name": "stdout",
     "output_type": "stream",
     "text": [
      "Train: [43/261825/528]\tepoch: 0\titer: 43\tTime: 0.676 (1.286)\tData: 0.318 (0.930)\tLoss: 237.2922 (176.2703)\tPrec@1: 0.000 (0.947)\tPrec@5: 8.333 (1.515)\tlr 0.100000\n"
     ]
    },
    {
     "name": "stderr",
     "output_type": "stream",
     "text": [
      "\n",
      "Train epoch=0, iter=0:   0%|             | 44/261825 [00:29<48:13:14,  1.51it/s]"
     ]
    },
    {
     "name": "stdout",
     "output_type": "stream",
     "text": [
      "Train: [44/261825/540]\tepoch: 0\titer: 44\tTime: 0.670 (1.272)\tData: 0.313 (0.916)\tLoss: 250.0973 (177.9109)\tPrec@1: 0.000 (0.926)\tPrec@5: 0.000 (1.481)\tlr 0.100000\n"
     ]
    },
    {
     "name": "stderr",
     "output_type": "stream",
     "text": [
      "\n",
      "Train epoch=0, iter=0:   0%|            | 45/261825 [00:33<112:50:57,  1.55s/it]"
     ]
    },
    {
     "name": "stdout",
     "output_type": "stream",
     "text": [
      "Train: [45/261825/552]\tepoch: 0\titer: 45\tTime: 3.592 (1.322)\tData: 3.270 (0.967)\tLoss: 258.6923 (179.6670)\tPrec@1: 0.000 (0.906)\tPrec@5: 8.333 (1.630)\tlr 0.100000\n"
     ]
    },
    {
     "name": "stderr",
     "output_type": "stream",
     "text": [
      "\n",
      "Train epoch=0, iter=0:   0%|             | 46/261825 [00:33<92:59:15,  1.28s/it]"
     ]
    },
    {
     "name": "stdout",
     "output_type": "stream",
     "text": [
      "Train: [46/261825/564]\tepoch: 0\titer: 46\tTime: 0.637 (1.308)\tData: 0.320 (0.954)\tLoss: 255.9285 (181.2896)\tPrec@1: 0.000 (0.887)\tPrec@5: 0.000 (1.596)\tlr 0.100000\n"
     ]
    },
    {
     "name": "stderr",
     "output_type": "stream",
     "text": [
      "\n",
      "Train epoch=0, iter=0:   0%|             | 47/261825 [00:34<78:15:35,  1.08s/it]"
     ]
    },
    {
     "name": "stdout",
     "output_type": "stream",
     "text": [
      "Train: [47/261825/576]\tepoch: 0\titer: 47\tTime: 0.629 (1.294)\tData: 0.285 (0.940)\tLoss: 287.4862 (183.5020)\tPrec@1: 0.000 (0.868)\tPrec@5: 0.000 (1.562)\tlr 0.100000\n"
     ]
    },
    {
     "name": "stderr",
     "output_type": "stream",
     "text": [
      "\n",
      "Train epoch=0, iter=0:   0%|             | 48/261825 [00:34<69:05:52,  1.05it/s]"
     ]
    },
    {
     "name": "stdout",
     "output_type": "stream",
     "text": [
      "Train: [48/261825/588]\tepoch: 0\titer: 48\tTime: 0.672 (1.281)\tData: 0.312 (0.927)\tLoss: 279.3401 (185.4579)\tPrec@1: 0.000 (0.850)\tPrec@5: 0.000 (1.531)\tlr 0.100000\n"
     ]
    },
    {
     "name": "stderr",
     "output_type": "stream",
     "text": [
      "\n",
      "Train epoch=0, iter=0:   0%|             | 49/261825 [00:35<63:01:31,  1.15it/s]"
     ]
    },
    {
     "name": "stdout",
     "output_type": "stream",
     "text": [
      "Train: [49/261825/600]\tepoch: 0\titer: 49\tTime: 0.650 (1.268)\tData: 0.328 (0.915)\tLoss: 240.9485 (186.5677)\tPrec@1: 0.000 (0.833)\tPrec@5: 0.000 (1.500)\tlr 0.100000\n"
     ]
    },
    {
     "name": "stderr",
     "output_type": "stream",
     "text": [
      "\n",
      "Train epoch=0, iter=0:   0%|             | 50/261825 [00:36<58:19:57,  1.25it/s]"
     ]
    },
    {
     "name": "stdout",
     "output_type": "stream",
     "text": [
      "Train: [50/261825/612]\tepoch: 0\titer: 50\tTime: 0.677 (1.257)\tData: 0.317 (0.903)\tLoss: 283.8470 (188.4752)\tPrec@1: 0.000 (0.817)\tPrec@5: 0.000 (1.471)\tlr 0.100000\n"
     ]
    },
    {
     "name": "stderr",
     "output_type": "stream",
     "text": [
      "\n",
      "Train epoch=0, iter=0:   0%|             | 51/261825 [00:36<55:29:39,  1.31it/s]"
     ]
    },
    {
     "name": "stdout",
     "output_type": "stream",
     "text": [
      "Train: [51/261825/624]\tepoch: 0\titer: 51\tTime: 0.637 (1.245)\tData: 0.309 (0.892)\tLoss: 264.0039 (189.9276)\tPrec@1: 0.000 (0.801)\tPrec@5: 0.000 (1.442)\tlr 0.100000\n"
     ]
    },
    {
     "name": "stderr",
     "output_type": "stream",
     "text": [
      "\n",
      "Train epoch=0, iter=0:   0%|             | 52/261825 [00:37<52:49:15,  1.38it/s]"
     ]
    },
    {
     "name": "stdout",
     "output_type": "stream",
     "text": [
      "Train: [52/261825/636]\tepoch: 0\titer: 52\tTime: 0.665 (1.234)\tData: 0.312 (0.881)\tLoss: 272.9196 (191.4935)\tPrec@1: 0.000 (0.786)\tPrec@5: 0.000 (1.415)\tlr 0.100000\n"
     ]
    },
    {
     "name": "stderr",
     "output_type": "stream",
     "text": [
      "\n",
      "Train epoch=0, iter=0:   0%|             | 53/261825 [00:38<51:32:29,  1.41it/s]"
     ]
    },
    {
     "name": "stdout",
     "output_type": "stream",
     "text": [
      "Train: [53/261825/648]\tepoch: 0\titer: 53\tTime: 0.654 (1.223)\tData: 0.318 (0.870)\tLoss: 266.7755 (192.8876)\tPrec@1: 0.000 (0.772)\tPrec@5: 0.000 (1.389)\tlr 0.100000\n"
     ]
    },
    {
     "name": "stderr",
     "output_type": "stream",
     "text": [
      "\n",
      "Train epoch=0, iter=0:   0%|             | 54/261825 [00:38<50:23:11,  1.44it/s]"
     ]
    },
    {
     "name": "stdout",
     "output_type": "stream",
     "text": [
      "Train: [54/261825/660]\tepoch: 0\titer: 54\tTime: 0.634 (1.213)\tData: 0.320 (0.860)\tLoss: 226.3013 (193.4951)\tPrec@1: 16.667 (1.061)\tPrec@5: 16.667 (1.667)\tlr 0.100000\n"
     ]
    },
    {
     "name": "stderr",
     "output_type": "stream",
     "text": [
      "\n",
      "Train epoch=0, iter=0:   0%|             | 55/261825 [00:39<49:02:41,  1.48it/s]"
     ]
    },
    {
     "name": "stdout",
     "output_type": "stream",
     "text": [
      "Train: [55/261825/672]\tepoch: 0\titer: 55\tTime: 0.635 (1.202)\tData: 0.317 (0.851)\tLoss: 282.3380 (195.0816)\tPrec@1: 0.000 (1.042)\tPrec@5: 0.000 (1.637)\tlr 0.100000\n"
     ]
    },
    {
     "name": "stderr",
     "output_type": "stream",
     "text": [
      "\n",
      "Train epoch=0, iter=0:   0%|             | 56/261825 [00:40<48:09:16,  1.51it/s]"
     ]
    },
    {
     "name": "stdout",
     "output_type": "stream",
     "text": [
      "Train: [56/261825/684]\tepoch: 0\titer: 56\tTime: 0.672 (1.193)\tData: 0.313 (0.841)\tLoss: 251.7602 (196.0760)\tPrec@1: 0.000 (1.023)\tPrec@5: 0.000 (1.608)\tlr 0.100000\n"
     ]
    },
    {
     "name": "stderr",
     "output_type": "stream",
     "text": [
      "\n",
      "Train epoch=0, iter=0:   0%|             | 57/261825 [00:40<48:30:48,  1.50it/s]"
     ]
    },
    {
     "name": "stdout",
     "output_type": "stream",
     "text": [
      "Train: [57/261825/696]\tepoch: 0\titer: 57\tTime: 0.651 (1.184)\tData: 0.322 (0.832)\tLoss: 283.0419 (197.5754)\tPrec@1: 0.000 (1.006)\tPrec@5: 0.000 (1.580)\tlr 0.100000\n"
     ]
    },
    {
     "name": "stderr",
     "output_type": "stream",
     "text": [
      "\n",
      "Train epoch=0, iter=0:   0%|             | 58/261825 [00:41<48:02:21,  1.51it/s]"
     ]
    },
    {
     "name": "stdout",
     "output_type": "stream",
     "text": [
      "Train: [58/261825/708]\tepoch: 0\titer: 58\tTime: 0.683 (1.175)\tData: 0.317 (0.824)\tLoss: 288.6650 (199.1193)\tPrec@1: 0.000 (0.989)\tPrec@5: 0.000 (1.554)\tlr 0.100000\n"
     ]
    },
    {
     "name": "stderr",
     "output_type": "stream",
     "text": [
      "\n",
      "Train epoch=0, iter=0:   0%|             | 59/261825 [00:42<48:32:12,  1.50it/s]"
     ]
    },
    {
     "name": "stdout",
     "output_type": "stream",
     "text": [
      "Train: [59/261825/720]\tepoch: 0\titer: 59\tTime: 0.665 (1.167)\tData: 0.317 (0.815)\tLoss: 253.8506 (200.0315)\tPrec@1: 0.000 (0.972)\tPrec@5: 0.000 (1.528)\tlr 0.100000\n"
     ]
    },
    {
     "name": "stderr",
     "output_type": "stream",
     "text": [
      "\n",
      "Train epoch=0, iter=0:   0%|             | 60/261825 [00:42<48:30:50,  1.50it/s]"
     ]
    },
    {
     "name": "stdout",
     "output_type": "stream",
     "text": [
      "Train: [60/261825/732]\tepoch: 0\titer: 60\tTime: 0.674 (1.159)\tData: 0.318 (0.807)\tLoss: 262.9190 (201.0624)\tPrec@1: 8.333 (1.093)\tPrec@5: 8.333 (1.639)\tlr 0.100000\n"
     ]
    },
    {
     "name": "stderr",
     "output_type": "stream",
     "text": [
      "\n",
      "Train epoch=0, iter=0:   0%|             | 61/261825 [00:43<48:42:58,  1.49it/s]"
     ]
    },
    {
     "name": "stdout",
     "output_type": "stream",
     "text": [
      "Train: [61/261825/744]\tepoch: 0\titer: 61\tTime: 0.660 (1.150)\tData: 0.319 (0.799)\tLoss: 242.3068 (201.7277)\tPrec@1: 0.000 (1.075)\tPrec@5: 16.667 (1.882)\tlr 0.100000\n"
     ]
    },
    {
     "name": "stderr",
     "output_type": "stream",
     "text": [
      "\n",
      "Train epoch=0, iter=0:   0%|             | 62/261825 [00:44<48:24:03,  1.50it/s]"
     ]
    },
    {
     "name": "stdout",
     "output_type": "stream",
     "text": [
      "Train: [62/261825/756]\tepoch: 0\titer: 62\tTime: 0.656 (1.143)\tData: 0.312 (0.791)\tLoss: 284.7776 (203.0459)\tPrec@1: 0.000 (1.058)\tPrec@5: 0.000 (1.852)\tlr 0.100000\n"
     ]
    },
    {
     "name": "stderr",
     "output_type": "stream",
     "text": [
      "\n",
      "Train epoch=0, iter=0:   0%|             | 63/261825 [00:44<48:32:05,  1.50it/s]"
     ]
    },
    {
     "name": "stdout",
     "output_type": "stream",
     "text": [
      "Train: [63/261825/768]\tepoch: 0\titer: 63\tTime: 0.679 (1.135)\tData: 0.328 (0.784)\tLoss: 284.5281 (204.3191)\tPrec@1: 0.000 (1.042)\tPrec@5: 0.000 (1.823)\tlr 0.100000\n"
     ]
    },
    {
     "name": "stderr",
     "output_type": "stream",
     "text": [
      "\n",
      "Train epoch=0, iter=0:   0%|             | 64/261825 [00:45<48:27:19,  1.50it/s]"
     ]
    },
    {
     "name": "stdout",
     "output_type": "stream",
     "text": [
      "Train: [64/261825/780]\tepoch: 0\titer: 64\tTime: 0.657 (1.128)\tData: 0.328 (0.777)\tLoss: 327.7127 (206.2175)\tPrec@1: 0.000 (1.026)\tPrec@5: 0.000 (1.795)\tlr 0.100000\n"
     ]
    },
    {
     "name": "stderr",
     "output_type": "stream",
     "text": [
      "\n",
      "Train epoch=0, iter=0:   0%|             | 65/261825 [00:46<48:18:23,  1.51it/s]"
     ]
    },
    {
     "name": "stdout",
     "output_type": "stream",
     "text": [
      "Train: [65/261825/792]\tepoch: 0\titer: 65\tTime: 0.677 (1.121)\tData: 0.317 (0.770)\tLoss: 282.6139 (207.3750)\tPrec@1: 0.000 (1.010)\tPrec@5: 0.000 (1.768)\tlr 0.100000\n"
     ]
    },
    {
     "name": "stderr",
     "output_type": "stream",
     "text": [
      "\n",
      "Train epoch=0, iter=0:   0%|             | 66/261825 [00:46<48:32:49,  1.50it/s]"
     ]
    },
    {
     "name": "stdout",
     "output_type": "stream",
     "text": [
      "Train: [66/261825/804]\tepoch: 0\titer: 66\tTime: 0.641 (1.114)\tData: 0.313 (0.763)\tLoss: 289.5623 (208.6016)\tPrec@1: 0.000 (0.995)\tPrec@5: 0.000 (1.741)\tlr 0.100000\n"
     ]
    },
    {
     "name": "stderr",
     "output_type": "stream",
     "text": [
      "\n",
      "Train epoch=0, iter=0:   0%|             | 67/261825 [00:47<47:50:33,  1.52it/s]"
     ]
    },
    {
     "name": "stdout",
     "output_type": "stream",
     "text": [
      "Train: [67/261825/816]\tepoch: 0\titer: 67\tTime: 0.706 (1.108)\tData: 0.307 (0.757)\tLoss: 253.6813 (209.2646)\tPrec@1: 8.333 (1.103)\tPrec@5: 8.333 (1.838)\tlr 0.100000\n"
     ]
    },
    {
     "name": "stderr",
     "output_type": "stream",
     "text": [
      "\n",
      "Train epoch=0, iter=0:   0%|             | 68/261825 [00:48<49:01:00,  1.48it/s]"
     ]
    },
    {
     "name": "stdout",
     "output_type": "stream",
     "text": [
      "Train: [68/261825/828]\tepoch: 0\titer: 68\tTime: 0.633 (1.101)\tData: 0.315 (0.750)\tLoss: 280.6026 (210.2985)\tPrec@1: 8.333 (1.208)\tPrec@5: 8.333 (1.932)\tlr 0.100000\n"
     ]
    },
    {
     "name": "stderr",
     "output_type": "stream",
     "text": [
      "\n",
      "Train epoch=0, iter=0:   0%|             | 69/261825 [00:48<47:44:10,  1.52it/s]"
     ]
    },
    {
     "name": "stdout",
     "output_type": "stream",
     "text": [
      "Train: [69/261825/840]\tepoch: 0\titer: 69\tTime: 0.612 (1.094)\tData: 0.296 (0.744)\tLoss: 274.6399 (211.2176)\tPrec@1: 8.333 (1.310)\tPrec@5: 8.333 (2.024)\tlr 0.100000\n"
     ]
    },
    {
     "name": "stderr",
     "output_type": "stream",
     "text": [
      "\n",
      "Train epoch=0, iter=0:   0%|             | 70/261825 [00:49<46:45:08,  1.56it/s]"
     ]
    },
    {
     "name": "stdout",
     "output_type": "stream",
     "text": [
      "Train: [70/261825/852]\tepoch: 0\titer: 70\tTime: 0.625 (1.088)\tData: 0.296 (0.737)\tLoss: 287.9336 (212.2981)\tPrec@1: 0.000 (1.291)\tPrec@5: 0.000 (1.995)\tlr 0.100000\n"
     ]
    },
    {
     "name": "stderr",
     "output_type": "stream",
     "text": [
      "\n",
      "Train epoch=0, iter=0:   0%|             | 71/261825 [00:50<46:41:53,  1.56it/s]"
     ]
    },
    {
     "name": "stdout",
     "output_type": "stream",
     "text": [
      "Train: [71/261825/864]\tepoch: 0\titer: 71\tTime: 0.622 (1.081)\tData: 0.309 (0.732)\tLoss: 278.7041 (213.2204)\tPrec@1: 0.000 (1.273)\tPrec@5: 0.000 (1.968)\tlr 0.100000\n"
     ]
    },
    {
     "name": "stderr",
     "output_type": "stream",
     "text": [
      "\n",
      "Train epoch=0, iter=0:   0%|             | 72/261825 [00:50<46:19:18,  1.57it/s]"
     ]
    },
    {
     "name": "stdout",
     "output_type": "stream",
     "text": [
      "Train: [72/261825/876]\tepoch: 0\titer: 72\tTime: 0.700 (1.076)\tData: 0.313 (0.726)\tLoss: 269.8782 (213.9966)\tPrec@1: 8.333 (1.370)\tPrec@5: 8.333 (2.055)\tlr 0.100000\n"
     ]
    },
    {
     "name": "stderr",
     "output_type": "stream",
     "text": [
      "\n",
      "Train epoch=0, iter=0:   0%|             | 73/261825 [00:51<47:51:34,  1.52it/s]"
     ]
    },
    {
     "name": "stdout",
     "output_type": "stream",
     "text": [
      "Train: [73/261825/888]\tepoch: 0\titer: 73\tTime: 0.700 (1.071)\tData: 0.322 (0.720)\tLoss: 287.4065 (214.9886)\tPrec@1: 0.000 (1.351)\tPrec@5: 0.000 (2.027)\tlr 0.100000\n"
     ]
    },
    {
     "name": "stderr",
     "output_type": "stream",
     "text": [
      "\n",
      "Train epoch=0, iter=0:   0%|             | 74/261825 [00:52<48:39:42,  1.49it/s]"
     ]
    },
    {
     "name": "stdout",
     "output_type": "stream",
     "text": [
      "Train: [74/261825/900]\tepoch: 0\titer: 74\tTime: 0.637 (1.065)\tData: 0.318 (0.715)\tLoss: 265.5013 (215.6621)\tPrec@1: 0.000 (1.333)\tPrec@5: 0.000 (2.000)\tlr 0.100000\n"
     ]
    },
    {
     "name": "stderr",
     "output_type": "stream",
     "text": [
      "\n",
      "Train epoch=0, iter=0:   0%|             | 75/261825 [00:52<47:56:48,  1.52it/s]"
     ]
    },
    {
     "name": "stdout",
     "output_type": "stream",
     "text": [
      "Train: [75/261825/912]\tepoch: 0\titer: 75\tTime: 0.629 (1.059)\tData: 0.316 (0.710)\tLoss: 276.6068 (216.4640)\tPrec@1: 0.000 (1.316)\tPrec@5: 0.000 (1.974)\tlr 0.100000\n"
     ]
    },
    {
     "name": "stderr",
     "output_type": "stream",
     "text": [
      "\n",
      "Train epoch=0, iter=0:   0%|             | 76/261825 [00:53<46:51:02,  1.55it/s]"
     ]
    },
    {
     "name": "stdout",
     "output_type": "stream",
     "text": [
      "Train: [76/261825/924]\tepoch: 0\titer: 76\tTime: 0.625 (1.054)\tData: 0.297 (0.704)\tLoss: 282.4831 (217.3214)\tPrec@1: 0.000 (1.299)\tPrec@5: 0.000 (1.948)\tlr 0.100000\n"
     ]
    },
    {
     "name": "stderr",
     "output_type": "stream",
     "text": [
      "\n",
      "Train epoch=0, iter=0:   0%|             | 77/261825 [00:53<46:48:57,  1.55it/s]"
     ]
    },
    {
     "name": "stdout",
     "output_type": "stream",
     "text": [
      "Train: [77/261825/936]\tepoch: 0\titer: 77\tTime: 0.628 (1.048)\tData: 0.314 (0.699)\tLoss: 293.5675 (218.2989)\tPrec@1: 0.000 (1.282)\tPrec@5: 0.000 (1.923)\tlr 0.100000\n"
     ]
    },
    {
     "name": "stderr",
     "output_type": "stream",
     "text": [
      "\n",
      "Train epoch=0, iter=0:   0%|             | 78/261825 [00:54<46:05:48,  1.58it/s]"
     ]
    },
    {
     "name": "stdout",
     "output_type": "stream",
     "text": [
      "Train: [78/261825/948]\tepoch: 0\titer: 78\tTime: 0.648 (1.043)\tData: 0.298 (0.694)\tLoss: 271.7494 (218.9755)\tPrec@1: 0.000 (1.266)\tPrec@5: 0.000 (1.899)\tlr 0.100000\n"
     ]
    },
    {
     "name": "stderr",
     "output_type": "stream",
     "text": [
      "\n",
      "Train epoch=0, iter=0:   0%|             | 79/261825 [00:55<46:47:47,  1.55it/s]"
     ]
    },
    {
     "name": "stdout",
     "output_type": "stream",
     "text": [
      "Train: [79/261825/960]\tepoch: 0\titer: 79\tTime: 0.674 (1.039)\tData: 0.316 (0.690)\tLoss: 295.0403 (219.9263)\tPrec@1: 0.000 (1.250)\tPrec@5: 0.000 (1.875)\tlr 0.100000\n"
     ]
    },
    {
     "name": "stderr",
     "output_type": "stream",
     "text": [
      "\n",
      "Train epoch=0, iter=0:   0%|             | 80/261825 [00:55<47:26:59,  1.53it/s]"
     ]
    },
    {
     "name": "stdout",
     "output_type": "stream",
     "text": [
      "Train: [80/261825/972]\tepoch: 0\titer: 80\tTime: 0.641 (1.034)\tData: 0.315 (0.685)\tLoss: 322.5058 (221.1927)\tPrec@1: 0.000 (1.235)\tPrec@5: 0.000 (1.852)\tlr 0.100000\n"
     ]
    },
    {
     "name": "stderr",
     "output_type": "stream",
     "text": [
      "\n",
      "Train epoch=0, iter=0:   0%|             | 81/261825 [00:56<47:12:27,  1.54it/s]"
     ]
    },
    {
     "name": "stdout",
     "output_type": "stream",
     "text": [
      "Train: [81/261825/984]\tepoch: 0\titer: 81\tTime: 0.638 (1.029)\tData: 0.316 (0.680)\tLoss: 331.9902 (222.5439)\tPrec@1: 0.000 (1.220)\tPrec@5: 0.000 (1.829)\tlr 0.100000\n"
     ]
    },
    {
     "name": "stderr",
     "output_type": "stream",
     "text": [
      "\n",
      "Train epoch=0, iter=0:   0%|             | 82/261825 [00:57<46:58:20,  1.55it/s]"
     ]
    },
    {
     "name": "stdout",
     "output_type": "stream",
     "text": [
      "Train: [82/261825/996]\tepoch: 0\titer: 82\tTime: 0.624 (1.024)\tData: 0.316 (0.676)\tLoss: 292.1826 (223.3829)\tPrec@1: 0.000 (1.205)\tPrec@5: 0.000 (1.807)\tlr 0.100000\n"
     ]
    },
    {
     "name": "stderr",
     "output_type": "stream",
     "text": [
      "\n",
      "Train epoch=0, iter=0:   0%|             | 83/261825 [00:57<46:30:12,  1.56it/s]"
     ]
    },
    {
     "name": "stdout",
     "output_type": "stream",
     "text": [
      "Train: [83/261825/1008]\tepoch: 0\titer: 83\tTime: 0.642 (1.019)\tData: 0.317 (0.672)\tLoss: 364.9145 (225.0678)\tPrec@1: 0.000 (1.190)\tPrec@5: 0.000 (1.786)\tlr 0.100000\n"
     ]
    },
    {
     "name": "stderr",
     "output_type": "stream",
     "text": [
      "\n",
      "Train epoch=0, iter=0:   0%|             | 84/261825 [00:58<46:33:23,  1.56it/s]"
     ]
    },
    {
     "name": "stdout",
     "output_type": "stream",
     "text": [
      "Train: [84/261825/1020]\tepoch: 0\titer: 84\tTime: 0.666 (1.015)\tData: 0.317 (0.668)\tLoss: 253.2846 (225.3998)\tPrec@1: 0.000 (1.176)\tPrec@5: 0.000 (1.765)\tlr 0.100000\n"
     ]
    },
    {
     "name": "stderr",
     "output_type": "stream",
     "text": [
      "\n",
      "Train epoch=0, iter=0:   0%|             | 85/261825 [00:59<47:05:37,  1.54it/s]"
     ]
    },
    {
     "name": "stdout",
     "output_type": "stream",
     "text": [
      "Train: [85/261825/1032]\tepoch: 0\titer: 85\tTime: 0.667 (1.011)\tData: 0.316 (0.663)\tLoss: 341.1986 (226.7463)\tPrec@1: 0.000 (1.163)\tPrec@5: 0.000 (1.744)\tlr 0.100000\n"
     ]
    },
    {
     "name": "stderr",
     "output_type": "stream",
     "text": [
      "\n",
      "Train epoch=0, iter=0:   0%|             | 86/261825 [00:59<47:31:26,  1.53it/s]"
     ]
    },
    {
     "name": "stdout",
     "output_type": "stream",
     "text": [
      "Train: [86/261825/1044]\tepoch: 0\titer: 86\tTime: 0.653 (1.007)\tData: 0.317 (0.660)\tLoss: 288.1768 (227.4524)\tPrec@1: 0.000 (1.149)\tPrec@5: 0.000 (1.724)\tlr 0.100000\n"
     ]
    },
    {
     "name": "stderr",
     "output_type": "stream",
     "text": [
      "\n",
      "Train epoch=0, iter=0:   0%|             | 87/261825 [01:00<47:30:40,  1.53it/s]"
     ]
    },
    {
     "name": "stdout",
     "output_type": "stream",
     "text": [
      "Train: [87/261825/1056]\tepoch: 0\titer: 87\tTime: 0.639 (1.003)\tData: 0.316 (0.656)\tLoss: 314.0419 (228.4363)\tPrec@1: 0.000 (1.136)\tPrec@5: 0.000 (1.705)\tlr 0.100000\n"
     ]
    },
    {
     "name": "stderr",
     "output_type": "stream",
     "text": [
      "\n",
      "Train epoch=0, iter=0:   0%|             | 88/261825 [01:01<47:12:10,  1.54it/s]"
     ]
    },
    {
     "name": "stdout",
     "output_type": "stream",
     "text": [
      "Train: [88/261825/1068]\tepoch: 0\titer: 88\tTime: 0.660 (0.999)\tData: 0.317 (0.652)\tLoss: 291.1227 (229.1407)\tPrec@1: 0.000 (1.124)\tPrec@5: 0.000 (1.685)\tlr 0.100000\n"
     ]
    },
    {
     "name": "stderr",
     "output_type": "stream",
     "text": [
      "\n",
      "Train epoch=0, iter=0:   0%|             | 89/261825 [01:01<47:24:15,  1.53it/s]"
     ]
    },
    {
     "name": "stdout",
     "output_type": "stream",
     "text": [
      "Train: [89/261825/1080]\tepoch: 0\titer: 89\tTime: 0.635 (0.995)\tData: 0.313 (0.648)\tLoss: 331.8242 (230.2816)\tPrec@1: 0.000 (1.111)\tPrec@5: 0.000 (1.667)\tlr 0.100000\n"
     ]
    },
    {
     "name": "stderr",
     "output_type": "stream",
     "text": [
      "\n",
      "Train epoch=0, iter=0:   0%|             | 90/261825 [01:02<46:40:20,  1.56it/s]"
     ]
    },
    {
     "name": "stdout",
     "output_type": "stream",
     "text": [
      "Train: [90/261825/1092]\tepoch: 0\titer: 90\tTime: 0.682 (0.992)\tData: 0.299 (0.644)\tLoss: 295.1953 (230.9949)\tPrec@1: 0.000 (1.099)\tPrec@5: 0.000 (1.648)\tlr 0.100000\n"
     ]
    },
    {
     "name": "stderr",
     "output_type": "stream",
     "text": [
      "\n",
      "Train epoch=0, iter=0:   0%|             | 91/261825 [01:03<47:42:06,  1.52it/s]"
     ]
    },
    {
     "name": "stdout",
     "output_type": "stream",
     "text": [
      "Train: [91/261825/1104]\tepoch: 0\titer: 91\tTime: 0.648 (0.988)\tData: 0.304 (0.640)\tLoss: 281.4832 (231.5437)\tPrec@1: 8.333 (1.178)\tPrec@5: 8.333 (1.721)\tlr 0.100000\n"
     ]
    },
    {
     "name": "stderr",
     "output_type": "stream",
     "text": [
      "\n",
      "Train epoch=0, iter=0:   0%|             | 92/261825 [01:03<47:42:19,  1.52it/s]"
     ]
    },
    {
     "name": "stdout",
     "output_type": "stream",
     "text": [
      "Train: [92/261825/1116]\tepoch: 0\titer: 92\tTime: 0.626 (0.984)\tData: 0.313 (0.637)\tLoss: 294.3752 (232.2193)\tPrec@1: 0.000 (1.165)\tPrec@5: 0.000 (1.703)\tlr 0.100000\n"
     ]
    },
    {
     "name": "stderr",
     "output_type": "stream",
     "text": [
      "\n",
      "Train epoch=0, iter=0:   0%|             | 93/261825 [01:04<46:44:04,  1.56it/s]"
     ]
    },
    {
     "name": "stdout",
     "output_type": "stream",
     "text": [
      "Train: [93/261825/1128]\tepoch: 0\titer: 93\tTime: 0.656 (0.980)\tData: 0.300 (0.633)\tLoss: 238.3459 (232.2845)\tPrec@1: 0.000 (1.152)\tPrec@5: 8.333 (1.773)\tlr 0.100000\n"
     ]
    },
    {
     "name": "stderr",
     "output_type": "stream",
     "text": [
      "\n",
      "Train epoch=0, iter=0:   0%|             | 94/261825 [01:04<47:22:53,  1.53it/s]"
     ]
    },
    {
     "name": "stdout",
     "output_type": "stream",
     "text": [
      "Train: [94/261825/1140]\tepoch: 0\titer: 94\tTime: 0.663 (0.977)\tData: 0.317 (0.630)\tLoss: 295.5427 (232.9504)\tPrec@1: 0.000 (1.140)\tPrec@5: 0.000 (1.754)\tlr 0.100000\n"
     ]
    },
    {
     "name": "stderr",
     "output_type": "stream",
     "text": [
      "\n",
      "Train epoch=0, iter=0:   0%|             | 95/261825 [01:05<47:38:15,  1.53it/s]"
     ]
    },
    {
     "name": "stdout",
     "output_type": "stream",
     "text": [
      "Train: [95/261825/1152]\tepoch: 0\titer: 95\tTime: 0.662 (0.974)\tData: 0.317 (0.627)\tLoss: 315.2433 (233.8076)\tPrec@1: 0.000 (1.128)\tPrec@5: 0.000 (1.736)\tlr 0.100000\n"
     ]
    },
    {
     "name": "stderr",
     "output_type": "stream",
     "text": [
      "\n",
      "Train epoch=0, iter=0:   0%|             | 96/261825 [01:06<47:45:18,  1.52it/s]"
     ]
    },
    {
     "name": "stdout",
     "output_type": "stream",
     "text": [
      "Train: [96/261825/1164]\tepoch: 0\titer: 96\tTime: 0.656 (0.971)\tData: 0.312 (0.624)\tLoss: 306.1766 (234.5537)\tPrec@1: 0.000 (1.117)\tPrec@5: 0.000 (1.718)\tlr 0.100000\n"
     ]
    },
    {
     "name": "stderr",
     "output_type": "stream",
     "text": [
      "\n",
      "Train epoch=0, iter=0:   0%|             | 97/261825 [01:06<47:55:35,  1.52it/s]"
     ]
    },
    {
     "name": "stdout",
     "output_type": "stream",
     "text": [
      "Train: [97/261825/1176]\tepoch: 0\titer: 97\tTime: 0.677 (0.968)\tData: 0.324 (0.621)\tLoss: 308.0827 (235.3040)\tPrec@1: 0.000 (1.105)\tPrec@5: 0.000 (1.701)\tlr 0.100000\n"
     ]
    },
    {
     "name": "stderr",
     "output_type": "stream",
     "text": [
      "\n",
      "Train epoch=0, iter=0:   0%|             | 98/261825 [01:07<48:10:19,  1.51it/s]"
     ]
    },
    {
     "name": "stdout",
     "output_type": "stream",
     "text": [
      "Train: [98/261825/1188]\tepoch: 0\titer: 98\tTime: 0.656 (0.964)\tData: 0.317 (0.617)\tLoss: 250.7894 (235.4604)\tPrec@1: 16.667 (1.263)\tPrec@5: 16.667 (1.852)\tlr 0.100000\n"
     ]
    },
    {
     "name": "stderr",
     "output_type": "stream",
     "text": [
      "\n",
      "Train epoch=0, iter=0:   0%|             | 99/261825 [01:08<48:02:17,  1.51it/s]"
     ]
    },
    {
     "name": "stdout",
     "output_type": "stream",
     "text": [
      "Train: [99/261825/1200]\tepoch: 0\titer: 99\tTime: 0.652 (0.961)\tData: 0.316 (0.614)\tLoss: 264.0348 (235.7461)\tPrec@1: 0.000 (1.250)\tPrec@5: 0.000 (1.833)\tlr 0.100000\n"
     ]
    },
    {
     "name": "stderr",
     "output_type": "stream",
     "text": [
      "\n",
      "Train epoch=0, iter=0:   0%|            | 100/261825 [01:08<47:51:25,  1.52it/s]"
     ]
    },
    {
     "name": "stdout",
     "output_type": "stream",
     "text": [
      "Train: [100/261825/1212]\tepoch: 0\titer: 100\tTime: 0.643 (0.958)\tData: 0.316 (0.611)\tLoss: 274.9304 (236.1341)\tPrec@1: 8.333 (1.320)\tPrec@5: 8.333 (1.898)\tlr 0.100000\n"
     ]
    },
    {
     "name": "stderr",
     "output_type": "stream",
     "text": [
      "\n",
      "Train epoch=0, iter=0:   0%|            | 101/261825 [01:09<47:32:01,  1.53it/s]"
     ]
    },
    {
     "name": "stdout",
     "output_type": "stream",
     "text": [
      "Train: [101/261825/1224]\tepoch: 0\titer: 101\tTime: 0.637 (0.955)\tData: 0.316 (0.609)\tLoss: 249.7634 (236.2677)\tPrec@1: 0.000 (1.307)\tPrec@5: 16.667 (2.042)\tlr 0.100000\n"
     ]
    },
    {
     "name": "stderr",
     "output_type": "stream",
     "text": [
      "\n",
      "Train epoch=0, iter=0:   0%|            | 102/261825 [01:10<47:08:05,  1.54it/s]"
     ]
    },
    {
     "name": "stdout",
     "output_type": "stream",
     "text": [
      "Train: [102/261825/1236]\tepoch: 0\titer: 102\tTime: 0.625 (0.952)\tData: 0.312 (0.606)\tLoss: 271.7932 (236.6126)\tPrec@1: 8.333 (1.375)\tPrec@5: 8.333 (2.104)\tlr 0.100000\n"
     ]
    },
    {
     "name": "stderr",
     "output_type": "stream",
     "text": [
      "\n",
      "Train epoch=0, iter=0:   0%|            | 103/261825 [01:10<46:37:32,  1.56it/s]"
     ]
    },
    {
     "name": "stdout",
     "output_type": "stream",
     "text": [
      "Train: [103/261825/1248]\tepoch: 0\titer: 103\tTime: 0.687 (0.949)\tData: 0.328 (0.603)\tLoss: 325.7695 (237.4699)\tPrec@1: 0.000 (1.362)\tPrec@5: 0.000 (2.083)\tlr 0.100000\n"
     ]
    },
    {
     "name": "stderr",
     "output_type": "stream",
     "text": [
      "\n",
      "Train epoch=0, iter=0:   0%|            | 104/261825 [01:11<47:37:57,  1.53it/s]"
     ]
    },
    {
     "name": "stdout",
     "output_type": "stream",
     "text": [
      "Train: [104/261825/1260]\tepoch: 0\titer: 104\tTime: 0.660 (0.946)\tData: 0.313 (0.600)\tLoss: 297.4950 (238.0415)\tPrec@1: 0.000 (1.349)\tPrec@5: 0.000 (2.063)\tlr 0.100000\n"
     ]
    },
    {
     "name": "stderr",
     "output_type": "stream",
     "text": [
      "\n",
      "Train epoch=0, iter=0:   0%|            | 105/261825 [01:12<47:45:21,  1.52it/s]"
     ]
    },
    {
     "name": "stdout",
     "output_type": "stream",
     "text": [
      "Train: [105/261825/1272]\tepoch: 0\titer: 105\tTime: 0.655 (0.944)\tData: 0.316 (0.598)\tLoss: 280.1775 (238.4390)\tPrec@1: 0.000 (1.336)\tPrec@5: 0.000 (2.044)\tlr 0.100000\n"
     ]
    },
    {
     "name": "stderr",
     "output_type": "stream",
     "text": [
      "\n",
      "Train epoch=0, iter=0:   0%|            | 106/261825 [01:12<47:38:48,  1.53it/s]"
     ]
    },
    {
     "name": "stdout",
     "output_type": "stream",
     "text": [
      "Train: [106/261825/1284]\tepoch: 0\titer: 106\tTime: 0.622 (0.941)\tData: 0.310 (0.595)\tLoss: 286.7003 (238.8901)\tPrec@1: 0.000 (1.324)\tPrec@5: 0.000 (2.025)\tlr 0.100000\n"
     ]
    },
    {
     "name": "stderr",
     "output_type": "stream",
     "text": [
      "\n",
      "Train epoch=0, iter=0:   0%|            | 107/261825 [01:13<46:59:02,  1.55it/s]"
     ]
    },
    {
     "name": "stdout",
     "output_type": "stream",
     "text": [
      "Train: [107/261825/1296]\tepoch: 0\titer: 107\tTime: 0.657 (0.938)\tData: 0.312 (0.592)\tLoss: 251.8808 (239.0104)\tPrec@1: 16.667 (1.466)\tPrec@5: 16.667 (2.160)\tlr 0.100000\n"
     ]
    },
    {
     "name": "stderr",
     "output_type": "stream",
     "text": [
      "\n",
      "Train epoch=0, iter=0:   0%|            | 108/261825 [01:14<47:15:09,  1.54it/s]"
     ]
    },
    {
     "name": "stdout",
     "output_type": "stream",
     "text": [
      "Train: [108/261825/1308]\tepoch: 0\titer: 108\tTime: 0.641 (0.935)\tData: 0.316 (0.590)\tLoss: 331.8705 (239.8623)\tPrec@1: 0.000 (1.453)\tPrec@5: 0.000 (2.141)\tlr 0.100000\n"
     ]
    },
    {
     "name": "stderr",
     "output_type": "stream",
     "text": [
      "\n",
      "Train epoch=0, iter=0:   0%|            | 109/261825 [01:14<47:04:00,  1.54it/s]"
     ]
    },
    {
     "name": "stdout",
     "output_type": "stream",
     "text": [
      "Train: [109/261825/1320]\tepoch: 0\titer: 109\tTime: 0.682 (0.933)\tData: 0.317 (0.587)\tLoss: 293.9402 (240.3539)\tPrec@1: 0.000 (1.439)\tPrec@5: 0.000 (2.121)\tlr 0.100000\n"
     ]
    },
    {
     "name": "stderr",
     "output_type": "stream",
     "text": [
      "\n",
      "Train epoch=0, iter=0:   0%|            | 110/261825 [01:15<47:48:34,  1.52it/s]"
     ]
    },
    {
     "name": "stdout",
     "output_type": "stream",
     "text": [
      "Train: [110/261825/1332]\tepoch: 0\titer: 110\tTime: 0.646 (0.930)\tData: 0.316 (0.585)\tLoss: 287.3024 (240.7769)\tPrec@1: 0.000 (1.426)\tPrec@5: 0.000 (2.102)\tlr 0.100000\n"
     ]
    },
    {
     "name": "stderr",
     "output_type": "stream",
     "text": [
      "\n",
      "Train epoch=0, iter=0:   0%|            | 111/261825 [01:16<47:31:54,  1.53it/s]"
     ]
    },
    {
     "name": "stdout",
     "output_type": "stream",
     "text": [
      "Train: [111/261825/1344]\tepoch: 0\titer: 111\tTime: 0.625 (0.928)\tData: 0.313 (0.582)\tLoss: 300.2966 (241.3083)\tPrec@1: 0.000 (1.414)\tPrec@5: 8.333 (2.158)\tlr 0.100000\n"
     ]
    },
    {
     "name": "stderr",
     "output_type": "stream",
     "text": [
      "\n",
      "Train epoch=0, iter=0:   0%|            | 112/261825 [01:16<46:33:43,  1.56it/s]"
     ]
    },
    {
     "name": "stdout",
     "output_type": "stream",
     "text": [
      "Train: [112/261825/1356]\tepoch: 0\titer: 112\tTime: 0.660 (0.925)\tData: 0.297 (0.580)\tLoss: 290.6279 (241.7448)\tPrec@1: 0.000 (1.401)\tPrec@5: 0.000 (2.139)\tlr 0.100000\n"
     ]
    },
    {
     "name": "stderr",
     "output_type": "stream",
     "text": [
      "\n",
      "Train epoch=0, iter=0:   0%|            | 113/261825 [01:17<47:22:33,  1.53it/s]"
     ]
    },
    {
     "name": "stdout",
     "output_type": "stream",
     "text": [
      "Train: [113/261825/1368]\tepoch: 0\titer: 113\tTime: 0.693 (0.923)\tData: 0.316 (0.578)\tLoss: 317.4500 (242.4088)\tPrec@1: 0.000 (1.389)\tPrec@5: 0.000 (2.120)\tlr 0.100000\n"
     ]
    },
    {
     "name": "stderr",
     "output_type": "stream",
     "text": [
      "\n",
      "Train epoch=0, iter=0:   0%|            | 114/261825 [01:18<48:00:18,  1.51it/s]"
     ]
    },
    {
     "name": "stdout",
     "output_type": "stream",
     "text": [
      "Train: [114/261825/1380]\tepoch: 0\titer: 114\tTime: 0.629 (0.921)\tData: 0.317 (0.575)\tLoss: 313.2985 (243.0253)\tPrec@1: 0.000 (1.377)\tPrec@5: 0.000 (2.101)\tlr 0.100000\n"
     ]
    },
    {
     "name": "stderr",
     "output_type": "stream",
     "text": [
      "\n",
      "Train epoch=0, iter=0:   0%|            | 115/261825 [01:18<47:34:32,  1.53it/s]"
     ]
    },
    {
     "name": "stdout",
     "output_type": "stream",
     "text": [
      "Train: [115/261825/1392]\tepoch: 0\titer: 115\tTime: 0.641 (0.918)\tData: 0.328 (0.573)\tLoss: 316.1066 (243.6553)\tPrec@1: 0.000 (1.365)\tPrec@5: 0.000 (2.083)\tlr 0.100000\n"
     ]
    },
    {
     "name": "stderr",
     "output_type": "stream",
     "text": [
      "\n",
      "Train epoch=0, iter=0:   0%|            | 116/261825 [01:19<46:35:34,  1.56it/s]"
     ]
    },
    {
     "name": "stdout",
     "output_type": "stream",
     "text": [
      "Train: [116/261825/1404]\tepoch: 0\titer: 116\tTime: 0.594 (0.916)\tData: 0.281 (0.571)\tLoss: 303.2972 (244.1650)\tPrec@1: 0.000 (1.353)\tPrec@5: 0.000 (2.066)\tlr 0.100000\n"
     ]
    },
    {
     "name": "stderr",
     "output_type": "stream",
     "text": [
      "\n",
      "Train epoch=0, iter=0:   0%|            | 117/261825 [01:19<46:04:04,  1.58it/s]"
     ]
    },
    {
     "name": "stdout",
     "output_type": "stream",
     "text": [
      "Train: [117/261825/1416]\tepoch: 0\titer: 117\tTime: 0.664 (0.913)\tData: 0.306 (0.568)\tLoss: 305.1189 (244.6816)\tPrec@1: 0.000 (1.342)\tPrec@5: 0.000 (2.048)\tlr 0.100000\n"
     ]
    },
    {
     "name": "stderr",
     "output_type": "stream",
     "text": [
      "\n",
      "Train epoch=0, iter=0:   0%|            | 118/261825 [01:20<46:54:48,  1.55it/s]"
     ]
    },
    {
     "name": "stdout",
     "output_type": "stream",
     "text": [
      "Train: [118/261825/1428]\tepoch: 0\titer: 118\tTime: 0.633 (0.911)\tData: 0.315 (0.566)\tLoss: 285.3298 (245.0232)\tPrec@1: 0.000 (1.331)\tPrec@5: 8.333 (2.101)\tlr 0.100000\n"
     ]
    },
    {
     "name": "stderr",
     "output_type": "stream",
     "text": [
      "\n",
      "Train epoch=0, iter=0:   0%|            | 119/261825 [01:21<46:37:32,  1.56it/s]"
     ]
    },
    {
     "name": "stdout",
     "output_type": "stream",
     "text": [
      "Train: [119/261825/1440]\tepoch: 0\titer: 119\tTime: 0.672 (0.909)\tData: 0.328 (0.564)\tLoss: 276.1288 (245.2824)\tPrec@1: 0.000 (1.319)\tPrec@5: 0.000 (2.083)\tlr 0.100000\n"
     ]
    },
    {
     "name": "stderr",
     "output_type": "stream",
     "text": [
      "\n",
      "Train epoch=0, iter=0:   0%|            | 120/261825 [01:21<47:19:04,  1.54it/s]"
     ]
    },
    {
     "name": "stdout",
     "output_type": "stream",
     "text": [
      "Train: [120/261825/1452]\tepoch: 0\titer: 120\tTime: 0.642 (0.907)\tData: 0.329 (0.562)\tLoss: 312.4433 (245.8374)\tPrec@1: 0.000 (1.309)\tPrec@5: 0.000 (2.066)\tlr 0.100000\n"
     ]
    },
    {
     "name": "stderr",
     "output_type": "stream",
     "text": [
      "\n",
      "Train epoch=0, iter=0:   0%|            | 121/261825 [01:22<47:05:37,  1.54it/s]"
     ]
    },
    {
     "name": "stdout",
     "output_type": "stream",
     "text": [
      "Train: [121/261825/1464]\tepoch: 0\titer: 121\tTime: 0.640 (0.905)\tData: 0.313 (0.560)\tLoss: 297.1907 (246.2584)\tPrec@1: 0.000 (1.298)\tPrec@5: 8.333 (2.117)\tlr 0.100000\n"
     ]
    },
    {
     "name": "stderr",
     "output_type": "stream",
     "text": [
      "\n",
      "Train epoch=0, iter=0:   0%|            | 122/261825 [01:23<46:56:22,  1.55it/s]"
     ]
    },
    {
     "name": "stdout",
     "output_type": "stream",
     "text": [
      "Train: [122/261825/1476]\tepoch: 0\titer: 122\tTime: 0.645 (0.903)\tData: 0.316 (0.558)\tLoss: 298.6986 (246.6847)\tPrec@1: 0.000 (1.287)\tPrec@5: 0.000 (2.100)\tlr 0.100000\n"
     ]
    },
    {
     "name": "stderr",
     "output_type": "stream",
     "text": [
      "\n",
      "Train epoch=0, iter=0:   0%|            | 123/261825 [01:23<46:47:48,  1.55it/s]"
     ]
    },
    {
     "name": "stdout",
     "output_type": "stream",
     "text": [
      "Train: [123/261825/1488]\tepoch: 0\titer: 123\tTime: 0.651 (0.901)\tData: 0.307 (0.556)\tLoss: 305.2226 (247.1568)\tPrec@1: 0.000 (1.277)\tPrec@5: 0.000 (2.083)\tlr 0.100000\n"
     ]
    },
    {
     "name": "stderr",
     "output_type": "stream",
     "text": [
      "\n",
      "Train epoch=0, iter=0:   0%|            | 124/261825 [01:24<47:04:10,  1.54it/s]"
     ]
    },
    {
     "name": "stdout",
     "output_type": "stream",
     "text": [
      "Train: [124/261825/1500]\tepoch: 0\titer: 124\tTime: 0.621 (0.898)\tData: 0.312 (0.554)\tLoss: 299.5741 (247.5761)\tPrec@1: 0.000 (1.267)\tPrec@5: 0.000 (2.067)\tlr 0.100000\n"
     ]
    },
    {
     "name": "stderr",
     "output_type": "stream",
     "text": [
      "\n",
      "Train epoch=0, iter=0:   0%|            | 125/261825 [01:25<46:30:28,  1.56it/s]"
     ]
    },
    {
     "name": "stdout",
     "output_type": "stream",
     "text": [
      "Train: [125/261825/1512]\tepoch: 0\titer: 125\tTime: 0.644 (0.896)\tData: 0.315 (0.552)\tLoss: 313.8015 (248.1017)\tPrec@1: 0.000 (1.257)\tPrec@5: 0.000 (2.050)\tlr 0.100000\n"
     ]
    },
    {
     "name": "stderr",
     "output_type": "stream",
     "text": [
      "\n",
      "Train epoch=0, iter=0:   0%|            | 126/261825 [01:25<46:36:35,  1.56it/s]"
     ]
    },
    {
     "name": "stdout",
     "output_type": "stream",
     "text": [
      "Train: [126/261825/1524]\tepoch: 0\titer: 126\tTime: 0.656 (0.894)\tData: 0.316 (0.551)\tLoss: 313.7370 (248.6185)\tPrec@1: 0.000 (1.247)\tPrec@5: 0.000 (2.034)\tlr 0.100000\n"
     ]
    },
    {
     "name": "stderr",
     "output_type": "stream",
     "text": [
      "\n",
      "Train epoch=0, iter=0:   0%|            | 127/261825 [01:26<46:57:54,  1.55it/s]"
     ]
    },
    {
     "name": "stdout",
     "output_type": "stream",
     "text": [
      "Train: [127/261825/1536]\tepoch: 0\titer: 127\tTime: 0.633 (0.892)\tData: 0.316 (0.549)\tLoss: 285.2815 (248.9050)\tPrec@1: 0.000 (1.237)\tPrec@5: 0.000 (2.018)\tlr 0.100000\n"
     ]
    },
    {
     "name": "stderr",
     "output_type": "stream",
     "text": [
      "\n",
      "Train epoch=0, iter=0:   0%|            | 128/261825 [01:27<47:29:14,  1.53it/s]"
     ]
    },
    {
     "name": "stdout",
     "output_type": "stream",
     "text": [
      "Train: [128/261825/1548]\tepoch: 0\titer: 128\tTime: 0.648 (0.891)\tData: 0.351 (0.547)\tLoss: 278.6356 (249.1354)\tPrec@1: 0.000 (1.227)\tPrec@5: 0.000 (2.003)\tlr 0.100000\n"
     ]
    },
    {
     "name": "stderr",
     "output_type": "stream",
     "text": [
      "\n",
      "Train epoch=0, iter=0:   0%|            | 129/261825 [01:27<46:31:49,  1.56it/s]"
     ]
    },
    {
     "name": "stdout",
     "output_type": "stream",
     "text": [
      "Train: [129/261825/1560]\tepoch: 0\titer: 129\tTime: 0.609 (0.888)\tData: 0.313 (0.545)\tLoss: 306.8070 (249.5791)\tPrec@1: 0.000 (1.218)\tPrec@5: 0.000 (1.987)\tlr 0.100000\n"
     ]
    },
    {
     "name": "stderr",
     "output_type": "stream",
     "text": [
      "\n",
      "Train epoch=0, iter=0:   0%|            | 130/261825 [01:28<45:51:37,  1.59it/s]"
     ]
    },
    {
     "name": "stdout",
     "output_type": "stream",
     "text": [
      "Train: [130/261825/1572]\tepoch: 0\titer: 130\tTime: 0.594 (0.886)\tData: 0.313 (0.544)\tLoss: 258.4298 (249.6466)\tPrec@1: 8.333 (1.272)\tPrec@5: 8.333 (2.036)\tlr 0.100000\n"
     ]
    },
    {
     "name": "stderr",
     "output_type": "stream",
     "text": [
      "\n",
      "Train epoch=0, iter=0:   0%|            | 131/261825 [01:28<46:43:40,  1.56it/s]"
     ]
    },
    {
     "name": "stdout",
     "output_type": "stream",
     "text": [
      "Train: [131/261825/1584]\tepoch: 0\titer: 131\tTime: 0.685 (0.885)\tData: 0.391 (0.542)\tLoss: 245.1688 (249.6127)\tPrec@1: 0.000 (1.263)\tPrec@5: 16.667 (2.146)\tlr 0.100000\n"
     ]
    },
    {
     "name": "stderr",
     "output_type": "stream",
     "text": [
      "\n",
      "Train epoch=0, iter=0:   0%|            | 132/261825 [01:29<47:20:39,  1.54it/s]"
     ]
    },
    {
     "name": "stdout",
     "output_type": "stream",
     "text": [
      "Train: [132/261825/1596]\tepoch: 0\titer: 132\tTime: 0.676 (0.883)\tData: 0.378 (0.541)\tLoss: 288.8522 (249.9077)\tPrec@1: 0.000 (1.253)\tPrec@5: 0.000 (2.130)\tlr 0.100000\n"
     ]
    },
    {
     "name": "stderr",
     "output_type": "stream",
     "text": [
      "\n",
      "Train epoch=0, iter=0:   0%|            | 133/261825 [01:30<46:29:49,  1.56it/s]"
     ]
    },
    {
     "name": "stdout",
     "output_type": "stream",
     "text": [
      "Train: [133/261825/1608]\tepoch: 0\titer: 133\tTime: 0.606 (0.881)\tData: 0.314 (0.540)\tLoss: 300.6767 (250.2866)\tPrec@1: 0.000 (1.244)\tPrec@5: 0.000 (2.114)\tlr 0.100000\n"
     ]
    },
    {
     "name": "stderr",
     "output_type": "stream",
     "text": [
      "\n",
      "Train epoch=0, iter=0:   0%|            | 134/261825 [01:30<46:32:27,  1.56it/s]"
     ]
    },
    {
     "name": "stdout",
     "output_type": "stream",
     "text": [
      "Train: [134/261825/1620]\tepoch: 0\titer: 134\tTime: 0.644 (0.879)\tData: 0.347 (0.538)\tLoss: 251.6799 (250.2969)\tPrec@1: 0.000 (1.235)\tPrec@5: 0.000 (2.099)\tlr 0.100000\n"
     ]
    },
    {
     "name": "stderr",
     "output_type": "stream",
     "text": [
      "\n",
      "Train epoch=0, iter=0:   0%|            | 135/261825 [01:31<45:52:03,  1.58it/s]"
     ]
    },
    {
     "name": "stdout",
     "output_type": "stream",
     "text": [
      "Train: [135/261825/1632]\tepoch: 0\titer: 135\tTime: 1.627 (0.885)\tData: 1.224 (0.543)\tLoss: 316.0713 (250.7805)\tPrec@1: 0.000 (1.225)\tPrec@5: 0.000 (2.083)\tlr 0.100000\n"
     ]
    },
    {
     "name": "stderr",
     "output_type": "stream",
     "text": [
      "\n",
      "Train epoch=0, iter=0:   0%|            | 136/261825 [01:33<67:15:10,  1.08it/s]"
     ]
    },
    {
     "name": "stdout",
     "output_type": "stream",
     "text": [
      "Train: [136/261825/1644]\tepoch: 0\titer: 136\tTime: 0.609 (0.883)\tData: 0.297 (0.541)\tLoss: 301.0469 (251.1474)\tPrec@1: 0.000 (1.217)\tPrec@5: 0.000 (2.068)\tlr 0.100000\n"
     ]
    },
    {
     "name": "stderr",
     "output_type": "stream",
     "text": [
      "\n",
      "Train epoch=0, iter=0:   0%|            | 137/261825 [01:33<60:21:57,  1.20it/s]"
     ]
    },
    {
     "name": "stdout",
     "output_type": "stream",
     "text": [
      "Train: [137/261825/1656]\tepoch: 0\titer: 137\tTime: 0.618 (0.881)\tData: 0.297 (0.540)\tLoss: 282.8648 (251.3773)\tPrec@1: 0.000 (1.208)\tPrec@5: 8.333 (2.114)\tlr 0.100000\n"
     ]
    },
    {
     "name": "stderr",
     "output_type": "stream",
     "text": [
      "\n",
      "Train epoch=0, iter=0:   0%|            | 138/261825 [01:34<56:03:58,  1.30it/s]"
     ]
    },
    {
     "name": "stdout",
     "output_type": "stream",
     "text": [
      "Train: [138/261825/1668]\tepoch: 0\titer: 138\tTime: 0.642 (0.879)\tData: 0.315 (0.538)\tLoss: 304.0875 (251.7565)\tPrec@1: 0.000 (1.199)\tPrec@5: 8.333 (2.158)\tlr 0.100000\n"
     ]
    },
    {
     "name": "stderr",
     "output_type": "stream",
     "text": [
      "\n",
      "Train epoch=0, iter=0:   0%|            | 139/261825 [01:34<52:50:30,  1.38it/s]"
     ]
    },
    {
     "name": "stdout",
     "output_type": "stream",
     "text": [
      "Train: [139/261825/1680]\tepoch: 0\titer: 139\tTime: 0.670 (0.878)\tData: 0.296 (0.536)\tLoss: 309.3914 (252.1682)\tPrec@1: 0.000 (1.190)\tPrec@5: 0.000 (2.143)\tlr 0.100000\n"
     ]
    },
    {
     "name": "stderr",
     "output_type": "stream",
     "text": [
      "\n",
      "Train epoch=0, iter=0:   0%|            | 140/261825 [01:35<52:01:29,  1.40it/s]"
     ]
    },
    {
     "name": "stdout",
     "output_type": "stream",
     "text": [
      "Train: [140/261825/1692]\tepoch: 0\titer: 140\tTime: 0.632 (0.876)\tData: 0.315 (0.535)\tLoss: 295.7264 (252.4771)\tPrec@1: 0.000 (1.182)\tPrec@5: 8.333 (2.187)\tlr 0.100000\n"
     ]
    },
    {
     "name": "stderr",
     "output_type": "stream",
     "text": [
      "\n",
      "Train epoch=0, iter=0:   0%|            | 141/261825 [01:36<50:13:51,  1.45it/s]"
     ]
    },
    {
     "name": "stdout",
     "output_type": "stream",
     "text": [
      "Train: [141/261825/1704]\tepoch: 0\titer: 141\tTime: 0.699 (0.875)\tData: 0.315 (0.533)\tLoss: 243.8234 (252.4162)\tPrec@1: 8.333 (1.232)\tPrec@5: 8.333 (2.230)\tlr 0.100000\n"
     ]
    },
    {
     "name": "stderr",
     "output_type": "stream",
     "text": [
      "\n",
      "Train epoch=0, iter=0:   0%|            | 142/261825 [01:36<50:21:35,  1.44it/s]"
     ]
    },
    {
     "name": "stdout",
     "output_type": "stream",
     "text": [
      "Train: [142/261825/1716]\tepoch: 0\titer: 142\tTime: 0.623 (0.873)\tData: 0.311 (0.532)\tLoss: 336.2166 (253.0022)\tPrec@1: 0.000 (1.224)\tPrec@5: 0.000 (2.214)\tlr 0.100000\n"
     ]
    },
    {
     "name": "stderr",
     "output_type": "stream",
     "text": [
      "\n",
      "Train epoch=0, iter=0:   0%|            | 143/261825 [01:37<48:52:54,  1.49it/s]"
     ]
    },
    {
     "name": "stdout",
     "output_type": "stream",
     "text": [
      "Train: [143/261825/1728]\tepoch: 0\titer: 143\tTime: 0.625 (0.871)\tData: 0.313 (0.530)\tLoss: 258.6754 (253.0416)\tPrec@1: 16.667 (1.331)\tPrec@5: 16.667 (2.315)\tlr 0.100000\n"
     ]
    },
    {
     "name": "stderr",
     "output_type": "stream",
     "text": [
      "\n",
      "Train epoch=0, iter=0:   0%|            | 144/261825 [01:38<47:30:19,  1.53it/s]"
     ]
    },
    {
     "name": "stdout",
     "output_type": "stream",
     "text": [
      "Train: [144/261825/1740]\tepoch: 0\titer: 144\tTime: 0.688 (0.870)\tData: 0.297 (0.528)\tLoss: 337.7732 (253.6259)\tPrec@1: 0.000 (1.322)\tPrec@5: 0.000 (2.299)\tlr 0.100000\n"
     ]
    },
    {
     "name": "stderr",
     "output_type": "stream",
     "text": [
      "\n",
      "Train epoch=0, iter=0:   0%|            | 145/261825 [01:38<48:44:55,  1.49it/s]"
     ]
    },
    {
     "name": "stdout",
     "output_type": "stream",
     "text": [
      "Train: [145/261825/1752]\tepoch: 0\titer: 145\tTime: 0.681 (0.869)\tData: 0.322 (0.527)\tLoss: 314.9102 (254.0457)\tPrec@1: 0.000 (1.313)\tPrec@5: 8.333 (2.340)\tlr 0.100000\n"
     ]
    },
    {
     "name": "stderr",
     "output_type": "stream",
     "text": [
      "\n",
      "Train epoch=0, iter=0:   0%|            | 146/261825 [01:39<48:47:18,  1.49it/s]"
     ]
    },
    {
     "name": "stdout",
     "output_type": "stream",
     "text": [
      "Train: [146/261825/1764]\tepoch: 0\titer: 146\tTime: 0.616 (0.867)\tData: 0.313 (0.526)\tLoss: 319.1631 (254.4887)\tPrec@1: 0.000 (1.304)\tPrec@5: 0.000 (2.324)\tlr 0.100000\n"
     ]
    },
    {
     "name": "stderr",
     "output_type": "stream",
     "text": [
      "\n",
      "Train epoch=0, iter=0:   0%|            | 147/261825 [01:40<47:15:54,  1.54it/s]"
     ]
    },
    {
     "name": "stdout",
     "output_type": "stream",
     "text": [
      "Train: [147/261825/1776]\tepoch: 0\titer: 147\tTime: 0.656 (0.865)\tData: 0.297 (0.524)\tLoss: 329.8916 (254.9981)\tPrec@1: 0.000 (1.295)\tPrec@5: 16.667 (2.421)\tlr 0.100000\n"
     ]
    },
    {
     "name": "stderr",
     "output_type": "stream",
     "text": [
      "\n",
      "Train epoch=0, iter=0:   0%|            | 148/261825 [01:40<47:49:12,  1.52it/s]"
     ]
    },
    {
     "name": "stdout",
     "output_type": "stream",
     "text": [
      "Train: [148/261825/1788]\tepoch: 0\titer: 148\tTime: 0.664 (0.864)\tData: 0.318 (0.523)\tLoss: 322.6610 (255.4523)\tPrec@1: 0.000 (1.286)\tPrec@5: 0.000 (2.405)\tlr 0.100000\n"
     ]
    },
    {
     "name": "stderr",
     "output_type": "stream",
     "text": [
      "\n",
      "Train epoch=0, iter=0:   0%|            | 149/261825 [01:41<47:51:16,  1.52it/s]"
     ]
    },
    {
     "name": "stdout",
     "output_type": "stream",
     "text": [
      "Train: [149/261825/1800]\tepoch: 0\titer: 149\tTime: 0.649 (0.863)\tData: 0.315 (0.521)\tLoss: 248.6224 (255.4067)\tPrec@1: 16.667 (1.389)\tPrec@5: 16.667 (2.500)\tlr 0.100000\n"
     ]
    },
    {
     "name": "stderr",
     "output_type": "stream",
     "text": [
      "\n",
      "Train epoch=0, iter=0:   0%|            | 150/261825 [01:42<47:39:37,  1.53it/s]"
     ]
    },
    {
     "name": "stdout",
     "output_type": "stream",
     "text": [
      "Train: [150/261825/1812]\tepoch: 0\titer: 150\tTime: 0.647 (0.861)\tData: 0.314 (0.520)\tLoss: 299.0072 (255.6955)\tPrec@1: 8.333 (1.435)\tPrec@5: 8.333 (2.539)\tlr 0.100000\n"
     ]
    },
    {
     "name": "stderr",
     "output_type": "stream",
     "text": [
      "\n",
      "Train epoch=0, iter=0:   0%|            | 151/261825 [01:42<47:21:18,  1.53it/s]"
     ]
    },
    {
     "name": "stdout",
     "output_type": "stream",
     "text": [
      "Train: [151/261825/1824]\tepoch: 0\titer: 151\tTime: 0.650 (0.860)\tData: 0.306 (0.519)\tLoss: 259.6631 (255.7216)\tPrec@1: 0.000 (1.425)\tPrec@5: 0.000 (2.522)\tlr 0.100000\n"
     ]
    },
    {
     "name": "stderr",
     "output_type": "stream",
     "text": [
      "\n",
      "Train epoch=0, iter=0:   0%|            | 152/261825 [01:43<47:27:32,  1.53it/s]"
     ]
    },
    {
     "name": "stdout",
     "output_type": "stream",
     "text": [
      "Train: [152/261825/1836]\tepoch: 0\titer: 152\tTime: 0.641 (0.858)\tData: 0.312 (0.517)\tLoss: 294.6243 (255.9758)\tPrec@1: 8.333 (1.471)\tPrec@5: 8.333 (2.560)\tlr 0.100000\n"
     ]
    },
    {
     "name": "stderr",
     "output_type": "stream",
     "text": [
      "\n",
      "Train epoch=0, iter=0:   0%|            | 153/261825 [01:44<47:11:26,  1.54it/s]"
     ]
    },
    {
     "name": "stdout",
     "output_type": "stream",
     "text": [
      "Train: [153/261825/1848]\tepoch: 0\titer: 153\tTime: 0.688 (0.857)\tData: 0.312 (0.516)\tLoss: 324.5612 (256.4212)\tPrec@1: 0.000 (1.461)\tPrec@5: 0.000 (2.543)\tlr 0.100000\n"
     ]
    },
    {
     "name": "stderr",
     "output_type": "stream",
     "text": [
      "\n",
      "Train epoch=0, iter=0:   0%|            | 154/261825 [01:44<48:01:30,  1.51it/s]"
     ]
    },
    {
     "name": "stdout",
     "output_type": "stream",
     "text": [
      "Train: [154/261825/1860]\tepoch: 0\titer: 154\tTime: 0.657 (0.856)\tData: 0.312 (0.515)\tLoss: 305.2159 (256.7360)\tPrec@1: 0.000 (1.452)\tPrec@5: 0.000 (2.527)\tlr 0.100000\n"
     ]
    },
    {
     "name": "stderr",
     "output_type": "stream",
     "text": [
      "\n",
      "Train epoch=0, iter=0:   0%|            | 155/261825 [01:45<47:58:31,  1.52it/s]"
     ]
    },
    {
     "name": "stdout",
     "output_type": "stream",
     "text": [
      "Train: [155/261825/1872]\tepoch: 0\titer: 155\tTime: 0.682 (0.855)\tData: 0.314 (0.513)\tLoss: 268.1885 (256.8094)\tPrec@1: 0.000 (1.442)\tPrec@5: 0.000 (2.511)\tlr 0.100000\n"
     ]
    },
    {
     "name": "stderr",
     "output_type": "stream",
     "text": [
      "\n",
      "Train epoch=0, iter=0:   0%|            | 156/261825 [01:46<48:30:03,  1.50it/s]"
     ]
    },
    {
     "name": "stdout",
     "output_type": "stream",
     "text": [
      "Train: [156/261825/1884]\tepoch: 0\titer: 156\tTime: 0.658 (0.854)\tData: 0.318 (0.512)\tLoss: 309.9536 (257.1479)\tPrec@1: 0.000 (1.433)\tPrec@5: 0.000 (2.495)\tlr 0.100000\n"
     ]
    },
    {
     "name": "stderr",
     "output_type": "stream",
     "text": [
      "\n",
      "Train epoch=0, iter=0:   0%|            | 157/261825 [01:46<48:18:32,  1.50it/s]"
     ]
    },
    {
     "name": "stdout",
     "output_type": "stream",
     "text": [
      "Train: [157/261825/1896]\tepoch: 0\titer: 157\tTime: 0.675 (0.852)\tData: 0.317 (0.511)\tLoss: 263.2857 (257.1867)\tPrec@1: 8.333 (1.477)\tPrec@5: 8.333 (2.532)\tlr 0.100000\n"
     ]
    },
    {
     "name": "stderr",
     "output_type": "stream",
     "text": [
      "\n",
      "Train epoch=0, iter=0:   0%|            | 158/261825 [01:47<48:32:43,  1.50it/s]"
     ]
    },
    {
     "name": "stdout",
     "output_type": "stream",
     "text": [
      "Train: [158/261825/1908]\tepoch: 0\titer: 158\tTime: 0.617 (0.851)\tData: 0.317 (0.510)\tLoss: 340.4577 (257.7105)\tPrec@1: 0.000 (1.468)\tPrec@5: 0.000 (2.516)\tlr 0.100000\n"
     ]
    },
    {
     "name": "stderr",
     "output_type": "stream",
     "text": [
      "\n",
      "Train epoch=0, iter=0:   0%|            | 159/261825 [01:48<47:25:24,  1.53it/s]"
     ]
    },
    {
     "name": "stdout",
     "output_type": "stream",
     "text": [
      "Train: [159/261825/1920]\tepoch: 0\titer: 159\tTime: 0.624 (0.850)\tData: 0.316 (0.508)\tLoss: 328.8977 (258.1554)\tPrec@1: 0.000 (1.458)\tPrec@5: 0.000 (2.500)\tlr 0.100000\n"
     ]
    },
    {
     "name": "stderr",
     "output_type": "stream",
     "text": [
      "\n",
      "Train epoch=0, iter=0:   0%|            | 160/261825 [01:48<46:46:08,  1.55it/s]"
     ]
    },
    {
     "name": "stdout",
     "output_type": "stream",
     "text": [
      "Train: [160/261825/1932]\tepoch: 0\titer: 160\tTime: 0.629 (0.848)\tData: 0.313 (0.507)\tLoss: 312.5269 (258.4931)\tPrec@1: 0.000 (1.449)\tPrec@5: 0.000 (2.484)\tlr 0.100000\n"
     ]
    },
    {
     "name": "stderr",
     "output_type": "stream",
     "text": [
      "\n",
      "Train epoch=0, iter=0:   0%|            | 161/261825 [01:49<45:47:12,  1.59it/s]"
     ]
    },
    {
     "name": "stdout",
     "output_type": "stream",
     "text": [
      "Train: [161/261825/1944]\tepoch: 0\titer: 161\tTime: 0.639 (0.847)\tData: 0.297 (0.506)\tLoss: 294.5580 (258.7157)\tPrec@1: 0.000 (1.440)\tPrec@5: 0.000 (2.469)\tlr 0.100000\n"
     ]
    },
    {
     "name": "stderr",
     "output_type": "stream",
     "text": [
      "\n",
      "Train epoch=0, iter=0:   0%|            | 162/261825 [01:50<47:01:43,  1.55it/s]"
     ]
    },
    {
     "name": "stdout",
     "output_type": "stream",
     "text": [
      "Train: [162/261825/1956]\tepoch: 0\titer: 162\tTime: 0.692 (0.846)\tData: 0.332 (0.505)\tLoss: 301.0627 (258.9755)\tPrec@1: 0.000 (1.431)\tPrec@5: 0.000 (2.454)\tlr 0.100000\n"
     ]
    },
    {
     "name": "stderr",
     "output_type": "stream",
     "text": [
      "\n",
      "Train epoch=0, iter=0:   0%|            | 163/261825 [01:50<47:46:51,  1.52it/s]"
     ]
    },
    {
     "name": "stdout",
     "output_type": "stream",
     "text": [
      "Train: [163/261825/1968]\tepoch: 0\titer: 163\tTime: 0.660 (0.845)\tData: 0.321 (0.504)\tLoss: 283.8300 (259.1271)\tPrec@1: 0.000 (1.423)\tPrec@5: 0.000 (2.439)\tlr 0.100000\n"
     ]
    },
    {
     "name": "stderr",
     "output_type": "stream",
     "text": [
      "\n",
      "Train epoch=0, iter=0:   0%|            | 164/261825 [01:51<47:48:57,  1.52it/s]"
     ]
    },
    {
     "name": "stdout",
     "output_type": "stream",
     "text": [
      "Train: [164/261825/1980]\tepoch: 0\titer: 164\tTime: 0.667 (0.844)\tData: 0.320 (0.503)\tLoss: 267.3955 (259.1772)\tPrec@1: 16.667 (1.515)\tPrec@5: 16.667 (2.525)\tlr 0.100000\n"
     ]
    },
    {
     "name": "stderr",
     "output_type": "stream",
     "text": [
      "\n",
      "Train epoch=0, iter=0:   0%|            | 165/261825 [01:52<47:59:36,  1.51it/s]"
     ]
    },
    {
     "name": "stdout",
     "output_type": "stream",
     "text": [
      "Train: [165/261825/1992]\tepoch: 0\titer: 165\tTime: 0.638 (0.843)\tData: 0.319 (0.501)\tLoss: 302.8879 (259.4405)\tPrec@1: 0.000 (1.506)\tPrec@5: 8.333 (2.560)\tlr 0.100000\n"
     ]
    },
    {
     "name": "stderr",
     "output_type": "stream",
     "text": [
      "\n",
      "Train epoch=0, iter=0:   0%|            | 166/261825 [01:52<47:00:53,  1.55it/s]"
     ]
    },
    {
     "name": "stdout",
     "output_type": "stream",
     "text": [
      "Train: [166/261825/2004]\tepoch: 0\titer: 166\tTime: 0.641 (0.841)\tData: 0.298 (0.500)\tLoss: 321.0425 (259.8094)\tPrec@1: 0.000 (1.497)\tPrec@5: 0.000 (2.545)\tlr 0.100000\n"
     ]
    },
    {
     "name": "stderr",
     "output_type": "stream",
     "text": [
      "\n",
      "Train epoch=0, iter=0:   0%|            | 167/261825 [01:53<48:58:15,  1.48it/s]"
     ]
    },
    {
     "name": "stdout",
     "output_type": "stream",
     "text": [
      "Train: [167/261825/2016]\tepoch: 0\titer: 167\tTime: 0.699 (0.840)\tData: 0.393 (0.500)\tLoss: 274.0346 (259.8941)\tPrec@1: 0.000 (1.488)\tPrec@5: 8.333 (2.579)\tlr 0.100000\n"
     ]
    },
    {
     "name": "stderr",
     "output_type": "stream",
     "text": [
      "\n",
      "Train epoch=0, iter=0:   0%|            | 168/261825 [01:54<47:47:58,  1.52it/s]"
     ]
    },
    {
     "name": "stdout",
     "output_type": "stream",
     "text": [
      "Train: [168/261825/2028]\tepoch: 0\titer: 168\tTime: 0.608 (0.839)\tData: 0.313 (0.498)\tLoss: 302.7593 (260.1477)\tPrec@1: 0.000 (1.479)\tPrec@5: 0.000 (2.564)\tlr 0.100000\n"
     ]
    },
    {
     "name": "stderr",
     "output_type": "stream",
     "text": [
      "\n",
      "Train epoch=0, iter=0:   0%|            | 169/261825 [01:54<46:44:22,  1.56it/s]"
     ]
    },
    {
     "name": "stdout",
     "output_type": "stream",
     "text": [
      "Train: [169/261825/2040]\tepoch: 0\titer: 169\tTime: 0.616 (0.838)\tData: 0.314 (0.497)\tLoss: 313.8798 (260.4638)\tPrec@1: 0.000 (1.471)\tPrec@5: 0.000 (2.549)\tlr 0.100000\n"
     ]
    },
    {
     "name": "stderr",
     "output_type": "stream",
     "text": [
      "\n",
      "Train epoch=0, iter=0:   0%|            | 170/261825 [01:55<45:55:55,  1.58it/s]"
     ]
    },
    {
     "name": "stdout",
     "output_type": "stream",
     "text": [
      "Train: [170/261825/2052]\tepoch: 0\titer: 170\tTime: 0.600 (0.836)\tData: 0.303 (0.496)\tLoss: 275.7997 (260.5535)\tPrec@1: 0.000 (1.462)\tPrec@5: 8.333 (2.583)\tlr 0.100000\n"
     ]
    },
    {
     "name": "stderr",
     "output_type": "stream",
     "text": [
      "\n",
      "Train epoch=0, iter=0:   0%|            | 171/261825 [01:55<45:46:04,  1.59it/s]"
     ]
    },
    {
     "name": "stdout",
     "output_type": "stream",
     "text": [
      "Train: [171/261825/2064]\tepoch: 0\titer: 171\tTime: 0.627 (0.835)\tData: 0.330 (0.495)\tLoss: 253.2709 (260.5111)\tPrec@1: 16.667 (1.550)\tPrec@5: 16.667 (2.665)\tlr 0.100000\n"
     ]
    },
    {
     "name": "stderr",
     "output_type": "stream",
     "text": [
      "\n",
      "Train epoch=0, iter=0:   0%|            | 172/261825 [01:56<45:57:29,  1.58it/s]"
     ]
    },
    {
     "name": "stdout",
     "output_type": "stream",
     "text": [
      "Train: [172/261825/2076]\tepoch: 0\titer: 172\tTime: 0.692 (0.834)\tData: 0.341 (0.494)\tLoss: 277.4954 (260.6093)\tPrec@1: 0.000 (1.541)\tPrec@5: 8.333 (2.697)\tlr 0.100000\n"
     ]
    },
    {
     "name": "stderr",
     "output_type": "stream",
     "text": [
      "\n",
      "Train epoch=0, iter=0:   0%|            | 173/261825 [01:57<46:17:17,  1.57it/s]"
     ]
    },
    {
     "name": "stdout",
     "output_type": "stream",
     "text": [
      "Train: [173/261825/2088]\tepoch: 0\titer: 173\tTime: 0.704 (0.834)\tData: 0.297 (0.493)\tLoss: 250.7530 (260.5526)\tPrec@1: 16.667 (1.628)\tPrec@5: 16.667 (2.778)\tlr 0.100000\n"
     ]
    },
    {
     "name": "stderr",
     "output_type": "stream",
     "text": [
      "\n",
      "Train epoch=0, iter=0:   0%|            | 174/261825 [01:57<47:47:04,  1.52it/s]"
     ]
    },
    {
     "name": "stdout",
     "output_type": "stream",
     "text": [
      "Train: [174/261825/2100]\tepoch: 0\titer: 174\tTime: 0.660 (0.833)\tData: 0.299 (0.492)\tLoss: 277.8127 (260.6513)\tPrec@1: 8.333 (1.667)\tPrec@5: 8.333 (2.810)\tlr 0.100000\n"
     ]
    },
    {
     "name": "stderr",
     "output_type": "stream",
     "text": [
      "\n",
      "Train epoch=0, iter=0:   0%|            | 175/261825 [01:58<48:15:52,  1.51it/s]"
     ]
    },
    {
     "name": "stdout",
     "output_type": "stream",
     "text": [
      "Train: [175/261825/2112]\tepoch: 0\titer: 175\tTime: 0.624 (0.831)\tData: 0.317 (0.491)\tLoss: 276.9018 (260.7436)\tPrec@1: 8.333 (1.705)\tPrec@5: 8.333 (2.841)\tlr 0.100000\n"
     ]
    },
    {
     "name": "stderr",
     "output_type": "stream",
     "text": [
      "\n",
      "Train epoch=0, iter=0:   0%|            | 176/261825 [01:59<47:19:52,  1.54it/s]"
     ]
    },
    {
     "name": "stdout",
     "output_type": "stream",
     "text": [
      "Train: [176/261825/2124]\tepoch: 0\titer: 176\tTime: 0.641 (0.830)\tData: 0.312 (0.490)\tLoss: 335.9883 (261.1687)\tPrec@1: 0.000 (1.695)\tPrec@5: 0.000 (2.825)\tlr 0.100000\n"
     ]
    },
    {
     "name": "stderr",
     "output_type": "stream",
     "text": [
      "\n",
      "Train epoch=0, iter=0:   0%|            | 177/261825 [01:59<47:26:26,  1.53it/s]"
     ]
    },
    {
     "name": "stdout",
     "output_type": "stream",
     "text": [
      "Train: [177/261825/2136]\tepoch: 0\titer: 177\tTime: 0.656 (0.829)\tData: 0.328 (0.489)\tLoss: 313.6758 (261.4637)\tPrec@1: 0.000 (1.685)\tPrec@5: 0.000 (2.809)\tlr 0.100000\n"
     ]
    },
    {
     "name": "stderr",
     "output_type": "stream",
     "text": [
      "\n",
      "Train epoch=0, iter=0:   0%|            | 178/261825 [02:00<47:10:36,  1.54it/s]"
     ]
    },
    {
     "name": "stdout",
     "output_type": "stream",
     "text": [
      "Train: [178/261825/2148]\tepoch: 0\titer: 178\tTime: 0.662 (0.828)\tData: 0.312 (0.488)\tLoss: 299.5016 (261.6762)\tPrec@1: 8.333 (1.723)\tPrec@5: 8.333 (2.840)\tlr 0.100000\n"
     ]
    },
    {
     "name": "stderr",
     "output_type": "stream",
     "text": [
      "\n",
      "Train epoch=0, iter=0:   0%|            | 179/261825 [02:01<47:32:05,  1.53it/s]"
     ]
    },
    {
     "name": "stdout",
     "output_type": "stream",
     "text": [
      "Train: [179/261825/2160]\tepoch: 0\titer: 179\tTime: 0.659 (0.827)\tData: 0.318 (0.487)\tLoss: 291.1302 (261.8398)\tPrec@1: 8.333 (1.759)\tPrec@5: 8.333 (2.870)\tlr 0.100000\n"
     ]
    },
    {
     "name": "stderr",
     "output_type": "stream",
     "text": [
      "\n",
      "Train epoch=0, iter=0:   0%|           | 180/261825 [02:08<201:45:37,  2.78s/it]"
     ]
    },
    {
     "name": "stdout",
     "output_type": "stream",
     "text": [
      "Train: [180/261825/2172]\tepoch: 0\titer: 180\tTime: 7.712 (0.866)\tData: 7.384 (0.525)\tLoss: 304.8214 (262.0773)\tPrec@1: 0.000 (1.750)\tPrec@5: 0.000 (2.855)\tlr 0.100000\n"
     ]
    },
    {
     "name": "stderr",
     "output_type": "stream",
     "text": [
      "\n",
      "Train epoch=0, iter=0:   0%|           | 181/261825 [02:09<155:11:59,  2.14s/it]"
     ]
    },
    {
     "name": "stdout",
     "output_type": "stream",
     "text": [
      "Train: [181/261825/2184]\tepoch: 0\titer: 181\tTime: 0.645 (0.864)\tData: 0.312 (0.524)\tLoss: 312.9861 (262.3570)\tPrec@1: 0.000 (1.740)\tPrec@5: 0.000 (2.839)\tlr 0.100000\n"
     ]
    },
    {
     "name": "stderr",
     "output_type": "stream",
     "text": [
      "\n",
      "Train epoch=0, iter=0:   0%|           | 182/261825 [02:10<122:25:04,  1.68s/it]"
     ]
    },
    {
     "name": "stdout",
     "output_type": "stream",
     "text": [
      "Train: [182/261825/2196]\tepoch: 0\titer: 182\tTime: 0.621 (0.863)\tData: 0.301 (0.523)\tLoss: 285.2997 (262.4824)\tPrec@1: 0.000 (1.730)\tPrec@5: 0.000 (2.823)\tlr 0.100000\n"
     ]
    },
    {
     "name": "stderr",
     "output_type": "stream",
     "text": [
      "\n",
      "Train epoch=0, iter=0:   0%|            | 183/261825 [02:10<99:14:30,  1.37s/it]"
     ]
    },
    {
     "name": "stdout",
     "output_type": "stream",
     "text": [
      "Train: [183/261825/2208]\tepoch: 0\titer: 183\tTime: 0.672 (0.862)\tData: 0.301 (0.522)\tLoss: 293.6078 (262.6516)\tPrec@1: 8.333 (1.766)\tPrec@5: 8.333 (2.853)\tlr 0.100000\n"
     ]
    },
    {
     "name": "stderr",
     "output_type": "stream",
     "text": [
      "\n",
      "Train epoch=0, iter=0:   0%|            | 184/261825 [02:11<84:26:12,  1.16s/it]"
     ]
    },
    {
     "name": "stdout",
     "output_type": "stream",
     "text": [
      "Train: [184/261825/2220]\tepoch: 0\titer: 184\tTime: 0.626 (0.861)\tData: 0.313 (0.521)\tLoss: 296.9666 (262.8371)\tPrec@1: 8.333 (1.802)\tPrec@5: 8.333 (2.883)\tlr 0.100000\n"
     ]
    },
    {
     "name": "stderr",
     "output_type": "stream",
     "text": [
      "\n",
      "Train epoch=0, iter=0:   0%|            | 185/261825 [02:12<72:58:30,  1.00s/it]"
     ]
    },
    {
     "name": "stdout",
     "output_type": "stream",
     "text": [
      "Train: [185/261825/2232]\tepoch: 0\titer: 185\tTime: 0.642 (0.860)\tData: 0.325 (0.520)\tLoss: 260.7738 (262.8260)\tPrec@1: 16.667 (1.882)\tPrec@5: 16.667 (2.957)\tlr 0.100000\n"
     ]
    },
    {
     "name": "stderr",
     "output_type": "stream",
     "text": [
      "\n",
      "Train epoch=0, iter=0:   0%|            | 186/261825 [02:12<64:30:11,  1.13it/s]"
     ]
    },
    {
     "name": "stdout",
     "output_type": "stream",
     "text": [
      "Train: [186/261825/2244]\tepoch: 0\titer: 186\tTime: 0.683 (0.859)\tData: 0.297 (0.518)\tLoss: 291.0802 (262.9771)\tPrec@1: 0.000 (1.872)\tPrec@5: 8.333 (2.986)\tlr 0.100000\n"
     ]
    },
    {
     "name": "stderr",
     "output_type": "stream",
     "text": [
      "\n",
      "Train epoch=0, iter=0:   0%|            | 187/261825 [02:13<60:31:00,  1.20it/s]"
     ]
    },
    {
     "name": "stdout",
     "output_type": "stream",
     "text": [
      "Train: [187/261825/2256]\tepoch: 0\titer: 187\tTime: 0.871 (0.859)\tData: 0.322 (0.517)\tLoss: 310.1760 (263.2281)\tPrec@1: 0.000 (1.862)\tPrec@5: 0.000 (2.970)\tlr 0.100000\n"
     ]
    },
    {
     "name": "stderr",
     "output_type": "stream",
     "text": [
      "\n",
      "Train epoch=0, iter=0:   0%|            | 188/261825 [02:14<61:12:46,  1.19it/s]"
     ]
    },
    {
     "name": "stdout",
     "output_type": "stream",
     "text": [
      "Train: [188/261825/2268]\tepoch: 0\titer: 188\tTime: 0.633 (0.857)\tData: 0.313 (0.516)\tLoss: 312.0023 (263.4862)\tPrec@1: 0.000 (1.852)\tPrec@5: 0.000 (2.954)\tlr 0.100000\n"
     ]
    },
    {
     "name": "stderr",
     "output_type": "stream",
     "text": [
      "\n",
      "Train epoch=0, iter=0:   0%|            | 189/261825 [02:14<56:12:16,  1.29it/s]"
     ]
    },
    {
     "name": "stdout",
     "output_type": "stream",
     "text": [
      "Train: [189/261825/2280]\tepoch: 0\titer: 189\tTime: 0.619 (0.856)\tData: 0.291 (0.515)\tLoss: 346.7547 (263.9245)\tPrec@1: 0.000 (1.842)\tPrec@5: 0.000 (2.939)\tlr 0.100000\n"
     ]
    },
    {
     "name": "stderr",
     "output_type": "stream",
     "text": [
      "\n",
      "Train epoch=0, iter=0:   0%|            | 190/261825 [02:15<52:58:11,  1.37it/s]"
     ]
    },
    {
     "name": "stdout",
     "output_type": "stream",
     "text": [
      "Train: [190/261825/2292]\tepoch: 0\titer: 190\tTime: 0.668 (0.855)\tData: 0.297 (0.514)\tLoss: 285.2544 (264.0361)\tPrec@1: 0.000 (1.832)\tPrec@5: 0.000 (2.923)\tlr 0.100000\n"
     ]
    },
    {
     "name": "stderr",
     "output_type": "stream",
     "text": [
      "\n",
      "Train epoch=0, iter=0:   0%|            | 191/261825 [02:16<52:01:36,  1.40it/s]"
     ]
    },
    {
     "name": "stdout",
     "output_type": "stream",
     "text": [
      "Train: [191/261825/2304]\tepoch: 0\titer: 191\tTime: 0.654 (0.854)\tData: 0.317 (0.513)\tLoss: 324.2409 (264.3497)\tPrec@1: 8.333 (1.866)\tPrec@5: 8.333 (2.951)\tlr 0.100000\n"
     ]
    },
    {
     "name": "stderr",
     "output_type": "stream",
     "text": [
      "\n",
      "Train epoch=0, iter=0:   0%|            | 192/261825 [02:16<50:27:38,  1.44it/s]"
     ]
    },
    {
     "name": "stdout",
     "output_type": "stream",
     "text": [
      "Train: [192/261825/2316]\tepoch: 0\titer: 192\tTime: 0.663 (0.853)\tData: 0.304 (0.512)\tLoss: 381.5446 (264.9569)\tPrec@1: 0.000 (1.857)\tPrec@5: 0.000 (2.936)\tlr 0.100000\n"
     ]
    },
    {
     "name": "stderr",
     "output_type": "stream",
     "text": [
      "\n",
      "Train epoch=0, iter=0:   0%|            | 193/261825 [02:17<49:58:16,  1.45it/s]"
     ]
    },
    {
     "name": "stdout",
     "output_type": "stream",
     "text": [
      "Train: [193/261825/2328]\tepoch: 0\titer: 193\tTime: 0.672 (0.852)\tData: 0.312 (0.511)\tLoss: 240.5839 (264.8313)\tPrec@1: 8.333 (1.890)\tPrec@5: 8.333 (2.964)\tlr 0.100000\n"
     ]
    },
    {
     "name": "stderr",
     "output_type": "stream",
     "text": [
      "\n",
      "Train epoch=0, iter=0:   0%|            | 194/261825 [02:18<49:40:04,  1.46it/s]"
     ]
    },
    {
     "name": "stdout",
     "output_type": "stream",
     "text": [
      "Train: [194/261825/2340]\tepoch: 0\titer: 194\tTime: 0.649 (0.851)\tData: 0.317 (0.510)\tLoss: 290.9373 (264.9652)\tPrec@1: 0.000 (1.880)\tPrec@5: 0.000 (2.949)\tlr 0.100000\n"
     ]
    },
    {
     "name": "stderr",
     "output_type": "stream",
     "text": [
      "\n",
      "Train epoch=0, iter=0:   0%|            | 195/261825 [02:18<48:38:53,  1.49it/s]"
     ]
    },
    {
     "name": "stdout",
     "output_type": "stream",
     "text": [
      "Train: [195/261825/2352]\tepoch: 0\titer: 195\tTime: 0.645 (0.850)\tData: 0.301 (0.509)\tLoss: 317.5649 (265.2335)\tPrec@1: 0.000 (1.871)\tPrec@5: 8.333 (2.976)\tlr 0.100000\n"
     ]
    },
    {
     "name": "stderr",
     "output_type": "stream",
     "text": [
      "\n",
      "Train epoch=0, iter=0:   0%|            | 196/261825 [02:19<48:42:08,  1.49it/s]"
     ]
    },
    {
     "name": "stdout",
     "output_type": "stream",
     "text": [
      "Train: [196/261825/2364]\tepoch: 0\titer: 196\tTime: 0.691 (0.849)\tData: 0.328 (0.508)\tLoss: 287.6679 (265.3474)\tPrec@1: 0.000 (1.861)\tPrec@5: 0.000 (2.961)\tlr 0.100000\n"
     ]
    },
    {
     "name": "stderr",
     "output_type": "stream",
     "text": [
      "\n",
      "Train epoch=0, iter=0:   0%|            | 197/261825 [02:20<48:48:36,  1.49it/s]"
     ]
    },
    {
     "name": "stdout",
     "output_type": "stream",
     "text": [
      "Train: [197/261825/2376]\tepoch: 0\titer: 197\tTime: 0.656 (0.848)\tData: 0.312 (0.507)\tLoss: 269.1073 (265.3664)\tPrec@1: 0.000 (1.852)\tPrec@5: 0.000 (2.946)\tlr 0.100000\n"
     ]
    },
    {
     "name": "stderr",
     "output_type": "stream",
     "text": [
      "\n",
      "Train epoch=0, iter=0:   0%|            | 198/261825 [02:20<48:28:29,  1.50it/s]"
     ]
    },
    {
     "name": "stdout",
     "output_type": "stream",
     "text": [
      "Train: [198/261825/2388]\tepoch: 0\titer: 198\tTime: 0.641 (0.847)\tData: 0.312 (0.506)\tLoss: 309.6922 (265.5891)\tPrec@1: 0.000 (1.843)\tPrec@5: 0.000 (2.931)\tlr 0.100000\n"
     ]
    },
    {
     "name": "stderr",
     "output_type": "stream",
     "text": [
      "\n",
      "Train epoch=0, iter=0:   0%|            | 199/261825 [02:21<47:53:58,  1.52it/s]"
     ]
    },
    {
     "name": "stdout",
     "output_type": "stream",
     "text": [
      "Train: [199/261825/2400]\tepoch: 0\titer: 199\tTime: 0.705 (0.847)\tData: 0.328 (0.505)\tLoss: 284.8008 (265.6852)\tPrec@1: 0.000 (1.833)\tPrec@5: 0.000 (2.917)\tlr 0.100000\n"
     ]
    },
    {
     "name": "stderr",
     "output_type": "stream",
     "text": [
      "\n",
      "Train epoch=0, iter=0:   0%|            | 200/261825 [02:22<48:53:43,  1.49it/s]"
     ]
    },
    {
     "name": "stdout",
     "output_type": "stream",
     "text": [
      "Train: [200/261825/2412]\tepoch: 0\titer: 200\tTime: 0.641 (0.846)\tData: 0.312 (0.504)\tLoss: 264.1291 (265.6775)\tPrec@1: 8.333 (1.866)\tPrec@5: 16.667 (2.985)\tlr 0.100000\n"
     ]
    },
    {
     "name": "stderr",
     "output_type": "stream",
     "text": [
      "\n",
      "Train epoch=0, iter=0:   0%|            | 201/261825 [02:22<48:19:22,  1.50it/s]"
     ]
    },
    {
     "name": "stdout",
     "output_type": "stream",
     "text": [
      "Train: [201/261825/2424]\tepoch: 0\titer: 201\tTime: 0.680 (0.845)\tData: 0.320 (0.503)\tLoss: 291.5205 (265.8054)\tPrec@1: 0.000 (1.856)\tPrec@5: 0.000 (2.970)\tlr 0.100000\n"
     ]
    },
    {
     "name": "stderr",
     "output_type": "stream",
     "text": [
      "\n",
      "Train epoch=0, iter=0:   0%|            | 202/261825 [02:23<48:34:28,  1.50it/s]"
     ]
    },
    {
     "name": "stdout",
     "output_type": "stream",
     "text": [
      "Train: [202/261825/2436]\tepoch: 0\titer: 202\tTime: 0.624 (0.844)\tData: 0.318 (0.502)\tLoss: 316.7783 (266.0565)\tPrec@1: 0.000 (1.847)\tPrec@5: 0.000 (2.956)\tlr 0.100000\n"
     ]
    },
    {
     "name": "stderr",
     "output_type": "stream",
     "text": [
      "\n",
      "Train epoch=0, iter=0:   0%|            | 203/261825 [02:24<47:17:24,  1.54it/s]"
     ]
    },
    {
     "name": "stdout",
     "output_type": "stream",
     "text": [
      "Train: [203/261825/2448]\tepoch: 0\titer: 203\tTime: 0.628 (0.843)\tData: 0.316 (0.501)\tLoss: 335.6281 (266.3976)\tPrec@1: 0.000 (1.838)\tPrec@5: 0.000 (2.941)\tlr 0.100000\n"
     ]
    },
    {
     "name": "stderr",
     "output_type": "stream",
     "text": [
      "\n",
      "Train epoch=0, iter=0:   0%|            | 204/261825 [02:24<46:23:18,  1.57it/s]"
     ]
    },
    {
     "name": "stdout",
     "output_type": "stream",
     "text": [
      "Train: [204/261825/2460]\tepoch: 0\titer: 204\tTime: 0.627 (0.842)\tData: 0.297 (0.500)\tLoss: 348.4330 (266.7977)\tPrec@1: 0.000 (1.829)\tPrec@5: 0.000 (2.927)\tlr 0.100000\n"
     ]
    },
    {
     "name": "stderr",
     "output_type": "stream",
     "text": [
      "\n",
      "Train epoch=0, iter=0:   0%|            | 205/261825 [02:25<46:53:24,  1.55it/s]"
     ]
    },
    {
     "name": "stdout",
     "output_type": "stream",
     "text": [
      "Train: [205/261825/2472]\tepoch: 0\titer: 205\tTime: 0.630 (0.841)\tData: 0.317 (0.499)\tLoss: 326.9639 (267.0898)\tPrec@1: 0.000 (1.820)\tPrec@5: 0.000 (2.913)\tlr 0.100000\n"
     ]
    },
    {
     "name": "stderr",
     "output_type": "stream",
     "text": [
      "\n",
      "Train epoch=0, iter=0:   0%|            | 206/261825 [02:25<46:00:00,  1.58it/s]"
     ]
    },
    {
     "name": "stdout",
     "output_type": "stream",
     "text": [
      "Train: [206/261825/2484]\tepoch: 0\titer: 206\tTime: 0.664 (0.840)\tData: 0.289 (0.498)\tLoss: 314.0028 (267.3164)\tPrec@1: 0.000 (1.812)\tPrec@5: 0.000 (2.899)\tlr 0.100000\n"
     ]
    },
    {
     "name": "stderr",
     "output_type": "stream",
     "text": [
      "\n",
      "Train epoch=0, iter=0:   0%|            | 207/261825 [02:26<47:11:20,  1.54it/s]"
     ]
    },
    {
     "name": "stdout",
     "output_type": "stream",
     "text": [
      "Train: [207/261825/2496]\tepoch: 0\titer: 207\tTime: 0.625 (0.839)\tData: 0.313 (0.498)\tLoss: 355.7483 (267.7416)\tPrec@1: 0.000 (1.803)\tPrec@5: 0.000 (2.885)\tlr 0.100000\n"
     ]
    },
    {
     "name": "stderr",
     "output_type": "stream",
     "text": [
      "\n",
      "Train epoch=0, iter=0:   0%|            | 208/261825 [02:27<46:19:02,  1.57it/s]"
     ]
    },
    {
     "name": "stdout",
     "output_type": "stream",
     "text": [
      "Train: [208/261825/2508]\tepoch: 0\titer: 208\tTime: 0.672 (0.838)\tData: 0.297 (0.497)\tLoss: 313.1081 (267.9586)\tPrec@1: 8.333 (1.834)\tPrec@5: 8.333 (2.911)\tlr 0.100000\n"
     ]
    },
    {
     "name": "stderr",
     "output_type": "stream",
     "text": [
      "\n",
      "Train epoch=0, iter=0:   0%|            | 209/261825 [02:27<47:33:50,  1.53it/s]"
     ]
    },
    {
     "name": "stdout",
     "output_type": "stream",
     "text": [
      "Train: [209/261825/2520]\tepoch: 0\titer: 209\tTime: 0.652 (0.837)\tData: 0.322 (0.496)\tLoss: 306.1579 (268.1406)\tPrec@1: 8.333 (1.865)\tPrec@5: 8.333 (2.937)\tlr 0.100000\n"
     ]
    },
    {
     "name": "stderr",
     "output_type": "stream",
     "text": [
      "\n",
      "Train epoch=0, iter=0:   0%|            | 210/261825 [02:28<47:23:17,  1.53it/s]"
     ]
    },
    {
     "name": "stdout",
     "output_type": "stream",
     "text": [
      "Train: [210/261825/2532]\tepoch: 0\titer: 210\tTime: 0.642 (0.836)\tData: 0.317 (0.495)\tLoss: 297.3696 (268.2791)\tPrec@1: 0.000 (1.856)\tPrec@5: 0.000 (2.923)\tlr 0.100000\n"
     ]
    },
    {
     "name": "stderr",
     "output_type": "stream",
     "text": [
      "\n",
      "Train epoch=0, iter=0:   0%|            | 211/261825 [02:29<47:12:51,  1.54it/s]"
     ]
    },
    {
     "name": "stdout",
     "output_type": "stream",
     "text": [
      "Train: [211/261825/2544]\tepoch: 0\titer: 211\tTime: 0.656 (0.835)\tData: 0.318 (0.494)\tLoss: 322.0777 (268.5328)\tPrec@1: 0.000 (1.847)\tPrec@5: 0.000 (2.909)\tlr 0.100000\n"
     ]
    },
    {
     "name": "stderr",
     "output_type": "stream",
     "text": [
      "\n",
      "Train epoch=0, iter=0:   0%|            | 212/261825 [02:29<47:03:24,  1.54it/s]"
     ]
    },
    {
     "name": "stdout",
     "output_type": "stream",
     "text": [
      "Train: [212/261825/2556]\tepoch: 0\titer: 212\tTime: 0.630 (0.834)\tData: 0.318 (0.493)\tLoss: 317.5152 (268.7628)\tPrec@1: 8.333 (1.878)\tPrec@5: 8.333 (2.934)\tlr 0.100000\n"
     ]
    },
    {
     "name": "stderr",
     "output_type": "stream",
     "text": [
      "\n",
      "Train epoch=0, iter=0:   0%|            | 213/261825 [02:30<46:54:21,  1.55it/s]"
     ]
    },
    {
     "name": "stdout",
     "output_type": "stream",
     "text": [
      "Train: [213/261825/2568]\tepoch: 0\titer: 213\tTime: 0.637 (0.833)\tData: 0.328 (0.492)\tLoss: 331.2014 (269.0546)\tPrec@1: 0.000 (1.869)\tPrec@5: 0.000 (2.921)\tlr 0.100000\n"
     ]
    },
    {
     "name": "stderr",
     "output_type": "stream",
     "text": [
      "\n",
      "Train epoch=0, iter=0:   0%|            | 214/261825 [02:31<46:45:18,  1.55it/s]"
     ]
    },
    {
     "name": "stdout",
     "output_type": "stream",
     "text": [
      "Train: [214/261825/2580]\tepoch: 0\titer: 214\tTime: 0.653 (0.832)\tData: 0.317 (0.492)\tLoss: 302.1412 (269.2085)\tPrec@1: 0.000 (1.860)\tPrec@5: 0.000 (2.907)\tlr 0.100000\n"
     ]
    },
    {
     "name": "stderr",
     "output_type": "stream",
     "text": [
      "\n",
      "Train epoch=0, iter=0:   0%|            | 215/261825 [02:31<46:46:14,  1.55it/s]"
     ]
    },
    {
     "name": "stdout",
     "output_type": "stream",
     "text": [
      "Train: [215/261825/2592]\tepoch: 0\titer: 215\tTime: 0.664 (0.832)\tData: 0.305 (0.491)\tLoss: 317.4459 (269.4318)\tPrec@1: 0.000 (1.852)\tPrec@5: 0.000 (2.894)\tlr 0.100000\n"
     ]
    },
    {
     "name": "stderr",
     "output_type": "stream",
     "text": [
      "\n",
      "Train epoch=0, iter=0:   0%|            | 216/261825 [02:32<47:23:13,  1.53it/s]"
     ]
    },
    {
     "name": "stdout",
     "output_type": "stream",
     "text": [
      "Train: [216/261825/2604]\tepoch: 0\titer: 216\tTime: 0.644 (0.831)\tData: 0.312 (0.490)\tLoss: 342.6257 (269.7691)\tPrec@1: 0.000 (1.843)\tPrec@5: 0.000 (2.880)\tlr 0.100000\n"
     ]
    },
    {
     "name": "stderr",
     "output_type": "stream",
     "text": [
      "\n",
      "Train epoch=0, iter=0:   0%|            | 217/261825 [02:33<47:14:20,  1.54it/s]"
     ]
    },
    {
     "name": "stdout",
     "output_type": "stream",
     "text": [
      "Train: [217/261825/2616]\tepoch: 0\titer: 217\tTime: 0.652 (0.830)\tData: 0.317 (0.489)\tLoss: 260.4645 (269.7264)\tPrec@1: 0.000 (1.835)\tPrec@5: 8.333 (2.905)\tlr 0.100000\n"
     ]
    },
    {
     "name": "stderr",
     "output_type": "stream",
     "text": [
      "\n",
      "Train epoch=0, iter=0:   0%|            | 218/261825 [02:33<47:20:05,  1.54it/s]"
     ]
    },
    {
     "name": "stdout",
     "output_type": "stream",
     "text": [
      "Train: [218/261825/2628]\tepoch: 0\titer: 218\tTime: 0.653 (0.829)\tData: 0.318 (0.488)\tLoss: 326.0836 (269.9838)\tPrec@1: 8.333 (1.865)\tPrec@5: 8.333 (2.930)\tlr 0.100000\n"
     ]
    },
    {
     "name": "stderr",
     "output_type": "stream",
     "text": [
      "\n",
      "Train epoch=0, iter=0:   0%|            | 219/261825 [02:34<47:16:56,  1.54it/s]"
     ]
    },
    {
     "name": "stdout",
     "output_type": "stream",
     "text": [
      "Train: [219/261825/2640]\tepoch: 0\titer: 219\tTime: 0.641 (0.828)\tData: 0.328 (0.488)\tLoss: 347.2429 (270.3349)\tPrec@1: 0.000 (1.856)\tPrec@5: 0.000 (2.917)\tlr 0.100000\n"
     ]
    },
    {
     "name": "stderr",
     "output_type": "stream",
     "text": [
      "\n",
      "Train epoch=0, iter=0:   0%|            | 220/261825 [02:35<47:11:50,  1.54it/s]"
     ]
    },
    {
     "name": "stdout",
     "output_type": "stream",
     "text": [
      "Train: [220/261825/2652]\tepoch: 0\titer: 220\tTime: 0.697 (0.828)\tData: 0.322 (0.487)\tLoss: 303.3222 (270.4842)\tPrec@1: 0.000 (1.848)\tPrec@5: 8.333 (2.941)\tlr 0.100000\n"
     ]
    },
    {
     "name": "stderr",
     "output_type": "stream",
     "text": [
      "\n",
      "Train epoch=0, iter=0:   0%|            | 221/261825 [02:35<48:09:22,  1.51it/s]"
     ]
    },
    {
     "name": "stdout",
     "output_type": "stream",
     "text": [
      "Train: [221/261825/2664]\tepoch: 0\titer: 221\tTime: 0.650 (0.827)\tData: 0.317 (0.486)\tLoss: 367.9290 (270.9232)\tPrec@1: 0.000 (1.839)\tPrec@5: 0.000 (2.928)\tlr 0.100000\n"
     ]
    },
    {
     "name": "stderr",
     "output_type": "stream",
     "text": [
      "\n",
      "Train epoch=0, iter=0:   0%|            | 222/261825 [02:36<47:52:03,  1.52it/s]"
     ]
    },
    {
     "name": "stdout",
     "output_type": "stream",
     "text": [
      "Train: [222/261825/2676]\tepoch: 0\titer: 222\tTime: 0.652 (0.826)\tData: 0.317 (0.485)\tLoss: 324.8981 (271.1652)\tPrec@1: 0.000 (1.831)\tPrec@5: 0.000 (2.915)\tlr 0.100000\n"
     ]
    },
    {
     "name": "stderr",
     "output_type": "stream",
     "text": [
      "\n",
      "Train epoch=0, iter=0:   0%|            | 223/261825 [02:37<47:45:33,  1.52it/s]"
     ]
    },
    {
     "name": "stdout",
     "output_type": "stream",
     "text": [
      "Train: [223/261825/2688]\tepoch: 0\titer: 223\tTime: 0.675 (0.825)\tData: 0.315 (0.485)\tLoss: 275.6458 (271.1852)\tPrec@1: 8.333 (1.860)\tPrec@5: 16.667 (2.976)\tlr 0.100000\n"
     ]
    },
    {
     "name": "stderr",
     "output_type": "stream",
     "text": [
      "\n",
      "Train epoch=0, iter=0:   0%|            | 224/261825 [02:37<48:04:44,  1.51it/s]"
     ]
    },
    {
     "name": "stdout",
     "output_type": "stream",
     "text": [
      "Train: [224/261825/2700]\tepoch: 0\titer: 224\tTime: 0.641 (0.825)\tData: 0.313 (0.484)\tLoss: 325.9308 (271.4285)\tPrec@1: 0.000 (1.852)\tPrec@5: 0.000 (2.963)\tlr 0.100000\n"
     ]
    },
    {
     "name": "stderr",
     "output_type": "stream",
     "text": [
      "\n",
      "Train epoch=0, iter=0:   0%|            | 225/261825 [02:38<47:16:41,  1.54it/s]"
     ]
    },
    {
     "name": "stdout",
     "output_type": "stream",
     "text": [
      "Train: [225/261825/2712]\tepoch: 0\titer: 225\tTime: 0.638 (0.824)\tData: 0.298 (0.483)\tLoss: 331.3710 (271.6937)\tPrec@1: 0.000 (1.844)\tPrec@5: 0.000 (2.950)\tlr 0.100000\n"
     ]
    },
    {
     "name": "stderr",
     "output_type": "stream",
     "text": [
      "\n",
      "Train epoch=0, iter=0:   0%|            | 226/261825 [02:38<47:24:20,  1.53it/s]"
     ]
    },
    {
     "name": "stdout",
     "output_type": "stream",
     "text": [
      "Train: [226/261825/2724]\tepoch: 0\titer: 226\tTime: 0.633 (0.823)\tData: 0.315 (0.482)\tLoss: 254.2186 (271.6167)\tPrec@1: 8.333 (1.872)\tPrec@5: 8.333 (2.974)\tlr 0.100000\n"
     ]
    },
    {
     "name": "stderr",
     "output_type": "stream",
     "text": [
      "\n",
      "Train epoch=0, iter=0:   0%|            | 227/261825 [02:39<46:30:46,  1.56it/s]"
     ]
    },
    {
     "name": "stdout",
     "output_type": "stream",
     "text": [
      "Train: [227/261825/2736]\tepoch: 0\titer: 227\tTime: 0.651 (0.822)\tData: 0.294 (0.481)\tLoss: 321.9071 (271.8373)\tPrec@1: 0.000 (1.864)\tPrec@5: 0.000 (2.961)\tlr 0.100000\n"
     ]
    },
    {
     "name": "stderr",
     "output_type": "stream",
     "text": [
      "\n",
      "Train epoch=0, iter=0:   0%|            | 228/261825 [02:40<47:13:07,  1.54it/s]"
     ]
    },
    {
     "name": "stdout",
     "output_type": "stream",
     "text": [
      "Train: [228/261825/2748]\tepoch: 0\titer: 228\tTime: 0.632 (0.821)\tData: 0.314 (0.481)\tLoss: 294.1327 (271.9347)\tPrec@1: 0.000 (1.856)\tPrec@5: 8.333 (2.984)\tlr 0.100000\n"
     ]
    },
    {
     "name": "stderr",
     "output_type": "stream",
     "text": [
      "\n",
      "Train epoch=0, iter=0:   0%|            | 229/261825 [02:40<46:22:55,  1.57it/s]"
     ]
    },
    {
     "name": "stdout",
     "output_type": "stream",
     "text": [
      "Train: [229/261825/2760]\tepoch: 0\titer: 229\tTime: 0.640 (0.821)\tData: 0.294 (0.480)\tLoss: 307.4408 (272.0891)\tPrec@1: 0.000 (1.848)\tPrec@5: 0.000 (2.971)\tlr 0.100000\n"
     ]
    },
    {
     "name": "stderr",
     "output_type": "stream",
     "text": [
      "\n",
      "Train epoch=0, iter=0:   0%|            | 230/261825 [02:41<46:57:09,  1.55it/s]"
     ]
    },
    {
     "name": "stdout",
     "output_type": "stream",
     "text": [
      "Train: [230/261825/2772]\tepoch: 0\titer: 230\tTime: 0.645 (0.820)\tData: 0.318 (0.479)\tLoss: 290.3249 (272.1680)\tPrec@1: 0.000 (1.840)\tPrec@5: 0.000 (2.958)\tlr 0.100000\n"
     ]
    },
    {
     "name": "stderr",
     "output_type": "stream",
     "text": [
      "\n",
      "Train epoch=0, iter=0:   0%|            | 231/261825 [02:42<46:50:09,  1.55it/s]"
     ]
    },
    {
     "name": "stdout",
     "output_type": "stream",
     "text": [
      "Train: [231/261825/2784]\tepoch: 0\titer: 231\tTime: 0.641 (0.819)\tData: 0.312 (0.479)\tLoss: 300.6904 (272.2909)\tPrec@1: 8.333 (1.868)\tPrec@5: 8.333 (2.981)\tlr 0.100000\n"
     ]
    },
    {
     "name": "stderr",
     "output_type": "stream",
     "text": [
      "\n",
      "Train epoch=0, iter=0:   0%|            | 232/261825 [02:42<46:45:02,  1.55it/s]"
     ]
    },
    {
     "name": "stdout",
     "output_type": "stream",
     "text": [
      "Train: [232/261825/2796]\tepoch: 0\titer: 232\tTime: 0.625 (0.818)\tData: 0.312 (0.478)\tLoss: 334.3483 (272.5573)\tPrec@1: 0.000 (1.860)\tPrec@5: 0.000 (2.969)\tlr 0.100000\n"
     ]
    },
    {
     "name": "stderr",
     "output_type": "stream",
     "text": [
      "\n",
      "Train epoch=0, iter=0:   0%|            | 233/261825 [02:43<46:41:26,  1.56it/s]"
     ]
    },
    {
     "name": "stdout",
     "output_type": "stream",
     "text": [
      "Train: [233/261825/2808]\tepoch: 0\titer: 233\tTime: 0.679 (0.818)\tData: 0.328 (0.477)\tLoss: 265.0110 (272.5250)\tPrec@1: 8.333 (1.887)\tPrec@5: 16.667 (3.027)\tlr 0.100000\n"
     ]
    },
    {
     "name": "stderr",
     "output_type": "stream",
     "text": [
      "\n",
      "Train epoch=0, iter=0:   0%|            | 234/261825 [02:44<47:10:22,  1.54it/s]"
     ]
    },
    {
     "name": "stdout",
     "output_type": "stream",
     "text": [
      "Train: [234/261825/2820]\tepoch: 0\titer: 234\tTime: 0.661 (0.817)\tData: 0.317 (0.476)\tLoss: 295.4525 (272.6226)\tPrec@1: 0.000 (1.879)\tPrec@5: 0.000 (3.014)\tlr 0.100000\n"
     ]
    },
    {
     "name": "stderr",
     "output_type": "stream",
     "text": [
      "\n",
      "Train epoch=0, iter=0:   0%|            | 235/261825 [02:44<47:08:48,  1.54it/s]"
     ]
    },
    {
     "name": "stdout",
     "output_type": "stream",
     "text": [
      "Train: [235/261825/2832]\tepoch: 0\titer: 235\tTime: 0.613 (0.816)\tData: 0.316 (0.476)\tLoss: 279.9224 (272.6535)\tPrec@1: 0.000 (1.871)\tPrec@5: 0.000 (3.001)\tlr 0.100000\n"
     ]
    },
    {
     "name": "stderr",
     "output_type": "stream",
     "text": [
      "\n",
      "Train epoch=0, iter=0:   0%|            | 236/261825 [02:45<46:37:38,  1.56it/s]"
     ]
    },
    {
     "name": "stdout",
     "output_type": "stream",
     "text": [
      "Train: [236/261825/2844]\tepoch: 0\titer: 236\tTime: 0.656 (0.815)\tData: 0.312 (0.475)\tLoss: 248.8157 (272.5529)\tPrec@1: 16.667 (1.934)\tPrec@5: 16.667 (3.059)\tlr 0.100000\n"
     ]
    },
    {
     "name": "stderr",
     "output_type": "stream",
     "text": [
      "\n",
      "Train epoch=0, iter=0:   0%|            | 237/261825 [02:46<46:56:41,  1.55it/s]"
     ]
    },
    {
     "name": "stdout",
     "output_type": "stream",
     "text": [
      "Train: [237/261825/2856]\tepoch: 0\titer: 237\tTime: 0.641 (0.815)\tData: 0.312 (0.474)\tLoss: 247.3491 (272.4471)\tPrec@1: 8.333 (1.961)\tPrec@5: 8.333 (3.081)\tlr 0.100000\n"
     ]
    },
    {
     "name": "stderr",
     "output_type": "stream",
     "text": [
      "\n",
      "Train epoch=0, iter=0:   0%|            | 238/261825 [02:46<46:49:34,  1.55it/s]"
     ]
    },
    {
     "name": "stdout",
     "output_type": "stream",
     "text": [
      "Train: [238/261825/2868]\tepoch: 0\titer: 238\tTime: 0.641 (0.814)\tData: 0.312 (0.474)\tLoss: 284.8994 (272.4991)\tPrec@1: 8.333 (1.987)\tPrec@5: 8.333 (3.103)\tlr 0.100000\n"
     ]
    },
    {
     "name": "stderr",
     "output_type": "stream",
     "text": [
      "\n",
      "Train epoch=0, iter=0:   0%|            | 239/261825 [02:47<46:49:42,  1.55it/s]"
     ]
    },
    {
     "name": "stdout",
     "output_type": "stream",
     "text": [
      "Train: [239/261825/2880]\tepoch: 0\titer: 239\tTime: 0.702 (0.814)\tData: 0.318 (0.473)\tLoss: 325.8576 (272.7215)\tPrec@1: 0.000 (1.979)\tPrec@5: 0.000 (3.090)\tlr 0.100000\n"
     ]
    },
    {
     "name": "stderr",
     "output_type": "stream",
     "text": [
      "\n",
      "Train epoch=0, iter=0:   0%|            | 240/261825 [02:48<48:01:30,  1.51it/s]"
     ]
    },
    {
     "name": "stdout",
     "output_type": "stream",
     "text": [
      "Train: [240/261825/2892]\tepoch: 0\titer: 240\tTime: 0.611 (0.813)\tData: 0.314 (0.472)\tLoss: 335.8789 (272.9836)\tPrec@1: 0.000 (1.971)\tPrec@5: 0.000 (3.077)\tlr 0.100000\n"
     ]
    },
    {
     "name": "stderr",
     "output_type": "stream",
     "text": [
      "\n",
      "Train epoch=0, iter=0:   0%|            | 241/261825 [02:48<47:14:30,  1.54it/s]"
     ]
    },
    {
     "name": "stdout",
     "output_type": "stream",
     "text": [
      "Train: [241/261825/2904]\tepoch: 0\titer: 241\tTime: 0.719 (0.812)\tData: 0.328 (0.472)\tLoss: 334.6580 (273.2384)\tPrec@1: 0.000 (1.963)\tPrec@5: 0.000 (3.065)\tlr 0.100000\n"
     ]
    },
    {
     "name": "stderr",
     "output_type": "stream",
     "text": [
      "\n",
      "Train epoch=0, iter=0:   0%|            | 242/261825 [02:49<48:23:47,  1.50it/s]"
     ]
    },
    {
     "name": "stdout",
     "output_type": "stream",
     "text": [
      "Train: [242/261825/2916]\tepoch: 0\titer: 242\tTime: 0.656 (0.812)\tData: 0.312 (0.471)\tLoss: 271.6518 (273.2319)\tPrec@1: 8.333 (1.989)\tPrec@5: 8.333 (3.086)\tlr 0.100000\n"
     ]
    },
    {
     "name": "stderr",
     "output_type": "stream",
     "text": [
      "\n",
      "Train epoch=0, iter=0:   0%|            | 243/261825 [02:50<48:20:19,  1.50it/s]"
     ]
    },
    {
     "name": "stdout",
     "output_type": "stream",
     "text": [
      "Train: [243/261825/2928]\tepoch: 0\titer: 243\tTime: 0.667 (0.811)\tData: 0.323 (0.471)\tLoss: 312.9591 (273.3947)\tPrec@1: 0.000 (1.981)\tPrec@5: 8.333 (3.108)\tlr 0.100000\n"
     ]
    },
    {
     "name": "stderr",
     "output_type": "stream",
     "text": [
      "\n",
      "Train epoch=0, iter=0:   0%|            | 244/261825 [02:50<48:15:21,  1.51it/s]"
     ]
    },
    {
     "name": "stdout",
     "output_type": "stream",
     "text": [
      "Train: [244/261825/2940]\tepoch: 0\titer: 244\tTime: 0.646 (0.810)\tData: 0.317 (0.470)\tLoss: 263.8450 (273.3557)\tPrec@1: 0.000 (1.973)\tPrec@5: 8.333 (3.129)\tlr 0.100000\n"
     ]
    },
    {
     "name": "stderr",
     "output_type": "stream",
     "text": [
      "\n",
      "Train epoch=0, iter=0:   0%|            | 245/261825 [02:51<47:49:37,  1.52it/s]"
     ]
    },
    {
     "name": "stdout",
     "output_type": "stream",
     "text": [
      "Train: [245/261825/2952]\tepoch: 0\titer: 245\tTime: 0.625 (0.810)\tData: 0.312 (0.469)\tLoss: 298.8226 (273.4592)\tPrec@1: 0.000 (1.965)\tPrec@5: 0.000 (3.117)\tlr 0.100000\n"
     ]
    },
    {
     "name": "stderr",
     "output_type": "stream",
     "text": [
      "\n",
      "Train epoch=0, iter=0:   0%|            | 246/261825 [02:51<46:45:42,  1.55it/s]"
     ]
    },
    {
     "name": "stdout",
     "output_type": "stream",
     "text": [
      "Train: [246/261825/2964]\tepoch: 0\titer: 246\tTime: 0.672 (0.809)\tData: 0.297 (0.469)\tLoss: 265.6513 (273.4276)\tPrec@1: 8.333 (1.991)\tPrec@5: 8.333 (3.138)\tlr 0.100000\n"
     ]
    },
    {
     "name": "stderr",
     "output_type": "stream",
     "text": [
      "\n",
      "Train epoch=0, iter=0:   0%|            | 247/261825 [02:52<47:43:10,  1.52it/s]"
     ]
    },
    {
     "name": "stdout",
     "output_type": "stream",
     "text": [
      "Train: [247/261825/2976]\tepoch: 0\titer: 247\tTime: 0.656 (0.808)\tData: 0.312 (0.468)\tLoss: 306.4940 (273.5609)\tPrec@1: 0.000 (1.983)\tPrec@5: 0.000 (3.125)\tlr 0.100000\n"
     ]
    },
    {
     "name": "stderr",
     "output_type": "stream",
     "text": [
      "\n",
      "Train epoch=0, iter=0:   0%|            | 248/261825 [02:53<47:42:31,  1.52it/s]"
     ]
    },
    {
     "name": "stdout",
     "output_type": "stream",
     "text": [
      "Train: [248/261825/2988]\tepoch: 0\titer: 248\tTime: 0.688 (0.808)\tData: 0.312 (0.467)\tLoss: 274.1039 (273.5631)\tPrec@1: 8.333 (2.008)\tPrec@5: 8.333 (3.146)\tlr 0.100000\n"
     ]
    },
    {
     "name": "stderr",
     "output_type": "stream",
     "text": [
      "\n",
      "Train epoch=0, iter=0:   0%|            | 249/261825 [02:53<48:22:56,  1.50it/s]"
     ]
    },
    {
     "name": "stdout",
     "output_type": "stream",
     "text": [
      "Train: [249/261825/3000]\tepoch: 0\titer: 249\tTime: 0.656 (0.807)\tData: 0.312 (0.467)\tLoss: 301.6115 (273.6753)\tPrec@1: 8.333 (2.033)\tPrec@5: 8.333 (3.167)\tlr 0.100000\n"
     ]
    },
    {
     "name": "stderr",
     "output_type": "stream",
     "text": [
      "\n",
      "Train epoch=0, iter=0:   0%|            | 250/261825 [02:54<48:10:21,  1.51it/s]"
     ]
    },
    {
     "name": "stdout",
     "output_type": "stream",
     "text": [
      "Train: [250/261825/3012]\tepoch: 0\titer: 250\tTime: 0.643 (0.807)\tData: 0.313 (0.466)\tLoss: 311.3738 (273.8255)\tPrec@1: 0.000 (2.025)\tPrec@5: 0.000 (3.154)\tlr 0.100000\n"
     ]
    },
    {
     "name": "stderr",
     "output_type": "stream",
     "text": [
      "\n",
      "Train epoch=0, iter=0:   0%|            | 251/261825 [02:55<47:48:22,  1.52it/s]"
     ]
    },
    {
     "name": "stdout",
     "output_type": "stream",
     "text": [
      "Train: [251/261825/3024]\tepoch: 0\titer: 251\tTime: 0.650 (0.806)\tData: 0.317 (0.466)\tLoss: 327.7373 (274.0395)\tPrec@1: 0.000 (2.017)\tPrec@5: 0.000 (3.142)\tlr 0.100000\n"
     ]
    },
    {
     "name": "stderr",
     "output_type": "stream",
     "text": [
      "\n",
      "Train epoch=0, iter=0:   0%|            | 252/261825 [02:55<47:38:34,  1.53it/s]"
     ]
    },
    {
     "name": "stdout",
     "output_type": "stream",
     "text": [
      "Train: [252/261825/3036]\tepoch: 0\titer: 252\tTime: 0.673 (0.806)\tData: 0.318 (0.465)\tLoss: 380.3761 (274.4597)\tPrec@1: 0.000 (2.009)\tPrec@5: 0.000 (3.129)\tlr 0.100000\n"
     ]
    },
    {
     "name": "stderr",
     "output_type": "stream",
     "text": [
      "\n",
      "Train epoch=0, iter=0:   0%|            | 253/261825 [02:56<48:07:02,  1.51it/s]"
     ]
    },
    {
     "name": "stdout",
     "output_type": "stream",
     "text": [
      "Train: [253/261825/3048]\tepoch: 0\titer: 253\tTime: 0.697 (0.805)\tData: 0.321 (0.464)\tLoss: 330.7180 (274.6812)\tPrec@1: 0.000 (2.001)\tPrec@5: 0.000 (3.117)\tlr 0.100000\n"
     ]
    },
    {
     "name": "stderr",
     "output_type": "stream",
     "text": [
      "\n",
      "Train epoch=0, iter=0:   0%|            | 254/261825 [02:57<48:46:36,  1.49it/s]"
     ]
    },
    {
     "name": "stdout",
     "output_type": "stream",
     "text": [
      "Train: [254/261825/3060]\tepoch: 0\titer: 254\tTime: 0.633 (0.804)\tData: 0.317 (0.464)\tLoss: 348.3436 (274.9701)\tPrec@1: 0.000 (1.993)\tPrec@5: 0.000 (3.105)\tlr 0.100000\n"
     ]
    },
    {
     "name": "stderr",
     "output_type": "stream",
     "text": [
      "\n",
      "Train epoch=0, iter=0:   0%|            | 255/261825 [02:57<47:53:02,  1.52it/s]"
     ]
    },
    {
     "name": "stdout",
     "output_type": "stream",
     "text": [
      "Train: [255/261825/3072]\tepoch: 0\titer: 255\tTime: 0.655 (0.804)\tData: 0.311 (0.463)\tLoss: 318.3481 (275.1396)\tPrec@1: 0.000 (1.986)\tPrec@5: 0.000 (3.092)\tlr 0.100000\n"
     ]
    },
    {
     "name": "stderr",
     "output_type": "stream",
     "text": [
      "\n",
      "Train epoch=0, iter=0:   0%|            | 256/261825 [02:58<48:09:50,  1.51it/s]"
     ]
    },
    {
     "name": "stdout",
     "output_type": "stream",
     "text": [
      "Train: [256/261825/3084]\tepoch: 0\titer: 256\tTime: 0.672 (0.803)\tData: 0.328 (0.463)\tLoss: 338.3414 (275.3855)\tPrec@1: 0.000 (1.978)\tPrec@5: 0.000 (3.080)\tlr 0.100000\n"
     ]
    },
    {
     "name": "stderr",
     "output_type": "stream",
     "text": [
      "\n",
      "Train epoch=0, iter=0:   0%|            | 257/261825 [02:59<48:02:54,  1.51it/s]"
     ]
    },
    {
     "name": "stdout",
     "output_type": "stream",
     "text": [
      "Train: [257/261825/3096]\tepoch: 0\titer: 257\tTime: 0.631 (0.803)\tData: 0.316 (0.462)\tLoss: 328.5804 (275.5917)\tPrec@1: 0.000 (1.970)\tPrec@5: 8.333 (3.101)\tlr 0.100000\n"
     ]
    },
    {
     "name": "stderr",
     "output_type": "stream",
     "text": [
      "\n",
      "Train epoch=0, iter=0:   0%|            | 258/261825 [02:59<47:15:41,  1.54it/s]"
     ]
    },
    {
     "name": "stdout",
     "output_type": "stream",
     "text": [
      "Train: [258/261825/3108]\tepoch: 0\titer: 258\tTime: 0.652 (0.802)\tData: 0.308 (0.462)\tLoss: 369.0783 (275.9526)\tPrec@1: 0.000 (1.963)\tPrec@5: 0.000 (3.089)\tlr 0.100000\n"
     ]
    },
    {
     "name": "stderr",
     "output_type": "stream",
     "text": [
      "\n",
      "Train epoch=0, iter=0:   0%|            | 259/261825 [03:00<47:23:15,  1.53it/s]"
     ]
    },
    {
     "name": "stdout",
     "output_type": "stream",
     "text": [
      "Train: [259/261825/3120]\tepoch: 0\titer: 259\tTime: 0.640 (0.802)\tData: 0.328 (0.461)\tLoss: 302.1467 (276.0534)\tPrec@1: 8.333 (1.987)\tPrec@5: 8.333 (3.109)\tlr 0.100000\n"
     ]
    },
    {
     "name": "stderr",
     "output_type": "stream",
     "text": [
      "\n",
      "Train epoch=0, iter=0:   0%|            | 260/261825 [03:01<47:12:33,  1.54it/s]"
     ]
    },
    {
     "name": "stdout",
     "output_type": "stream",
     "text": [
      "Train: [260/261825/3132]\tepoch: 0\titer: 260\tTime: 0.684 (0.801)\tData: 0.318 (0.460)\tLoss: 355.9104 (276.3593)\tPrec@1: 0.000 (1.980)\tPrec@5: 0.000 (3.097)\tlr 0.100000\n"
     ]
    },
    {
     "name": "stderr",
     "output_type": "stream",
     "text": [
      "\n",
      "Train epoch=0, iter=0:   0%|            | 261/261825 [03:01<47:55:21,  1.52it/s]"
     ]
    },
    {
     "name": "stdout",
     "output_type": "stream",
     "text": [
      "Train: [261/261825/3144]\tepoch: 0\titer: 261\tTime: 0.676 (0.801)\tData: 0.317 (0.460)\tLoss: 303.8238 (276.4642)\tPrec@1: 0.000 (1.972)\tPrec@5: 0.000 (3.085)\tlr 0.100000\n"
     ]
    },
    {
     "name": "stderr",
     "output_type": "stream",
     "text": [
      "\n",
      "Train epoch=0, iter=0:   0%|            | 262/261825 [03:02<48:17:27,  1.50it/s]"
     ]
    },
    {
     "name": "stdout",
     "output_type": "stream",
     "text": [
      "Train: [262/261825/3156]\tepoch: 0\titer: 262\tTime: 0.626 (0.800)\tData: 0.317 (0.459)\tLoss: 396.8756 (276.9220)\tPrec@1: 0.000 (1.965)\tPrec@5: 0.000 (3.074)\tlr 0.100000\n"
     ]
    },
    {
     "name": "stderr",
     "output_type": "stream",
     "text": [
      "\n",
      "Train epoch=0, iter=0:   0%|            | 263/261825 [03:03<47:44:50,  1.52it/s]"
     ]
    },
    {
     "name": "stdout",
     "output_type": "stream",
     "text": [
      "Train: [263/261825/3168]\tepoch: 0\titer: 263\tTime: 0.656 (0.799)\tData: 0.328 (0.459)\tLoss: 315.3994 (277.0677)\tPrec@1: 0.000 (1.957)\tPrec@5: 0.000 (3.062)\tlr 0.100000\n"
     ]
    },
    {
     "name": "stderr",
     "output_type": "stream",
     "text": [
      "\n",
      "Train epoch=0, iter=0:   0%|            | 264/261825 [03:03<47:31:32,  1.53it/s]"
     ]
    },
    {
     "name": "stdout",
     "output_type": "stream",
     "text": [
      "Train: [264/261825/3180]\tepoch: 0\titer: 264\tTime: 0.692 (0.799)\tData: 0.322 (0.458)\tLoss: 301.1059 (277.1584)\tPrec@1: 0.000 (1.950)\tPrec@5: 0.000 (3.050)\tlr 0.100000\n"
     ]
    },
    {
     "name": "stderr",
     "output_type": "stream",
     "text": [
      "\n",
      "Train epoch=0, iter=0:   0%|            | 265/261825 [03:04<48:16:28,  1.51it/s]"
     ]
    },
    {
     "name": "stdout",
     "output_type": "stream",
     "text": [
      "Train: [265/261825/3192]\tepoch: 0\titer: 265\tTime: 0.600 (0.798)\tData: 0.316 (0.458)\tLoss: 271.2458 (277.1362)\tPrec@1: 8.333 (1.974)\tPrec@5: 8.333 (3.070)\tlr 0.100000\n"
     ]
    },
    {
     "name": "stderr",
     "output_type": "stream",
     "text": [
      "\n",
      "Train epoch=0, iter=0:   0%|            | 266/261825 [03:05<48:31:14,  1.50it/s]"
     ]
    },
    {
     "name": "stdout",
     "output_type": "stream",
     "text": [
      "Train: [266/261825/3204]\tepoch: 0\titer: 266\tTime: 0.672 (0.798)\tData: 0.391 (0.458)\tLoss: 294.6284 (277.2017)\tPrec@1: 0.000 (1.966)\tPrec@5: 0.000 (3.059)\tlr 0.100000\n"
     ]
    },
    {
     "name": "stderr",
     "output_type": "stream",
     "text": [
      "\n",
      "Train epoch=0, iter=0:   0%|            | 267/261825 [03:05<47:13:05,  1.54it/s]"
     ]
    },
    {
     "name": "stdout",
     "output_type": "stream",
     "text": [
      "Train: [267/261825/3216]\tepoch: 0\titer: 267\tTime: 0.624 (0.797)\tData: 0.329 (0.457)\tLoss: 294.4680 (277.2662)\tPrec@1: 8.333 (1.990)\tPrec@5: 8.333 (3.078)\tlr 0.100000\n"
     ]
    },
    {
     "name": "stderr",
     "output_type": "stream",
     "text": [
      "\n",
      "Train epoch=0, iter=0:   0%|            | 268/261825 [03:06<48:29:40,  1.50it/s]"
     ]
    },
    {
     "name": "stdout",
     "output_type": "stream",
     "text": [
      "Train: [268/261825/3228]\tepoch: 0\titer: 268\tTime: 0.703 (0.797)\tData: 0.413 (0.457)\tLoss: 267.2107 (277.2288)\tPrec@1: 8.333 (2.014)\tPrec@5: 8.333 (3.098)\tlr 0.100000\n"
     ]
    },
    {
     "name": "stderr",
     "output_type": "stream",
     "text": [
      "\n",
      "Train epoch=0, iter=0:   0%|            | 269/261825 [03:07<47:07:10,  1.54it/s]"
     ]
    },
    {
     "name": "stdout",
     "output_type": "stream",
     "text": [
      "Train: [269/261825/3240]\tepoch: 0\titer: 269\tTime: 0.594 (0.796)\tData: 0.313 (0.456)\tLoss: 272.1756 (277.2101)\tPrec@1: 0.000 (2.006)\tPrec@5: 0.000 (3.086)\tlr 0.100000\n"
     ]
    },
    {
     "name": "stderr",
     "output_type": "stream",
     "text": [
      "\n",
      "Train epoch=0, iter=0:   0%|            | 270/261825 [03:07<47:07:29,  1.54it/s]"
     ]
    },
    {
     "name": "stdout",
     "output_type": "stream",
     "text": [
      "Train: [270/261825/3252]\tepoch: 0\titer: 270\tTime: 0.663 (0.796)\tData: 0.370 (0.456)\tLoss: 341.5933 (277.4476)\tPrec@1: 0.000 (1.999)\tPrec@5: 0.000 (3.075)\tlr 0.100000\n"
     ]
    },
    {
     "name": "stderr",
     "output_type": "stream",
     "text": [
      "\n",
      "Train epoch=0, iter=0:   0%|            | 271/261825 [03:08<46:14:53,  1.57it/s]"
     ]
    },
    {
     "name": "stdout",
     "output_type": "stream",
     "text": [
      "Train: [271/261825/3264]\tepoch: 0\titer: 271\tTime: 0.608 (0.795)\tData: 0.314 (0.456)\tLoss: 328.5183 (277.6354)\tPrec@1: 0.000 (1.991)\tPrec@5: 8.333 (3.094)\tlr 0.100000\n"
     ]
    },
    {
     "name": "stderr",
     "output_type": "stream",
     "text": [
      "\n",
      "Train epoch=0, iter=0:   0%|            | 272/261825 [03:09<46:46:12,  1.55it/s]"
     ]
    },
    {
     "name": "stdout",
     "output_type": "stream",
     "text": [
      "Train: [272/261825/3276]\tepoch: 0\titer: 272\tTime: 1.635 (0.798)\tData: 1.214 (0.458)\tLoss: 291.7159 (277.6870)\tPrec@1: 8.333 (2.015)\tPrec@5: 8.333 (3.114)\tlr 0.100000\n"
     ]
    },
    {
     "name": "stderr",
     "output_type": "stream",
     "text": [
      "\n",
      "Train epoch=0, iter=0:   0%|            | 273/261825 [03:10<66:33:10,  1.09it/s]"
     ]
    },
    {
     "name": "stdout",
     "output_type": "stream",
     "text": [
      "Train: [273/261825/3288]\tepoch: 0\titer: 273\tTime: 0.609 (0.797)\tData: 0.281 (0.458)\tLoss: 322.1519 (277.8493)\tPrec@1: 0.000 (2.007)\tPrec@5: 0.000 (3.102)\tlr 0.100000\n"
     ]
    },
    {
     "name": "stderr",
     "output_type": "stream",
     "text": [
      "\n",
      "Train epoch=0, iter=0:   0%|            | 274/261825 [03:11<59:52:06,  1.21it/s]"
     ]
    },
    {
     "name": "stdout",
     "output_type": "stream",
     "text": [
      "Train: [274/261825/3300]\tepoch: 0\titer: 274\tTime: 0.594 (0.796)\tData: 0.297 (0.457)\tLoss: 281.2845 (277.8618)\tPrec@1: 8.333 (2.030)\tPrec@5: 8.333 (3.121)\tlr 0.100000\n"
     ]
    },
    {
     "name": "stderr",
     "output_type": "stream",
     "text": [
      "\n",
      "Train epoch=0, iter=0:   0%|            | 275/261825 [03:11<55:38:32,  1.31it/s]"
     ]
    },
    {
     "name": "stdout",
     "output_type": "stream",
     "text": [
      "Train: [275/261825/3312]\tepoch: 0\titer: 275\tTime: 0.635 (0.796)\tData: 0.321 (0.457)\tLoss: 299.9865 (277.9419)\tPrec@1: 0.000 (2.023)\tPrec@5: 0.000 (3.110)\tlr 0.100000\n"
     ]
    },
    {
     "name": "stderr",
     "output_type": "stream",
     "text": [
      "\n",
      "Train epoch=0, iter=0:   0%|            | 276/261825 [03:12<52:19:11,  1.39it/s]"
     ]
    },
    {
     "name": "stdout",
     "output_type": "stream",
     "text": [
      "Train: [276/261825/3324]\tepoch: 0\titer: 276\tTime: 0.647 (0.795)\tData: 0.299 (0.456)\tLoss: 276.1159 (277.9353)\tPrec@1: 0.000 (2.016)\tPrec@5: 16.667 (3.159)\tlr 0.100000\n"
     ]
    },
    {
     "name": "stderr",
     "output_type": "stream",
     "text": [
      "\n",
      "Train epoch=0, iter=0:   0%|            | 277/261825 [03:13<51:04:14,  1.42it/s]"
     ]
    },
    {
     "name": "stdout",
     "output_type": "stream",
     "text": [
      "Train: [277/261825/3336]\tepoch: 0\titer: 277\tTime: 0.625 (0.795)\tData: 0.313 (0.456)\tLoss: 303.0308 (278.0256)\tPrec@1: 0.000 (2.008)\tPrec@5: 0.000 (3.147)\tlr 0.100000\n"
     ]
    },
    {
     "name": "stderr",
     "output_type": "stream",
     "text": [
      "\n",
      "Train epoch=0, iter=0:   0%|            | 278/261825 [03:13<49:22:18,  1.47it/s]"
     ]
    },
    {
     "name": "stdout",
     "output_type": "stream",
     "text": [
      "Train: [278/261825/3348]\tepoch: 0\titer: 278\tTime: 0.656 (0.794)\tData: 0.313 (0.455)\tLoss: 339.0914 (278.2445)\tPrec@1: 0.000 (2.001)\tPrec@5: 0.000 (3.136)\tlr 0.100000\n"
     ]
    },
    {
     "name": "stderr",
     "output_type": "stream",
     "text": [
      "\n",
      "Train epoch=0, iter=0:   0%|            | 279/261825 [03:14<48:51:49,  1.49it/s]"
     ]
    },
    {
     "name": "stdout",
     "output_type": "stream",
     "text": [
      "Train: [279/261825/3360]\tepoch: 0\titer: 279\tTime: 0.705 (0.794)\tData: 0.312 (0.455)\tLoss: 256.5765 (278.1671)\tPrec@1: 8.333 (2.024)\tPrec@5: 16.667 (3.185)\tlr 0.100000\n"
     ]
    },
    {
     "name": "stderr",
     "output_type": "stream",
     "text": [
      "\n",
      "Train epoch=0, iter=0:   0%|            | 280/261825 [03:15<49:35:15,  1.47it/s]"
     ]
    },
    {
     "name": "stdout",
     "output_type": "stream",
     "text": [
      "Train: [280/261825/3372]\tepoch: 0\titer: 280\tTime: 0.626 (0.793)\tData: 0.316 (0.454)\tLoss: 302.4707 (278.2536)\tPrec@1: 0.000 (2.017)\tPrec@5: 8.333 (3.203)\tlr 0.100000\n"
     ]
    },
    {
     "name": "stderr",
     "output_type": "stream",
     "text": [
      "\n",
      "Train epoch=0, iter=0:   0%|            | 281/261825 [03:15<48:27:07,  1.50it/s]"
     ]
    },
    {
     "name": "stdout",
     "output_type": "stream",
     "text": [
      "Train: [281/261825/3384]\tepoch: 0\titer: 281\tTime: 0.700 (0.793)\tData: 0.319 (0.454)\tLoss: 236.4957 (278.1055)\tPrec@1: 0.000 (2.009)\tPrec@5: 8.333 (3.221)\tlr 0.100000\n"
     ]
    },
    {
     "name": "stderr",
     "output_type": "stream",
     "text": [
      "\n",
      "Train epoch=0, iter=0:   0%|            | 282/261825 [03:16<49:04:39,  1.48it/s]"
     ]
    },
    {
     "name": "stdout",
     "output_type": "stream",
     "text": [
      "Train: [282/261825/3396]\tepoch: 0\titer: 282\tTime: 0.625 (0.792)\tData: 0.312 (0.453)\tLoss: 338.0332 (278.3173)\tPrec@1: 0.000 (2.002)\tPrec@5: 0.000 (3.210)\tlr 0.100000\n"
     ]
    },
    {
     "name": "stderr",
     "output_type": "stream",
     "text": [
      "\n",
      "Train epoch=0, iter=0:   0%|            | 283/261825 [03:17<48:16:47,  1.50it/s]"
     ]
    },
    {
     "name": "stdout",
     "output_type": "stream",
     "text": [
      "Train: [283/261825/3408]\tepoch: 0\titer: 283\tTime: 0.711 (0.792)\tData: 0.329 (0.453)\tLoss: 272.7235 (278.2975)\tPrec@1: 0.000 (1.995)\tPrec@5: 0.000 (3.198)\tlr 0.100000\n"
     ]
    },
    {
     "name": "stderr",
     "output_type": "stream",
     "text": [
      "\n",
      "Train epoch=0, iter=0:   0%|            | 284/261825 [03:17<49:01:10,  1.48it/s]"
     ]
    },
    {
     "name": "stdout",
     "output_type": "stream",
     "text": [
      "Train: [284/261825/3420]\tepoch: 0\titer: 284\tTime: 0.672 (0.792)\tData: 0.316 (0.452)\tLoss: 354.0087 (278.5632)\tPrec@1: 0.000 (1.988)\tPrec@5: 0.000 (3.187)\tlr 0.100000\n"
     ]
    },
    {
     "name": "stderr",
     "output_type": "stream",
     "text": [
      "\n",
      "Train epoch=0, iter=0:   0%|            | 285/261825 [03:18<48:59:31,  1.48it/s]"
     ]
    },
    {
     "name": "stdout",
     "output_type": "stream",
     "text": [
      "Train: [285/261825/3432]\tepoch: 0\titer: 285\tTime: 0.650 (0.791)\tData: 0.318 (0.452)\tLoss: 291.3251 (278.6078)\tPrec@1: 8.333 (2.010)\tPrec@5: 8.333 (3.205)\tlr 0.100000\n"
     ]
    },
    {
     "name": "stderr",
     "output_type": "stream",
     "text": [
      "\n",
      "Train epoch=0, iter=0:   0%|            | 286/261825 [03:19<48:24:21,  1.50it/s]"
     ]
    },
    {
     "name": "stdout",
     "output_type": "stream",
     "text": [
      "Train: [286/261825/3444]\tepoch: 0\titer: 286\tTime: 0.641 (0.791)\tData: 0.312 (0.451)\tLoss: 333.2146 (278.7981)\tPrec@1: 0.000 (2.003)\tPrec@5: 0.000 (3.194)\tlr 0.100000\n"
     ]
    },
    {
     "name": "stderr",
     "output_type": "stream",
     "text": [
      "\n",
      "Train epoch=0, iter=0:   0%|            | 287/261825 [03:19<47:50:47,  1.52it/s]"
     ]
    },
    {
     "name": "stdout",
     "output_type": "stream",
     "text": [
      "Train: [287/261825/3456]\tepoch: 0\titer: 287\tTime: 0.643 (0.790)\tData: 0.312 (0.451)\tLoss: 307.5257 (278.8979)\tPrec@1: 0.000 (1.997)\tPrec@5: 0.000 (3.183)\tlr 0.100000\n"
     ]
    },
    {
     "name": "stderr",
     "output_type": "stream",
     "text": [
      "\n",
      "Train epoch=0, iter=0:   0%|            | 288/261825 [03:20<47:32:37,  1.53it/s]"
     ]
    },
    {
     "name": "stdout",
     "output_type": "stream",
     "text": [
      "Train: [288/261825/3468]\tepoch: 0\titer: 288\tTime: 0.630 (0.790)\tData: 0.315 (0.450)\tLoss: 258.7470 (278.8281)\tPrec@1: 0.000 (1.990)\tPrec@5: 8.333 (3.201)\tlr 0.100000\n"
     ]
    },
    {
     "name": "stderr",
     "output_type": "stream",
     "text": [
      "\n",
      "Train epoch=0, iter=0:   0%|            | 289/261825 [03:20<46:39:00,  1.56it/s]"
     ]
    },
    {
     "name": "stdout",
     "output_type": "stream",
     "text": [
      "Train: [289/261825/3480]\tepoch: 0\titer: 289\tTime: 0.622 (0.789)\tData: 0.300 (0.450)\tLoss: 351.1411 (279.0775)\tPrec@1: 0.000 (1.983)\tPrec@5: 0.000 (3.190)\tlr 0.100000\n"
     ]
    },
    {
     "name": "stderr",
     "output_type": "stream",
     "text": [
      "\n",
      "Train epoch=0, iter=0:   0%|            | 290/261825 [03:21<46:35:29,  1.56it/s]"
     ]
    },
    {
     "name": "stdout",
     "output_type": "stream",
     "text": [
      "Train: [290/261825/3492]\tepoch: 0\titer: 290\tTime: 0.632 (0.789)\tData: 0.315 (0.449)\tLoss: 367.4081 (279.3810)\tPrec@1: 0.000 (1.976)\tPrec@5: 0.000 (3.179)\tlr 0.100000\n"
     ]
    },
    {
     "name": "stderr",
     "output_type": "stream",
     "text": [
      "\n",
      "Train epoch=0, iter=0:   0%|            | 291/261825 [03:22<45:57:42,  1.58it/s]"
     ]
    },
    {
     "name": "stdout",
     "output_type": "stream",
     "text": [
      "Train: [291/261825/3504]\tepoch: 0\titer: 291\tTime: 0.648 (0.788)\tData: 0.296 (0.449)\tLoss: 242.2261 (279.2537)\tPrec@1: 16.667 (2.026)\tPrec@5: 25.000 (3.253)\tlr 0.100000\n"
     ]
    },
    {
     "name": "stderr",
     "output_type": "stream",
     "text": [
      "\n",
      "Train epoch=0, iter=0:   0%|            | 292/261825 [03:22<46:49:45,  1.55it/s]"
     ]
    },
    {
     "name": "stdout",
     "output_type": "stream",
     "text": [
      "Train: [292/261825/3516]\tepoch: 0\titer: 292\tTime: 0.702 (0.788)\tData: 0.320 (0.448)\tLoss: 304.1850 (279.3388)\tPrec@1: 8.333 (2.048)\tPrec@5: 8.333 (3.271)\tlr 0.100000\n"
     ]
    },
    {
     "name": "stderr",
     "output_type": "stream",
     "text": [
      "\n",
      "Train epoch=0, iter=0:   0%|            | 293/261825 [03:23<48:01:31,  1.51it/s]"
     ]
    },
    {
     "name": "stdout",
     "output_type": "stream",
     "text": [
      "Train: [293/261825/3528]\tepoch: 0\titer: 293\tTime: 0.603 (0.787)\tData: 0.317 (0.448)\tLoss: 378.7235 (279.6769)\tPrec@1: 0.000 (2.041)\tPrec@5: 0.000 (3.260)\tlr 0.100000\n"
     ]
    },
    {
     "name": "stderr",
     "output_type": "stream",
     "text": [
      "\n",
      "Train epoch=0, iter=0:   0%|            | 294/261825 [03:24<47:04:02,  1.54it/s]"
     ]
    },
    {
     "name": "stdout",
     "output_type": "stream",
     "text": [
      "Train: [294/261825/3540]\tepoch: 0\titer: 294\tTime: 0.672 (0.787)\tData: 0.328 (0.447)\tLoss: 276.6683 (279.6667)\tPrec@1: 0.000 (2.034)\tPrec@5: 8.333 (3.277)\tlr 0.100000\n"
     ]
    },
    {
     "name": "stderr",
     "output_type": "stream",
     "text": [
      "\n",
      "Train epoch=0, iter=0:   0%|            | 295/261825 [03:24<47:36:49,  1.53it/s]"
     ]
    },
    {
     "name": "stdout",
     "output_type": "stream",
     "text": [
      "Train: [295/261825/3552]\tepoch: 0\titer: 295\tTime: 0.666 (0.786)\tData: 0.332 (0.447)\tLoss: 239.4269 (279.5308)\tPrec@1: 16.667 (2.083)\tPrec@5: 25.000 (3.350)\tlr 0.100000\n"
     ]
    },
    {
     "name": "stderr",
     "output_type": "stream",
     "text": [
      "\n",
      "Train epoch=0, iter=0:   0%|            | 296/261825 [03:25<47:30:20,  1.53it/s]"
     ]
    },
    {
     "name": "stdout",
     "output_type": "stream",
     "text": [
      "Train: [296/261825/3564]\tepoch: 0\titer: 296\tTime: 0.628 (0.786)\tData: 0.314 (0.447)\tLoss: 288.3315 (279.5604)\tPrec@1: 8.333 (2.104)\tPrec@5: 8.333 (3.367)\tlr 0.100000\n"
     ]
    },
    {
     "name": "stderr",
     "output_type": "stream",
     "text": [
      "\n",
      "Train epoch=0, iter=0:   0%|            | 297/261825 [03:26<46:36:04,  1.56it/s]"
     ]
    },
    {
     "name": "stdout",
     "output_type": "stream",
     "text": [
      "Train: [297/261825/3576]\tepoch: 0\titer: 297\tTime: 0.642 (0.785)\tData: 0.300 (0.446)\tLoss: 268.7618 (279.5241)\tPrec@1: 0.000 (2.097)\tPrec@5: 16.667 (3.412)\tlr 0.100000\n"
     ]
    },
    {
     "name": "stderr",
     "output_type": "stream",
     "text": [
      "\n",
      "Train epoch=0, iter=0:   0%|            | 298/261825 [03:26<46:56:18,  1.55it/s]"
     ]
    },
    {
     "name": "stdout",
     "output_type": "stream",
     "text": [
      "Train: [298/261825/3588]\tepoch: 0\titer: 298\tTime: 0.624 (0.785)\tData: 0.312 (0.446)\tLoss: 327.1877 (279.6836)\tPrec@1: 0.000 (2.090)\tPrec@5: 0.000 (3.400)\tlr 0.100000\n"
     ]
    },
    {
     "name": "stderr",
     "output_type": "stream",
     "text": [
      "\n",
      "Train epoch=0, iter=0:   0%|            | 299/261825 [03:27<46:28:41,  1.56it/s]"
     ]
    },
    {
     "name": "stdout",
     "output_type": "stream",
     "text": [
      "Train: [299/261825/3600]\tepoch: 0\titer: 299\tTime: 0.661 (0.784)\tData: 0.328 (0.445)\tLoss: 333.9032 (279.8643)\tPrec@1: 0.000 (2.083)\tPrec@5: 0.000 (3.389)\tlr 0.100000\n"
     ]
    },
    {
     "name": "stderr",
     "output_type": "stream",
     "text": [
      "\n",
      "Train epoch=0, iter=0:   0%|            | 300/261825 [03:28<46:58:03,  1.55it/s]"
     ]
    },
    {
     "name": "stdout",
     "output_type": "stream",
     "text": [
      "Train: [300/261825/3612]\tepoch: 0\titer: 300\tTime: 0.660 (0.784)\tData: 0.316 (0.445)\tLoss: 281.5776 (279.8700)\tPrec@1: 8.333 (2.104)\tPrec@5: 8.333 (3.405)\tlr 0.100000\n"
     ]
    },
    {
     "name": "stderr",
     "output_type": "stream",
     "text": [
      "\n",
      "Train epoch=0, iter=0:   0%|            | 301/261825 [03:28<47:14:58,  1.54it/s]"
     ]
    },
    {
     "name": "stdout",
     "output_type": "stream",
     "text": [
      "Train: [301/261825/3624]\tepoch: 0\titer: 301\tTime: 0.650 (0.783)\tData: 0.316 (0.444)\tLoss: 332.7992 (280.0452)\tPrec@1: 0.000 (2.097)\tPrec@5: 0.000 (3.394)\tlr 0.100000\n"
     ]
    },
    {
     "name": "stderr",
     "output_type": "stream",
     "text": [
      "\n",
      "Train epoch=0, iter=0:   0%|            | 302/261825 [03:29<47:16:19,  1.54it/s]"
     ]
    },
    {
     "name": "stdout",
     "output_type": "stream",
     "text": [
      "Train: [302/261825/3636]\tepoch: 0\titer: 302\tTime: 0.634 (0.783)\tData: 0.316 (0.444)\tLoss: 290.3615 (280.0793)\tPrec@1: 0.000 (2.090)\tPrec@5: 8.333 (3.410)\tlr 0.100000\n"
     ]
    },
    {
     "name": "stderr",
     "output_type": "stream",
     "text": [
      "\n",
      "Train epoch=0, iter=0:   0%|            | 303/261825 [03:30<46:36:02,  1.56it/s]"
     ]
    },
    {
     "name": "stdout",
     "output_type": "stream",
     "text": [
      "Train: [303/261825/3648]\tepoch: 0\titer: 303\tTime: 0.643 (0.783)\tData: 0.315 (0.444)\tLoss: 334.0935 (280.2569)\tPrec@1: 0.000 (2.083)\tPrec@5: 0.000 (3.399)\tlr 0.100000\n"
     ]
    },
    {
     "name": "stderr",
     "output_type": "stream",
     "text": [
      "\n",
      "Train epoch=0, iter=0:   0%|            | 304/261825 [03:30<46:55:20,  1.55it/s]"
     ]
    },
    {
     "name": "stdout",
     "output_type": "stream",
     "text": [
      "Train: [304/261825/3660]\tepoch: 0\titer: 304\tTime: 0.625 (0.782)\tData: 0.312 (0.443)\tLoss: 339.9262 (280.4526)\tPrec@1: 0.000 (2.077)\tPrec@5: 0.000 (3.388)\tlr 0.100000\n"
     ]
    },
    {
     "name": "stderr",
     "output_type": "stream",
     "text": [
      "\n",
      "Train epoch=0, iter=0:   0%|            | 305/261825 [03:31<46:27:59,  1.56it/s]"
     ]
    },
    {
     "name": "stdout",
     "output_type": "stream",
     "text": [
      "Train: [305/261825/3672]\tepoch: 0\titer: 305\tTime: 0.656 (0.782)\tData: 0.328 (0.443)\tLoss: 332.9914 (280.6243)\tPrec@1: 0.000 (2.070)\tPrec@5: 0.000 (3.377)\tlr 0.100000\n"
     ]
    },
    {
     "name": "stderr",
     "output_type": "stream",
     "text": [
      "\n",
      "Train epoch=0, iter=0:   0%|            | 306/261825 [03:31<46:49:42,  1.55it/s]"
     ]
    },
    {
     "name": "stdout",
     "output_type": "stream",
     "text": [
      "Train: [306/261825/3684]\tepoch: 0\titer: 306\tTime: 0.641 (0.781)\tData: 0.313 (0.442)\tLoss: 292.4026 (280.6626)\tPrec@1: 8.333 (2.090)\tPrec@5: 8.333 (3.393)\tlr 0.100000\n"
     ]
    },
    {
     "name": "stderr",
     "output_type": "stream",
     "text": [
      "\n",
      "Train epoch=0, iter=0:   0%|            | 307/261825 [03:32<46:44:28,  1.55it/s]"
     ]
    },
    {
     "name": "stdout",
     "output_type": "stream",
     "text": [
      "Train: [307/261825/3696]\tepoch: 0\titer: 307\tTime: 0.672 (0.781)\tData: 0.312 (0.442)\tLoss: 329.7978 (280.8221)\tPrec@1: 0.000 (2.083)\tPrec@5: 0.000 (3.382)\tlr 0.100000\n"
     ]
    },
    {
     "name": "stderr",
     "output_type": "stream",
     "text": [
      "\n",
      "Train epoch=0, iter=0:   0%|            | 308/261825 [03:33<47:21:40,  1.53it/s]"
     ]
    },
    {
     "name": "stdout",
     "output_type": "stream",
     "text": [
      "Train: [308/261825/3708]\tepoch: 0\titer: 308\tTime: 0.641 (0.780)\tData: 0.313 (0.441)\tLoss: 331.2027 (280.9852)\tPrec@1: 0.000 (2.077)\tPrec@5: 0.000 (3.371)\tlr 0.100000\n"
     ]
    },
    {
     "name": "stderr",
     "output_type": "stream",
     "text": [
      "\n",
      "Train epoch=0, iter=0:   0%|            | 309/261825 [03:33<47:09:06,  1.54it/s]"
     ]
    },
    {
     "name": "stdout",
     "output_type": "stream",
     "text": [
      "Train: [309/261825/3720]\tepoch: 0\titer: 309\tTime: 0.627 (0.780)\tData: 0.314 (0.441)\tLoss: 332.1579 (281.1503)\tPrec@1: 0.000 (2.070)\tPrec@5: 0.000 (3.360)\tlr 0.100000\n"
     ]
    },
    {
     "name": "stderr",
     "output_type": "stream",
     "text": [
      "\n",
      "Train epoch=0, iter=0:   0%|            | 310/261825 [03:34<46:17:09,  1.57it/s]"
     ]
    },
    {
     "name": "stdout",
     "output_type": "stream",
     "text": [
      "Train: [310/261825/3732]\tepoch: 0\titer: 310\tTime: 0.680 (0.780)\tData: 0.297 (0.441)\tLoss: 333.9027 (281.3199)\tPrec@1: 0.000 (2.063)\tPrec@5: 0.000 (3.349)\tlr 0.100000\n"
     ]
    },
    {
     "name": "stderr",
     "output_type": "stream",
     "text": [
      "\n",
      "Train epoch=0, iter=0:   0%|            | 311/261825 [03:35<47:36:12,  1.53it/s]"
     ]
    },
    {
     "name": "stdout",
     "output_type": "stream",
     "text": [
      "Train: [311/261825/3744]\tepoch: 0\titer: 311\tTime: 0.669 (0.779)\tData: 0.316 (0.440)\tLoss: 280.3192 (281.3167)\tPrec@1: 0.000 (2.057)\tPrec@5: 8.333 (3.365)\tlr 0.100000\n"
     ]
    },
    {
     "name": "stderr",
     "output_type": "stream",
     "text": [
      "\n",
      "Train epoch=0, iter=0:   0%|            | 312/261825 [03:35<47:41:38,  1.52it/s]"
     ]
    },
    {
     "name": "stdout",
     "output_type": "stream",
     "text": [
      "Train: [312/261825/3756]\tepoch: 0\titer: 312\tTime: 0.601 (0.779)\tData: 0.304 (0.440)\tLoss: 320.7307 (281.4426)\tPrec@1: 0.000 (2.050)\tPrec@5: 0.000 (3.355)\tlr 0.100000\n"
     ]
    },
    {
     "name": "stderr",
     "output_type": "stream",
     "text": [
      "\n",
      "Train epoch=0, iter=0:   0%|            | 313/261825 [03:36<46:39:57,  1.56it/s]"
     ]
    },
    {
     "name": "stdout",
     "output_type": "stream",
     "text": [
      "Train: [313/261825/3768]\tepoch: 0\titer: 313\tTime: 0.613 (0.778)\tData: 0.313 (0.439)\tLoss: 364.7108 (281.7078)\tPrec@1: 0.000 (2.044)\tPrec@5: 0.000 (3.344)\tlr 0.100000\n"
     ]
    },
    {
     "name": "stderr",
     "output_type": "stream",
     "text": [
      "\n",
      "Train epoch=0, iter=0:   0%|            | 314/261825 [03:37<46:00:57,  1.58it/s]"
     ]
    },
    {
     "name": "stdout",
     "output_type": "stream",
     "text": [
      "Train: [314/261825/3780]\tepoch: 0\titer: 314\tTime: 0.609 (0.778)\tData: 0.313 (0.439)\tLoss: 358.2551 (281.9508)\tPrec@1: 0.000 (2.037)\tPrec@5: 0.000 (3.333)\tlr 0.100000\n"
     ]
    },
    {
     "name": "stderr",
     "output_type": "stream",
     "text": [
      "\n",
      "Train epoch=0, iter=0:   0%|            | 315/261825 [03:37<47:11:38,  1.54it/s]"
     ]
    },
    {
     "name": "stdout",
     "output_type": "stream",
     "text": [
      "Train: [315/261825/3792]\tepoch: 0\titer: 315\tTime: 0.688 (0.777)\tData: 0.391 (0.439)\tLoss: 330.7824 (282.1053)\tPrec@1: 0.000 (2.031)\tPrec@5: 0.000 (3.323)\tlr 0.100000\n"
     ]
    },
    {
     "name": "stderr",
     "output_type": "stream",
     "text": [
      "\n",
      "Train epoch=0, iter=0:   0%|            | 316/261825 [03:38<46:18:55,  1.57it/s]"
     ]
    },
    {
     "name": "stdout",
     "output_type": "stream",
     "text": [
      "Train: [316/261825/3804]\tepoch: 0\titer: 316\tTime: 0.625 (0.777)\tData: 0.328 (0.438)\tLoss: 259.6128 (282.0344)\tPrec@1: 8.333 (2.050)\tPrec@5: 16.667 (3.365)\tlr 0.100000\n"
     ]
    },
    {
     "name": "stderr",
     "output_type": "stream",
     "text": [
      "\n",
      "Train epoch=0, iter=0:   0%|            | 317/261825 [03:39<45:42:00,  1.59it/s]"
     ]
    },
    {
     "name": "stdout",
     "output_type": "stream",
     "text": [
      "Train: [317/261825/3816]\tepoch: 0\titer: 317\tTime: 0.625 (0.776)\tData: 0.297 (0.438)\tLoss: 306.5117 (282.1113)\tPrec@1: 0.000 (2.044)\tPrec@5: 0.000 (3.354)\tlr 0.100000\n"
     ]
    },
    {
     "name": "stderr",
     "output_type": "stream",
     "text": [
      "\n",
      "Train epoch=0, iter=0:   0%|           | 318/261825 [03:45<175:36:54,  2.42s/it]"
     ]
    },
    {
     "name": "stdout",
     "output_type": "stream",
     "text": [
      "Train: [318/261825/3828]\tepoch: 0\titer: 318\tTime: 6.620 (0.795)\tData: 6.263 (0.456)\tLoss: 345.1360 (282.3089)\tPrec@1: 0.000 (2.038)\tPrec@5: 0.000 (3.344)\tlr 0.100000\n"
     ]
    },
    {
     "name": "stderr",
     "output_type": "stream",
     "text": [
      "\n",
      "Train epoch=0, iter=0:   0%|           | 319/261825 [03:46<137:08:30,  1.89s/it]"
     ]
    },
    {
     "name": "stdout",
     "output_type": "stream",
     "text": [
      "Train: [319/261825/3840]\tepoch: 0\titer: 319\tTime: 0.611 (0.794)\tData: 0.297 (0.456)\tLoss: 269.3825 (282.2685)\tPrec@1: 0.000 (2.031)\tPrec@5: 0.000 (3.333)\tlr 0.100000\n"
     ]
    },
    {
     "name": "stderr",
     "output_type": "stream",
     "text": [
      "\n",
      "Train epoch=0, iter=0:   0%|           | 320/261825 [03:46<109:42:29,  1.51s/it]"
     ]
    },
    {
     "name": "stdout",
     "output_type": "stream",
     "text": [
      "Train: [320/261825/3852]\tepoch: 0\titer: 320\tTime: 0.671 (0.794)\tData: 0.312 (0.455)\tLoss: 285.9166 (282.2799)\tPrec@1: 0.000 (2.025)\tPrec@5: 8.333 (3.349)\tlr 0.100000\n"
     ]
    },
    {
     "name": "stderr",
     "output_type": "stream",
     "text": [
      "\n",
      "Train epoch=0, iter=0:   0%|            | 321/261825 [03:47<91:05:49,  1.25s/it]"
     ]
    },
    {
     "name": "stdout",
     "output_type": "stream",
     "text": [
      "Train: [321/261825/3864]\tepoch: 0\titer: 321\tTime: 0.614 (0.793)\tData: 0.297 (0.455)\tLoss: 313.9718 (282.3783)\tPrec@1: 0.000 (2.019)\tPrec@5: 0.000 (3.339)\tlr 0.100000\n"
     ]
    },
    {
     "name": "stderr",
     "output_type": "stream",
     "text": [
      "\n",
      "Train epoch=0, iter=0:   0%|            | 322/261825 [03:48<77:01:16,  1.06s/it]"
     ]
    },
    {
     "name": "stdout",
     "output_type": "stream",
     "text": [
      "Train: [322/261825/3876]\tepoch: 0\titer: 322\tTime: 0.622 (0.793)\tData: 0.293 (0.454)\tLoss: 289.0384 (282.3990)\tPrec@1: 8.333 (2.038)\tPrec@5: 16.667 (3.380)\tlr 0.100000\n"
     ]
    },
    {
     "name": "stderr",
     "output_type": "stream",
     "text": [
      "\n",
      "Train epoch=0, iter=0:   0%|            | 323/261825 [03:48<67:30:02,  1.08it/s]"
     ]
    },
    {
     "name": "stdout",
     "output_type": "stream",
     "text": [
      "Train: [323/261825/3888]\tepoch: 0\titer: 323\tTime: 0.645 (0.792)\tData: 0.295 (0.454)\tLoss: 316.7990 (282.5051)\tPrec@1: 0.000 (2.032)\tPrec@5: 0.000 (3.369)\tlr 0.100000\n"
     ]
    },
    {
     "name": "stderr",
     "output_type": "stream",
     "text": [
      "\n",
      "Train epoch=0, iter=0:   0%|            | 324/261825 [03:49<61:46:26,  1.18it/s]"
     ]
    },
    {
     "name": "stdout",
     "output_type": "stream",
     "text": [
      "Train: [324/261825/3900]\tepoch: 0\titer: 324\tTime: 0.640 (0.792)\tData: 0.315 (0.453)\tLoss: 335.0607 (282.6668)\tPrec@1: 8.333 (2.051)\tPrec@5: 8.333 (3.385)\tlr 0.100000\n"
     ]
    },
    {
     "name": "stderr",
     "output_type": "stream",
     "text": [
      "\n",
      "Train epoch=0, iter=0:   0%|            | 325/261825 [03:50<57:09:42,  1.27it/s]"
     ]
    },
    {
     "name": "stdout",
     "output_type": "stream",
     "text": [
      "Train: [325/261825/3912]\tepoch: 0\titer: 325\tTime: 0.632 (0.791)\tData: 0.313 (0.453)\tLoss: 304.0031 (282.7323)\tPrec@1: 0.000 (2.045)\tPrec@5: 0.000 (3.374)\tlr 0.100000\n"
     ]
    },
    {
     "name": "stderr",
     "output_type": "stream",
     "text": [
      "\n",
      "Train epoch=0, iter=0:   0%|            | 326/261825 [03:50<53:21:32,  1.36it/s]"
     ]
    },
    {
     "name": "stdout",
     "output_type": "stream",
     "text": [
      "Train: [326/261825/3924]\tepoch: 0\titer: 326\tTime: 0.658 (0.791)\tData: 0.295 (0.453)\tLoss: 315.0961 (282.8312)\tPrec@1: 0.000 (2.039)\tPrec@5: 0.000 (3.364)\tlr 0.100000\n"
     ]
    },
    {
     "name": "stderr",
     "output_type": "stream",
     "text": [
      "\n",
      "Train epoch=0, iter=0:   0%|            | 327/261825 [03:51<52:08:33,  1.39it/s]"
     ]
    },
    {
     "name": "stdout",
     "output_type": "stream",
     "text": [
      "Train: [327/261825/3936]\tepoch: 0\titer: 327\tTime: 0.656 (0.790)\tData: 0.313 (0.452)\tLoss: 354.4249 (283.0495)\tPrec@1: 0.000 (2.033)\tPrec@5: 0.000 (3.354)\tlr 0.100000\n"
     ]
    },
    {
     "name": "stderr",
     "output_type": "stream",
     "text": [
      "\n",
      "Train epoch=0, iter=0:   0%|            | 328/261825 [03:52<50:48:01,  1.43it/s]"
     ]
    },
    {
     "name": "stdout",
     "output_type": "stream",
     "text": [
      "Train: [328/261825/3948]\tepoch: 0\titer: 328\tTime: 0.672 (0.790)\tData: 0.312 (0.452)\tLoss: 271.8208 (283.0154)\tPrec@1: 16.667 (2.077)\tPrec@5: 16.667 (3.394)\tlr 0.100000\n"
     ]
    },
    {
     "name": "stderr",
     "output_type": "stream",
     "text": [
      "\n",
      "Train epoch=0, iter=0:   0%|            | 329/261825 [03:52<50:12:05,  1.45it/s]"
     ]
    },
    {
     "name": "stdout",
     "output_type": "stream",
     "text": [
      "Train: [329/261825/3960]\tepoch: 0\titer: 329\tTime: 0.671 (0.790)\tData: 0.313 (0.451)\tLoss: 231.6315 (282.8597)\tPrec@1: 16.667 (2.121)\tPrec@5: 25.000 (3.460)\tlr 0.100000\n"
     ]
    },
    {
     "name": "stderr",
     "output_type": "stream",
     "text": [
      "\n",
      "Train epoch=0, iter=0:   0%|            | 330/261825 [03:53<49:50:24,  1.46it/s]"
     ]
    },
    {
     "name": "stdout",
     "output_type": "stream",
     "text": [
      "Train: [330/261825/3972]\tepoch: 0\titer: 330\tTime: 0.646 (0.789)\tData: 0.319 (0.451)\tLoss: 271.2042 (282.8245)\tPrec@1: 8.333 (2.140)\tPrec@5: 8.333 (3.474)\tlr 0.100000\n"
     ]
    },
    {
     "name": "stderr",
     "output_type": "stream",
     "text": [
      "\n",
      "Train epoch=0, iter=0:   0%|            | 331/261825 [03:54<48:48:49,  1.49it/s]"
     ]
    },
    {
     "name": "stdout",
     "output_type": "stream",
     "text": [
      "Train: [331/261825/3984]\tepoch: 0\titer: 331\tTime: 0.668 (0.789)\tData: 0.309 (0.450)\tLoss: 323.3884 (282.9467)\tPrec@1: 0.000 (2.134)\tPrec@5: 0.000 (3.464)\tlr 0.100000\n"
     ]
    },
    {
     "name": "stderr",
     "output_type": "stream",
     "text": [
      "\n",
      "Train epoch=0, iter=0:   0%|            | 332/261825 [03:54<48:48:38,  1.49it/s]"
     ]
    },
    {
     "name": "stdout",
     "output_type": "stream",
     "text": [
      "Train: [332/261825/3996]\tepoch: 0\titer: 332\tTime: 0.618 (0.788)\tData: 0.312 (0.450)\tLoss: 315.6430 (283.0449)\tPrec@1: 0.000 (2.127)\tPrec@5: 0.000 (3.453)\tlr 0.100000\n"
     ]
    },
    {
     "name": "stderr",
     "output_type": "stream",
     "text": [
      "\n",
      "Train epoch=0, iter=0:   0%|            | 333/261825 [03:55<47:40:03,  1.52it/s]"
     ]
    },
    {
     "name": "stdout",
     "output_type": "stream",
     "text": [
      "Train: [333/261825/4008]\tepoch: 0\titer: 333\tTime: 0.697 (0.788)\tData: 0.317 (0.450)\tLoss: 277.0344 (283.0269)\tPrec@1: 8.333 (2.146)\tPrec@5: 8.333 (3.468)\tlr 0.100000\n"
     ]
    },
    {
     "name": "stderr",
     "output_type": "stream",
     "text": [
      "\n",
      "Train epoch=0, iter=0:   0%|            | 334/261825 [03:56<48:30:07,  1.50it/s]"
     ]
    },
    {
     "name": "stdout",
     "output_type": "stream",
     "text": [
      "Train: [334/261825/4020]\tepoch: 0\titer: 334\tTime: 0.608 (0.788)\tData: 0.311 (0.449)\tLoss: 330.5426 (283.1687)\tPrec@1: 0.000 (2.139)\tPrec@5: 0.000 (3.458)\tlr 0.100000\n"
     ]
    },
    {
     "name": "stderr",
     "output_type": "stream",
     "text": [
      "\n",
      "Train epoch=0, iter=0:   0%|            | 335/261825 [03:56<47:34:15,  1.53it/s]"
     ]
    },
    {
     "name": "stdout",
     "output_type": "stream",
     "text": [
      "Train: [335/261825/4032]\tepoch: 0\titer: 335\tTime: 0.639 (0.787)\tData: 0.328 (0.449)\tLoss: 285.0534 (283.1743)\tPrec@1: 8.333 (2.158)\tPrec@5: 8.333 (3.472)\tlr 0.100000\n"
     ]
    },
    {
     "name": "stderr",
     "output_type": "stream",
     "text": [
      "\n",
      "Train epoch=0, iter=0:   0%|            | 336/261825 [03:57<46:53:46,  1.55it/s]"
     ]
    },
    {
     "name": "stdout",
     "output_type": "stream",
     "text": [
      "Train: [336/261825/4044]\tepoch: 0\titer: 336\tTime: 0.638 (0.787)\tData: 0.316 (0.448)\tLoss: 283.0836 (283.1740)\tPrec@1: 0.000 (2.151)\tPrec@5: 0.000 (3.462)\tlr 0.100000\n"
     ]
    },
    {
     "name": "stderr",
     "output_type": "stream",
     "text": [
      "\n",
      "Train epoch=0, iter=0:   0%|            | 337/261825 [03:57<46:48:17,  1.55it/s]"
     ]
    },
    {
     "name": "stdout",
     "output_type": "stream",
     "text": [
      "Train: [337/261825/4056]\tepoch: 0\titer: 337\tTime: 0.637 (0.786)\tData: 0.318 (0.448)\tLoss: 280.9336 (283.1674)\tPrec@1: 0.000 (2.145)\tPrec@5: 8.333 (3.476)\tlr 0.100000\n"
     ]
    },
    {
     "name": "stderr",
     "output_type": "stream",
     "text": [
      "\n",
      "Train epoch=0, iter=0:   0%|            | 338/261825 [03:58<46:36:36,  1.56it/s]"
     ]
    },
    {
     "name": "stdout",
     "output_type": "stream",
     "text": [
      "Train: [338/261825/4068]\tepoch: 0\titer: 338\tTime: 0.633 (0.786)\tData: 0.317 (0.448)\tLoss: 285.8211 (283.1753)\tPrec@1: 8.333 (2.163)\tPrec@5: 8.333 (3.491)\tlr 0.100000\n"
     ]
    },
    {
     "name": "stderr",
     "output_type": "stream",
     "text": [
      "\n",
      "Train epoch=0, iter=0:   0%|            | 339/261825 [03:59<46:43:40,  1.55it/s]"
     ]
    },
    {
     "name": "stdout",
     "output_type": "stream",
     "text": [
      "Train: [339/261825/4080]\tepoch: 0\titer: 339\tTime: 0.641 (0.785)\tData: 0.328 (0.447)\tLoss: 286.3037 (283.1844)\tPrec@1: 0.000 (2.157)\tPrec@5: 8.333 (3.505)\tlr 0.100000\n"
     ]
    },
    {
     "name": "stderr",
     "output_type": "stream",
     "text": [
      "\n",
      "Train epoch=0, iter=0:   0%|            | 340/261825 [03:59<46:36:30,  1.56it/s]"
     ]
    },
    {
     "name": "stdout",
     "output_type": "stream",
     "text": [
      "Train: [340/261825/4092]\tepoch: 0\titer: 340\tTime: 0.636 (0.785)\tData: 0.328 (0.447)\tLoss: 284.2510 (283.1876)\tPrec@1: 0.000 (2.151)\tPrec@5: 0.000 (3.495)\tlr 0.100000\n"
     ]
    },
    {
     "name": "stderr",
     "output_type": "stream",
     "text": [
      "\n",
      "Train epoch=0, iter=0:   0%|            | 341/261825 [04:00<46:13:57,  1.57it/s]"
     ]
    },
    {
     "name": "stdout",
     "output_type": "stream",
     "text": [
      "Train: [341/261825/4104]\tepoch: 0\titer: 341\tTime: 0.642 (0.784)\tData: 0.316 (0.447)\tLoss: 225.9211 (283.0201)\tPrec@1: 8.333 (2.169)\tPrec@5: 16.667 (3.533)\tlr 0.100000\n"
     ]
    },
    {
     "name": "stderr",
     "output_type": "stream",
     "text": [
      "\n",
      "Train epoch=0, iter=0:   0%|            | 342/261825 [04:01<46:18:11,  1.57it/s]"
     ]
    },
    {
     "name": "stdout",
     "output_type": "stream",
     "text": [
      "Train: [342/261825/4116]\tepoch: 0\titer: 342\tTime: 0.641 (0.784)\tData: 0.312 (0.446)\tLoss: 211.0282 (282.8102)\tPrec@1: 8.333 (2.187)\tPrec@5: 16.667 (3.571)\tlr 0.100000\n"
     ]
    },
    {
     "name": "stderr",
     "output_type": "stream",
     "text": [
      "\n",
      "Train epoch=0, iter=0:   0%|            | 343/261825 [04:01<46:22:18,  1.57it/s]"
     ]
    },
    {
     "name": "stdout",
     "output_type": "stream",
     "text": [
      "Train: [343/261825/4128]\tepoch: 0\titer: 343\tTime: 0.643 (0.784)\tData: 0.328 (0.446)\tLoss: 258.5233 (282.7396)\tPrec@1: 8.333 (2.204)\tPrec@5: 16.667 (3.609)\tlr 0.100000\n"
     ]
    },
    {
     "name": "stderr",
     "output_type": "stream",
     "text": [
      "\n",
      "Train epoch=0, iter=0:   0%|            | 344/261825 [04:02<46:30:47,  1.56it/s]"
     ]
    },
    {
     "name": "stdout",
     "output_type": "stream",
     "text": [
      "Train: [344/261825/4140]\tepoch: 0\titer: 344\tTime: 0.681 (0.783)\tData: 0.317 (0.445)\tLoss: 313.0877 (282.8275)\tPrec@1: 0.000 (2.198)\tPrec@5: 0.000 (3.599)\tlr 0.100000\n"
     ]
    },
    {
     "name": "stderr",
     "output_type": "stream",
     "text": [
      "\n",
      "Train epoch=0, iter=0:   0%|            | 345/261825 [04:03<47:23:12,  1.53it/s]"
     ]
    },
    {
     "name": "stdout",
     "output_type": "stream",
     "text": [
      "Train: [345/261825/4152]\tepoch: 0\titer: 345\tTime: 0.623 (0.783)\tData: 0.316 (0.445)\tLoss: 329.8088 (282.9634)\tPrec@1: 0.000 (2.192)\tPrec@5: 0.000 (3.589)\tlr 0.100000\n"
     ]
    },
    {
     "name": "stderr",
     "output_type": "stream",
     "text": [
      "\n",
      "Train epoch=0, iter=0:   0%|            | 346/261825 [04:03<46:43:58,  1.55it/s]"
     ]
    },
    {
     "name": "stdout",
     "output_type": "stream",
     "text": [
      "Train: [346/261825/4164]\tepoch: 0\titer: 346\tTime: 0.637 (0.782)\tData: 0.313 (0.445)\tLoss: 319.3307 (283.0682)\tPrec@1: 8.333 (2.209)\tPrec@5: 8.333 (3.602)\tlr 0.100000\n"
     ]
    },
    {
     "name": "stderr",
     "output_type": "stream",
     "text": [
      "\n",
      "Train epoch=0, iter=0:   0%|            | 347/261825 [04:04<46:15:38,  1.57it/s]"
     ]
    },
    {
     "name": "stdout",
     "output_type": "stream",
     "text": [
      "Train: [347/261825/4176]\tepoch: 0\titer: 347\tTime: 0.638 (0.782)\tData: 0.300 (0.444)\tLoss: 288.5932 (283.0840)\tPrec@1: 0.000 (2.203)\tPrec@5: 0.000 (3.592)\tlr 0.100000\n"
     ]
    },
    {
     "name": "stderr",
     "output_type": "stream",
     "text": [
      "\n",
      "Train epoch=0, iter=0:   0%|            | 348/261825 [04:04<46:32:35,  1.56it/s]"
     ]
    },
    {
     "name": "stdout",
     "output_type": "stream",
     "text": [
      "Train: [348/261825/4188]\tepoch: 0\titer: 348\tTime: 0.675 (0.782)\tData: 0.309 (0.444)\tLoss: 310.6851 (283.1631)\tPrec@1: 0.000 (2.197)\tPrec@5: 0.000 (3.582)\tlr 0.100000\n"
     ]
    },
    {
     "name": "stderr",
     "output_type": "stream",
     "text": [
      "\n",
      "Train epoch=0, iter=0:   0%|            | 349/261825 [04:05<47:22:14,  1.53it/s]"
     ]
    },
    {
     "name": "stdout",
     "output_type": "stream",
     "text": [
      "Train: [349/261825/4200]\tepoch: 0\titer: 349\tTime: 0.644 (0.781)\tData: 0.313 (0.444)\tLoss: 271.7023 (283.1304)\tPrec@1: 0.000 (2.190)\tPrec@5: 16.667 (3.619)\tlr 0.100000\n"
     ]
    },
    {
     "name": "stderr",
     "output_type": "stream",
     "text": [
      "\n",
      "Train epoch=0, iter=0:   0%|            | 350/261825 [04:06<47:11:21,  1.54it/s]"
     ]
    },
    {
     "name": "stdout",
     "output_type": "stream",
     "text": [
      "Train: [350/261825/4212]\tepoch: 0\titer: 350\tTime: 0.625 (0.781)\tData: 0.313 (0.443)\tLoss: 270.4184 (283.0941)\tPrec@1: 0.000 (2.184)\tPrec@5: 8.333 (3.632)\tlr 0.100000\n"
     ]
    },
    {
     "name": "stderr",
     "output_type": "stream",
     "text": [
      "\n",
      "Train epoch=0, iter=0:   0%|            | 351/261825 [04:06<46:37:41,  1.56it/s]"
     ]
    },
    {
     "name": "stdout",
     "output_type": "stream",
     "text": [
      "Train: [351/261825/4224]\tepoch: 0\titer: 351\tTime: 0.644 (0.780)\tData: 0.313 (0.443)\tLoss: 309.4329 (283.1690)\tPrec@1: 8.333 (2.202)\tPrec@5: 8.333 (3.646)\tlr 0.100000\n"
     ]
    },
    {
     "name": "stderr",
     "output_type": "stream",
     "text": [
      "\n",
      "Train epoch=0, iter=0:   0%|            | 352/261825 [04:07<46:43:32,  1.55it/s]"
     ]
    },
    {
     "name": "stdout",
     "output_type": "stream",
     "text": [
      "Train: [352/261825/4236]\tepoch: 0\titer: 352\tTime: 0.628 (0.780)\tData: 0.316 (0.442)\tLoss: 306.6440 (283.2355)\tPrec@1: 0.000 (2.195)\tPrec@5: 8.333 (3.659)\tlr 0.100000\n"
     ]
    },
    {
     "name": "stderr",
     "output_type": "stream",
     "text": [
      "\n",
      "Train epoch=0, iter=0:   0%|            | 353/261825 [04:08<46:01:03,  1.58it/s]"
     ]
    },
    {
     "name": "stdout",
     "output_type": "stream",
     "text": [
      "Train: [353/261825/4248]\tepoch: 0\titer: 353\tTime: 0.656 (0.780)\tData: 0.297 (0.442)\tLoss: 350.3904 (283.4252)\tPrec@1: 0.000 (2.189)\tPrec@5: 0.000 (3.649)\tlr 0.100000\n"
     ]
    },
    {
     "name": "stderr",
     "output_type": "stream",
     "text": [
      "\n",
      "Train epoch=0, iter=0:   0%|            | 354/261825 [04:08<47:03:53,  1.54it/s]"
     ]
    },
    {
     "name": "stdout",
     "output_type": "stream",
     "text": [
      "Train: [354/261825/4260]\tepoch: 0\titer: 354\tTime: 0.674 (0.779)\tData: 0.325 (0.442)\tLoss: 276.1254 (283.4046)\tPrec@1: 8.333 (2.207)\tPrec@5: 8.333 (3.662)\tlr 0.100000\n"
     ]
    },
    {
     "name": "stderr",
     "output_type": "stream",
     "text": [
      "\n",
      "Train epoch=0, iter=0:   0%|            | 355/261825 [04:09<47:25:24,  1.53it/s]"
     ]
    },
    {
     "name": "stdout",
     "output_type": "stream",
     "text": [
      "Train: [355/261825/4272]\tepoch: 0\titer: 355\tTime: 0.606 (0.779)\tData: 0.315 (0.441)\tLoss: 297.2686 (283.4436)\tPrec@1: 8.333 (2.224)\tPrec@5: 8.333 (3.675)\tlr 0.100000\n"
     ]
    },
    {
     "name": "stderr",
     "output_type": "stream",
     "text": [
      "\n",
      "Train epoch=0, iter=0:   0%|            | 356/261825 [04:10<46:22:42,  1.57it/s]"
     ]
    },
    {
     "name": "stdout",
     "output_type": "stream",
     "text": [
      "Train: [356/261825/4284]\tepoch: 0\titer: 356\tTime: 0.656 (0.779)\tData: 0.328 (0.441)\tLoss: 268.5382 (283.4019)\tPrec@1: 16.667 (2.264)\tPrec@5: 16.667 (3.711)\tlr 0.100000\n"
     ]
    },
    {
     "name": "stderr",
     "output_type": "stream",
     "text": [
      "\n",
      "Train epoch=0, iter=0:   0%|            | 357/261825 [04:10<46:45:50,  1.55it/s]"
     ]
    },
    {
     "name": "stdout",
     "output_type": "stream",
     "text": [
      "Train: [357/261825/4296]\tepoch: 0\titer: 357\tTime: 0.656 (0.778)\tData: 0.313 (0.441)\tLoss: 329.3462 (283.5302)\tPrec@1: 0.000 (2.258)\tPrec@5: 0.000 (3.701)\tlr 0.100000\n"
     ]
    },
    {
     "name": "stderr",
     "output_type": "stream",
     "text": [
      "\n",
      "Train epoch=0, iter=0:   0%|            | 358/261825 [04:11<47:02:01,  1.54it/s]"
     ]
    },
    {
     "name": "stdout",
     "output_type": "stream",
     "text": [
      "Train: [358/261825/4308]\tepoch: 0\titer: 358\tTime: 0.656 (0.778)\tData: 0.313 (0.440)\tLoss: 309.0216 (283.6012)\tPrec@1: 0.000 (2.252)\tPrec@5: 0.000 (3.691)\tlr 0.100000\n"
     ]
    },
    {
     "name": "stderr",
     "output_type": "stream",
     "text": [
      "\n",
      "Train epoch=0, iter=0:   0%|            | 359/261825 [04:12<47:15:48,  1.54it/s]"
     ]
    },
    {
     "name": "stdout",
     "output_type": "stream",
     "text": [
      "Train: [359/261825/4320]\tepoch: 0\titer: 359\tTime: 0.658 (0.778)\tData: 0.316 (0.440)\tLoss: 366.1902 (283.8306)\tPrec@1: 0.000 (2.245)\tPrec@5: 0.000 (3.681)\tlr 0.100000\n"
     ]
    },
    {
     "name": "stderr",
     "output_type": "stream",
     "text": [
      "\n",
      "Train epoch=0, iter=0:   0%|            | 360/261825 [04:12<47:24:35,  1.53it/s]"
     ]
    },
    {
     "name": "stdout",
     "output_type": "stream",
     "text": [
      "Train: [360/261825/4332]\tepoch: 0\titer: 360\tTime: 0.623 (0.777)\tData: 0.316 (0.440)\tLoss: 311.7892 (283.9081)\tPrec@1: 0.000 (2.239)\tPrec@5: 0.000 (3.670)\tlr 0.100000\n"
     ]
    },
    {
     "name": "stderr",
     "output_type": "stream",
     "text": [
      "\n",
      "Train epoch=0, iter=0:   0%|            | 361/261825 [04:13<46:44:50,  1.55it/s]"
     ]
    },
    {
     "name": "stdout",
     "output_type": "stream",
     "text": [
      "Train: [361/261825/4344]\tepoch: 0\titer: 361\tTime: 0.687 (0.777)\tData: 0.312 (0.439)\tLoss: 256.1751 (283.8315)\tPrec@1: 8.333 (2.256)\tPrec@5: 8.333 (3.683)\tlr 0.100000\n"
     ]
    },
    {
     "name": "stderr",
     "output_type": "stream",
     "text": [
      "\n",
      "Train epoch=0, iter=0:   0%|            | 362/261825 [04:14<47:47:53,  1.52it/s]"
     ]
    },
    {
     "name": "stdout",
     "output_type": "stream",
     "text": [
      "Train: [362/261825/4356]\tepoch: 0\titer: 362\tTime: 0.650 (0.777)\tData: 0.319 (0.439)\tLoss: 302.2793 (283.8823)\tPrec@1: 0.000 (2.250)\tPrec@5: 0.000 (3.673)\tlr 0.100000\n"
     ]
    },
    {
     "name": "stderr",
     "output_type": "stream",
     "text": [
      "\n",
      "Train epoch=0, iter=0:   0%|            | 363/261825 [04:14<47:32:38,  1.53it/s]"
     ]
    },
    {
     "name": "stdout",
     "output_type": "stream",
     "text": [
      "Train: [363/261825/4368]\tepoch: 0\titer: 363\tTime: 0.621 (0.776)\tData: 0.316 (0.439)\tLoss: 307.0233 (283.9458)\tPrec@1: 8.333 (2.266)\tPrec@5: 16.667 (3.709)\tlr 0.100000\n"
     ]
    },
    {
     "name": "stderr",
     "output_type": "stream",
     "text": [
      "\n",
      "Train epoch=0, iter=0:   0%|            | 364/261825 [04:15<46:51:52,  1.55it/s]"
     ]
    },
    {
     "name": "stdout",
     "output_type": "stream",
     "text": [
      "Train: [364/261825/4380]\tepoch: 0\titer: 364\tTime: 0.658 (0.776)\tData: 0.317 (0.438)\tLoss: 289.1300 (283.9600)\tPrec@1: 0.000 (2.260)\tPrec@5: 0.000 (3.699)\tlr 0.100000\n"
     ]
    },
    {
     "name": "stderr",
     "output_type": "stream",
     "text": [
      "\n",
      "Train epoch=0, iter=0:   0%|            | 365/261825 [04:15<46:55:05,  1.55it/s]"
     ]
    },
    {
     "name": "stdout",
     "output_type": "stream",
     "text": [
      "Train: [365/261825/4392]\tepoch: 0\titer: 365\tTime: 0.695 (0.776)\tData: 0.320 (0.438)\tLoss: 303.1299 (284.0124)\tPrec@1: 0.000 (2.254)\tPrec@5: 8.333 (3.711)\tlr 0.100000\n"
     ]
    },
    {
     "name": "stderr",
     "output_type": "stream",
     "text": [
      "\n",
      "Train epoch=0, iter=0:   0%|            | 366/261825 [04:16<48:30:09,  1.50it/s]"
     ]
    },
    {
     "name": "stdout",
     "output_type": "stream",
     "text": [
      "Train: [366/261825/4404]\tepoch: 0\titer: 366\tTime: 0.641 (0.775)\tData: 0.328 (0.438)\tLoss: 331.5077 (284.1418)\tPrec@1: 0.000 (2.248)\tPrec@5: 0.000 (3.701)\tlr 0.100000\n"
     ]
    },
    {
     "name": "stderr",
     "output_type": "stream",
     "text": [
      "\n",
      "Train epoch=0, iter=0:   0%|            | 367/261825 [04:17<47:34:11,  1.53it/s]"
     ]
    },
    {
     "name": "stdout",
     "output_type": "stream",
     "text": [
      "Train: [367/261825/4416]\tepoch: 0\titer: 367\tTime: 0.625 (0.775)\tData: 0.313 (0.437)\tLoss: 289.1245 (284.1553)\tPrec@1: 8.333 (2.264)\tPrec@5: 8.333 (3.714)\tlr 0.100000\n"
     ]
    },
    {
     "name": "stderr",
     "output_type": "stream",
     "text": [
      "\n",
      "Train epoch=0, iter=0:   0%|            | 368/261825 [04:17<46:34:32,  1.56it/s]"
     ]
    },
    {
     "name": "stdout",
     "output_type": "stream",
     "text": [
      "Train: [368/261825/4428]\tepoch: 0\titer: 368\tTime: 0.672 (0.775)\tData: 0.297 (0.437)\tLoss: 313.4662 (284.2348)\tPrec@1: 0.000 (2.258)\tPrec@5: 0.000 (3.704)\tlr 0.100000\n"
     ]
    },
    {
     "name": "stderr",
     "output_type": "stream",
     "text": [
      "\n",
      "Train epoch=0, iter=0:   0%|            | 369/261825 [04:18<47:34:56,  1.53it/s]"
     ]
    },
    {
     "name": "stdout",
     "output_type": "stream",
     "text": [
      "Train: [369/261825/4440]\tepoch: 0\titer: 369\tTime: 0.656 (0.774)\tData: 0.312 (0.437)\tLoss: 311.7458 (284.3091)\tPrec@1: 0.000 (2.252)\tPrec@5: 0.000 (3.694)\tlr 0.100000\n"
     ]
    },
    {
     "name": "stderr",
     "output_type": "stream",
     "text": [
      "\n",
      "Train epoch=0, iter=0:   0%|            | 370/261825 [04:19<47:36:21,  1.53it/s]"
     ]
    },
    {
     "name": "stdout",
     "output_type": "stream",
     "text": [
      "Train: [370/261825/4452]\tepoch: 0\titer: 370\tTime: 0.656 (0.774)\tData: 0.312 (0.436)\tLoss: 305.3933 (284.3660)\tPrec@1: 0.000 (2.246)\tPrec@5: 0.000 (3.684)\tlr 0.100000\n"
     ]
    },
    {
     "name": "stderr",
     "output_type": "stream",
     "text": [
      "\n",
      "Train epoch=0, iter=0:   0%|            | 371/261825 [04:19<47:50:28,  1.52it/s]"
     ]
    },
    {
     "name": "stdout",
     "output_type": "stream",
     "text": [
      "Train: [371/261825/4464]\tepoch: 0\titer: 371\tTime: 0.642 (0.774)\tData: 0.324 (0.436)\tLoss: 323.2856 (284.4706)\tPrec@1: 8.333 (2.263)\tPrec@5: 8.333 (3.696)\tlr 0.100000\n"
     ]
    },
    {
     "name": "stderr",
     "output_type": "stream",
     "text": [
      "\n",
      "Train epoch=0, iter=0:   0%|            | 372/261825 [04:20<46:48:37,  1.55it/s]"
     ]
    },
    {
     "name": "stdout",
     "output_type": "stream",
     "text": [
      "Train: [372/261825/4476]\tepoch: 0\titer: 372\tTime: 0.623 (0.773)\tData: 0.295 (0.436)\tLoss: 296.9187 (284.5040)\tPrec@1: 16.667 (2.301)\tPrec@5: 16.667 (3.731)\tlr 0.100000\n"
     ]
    },
    {
     "name": "stderr",
     "output_type": "stream",
     "text": [
      "\n",
      "Train epoch=0, iter=0:   0%|            | 373/261825 [04:21<47:08:00,  1.54it/s]"
     ]
    },
    {
     "name": "stdout",
     "output_type": "stream",
     "text": [
      "Train: [373/261825/4488]\tepoch: 0\titer: 373\tTime: 0.641 (0.773)\tData: 0.328 (0.435)\tLoss: 275.0067 (284.4786)\tPrec@1: 0.000 (2.295)\tPrec@5: 8.333 (3.743)\tlr 0.100000\n"
     ]
    },
    {
     "name": "stderr",
     "output_type": "stream",
     "text": [
      "\n",
      "Train epoch=0, iter=0:   0%|            | 374/261825 [04:21<46:47:42,  1.55it/s]"
     ]
    },
    {
     "name": "stdout",
     "output_type": "stream",
     "text": [
      "Train: [374/261825/4500]\tepoch: 0\titer: 374\tTime: 0.662 (0.772)\tData: 0.324 (0.435)\tLoss: 308.6095 (284.5429)\tPrec@1: 0.000 (2.289)\tPrec@5: 0.000 (3.733)\tlr 0.100000\n"
     ]
    },
    {
     "name": "stderr",
     "output_type": "stream",
     "text": [
      "\n",
      "Train epoch=0, iter=0:   0%|            | 375/261825 [04:22<47:04:52,  1.54it/s]"
     ]
    },
    {
     "name": "stdout",
     "output_type": "stream",
     "text": [
      "Train: [375/261825/4512]\tepoch: 0\titer: 375\tTime: 0.658 (0.772)\tData: 0.318 (0.435)\tLoss: 371.6051 (284.7745)\tPrec@1: 0.000 (2.283)\tPrec@5: 0.000 (3.723)\tlr 0.100000\n"
     ]
    },
    {
     "name": "stderr",
     "output_type": "stream",
     "text": [
      "\n",
      "Train epoch=0, iter=0:   0%|            | 376/261825 [04:23<47:15:33,  1.54it/s]"
     ]
    },
    {
     "name": "stdout",
     "output_type": "stream",
     "text": [
      "Train: [376/261825/4524]\tepoch: 0\titer: 376\tTime: 0.661 (0.772)\tData: 0.317 (0.434)\tLoss: 344.8800 (284.9339)\tPrec@1: 8.333 (2.299)\tPrec@5: 8.333 (3.736)\tlr 0.100000\n"
     ]
    },
    {
     "name": "stderr",
     "output_type": "stream",
     "text": [
      "\n",
      "Train epoch=0, iter=0:   0%|            | 377/261825 [04:23<47:29:35,  1.53it/s]"
     ]
    },
    {
     "name": "stdout",
     "output_type": "stream",
     "text": [
      "Train: [377/261825/4536]\tepoch: 0\titer: 377\tTime: 0.666 (0.772)\tData: 0.316 (0.434)\tLoss: 306.7097 (284.9915)\tPrec@1: 0.000 (2.293)\tPrec@5: 0.000 (3.726)\tlr 0.100000\n"
     ]
    },
    {
     "name": "stderr",
     "output_type": "stream",
     "text": [
      "\n",
      "Train epoch=0, iter=0:   0%|            | 378/261825 [04:24<47:44:37,  1.52it/s]"
     ]
    },
    {
     "name": "stdout",
     "output_type": "stream",
     "text": [
      "Train: [378/261825/4548]\tepoch: 0\titer: 378\tTime: 0.619 (0.771)\tData: 0.316 (0.434)\tLoss: 325.9566 (285.0996)\tPrec@1: 0.000 (2.287)\tPrec@5: 0.000 (3.716)\tlr 0.100000\n"
     ]
    },
    {
     "name": "stderr",
     "output_type": "stream",
     "text": [
      "\n",
      "Train epoch=0, iter=0:   0%|            | 379/261825 [04:25<46:53:49,  1.55it/s]"
     ]
    },
    {
     "name": "stdout",
     "output_type": "stream",
     "text": [
      "Train: [379/261825/4560]\tepoch: 0\titer: 379\tTime: 0.641 (0.771)\tData: 0.312 (0.433)\tLoss: 280.6551 (285.0879)\tPrec@1: 8.333 (2.303)\tPrec@5: 8.333 (3.728)\tlr 0.100000\n"
     ]
    },
    {
     "name": "stderr",
     "output_type": "stream",
     "text": [
      "\n",
      "Train epoch=0, iter=0:   0%|            | 380/261825 [04:25<46:47:09,  1.55it/s]"
     ]
    },
    {
     "name": "stdout",
     "output_type": "stream",
     "text": [
      "Train: [380/261825/4572]\tepoch: 0\titer: 380\tTime: 0.635 (0.770)\tData: 0.313 (0.433)\tLoss: 365.0367 (285.2978)\tPrec@1: 0.000 (2.297)\tPrec@5: 0.000 (3.718)\tlr 0.100000\n"
     ]
    },
    {
     "name": "stderr",
     "output_type": "stream",
     "text": [
      "\n",
      "Train epoch=0, iter=0:   0%|            | 381/261825 [04:26<46:12:49,  1.57it/s]"
     ]
    },
    {
     "name": "stdout",
     "output_type": "stream",
     "text": [
      "Train: [381/261825/4584]\tepoch: 0\titer: 381\tTime: 0.643 (0.770)\tData: 0.298 (0.433)\tLoss: 343.0026 (285.4488)\tPrec@1: 0.000 (2.291)\tPrec@5: 0.000 (3.709)\tlr 0.100000\n"
     ]
    },
    {
     "name": "stderr",
     "output_type": "stream",
     "text": [
      "\n",
      "Train epoch=0, iter=0:   0%|            | 382/261825 [04:27<46:30:20,  1.56it/s]"
     ]
    },
    {
     "name": "stdout",
     "output_type": "stream",
     "text": [
      "Train: [382/261825/4596]\tepoch: 0\titer: 382\tTime: 0.645 (0.770)\tData: 0.317 (0.432)\tLoss: 335.9998 (285.5808)\tPrec@1: 0.000 (2.285)\tPrec@5: 0.000 (3.699)\tlr 0.100000\n"
     ]
    },
    {
     "name": "stderr",
     "output_type": "stream",
     "text": [
      "\n",
      "Train epoch=0, iter=0:   0%|            | 383/261825 [04:27<46:51:06,  1.55it/s]"
     ]
    },
    {
     "name": "stdout",
     "output_type": "stream",
     "text": [
      "Train: [383/261825/4608]\tepoch: 0\titer: 383\tTime: 0.655 (0.770)\tData: 0.312 (0.432)\tLoss: 297.7024 (285.6124)\tPrec@1: 0.000 (2.279)\tPrec@5: 0.000 (3.689)\tlr 0.100000\n"
     ]
    },
    {
     "name": "stderr",
     "output_type": "stream",
     "text": [
      "\n",
      "Train epoch=0, iter=0:   0%|            | 384/261825 [04:28<47:05:48,  1.54it/s]"
     ]
    },
    {
     "name": "stdout",
     "output_type": "stream",
     "text": [
      "Train: [384/261825/4620]\tepoch: 0\titer: 384\tTime: 0.629 (0.769)\tData: 0.316 (0.432)\tLoss: 344.3232 (285.7649)\tPrec@1: 0.000 (2.273)\tPrec@5: 0.000 (3.680)\tlr 0.100000\n"
     ]
    },
    {
     "name": "stderr",
     "output_type": "stream",
     "text": [
      "\n",
      "Train epoch=0, iter=0:   0%|            | 385/261825 [04:28<46:08:40,  1.57it/s]"
     ]
    },
    {
     "name": "stdout",
     "output_type": "stream",
     "text": [
      "Train: [385/261825/4632]\tepoch: 0\titer: 385\tTime: 0.649 (0.769)\tData: 0.290 (0.431)\tLoss: 308.8748 (285.8247)\tPrec@1: 8.333 (2.288)\tPrec@5: 8.333 (3.692)\tlr 0.100000\n"
     ]
    },
    {
     "name": "stderr",
     "output_type": "stream",
     "text": [
      "\n",
      "Train epoch=0, iter=0:   0%|            | 386/261825 [04:29<46:56:20,  1.55it/s]"
     ]
    },
    {
     "name": "stdout",
     "output_type": "stream",
     "text": [
      "Train: [386/261825/4644]\tepoch: 0\titer: 386\tTime: 0.651 (0.769)\tData: 0.312 (0.431)\tLoss: 318.2151 (285.9084)\tPrec@1: 0.000 (2.283)\tPrec@5: 0.000 (3.682)\tlr 0.100000\n"
     ]
    },
    {
     "name": "stderr",
     "output_type": "stream",
     "text": [
      "\n",
      "Train epoch=0, iter=0:   0%|            | 387/261825 [04:30<47:05:30,  1.54it/s]"
     ]
    },
    {
     "name": "stdout",
     "output_type": "stream",
     "text": [
      "Train: [387/261825/4656]\tepoch: 0\titer: 387\tTime: 0.657 (0.768)\tData: 0.318 (0.431)\tLoss: 289.9147 (285.9188)\tPrec@1: 0.000 (2.277)\tPrec@5: 0.000 (3.673)\tlr 0.100000\n"
     ]
    },
    {
     "name": "stderr",
     "output_type": "stream",
     "text": [
      "\n",
      "Train epoch=0, iter=0:   0%|            | 388/261825 [04:30<46:59:09,  1.55it/s]"
     ]
    },
    {
     "name": "stdout",
     "output_type": "stream",
     "text": [
      "Train: [388/261825/4668]\tepoch: 0\titer: 388\tTime: 0.692 (0.768)\tData: 0.317 (0.431)\tLoss: 259.7155 (285.8514)\tPrec@1: 0.000 (2.271)\tPrec@5: 0.000 (3.663)\tlr 0.100000\n"
     ]
    },
    {
     "name": "stderr",
     "output_type": "stream",
     "text": [
      "\n",
      "Train epoch=0, iter=0:   0%|            | 389/261825 [04:31<48:12:31,  1.51it/s]"
     ]
    },
    {
     "name": "stdout",
     "output_type": "stream",
     "text": [
      "Train: [389/261825/4680]\tepoch: 0\titer: 389\tTime: 0.625 (0.768)\tData: 0.312 (0.430)\tLoss: 311.2795 (285.9166)\tPrec@1: 0.000 (2.265)\tPrec@5: 0.000 (3.654)\tlr 0.100000\n"
     ]
    },
    {
     "name": "stderr",
     "output_type": "stream",
     "text": [
      "\n",
      "Train epoch=0, iter=0:   0%|            | 390/261825 [04:32<47:21:45,  1.53it/s]"
     ]
    },
    {
     "name": "stdout",
     "output_type": "stream",
     "text": [
      "Train: [390/261825/4692]\tepoch: 0\titer: 390\tTime: 0.641 (0.767)\tData: 0.328 (0.430)\tLoss: 256.0271 (285.8402)\tPrec@1: 8.333 (2.280)\tPrec@5: 16.667 (3.687)\tlr 0.100000\n"
     ]
    },
    {
     "name": "stderr",
     "output_type": "stream",
     "text": [
      "\n",
      "Train epoch=0, iter=0:   0%|            | 391/261825 [04:32<47:21:40,  1.53it/s]"
     ]
    },
    {
     "name": "stdout",
     "output_type": "stream",
     "text": [
      "Train: [391/261825/4704]\tepoch: 0\titer: 391\tTime: 0.645 (0.767)\tData: 0.327 (0.430)\tLoss: 296.0557 (285.8662)\tPrec@1: 8.333 (2.296)\tPrec@5: 8.333 (3.699)\tlr 0.100000\n"
     ]
    },
    {
     "name": "stderr",
     "output_type": "stream",
     "text": [
      "\n",
      "Train epoch=0, iter=0:   0%|            | 392/261825 [04:33<47:02:24,  1.54it/s]"
     ]
    },
    {
     "name": "stdout",
     "output_type": "stream",
     "text": [
      "Train: [392/261825/4716]\tepoch: 0\titer: 392\tTime: 0.679 (0.767)\tData: 0.318 (0.429)\tLoss: 371.8548 (286.0850)\tPrec@1: 0.000 (2.290)\tPrec@5: 0.000 (3.690)\tlr 0.100000\n"
     ]
    },
    {
     "name": "stderr",
     "output_type": "stream",
     "text": [
      "\n",
      "Train epoch=0, iter=0:   0%|            | 393/261825 [04:34<47:39:57,  1.52it/s]"
     ]
    },
    {
     "name": "stdout",
     "output_type": "stream",
     "text": [
      "Train: [393/261825/4728]\tepoch: 0\titer: 393\tTime: 0.636 (0.767)\tData: 0.316 (0.429)\tLoss: 225.9350 (285.9324)\tPrec@1: 25.000 (2.348)\tPrec@5: 25.000 (3.744)\tlr 0.100000\n"
     ]
    },
    {
     "name": "stderr",
     "output_type": "stream",
     "text": [
      "\n",
      "Train epoch=0, iter=0:   0%|            | 394/261825 [04:34<47:02:49,  1.54it/s]"
     ]
    },
    {
     "name": "stdout",
     "output_type": "stream",
     "text": [
      "Train: [394/261825/4740]\tepoch: 0\titer: 394\tTime: 0.633 (0.766)\tData: 0.305 (0.429)\tLoss: 348.3350 (286.0904)\tPrec@1: 0.000 (2.342)\tPrec@5: 0.000 (3.734)\tlr 0.100000\n"
     ]
    },
    {
     "name": "stderr",
     "output_type": "stream",
     "text": [
      "\n",
      "Train epoch=0, iter=0:   0%|            | 395/261825 [04:35<46:53:22,  1.55it/s]"
     ]
    },
    {
     "name": "stdout",
     "output_type": "stream",
     "text": [
      "Train: [395/261825/4752]\tepoch: 0\titer: 395\tTime: 0.656 (0.766)\tData: 0.312 (0.429)\tLoss: 360.9994 (286.2795)\tPrec@1: 0.000 (2.336)\tPrec@5: 8.333 (3.746)\tlr 0.100000\n"
     ]
    },
    {
     "name": "stderr",
     "output_type": "stream",
     "text": [
      "\n",
      "Train epoch=0, iter=0:   0%|            | 396/261825 [04:36<47:07:10,  1.54it/s]"
     ]
    },
    {
     "name": "stdout",
     "output_type": "stream",
     "text": [
      "Train: [396/261825/4764]\tepoch: 0\titer: 396\tTime: 0.625 (0.766)\tData: 0.313 (0.428)\tLoss: 281.6587 (286.2679)\tPrec@1: 0.000 (2.330)\tPrec@5: 0.000 (3.736)\tlr 0.100000\n"
     ]
    },
    {
     "name": "stderr",
     "output_type": "stream",
     "text": [
      "\n",
      "Train epoch=0, iter=0:   0%|            | 397/261825 [04:36<46:56:25,  1.55it/s]"
     ]
    },
    {
     "name": "stdout",
     "output_type": "stream",
     "text": [
      "Train: [397/261825/4776]\tepoch: 0\titer: 397\tTime: 0.640 (0.765)\tData: 0.328 (0.428)\tLoss: 284.3610 (286.2631)\tPrec@1: 0.000 (2.324)\tPrec@5: 0.000 (3.727)\tlr 0.100000\n"
     ]
    },
    {
     "name": "stderr",
     "output_type": "stream",
     "text": [
      "\n",
      "Train epoch=0, iter=0:   0%|            | 398/261825 [04:37<46:07:49,  1.57it/s]"
     ]
    },
    {
     "name": "stdout",
     "output_type": "stream",
     "text": [
      "Train: [398/261825/4788]\tepoch: 0\titer: 398\tTime: 0.645 (0.765)\tData: 0.300 (0.428)\tLoss: 294.5122 (286.2838)\tPrec@1: 8.333 (2.339)\tPrec@5: 8.333 (3.739)\tlr 0.100000\n"
     ]
    },
    {
     "name": "stderr",
     "output_type": "stream",
     "text": [
      "\n",
      "Train epoch=0, iter=0:   0%|            | 399/261825 [04:38<46:44:01,  1.55it/s]"
     ]
    },
    {
     "name": "stdout",
     "output_type": "stream",
     "text": [
      "Train: [399/261825/4800]\tepoch: 0\titer: 399\tTime: 0.665 (0.765)\tData: 0.318 (0.427)\tLoss: 289.0605 (286.2907)\tPrec@1: 0.000 (2.333)\tPrec@5: 0.000 (3.729)\tlr 0.100000\n"
     ]
    },
    {
     "name": "stderr",
     "output_type": "stream",
     "text": [
      "\n",
      "Train epoch=0, iter=0:   0%|            | 400/261825 [04:38<47:12:40,  1.54it/s]"
     ]
    },
    {
     "name": "stdout",
     "output_type": "stream",
     "text": [
      "Train: [400/261825/4812]\tepoch: 0\titer: 400\tTime: 0.630 (0.764)\tData: 0.318 (0.427)\tLoss: 304.0607 (286.3350)\tPrec@1: 0.000 (2.328)\tPrec@5: 8.333 (3.741)\tlr 0.100000\n"
     ]
    },
    {
     "name": "stderr",
     "output_type": "stream",
     "text": [
      "\n",
      "Train epoch=0, iter=0:   0%|            | 401/261825 [04:39<46:42:43,  1.55it/s]"
     ]
    },
    {
     "name": "stdout",
     "output_type": "stream",
     "text": [
      "Train: [401/261825/4824]\tepoch: 0\titer: 401\tTime: 0.609 (0.764)\tData: 0.328 (0.427)\tLoss: 246.9130 (286.2370)\tPrec@1: 8.333 (2.342)\tPrec@5: 16.667 (3.773)\tlr 0.100000\n"
     ]
    },
    {
     "name": "stderr",
     "output_type": "stream",
     "text": [
      "\n",
      "Train epoch=0, iter=0:   0%|            | 402/261825 [04:39<46:13:26,  1.57it/s]"
     ]
    },
    {
     "name": "stdout",
     "output_type": "stream",
     "text": [
      "Train: [402/261825/4836]\tepoch: 0\titer: 402\tTime: 0.619 (0.764)\tData: 0.326 (0.427)\tLoss: 324.0105 (286.3307)\tPrec@1: 0.000 (2.337)\tPrec@5: 0.000 (3.763)\tlr 0.100000\n"
     ]
    },
    {
     "name": "stderr",
     "output_type": "stream",
     "text": [
      "\n",
      "Train epoch=0, iter=0:   0%|            | 403/261825 [04:40<45:38:00,  1.59it/s]"
     ]
    },
    {
     "name": "stdout",
     "output_type": "stream",
     "text": [
      "Train: [403/261825/4848]\tepoch: 0\titer: 403\tTime: 0.611 (0.763)\tData: 0.316 (0.426)\tLoss: 344.7274 (286.4753)\tPrec@1: 0.000 (2.331)\tPrec@5: 0.000 (3.754)\tlr 0.100000\n"
     ]
    },
    {
     "name": "stderr",
     "output_type": "stream",
     "text": [
      "\n",
      "Train epoch=0, iter=0:   0%|            | 404/261825 [04:41<45:15:48,  1.60it/s]"
     ]
    },
    {
     "name": "stdout",
     "output_type": "stream",
     "text": [
      "Train: [404/261825/4860]\tepoch: 0\titer: 404\tTime: 0.610 (0.763)\tData: 0.316 (0.426)\tLoss: 310.2303 (286.5339)\tPrec@1: 0.000 (2.325)\tPrec@5: 8.333 (3.765)\tlr 0.100000\n"
     ]
    },
    {
     "name": "stderr",
     "output_type": "stream",
     "text": [
      "\n",
      "Train epoch=0, iter=0:   0%|            | 405/261825 [04:41<44:57:38,  1.62it/s]"
     ]
    },
    {
     "name": "stdout",
     "output_type": "stream",
     "text": [
      "Train: [405/261825/4872]\tepoch: 0\titer: 405\tTime: 0.608 (0.762)\tData: 0.315 (0.426)\tLoss: 309.8729 (286.5914)\tPrec@1: 0.000 (2.319)\tPrec@5: 8.333 (3.777)\tlr 0.100000\n"
     ]
    },
    {
     "name": "stderr",
     "output_type": "stream",
     "text": [
      "\n",
      "Train epoch=0, iter=0:   0%|            | 406/261825 [04:42<44:46:14,  1.62it/s]"
     ]
    },
    {
     "name": "stdout",
     "output_type": "stream",
     "text": [
      "Train: [406/261825/4884]\tepoch: 0\titer: 406\tTime: 0.610 (0.762)\tData: 0.317 (0.426)\tLoss: 250.1936 (286.5020)\tPrec@1: 0.000 (2.314)\tPrec@5: 8.333 (3.788)\tlr 0.100000\n"
     ]
    },
    {
     "name": "stderr",
     "output_type": "stream",
     "text": [
      "\n",
      "Train epoch=0, iter=0:   0%|            | 407/261825 [04:43<45:39:45,  1.59it/s]"
     ]
    },
    {
     "name": "stdout",
     "output_type": "stream",
     "text": [
      "Train: [407/261825/4896]\tepoch: 0\titer: 407\tTime: 0.658 (0.762)\tData: 0.364 (0.425)\tLoss: 313.0321 (286.5670)\tPrec@1: 8.333 (2.328)\tPrec@5: 8.333 (3.799)\tlr 0.100000\n"
     ]
    },
    {
     "name": "stderr",
     "output_type": "stream",
     "text": [
      "\n",
      "Train epoch=0, iter=0:   0%|            | 408/261825 [04:43<45:16:59,  1.60it/s]"
     ]
    },
    {
     "name": "stdout",
     "output_type": "stream",
     "text": [
      "Train: [408/261825/4908]\tepoch: 0\titer: 408\tTime: 0.702 (0.762)\tData: 0.318 (0.425)\tLoss: 327.1848 (286.6663)\tPrec@1: 0.000 (2.323)\tPrec@5: 0.000 (3.790)\tlr 0.100000\n"
     ]
    },
    {
     "name": "stderr",
     "output_type": "stream",
     "text": [
      "\n",
      "Train epoch=0, iter=0:   0%|            | 409/261825 [04:44<46:35:56,  1.56it/s]"
     ]
    },
    {
     "name": "stdout",
     "output_type": "stream",
     "text": [
      "Train: [409/261825/4920]\tepoch: 0\titer: 409\tTime: 0.672 (0.761)\tData: 0.297 (0.425)\tLoss: 320.4781 (286.7488)\tPrec@1: 8.333 (2.337)\tPrec@5: 8.333 (3.801)\tlr 0.100000\n"
     ]
    },
    {
     "name": "stderr",
     "output_type": "stream",
     "text": [
      "\n",
      "Train epoch=0, iter=0:   0%|            | 410/261825 [04:45<47:28:12,  1.53it/s]"
     ]
    },
    {
     "name": "stdout",
     "output_type": "stream",
     "text": [
      "Train: [410/261825/4932]\tepoch: 0\titer: 410\tTime: 0.632 (0.761)\tData: 0.308 (0.425)\tLoss: 312.7719 (286.8121)\tPrec@1: 0.000 (2.332)\tPrec@5: 0.000 (3.792)\tlr 0.100000\n"
     ]
    },
    {
     "name": "stderr",
     "output_type": "stream",
     "text": [
      "\n",
      "Train epoch=0, iter=0:   0%|            | 411/261825 [04:45<46:42:05,  1.55it/s]"
     ]
    },
    {
     "name": "stdout",
     "output_type": "stream",
     "text": [
      "Train: [411/261825/4944]\tepoch: 0\titer: 411\tTime: 0.612 (0.761)\tData: 0.295 (0.424)\tLoss: 288.5450 (286.8163)\tPrec@1: 0.000 (2.326)\tPrec@5: 0.000 (3.782)\tlr 0.100000\n"
     ]
    },
    {
     "name": "stderr",
     "output_type": "stream",
     "text": [
      "\n",
      "Train epoch=0, iter=0:   0%|            | 412/261825 [04:46<46:00:38,  1.58it/s]"
     ]
    },
    {
     "name": "stdout",
     "output_type": "stream",
     "text": [
      "Train: [412/261825/4956]\tepoch: 0\titer: 412\tTime: 0.641 (0.761)\tData: 0.295 (0.424)\tLoss: 276.3155 (286.7909)\tPrec@1: 8.333 (2.341)\tPrec@5: 16.667 (3.814)\tlr 0.100000\n"
     ]
    },
    {
     "name": "stderr",
     "output_type": "stream",
     "text": [
      "\n",
      "Train epoch=0, iter=0:   0%|            | 413/261825 [04:46<46:41:43,  1.56it/s]"
     ]
    },
    {
     "name": "stdout",
     "output_type": "stream",
     "text": [
      "Train: [413/261825/4968]\tepoch: 0\titer: 413\tTime: 0.628 (0.760)\tData: 0.319 (0.424)\tLoss: 361.3806 (286.9710)\tPrec@1: 0.000 (2.335)\tPrec@5: 0.000 (3.804)\tlr 0.100000\n"
     ]
    },
    {
     "name": "stderr",
     "output_type": "stream",
     "text": [
      "\n",
      "Train epoch=0, iter=0:   0%|            | 414/261825 [04:47<46:20:00,  1.57it/s]"
     ]
    },
    {
     "name": "stdout",
     "output_type": "stream",
     "text": [
      "Train: [414/261825/4980]\tepoch: 0\titer: 414\tTime: 0.598 (0.760)\tData: 0.316 (0.423)\tLoss: 234.0416 (286.8435)\tPrec@1: 0.000 (2.329)\tPrec@5: 0.000 (3.795)\tlr 0.100000\n"
     ]
    },
    {
     "name": "stderr",
     "output_type": "stream",
     "text": [
      "\n",
      "Train epoch=0, iter=0:   0%|            | 415/261825 [04:48<45:46:14,  1.59it/s]"
     ]
    },
    {
     "name": "stdout",
     "output_type": "stream",
     "text": [
      "Train: [415/261825/4992]\tepoch: 0\titer: 415\tTime: 0.641 (0.760)\tData: 0.328 (0.423)\tLoss: 317.6628 (286.9176)\tPrec@1: 0.000 (2.324)\tPrec@5: 0.000 (3.786)\tlr 0.100000\n"
     ]
    },
    {
     "name": "stderr",
     "output_type": "stream",
     "text": [
      "\n",
      "Train epoch=0, iter=0:   0%|            | 416/261825 [04:48<45:51:59,  1.58it/s]"
     ]
    },
    {
     "name": "stdout",
     "output_type": "stream",
     "text": [
      "Train: [416/261825/5004]\tepoch: 0\titer: 416\tTime: 0.640 (0.759)\tData: 0.325 (0.423)\tLoss: 324.4415 (287.0076)\tPrec@1: 8.333 (2.338)\tPrec@5: 8.333 (3.797)\tlr 0.100000\n"
     ]
    },
    {
     "name": "stderr",
     "output_type": "stream",
     "text": [
      "\n",
      "Train epoch=0, iter=0:   0%|            | 417/261825 [04:49<45:50:24,  1.58it/s]"
     ]
    },
    {
     "name": "stdout",
     "output_type": "stream",
     "text": [
      "Train: [417/261825/5016]\tepoch: 0\titer: 417\tTime: 0.629 (0.759)\tData: 0.314 (0.423)\tLoss: 276.0137 (286.9813)\tPrec@1: 8.333 (2.352)\tPrec@5: 8.333 (3.808)\tlr 0.100000\n"
     ]
    },
    {
     "name": "stderr",
     "output_type": "stream",
     "text": [
      "\n",
      "Train epoch=0, iter=0:   0%|            | 418/261825 [04:50<45:25:45,  1.60it/s]"
     ]
    },
    {
     "name": "stdout",
     "output_type": "stream",
     "text": [
      "Train: [418/261825/5028]\tepoch: 0\titer: 418\tTime: 0.633 (0.759)\tData: 0.298 (0.422)\tLoss: 342.5182 (287.1138)\tPrec@1: 0.000 (2.347)\tPrec@5: 0.000 (3.799)\tlr 0.100000\n"
     ]
    },
    {
     "name": "stderr",
     "output_type": "stream",
     "text": [
      "\n",
      "Train epoch=0, iter=0:   0%|            | 419/261825 [04:50<46:02:07,  1.58it/s]"
     ]
    },
    {
     "name": "stdout",
     "output_type": "stream",
     "text": [
      "Train: [419/261825/5040]\tepoch: 0\titer: 419\tTime: 0.677 (0.758)\tData: 0.317 (0.422)\tLoss: 289.1116 (287.1186)\tPrec@1: 8.333 (2.361)\tPrec@5: 8.333 (3.810)\tlr 0.100000\n"
     ]
    },
    {
     "name": "stderr",
     "output_type": "stream",
     "text": [
      "\n",
      "Train epoch=0, iter=0:   0%|            | 420/261825 [04:51<46:57:39,  1.55it/s]"
     ]
    },
    {
     "name": "stdout",
     "output_type": "stream",
     "text": [
      "Train: [420/261825/5052]\tepoch: 0\titer: 420\tTime: 0.654 (0.758)\tData: 0.317 (0.422)\tLoss: 371.3929 (287.3188)\tPrec@1: 0.000 (2.356)\tPrec@5: 0.000 (3.800)\tlr 0.100000\n"
     ]
    },
    {
     "name": "stderr",
     "output_type": "stream",
     "text": [
      "\n",
      "Train epoch=0, iter=0:   0%|            | 421/261825 [04:51<46:59:30,  1.55it/s]"
     ]
    },
    {
     "name": "stdout",
     "output_type": "stream",
     "text": [
      "Train: [421/261825/5064]\tepoch: 0\titer: 421\tTime: 0.653 (0.758)\tData: 0.308 (0.422)\tLoss: 268.0602 (287.2731)\tPrec@1: 16.667 (2.389)\tPrec@5: 16.667 (3.831)\tlr 0.100000\n"
     ]
    },
    {
     "name": "stderr",
     "output_type": "stream",
     "text": [
      "\n",
      "Train epoch=0, iter=0:   0%|            | 422/261825 [04:52<47:12:53,  1.54it/s]"
     ]
    },
    {
     "name": "stdout",
     "output_type": "stream",
     "text": [
      "Train: [422/261825/5076]\tepoch: 0\titer: 422\tTime: 0.639 (0.758)\tData: 0.328 (0.421)\tLoss: 296.0187 (287.2938)\tPrec@1: 8.333 (2.403)\tPrec@5: 8.333 (3.842)\tlr 0.100000\n"
     ]
    },
    {
     "name": "stderr",
     "output_type": "stream",
     "text": [
      "\n",
      "Train epoch=0, iter=0:   0%|            | 423/261825 [04:53<47:01:16,  1.54it/s]"
     ]
    },
    {
     "name": "stdout",
     "output_type": "stream",
     "text": [
      "Train: [423/261825/5088]\tepoch: 0\titer: 423\tTime: 0.687 (0.757)\tData: 0.317 (0.421)\tLoss: 252.8317 (287.2125)\tPrec@1: 0.000 (2.398)\tPrec@5: 8.333 (3.852)\tlr 0.100000\n"
     ]
    },
    {
     "name": "stderr",
     "output_type": "stream",
     "text": [
      "\n",
      "Train epoch=0, iter=0:   0%|            | 424/261825 [04:53<47:34:08,  1.53it/s]"
     ]
    },
    {
     "name": "stdout",
     "output_type": "stream",
     "text": [
      "Train: [424/261825/5100]\tepoch: 0\titer: 424\tTime: 0.613 (0.757)\tData: 0.316 (0.421)\tLoss: 226.2647 (287.0691)\tPrec@1: 0.000 (2.392)\tPrec@5: 8.333 (3.863)\tlr 0.100000\n"
     ]
    },
    {
     "name": "stderr",
     "output_type": "stream",
     "text": [
      "\n",
      "Train epoch=0, iter=0:   0%|            | 425/261825 [04:54<46:54:46,  1.55it/s]"
     ]
    },
    {
     "name": "stdout",
     "output_type": "stream",
     "text": [
      "Train: [425/261825/5112]\tepoch: 0\titer: 425\tTime: 0.706 (0.757)\tData: 0.312 (0.421)\tLoss: 260.0448 (287.0057)\tPrec@1: 16.667 (2.426)\tPrec@5: 16.667 (3.893)\tlr 0.100000\n"
     ]
    },
    {
     "name": "stderr",
     "output_type": "stream",
     "text": [
      "\n",
      "Train epoch=0, iter=0:   0%|            | 426/261825 [04:55<48:14:36,  1.51it/s]"
     ]
    },
    {
     "name": "stdout",
     "output_type": "stream",
     "text": [
      "Train: [426/261825/5124]\tepoch: 0\titer: 426\tTime: 0.649 (0.757)\tData: 0.316 (0.420)\tLoss: 320.7188 (287.0846)\tPrec@1: 0.000 (2.420)\tPrec@5: 0.000 (3.884)\tlr 0.100000\n"
     ]
    },
    {
     "name": "stderr",
     "output_type": "stream",
     "text": [
      "\n",
      "Train epoch=0, iter=0:   0%|            | 427/261825 [04:55<47:54:47,  1.52it/s]"
     ]
    },
    {
     "name": "stdout",
     "output_type": "stream",
     "text": [
      "Train: [427/261825/5136]\tepoch: 0\titer: 427\tTime: 0.657 (0.757)\tData: 0.313 (0.420)\tLoss: 324.7010 (287.1725)\tPrec@1: 8.333 (2.434)\tPrec@5: 8.333 (3.894)\tlr 0.100000\n"
     ]
    },
    {
     "name": "stderr",
     "output_type": "stream",
     "text": [
      "\n",
      "Train epoch=0, iter=0:   0%|            | 428/261825 [04:56<48:10:29,  1.51it/s]"
     ]
    },
    {
     "name": "stdout",
     "output_type": "stream",
     "text": [
      "Train: [428/261825/5148]\tepoch: 0\titer: 428\tTime: 0.644 (0.756)\tData: 0.328 (0.420)\tLoss: 326.5603 (287.2643)\tPrec@1: 0.000 (2.428)\tPrec@5: 0.000 (3.885)\tlr 0.100000\n"
     ]
    },
    {
     "name": "stderr",
     "output_type": "stream",
     "text": [
      "\n",
      "Train epoch=0, iter=0:   0%|            | 429/261825 [04:57<47:25:36,  1.53it/s]"
     ]
    },
    {
     "name": "stdout",
     "output_type": "stream",
     "text": [
      "Train: [429/261825/5160]\tepoch: 0\titer: 429\tTime: 0.648 (0.756)\tData: 0.315 (0.420)\tLoss: 318.2245 (287.3363)\tPrec@1: 0.000 (2.422)\tPrec@5: 8.333 (3.895)\tlr 0.100000\n"
     ]
    },
    {
     "name": "stderr",
     "output_type": "stream",
     "text": [
      "\n",
      "Train epoch=0, iter=0:   0%|            | 430/261825 [04:57<47:23:20,  1.53it/s]"
     ]
    },
    {
     "name": "stdout",
     "output_type": "stream",
     "text": [
      "Train: [430/261825/5172]\tepoch: 0\titer: 430\tTime: 0.689 (0.756)\tData: 0.318 (0.419)\tLoss: 251.3895 (287.2529)\tPrec@1: 8.333 (2.436)\tPrec@5: 8.333 (3.906)\tlr 0.100000\n"
     ]
    },
    {
     "name": "stderr",
     "output_type": "stream",
     "text": [
      "\n",
      "Train epoch=0, iter=0:   0%|            | 431/261825 [04:58<48:07:32,  1.51it/s]"
     ]
    },
    {
     "name": "stdout",
     "output_type": "stream",
     "text": [
      "Train: [431/261825/5184]\tepoch: 0\titer: 431\tTime: 0.643 (0.756)\tData: 0.316 (0.419)\tLoss: 319.1344 (287.3267)\tPrec@1: 0.000 (2.431)\tPrec@5: 0.000 (3.897)\tlr 0.100000\n"
     ]
    },
    {
     "name": "stderr",
     "output_type": "stream",
     "text": [
      "\n",
      "Train epoch=0, iter=0:   0%|            | 432/261825 [04:59<47:40:45,  1.52it/s]"
     ]
    },
    {
     "name": "stdout",
     "output_type": "stream",
     "text": [
      "Train: [432/261825/5196]\tepoch: 0\titer: 432\tTime: 0.625 (0.755)\tData: 0.312 (0.419)\tLoss: 297.0158 (287.3491)\tPrec@1: 0.000 (2.425)\tPrec@5: 8.333 (3.907)\tlr 0.100000\n"
     ]
    },
    {
     "name": "stderr",
     "output_type": "stream",
     "text": [
      "\n",
      "Train epoch=0, iter=0:   0%|            | 433/261825 [04:59<47:09:21,  1.54it/s]"
     ]
    },
    {
     "name": "stdout",
     "output_type": "stream",
     "text": [
      "Train: [433/261825/5208]\tepoch: 0\titer: 433\tTime: 0.653 (0.755)\tData: 0.323 (0.419)\tLoss: 332.2242 (287.4525)\tPrec@1: 0.000 (2.419)\tPrec@5: 0.000 (3.898)\tlr 0.100000\n"
     ]
    },
    {
     "name": "stderr",
     "output_type": "stream",
     "text": [
      "\n",
      "Train epoch=0, iter=0:   0%|            | 434/261825 [05:00<47:06:44,  1.54it/s]"
     ]
    },
    {
     "name": "stdout",
     "output_type": "stream",
     "text": [
      "Train: [434/261825/5220]\tepoch: 0\titer: 434\tTime: 0.629 (0.755)\tData: 0.317 (0.419)\tLoss: 246.2548 (287.3578)\tPrec@1: 0.000 (2.414)\tPrec@5: 8.333 (3.908)\tlr 0.100000\n"
     ]
    },
    {
     "name": "stderr",
     "output_type": "stream",
     "text": [
      "\n",
      "Train epoch=0, iter=0:   0%|            | 435/261825 [05:01<46:53:07,  1.55it/s]"
     ]
    },
    {
     "name": "stdout",
     "output_type": "stream",
     "text": [
      "Train: [435/261825/5232]\tepoch: 0\titer: 435\tTime: 0.626 (0.754)\tData: 0.324 (0.418)\tLoss: 330.5049 (287.4568)\tPrec@1: 0.000 (2.408)\tPrec@5: 0.000 (3.899)\tlr 0.100000\n"
     ]
    },
    {
     "name": "stderr",
     "output_type": "stream",
     "text": [
      "\n",
      "Train epoch=0, iter=0:   0%|            | 436/261825 [05:01<46:33:15,  1.56it/s]"
     ]
    },
    {
     "name": "stdout",
     "output_type": "stream",
     "text": [
      "Train: [436/261825/5244]\tepoch: 0\titer: 436\tTime: 0.705 (0.754)\tData: 0.328 (0.418)\tLoss: 298.6600 (287.4824)\tPrec@1: 0.000 (2.403)\tPrec@5: 8.333 (3.909)\tlr 0.100000\n"
     ]
    },
    {
     "name": "stderr",
     "output_type": "stream",
     "text": [
      "\n",
      "Train epoch=0, iter=0:   0%|            | 437/261825 [05:02<47:56:10,  1.51it/s]"
     ]
    },
    {
     "name": "stdout",
     "output_type": "stream",
     "text": [
      "Train: [437/261825/5256]\tepoch: 0\titer: 437\tTime: 0.643 (0.754)\tData: 0.331 (0.418)\tLoss: 342.3966 (287.6078)\tPrec@1: 8.333 (2.416)\tPrec@5: 8.333 (3.919)\tlr 0.100000\n"
     ]
    },
    {
     "name": "stderr",
     "output_type": "stream",
     "text": [
      "\n",
      "Train epoch=0, iter=0:   0%|            | 438/261825 [05:03<47:13:25,  1.54it/s]"
     ]
    },
    {
     "name": "stdout",
     "output_type": "stream",
     "text": [
      "Train: [438/261825/5268]\tepoch: 0\titer: 438\tTime: 0.646 (0.754)\tData: 0.329 (0.418)\tLoss: 302.1248 (287.6408)\tPrec@1: 8.333 (2.430)\tPrec@5: 8.333 (3.929)\tlr 0.100000\n"
     ]
    },
    {
     "name": "stderr",
     "output_type": "stream",
     "text": [
      "\n",
      "Train epoch=0, iter=0:   0%|            | 439/261825 [05:03<47:32:08,  1.53it/s]"
     ]
    },
    {
     "name": "stdout",
     "output_type": "stream",
     "text": [
      "Train: [439/261825/5280]\tepoch: 0\titer: 439\tTime: 0.656 (0.754)\tData: 0.334 (0.418)\tLoss: 269.7764 (287.6002)\tPrec@1: 0.000 (2.424)\tPrec@5: 0.000 (3.920)\tlr 0.100000\n"
     ]
    },
    {
     "name": "stderr",
     "output_type": "stream",
     "text": [
      "\n",
      "Train epoch=0, iter=0:   0%|            | 440/261825 [05:04<47:13:30,  1.54it/s]"
     ]
    },
    {
     "name": "stdout",
     "output_type": "stream",
     "text": [
      "Train: [440/261825/5292]\tepoch: 0\titer: 440\tTime: 0.678 (0.753)\tData: 0.319 (0.417)\tLoss: 344.5909 (287.7295)\tPrec@1: 0.000 (2.419)\tPrec@5: 0.000 (3.912)\tlr 0.100000\n"
     ]
    },
    {
     "name": "stderr",
     "output_type": "stream",
     "text": [
      "\n",
      "Train epoch=0, iter=0:   0%|            | 441/261825 [05:05<48:00:38,  1.51it/s]"
     ]
    },
    {
     "name": "stdout",
     "output_type": "stream",
     "text": [
      "Train: [441/261825/5304]\tepoch: 0\titer: 441\tTime: 0.625 (0.753)\tData: 0.326 (0.417)\tLoss: 318.4772 (287.7990)\tPrec@1: 0.000 (2.413)\tPrec@5: 0.000 (3.903)\tlr 0.100000\n"
     ]
    },
    {
     "name": "stderr",
     "output_type": "stream",
     "text": [
      "\n",
      "Train epoch=0, iter=0:   0%|            | 442/261825 [05:05<47:55:42,  1.51it/s]"
     ]
    },
    {
     "name": "stdout",
     "output_type": "stream",
     "text": [
      "Train: [442/261825/5316]\tepoch: 0\titer: 442\tTime: 0.660 (0.753)\tData: 0.358 (0.417)\tLoss: 212.2859 (287.6286)\tPrec@1: 16.667 (2.445)\tPrec@5: 25.000 (3.950)\tlr 0.100000\n"
     ]
    },
    {
     "name": "stderr",
     "output_type": "stream",
     "text": [
      "\n",
      "Train epoch=0, iter=0:   0%|            | 443/261825 [05:06<47:09:04,  1.54it/s]"
     ]
    },
    {
     "name": "stdout",
     "output_type": "stream",
     "text": [
      "Train: [443/261825/5328]\tepoch: 0\titer: 443\tTime: 0.619 (0.753)\tData: 0.322 (0.417)\tLoss: 420.3888 (287.9276)\tPrec@1: 8.333 (2.459)\tPrec@5: 8.333 (3.960)\tlr 0.100000\n"
     ]
    },
    {
     "name": "stderr",
     "output_type": "stream",
     "text": [
      "\n",
      "Train epoch=0, iter=0:   0%|            | 444/261825 [05:06<46:22:39,  1.57it/s]"
     ]
    },
    {
     "name": "stdout",
     "output_type": "stream",
     "text": [
      "Train: [444/261825/5340]\tepoch: 0\titer: 444\tTime: 0.613 (0.752)\tData: 0.318 (0.417)\tLoss: 400.0226 (288.1795)\tPrec@1: 0.000 (2.453)\tPrec@5: 0.000 (3.951)\tlr 0.100000\n"
     ]
    },
    {
     "name": "stderr",
     "output_type": "stream",
     "text": [
      "\n",
      "Train epoch=0, iter=0:   0%|            | 445/261825 [05:07<45:45:37,  1.59it/s]"
     ]
    },
    {
     "name": "stdout",
     "output_type": "stream",
     "text": [
      "Train: [445/261825/5352]\tepoch: 0\titer: 445\tTime: 0.635 (0.752)\tData: 0.315 (0.416)\tLoss: 345.8924 (288.3089)\tPrec@1: 0.000 (2.448)\tPrec@5: 0.000 (3.942)\tlr 0.100000\n"
     ]
    },
    {
     "name": "stderr",
     "output_type": "stream",
     "text": [
      "\n",
      "Train epoch=0, iter=0:   0%|            | 446/261825 [05:08<45:31:55,  1.59it/s]"
     ]
    },
    {
     "name": "stdout",
     "output_type": "stream",
     "text": [
      "Train: [446/261825/5364]\tepoch: 0\titer: 446\tTime: 0.624 (0.752)\tData: 0.297 (0.416)\tLoss: 278.3669 (288.2866)\tPrec@1: 0.000 (2.442)\tPrec@5: 16.667 (3.971)\tlr 0.100000\n"
     ]
    },
    {
     "name": "stderr",
     "output_type": "stream",
     "text": [
      "\n",
      "Train epoch=0, iter=0:   0%|            | 447/261825 [05:08<45:39:58,  1.59it/s]"
     ]
    },
    {
     "name": "stdout",
     "output_type": "stream",
     "text": [
      "Train: [447/261825/5376]\tepoch: 0\titer: 447\tTime: 0.640 (0.752)\tData: 0.309 (0.416)\tLoss: 319.9975 (288.3574)\tPrec@1: 0.000 (2.437)\tPrec@5: 0.000 (3.962)\tlr 0.100000\n"
     ]
    },
    {
     "name": "stderr",
     "output_type": "stream",
     "text": [
      "\n",
      "Train epoch=0, iter=0:   0%|            | 448/261825 [05:09<46:05:26,  1.58it/s]"
     ]
    },
    {
     "name": "stdout",
     "output_type": "stream",
     "text": [
      "Train: [448/261825/5388]\tepoch: 0\titer: 448\tTime: 0.634 (0.751)\tData: 0.316 (0.416)\tLoss: 298.4235 (288.3799)\tPrec@1: 0.000 (2.431)\tPrec@5: 8.333 (3.972)\tlr 0.100000\n"
     ]
    },
    {
     "name": "stderr",
     "output_type": "stream",
     "text": [
      "\n",
      "Train epoch=0, iter=0:   0%|            | 449/261825 [05:10<46:02:42,  1.58it/s]"
     ]
    },
    {
     "name": "stdout",
     "output_type": "stream",
     "text": [
      "Train: [449/261825/5400]\tepoch: 0\titer: 449\tTime: 0.646 (0.751)\tData: 0.316 (0.415)\tLoss: 254.9136 (288.3055)\tPrec@1: 0.000 (2.426)\tPrec@5: 8.333 (3.981)\tlr 0.100000\n"
     ]
    },
    {
     "name": "stderr",
     "output_type": "stream",
     "text": [
      "\n",
      "Train epoch=0, iter=0:   0%|            | 450/261825 [05:10<46:20:02,  1.57it/s]"
     ]
    },
    {
     "name": "stdout",
     "output_type": "stream",
     "text": [
      "Train: [450/261825/5412]\tepoch: 0\titer: 450\tTime: 0.623 (0.751)\tData: 0.317 (0.415)\tLoss: 321.6399 (288.3794)\tPrec@1: 0.000 (2.421)\tPrec@5: 8.333 (3.991)\tlr 0.100000\n"
     ]
    },
    {
     "name": "stderr",
     "output_type": "stream",
     "text": [
      "\n",
      "Train epoch=0, iter=0:   0%|            | 451/261825 [05:11<45:59:28,  1.58it/s]"
     ]
    },
    {
     "name": "stdout",
     "output_type": "stream",
     "text": [
      "Train: [451/261825/5424]\tepoch: 0\titer: 451\tTime: 0.640 (0.751)\tData: 0.315 (0.415)\tLoss: 258.5019 (288.3133)\tPrec@1: 0.000 (2.415)\tPrec@5: 8.333 (4.001)\tlr 0.100000\n"
     ]
    },
    {
     "name": "stderr",
     "output_type": "stream",
     "text": [
      "\n",
      "Train epoch=0, iter=0:   0%|           | 452/261825 [05:18<189:40:09,  2.61s/it]"
     ]
    },
    {
     "name": "stdout",
     "output_type": "stream",
     "text": [
      "Train: [452/261825/5436]\tepoch: 0\titer: 452\tTime: 7.255 (0.765)\tData: 6.906 (0.429)\tLoss: 256.1396 (288.2422)\tPrec@1: 0.000 (2.410)\tPrec@5: 8.333 (4.010)\tlr 0.100000\n"
     ]
    },
    {
     "name": "stderr",
     "output_type": "stream",
     "text": [
      "\n",
      "Train epoch=0, iter=0:   0%|           | 453/261825 [05:19<146:53:59,  2.02s/it]"
     ]
    },
    {
     "name": "stdout",
     "output_type": "stream",
     "text": [
      "Train: [453/261825/5448]\tepoch: 0\titer: 453\tTime: 0.656 (0.765)\tData: 0.302 (0.429)\tLoss: 238.4600 (288.1326)\tPrec@1: 16.667 (2.441)\tPrec@5: 16.667 (4.038)\tlr 0.100000\n"
     ]
    },
    {
     "name": "stderr",
     "output_type": "stream",
     "text": [
      "\n",
      "Train epoch=0, iter=0:   0%|           | 454/261825 [05:19<117:29:59,  1.62s/it]"
     ]
    },
    {
     "name": "stdout",
     "output_type": "stream",
     "text": [
      "Train: [454/261825/5460]\tepoch: 0\titer: 454\tTime: 0.643 (0.764)\tData: 0.317 (0.429)\tLoss: 292.6780 (288.1426)\tPrec@1: 0.000 (2.436)\tPrec@5: 0.000 (4.029)\tlr 0.100000\n"
     ]
    },
    {
     "name": "stderr",
     "output_type": "stream",
     "text": [
      "\n",
      "Train epoch=0, iter=0:   0%|            | 455/261825 [05:20<96:19:48,  1.33s/it]"
     ]
    },
    {
     "name": "stdout",
     "output_type": "stream",
     "text": [
      "Train: [455/261825/5472]\tepoch: 0\titer: 455\tTime: 0.638 (0.764)\tData: 0.320 (0.428)\tLoss: 314.2881 (288.1999)\tPrec@1: 0.000 (2.431)\tPrec@5: 16.667 (4.057)\tlr 0.100000\n"
     ]
    },
    {
     "name": "stderr",
     "output_type": "stream",
     "text": [
      "\n",
      "Train epoch=0, iter=0:   0%|            | 456/261825 [05:21<81:12:29,  1.12s/it]"
     ]
    },
    {
     "name": "stdout",
     "output_type": "stream",
     "text": [
      "Train: [456/261825/5484]\tepoch: 0\titer: 456\tTime: 0.653 (0.764)\tData: 0.328 (0.428)\tLoss: 255.6185 (288.1286)\tPrec@1: 8.333 (2.443)\tPrec@5: 16.667 (4.085)\tlr 0.100000\n"
     ]
    },
    {
     "name": "stderr",
     "output_type": "stream",
     "text": [
      "\n",
      "Train epoch=0, iter=0:   0%|            | 457/261825 [05:21<71:04:19,  1.02it/s]"
     ]
    },
    {
     "name": "stdout",
     "output_type": "stream",
     "text": [
      "Train: [457/261825/5496]\tepoch: 0\titer: 457\tTime: 0.620 (0.764)\tData: 0.317 (0.428)\tLoss: 362.6850 (288.2914)\tPrec@1: 0.000 (2.438)\tPrec@5: 0.000 (4.076)\tlr 0.100000\n"
     ]
    },
    {
     "name": "stderr",
     "output_type": "stream",
     "text": [
      "\n",
      "Train epoch=0, iter=0:   0%|            | 458/261825 [05:22<63:35:05,  1.14it/s]"
     ]
    },
    {
     "name": "stdout",
     "output_type": "stream",
     "text": [
      "Train: [458/261825/5508]\tepoch: 0\titer: 458\tTime: 0.670 (0.763)\tData: 0.332 (0.428)\tLoss: 351.3068 (288.4287)\tPrec@1: 0.000 (2.433)\tPrec@5: 0.000 (4.067)\tlr 0.100000\n"
     ]
    },
    {
     "name": "stderr",
     "output_type": "stream",
     "text": [
      "\n",
      "Train epoch=0, iter=0:   0%|            | 459/261825 [05:23<58:49:37,  1.23it/s]"
     ]
    },
    {
     "name": "stdout",
     "output_type": "stream",
     "text": [
      "Train: [459/261825/5520]\tepoch: 0\titer: 459\tTime: 0.623 (0.763)\tData: 0.318 (0.428)\tLoss: 316.2039 (288.4891)\tPrec@1: 8.333 (2.446)\tPrec@5: 8.333 (4.076)\tlr 0.100000\n"
     ]
    },
    {
     "name": "stderr",
     "output_type": "stream",
     "text": [
      "\n",
      "Train epoch=0, iter=0:   0%|            | 460/261825 [05:23<54:37:57,  1.33it/s]"
     ]
    },
    {
     "name": "stdout",
     "output_type": "stream",
     "text": [
      "Train: [460/261825/5532]\tepoch: 0\titer: 460\tTime: 0.621 (0.763)\tData: 0.317 (0.427)\tLoss: 369.9497 (288.6658)\tPrec@1: 0.000 (2.440)\tPrec@5: 0.000 (4.067)\tlr 0.100000\n"
     ]
    },
    {
     "name": "stderr",
     "output_type": "stream",
     "text": [
      "\n",
      "Train epoch=0, iter=0:   0%|            | 461/261825 [05:24<51:50:03,  1.40it/s]"
     ]
    },
    {
     "name": "stdout",
     "output_type": "stream",
     "text": [
      "Train: [461/261825/5544]\tepoch: 0\titer: 461\tTime: 0.634 (0.762)\tData: 0.328 (0.427)\tLoss: 249.3197 (288.5806)\tPrec@1: 16.667 (2.471)\tPrec@5: 16.667 (4.095)\tlr 0.100000\n"
     ]
    },
    {
     "name": "stderr",
     "output_type": "stream",
     "text": [
      "\n",
      "Train epoch=0, iter=0:   0%|            | 462/261825 [05:25<50:27:54,  1.44it/s]"
     ]
    },
    {
     "name": "stdout",
     "output_type": "stream",
     "text": [
      "Train: [462/261825/5556]\tepoch: 0\titer: 462\tTime: 0.695 (0.762)\tData: 0.332 (0.427)\tLoss: 325.3030 (288.6599)\tPrec@1: 8.333 (2.484)\tPrec@5: 8.333 (4.104)\tlr 0.100000\n"
     ]
    },
    {
     "name": "stderr",
     "output_type": "stream",
     "text": [
      "\n",
      "Train epoch=0, iter=0:   0%|            | 463/261825 [05:25<50:05:12,  1.45it/s]"
     ]
    },
    {
     "name": "stdout",
     "output_type": "stream",
     "text": [
      "Train: [463/261825/5568]\tepoch: 0\titer: 463\tTime: 0.626 (0.762)\tData: 0.322 (0.427)\tLoss: 327.1995 (288.7430)\tPrec@1: 0.000 (2.478)\tPrec@5: 0.000 (4.095)\tlr 0.100000\n"
     ]
    },
    {
     "name": "stderr",
     "output_type": "stream",
     "text": [
      "\n",
      "Train epoch=0, iter=0:   0%|            | 464/261825 [05:26<48:41:37,  1.49it/s]"
     ]
    },
    {
     "name": "stdout",
     "output_type": "stream",
     "text": [
      "Train: [464/261825/5580]\tepoch: 0\titer: 464\tTime: 0.679 (0.762)\tData: 0.313 (0.426)\tLoss: 292.7358 (288.7516)\tPrec@1: 0.000 (2.473)\tPrec@5: 16.667 (4.122)\tlr 0.100000\n"
     ]
    },
    {
     "name": "stderr",
     "output_type": "stream",
     "text": [
      "\n",
      "Train epoch=0, iter=0:   0%|            | 465/261825 [05:27<49:01:13,  1.48it/s]"
     ]
    },
    {
     "name": "stdout",
     "output_type": "stream",
     "text": [
      "Train: [465/261825/5592]\tepoch: 0\titer: 465\tTime: 0.640 (0.762)\tData: 0.321 (0.426)\tLoss: 302.9107 (288.7820)\tPrec@1: 0.000 (2.468)\tPrec@5: 0.000 (4.113)\tlr 0.100000\n"
     ]
    },
    {
     "name": "stderr",
     "output_type": "stream",
     "text": [
      "\n",
      "Train epoch=0, iter=0:   0%|            | 466/261825 [05:27<48:07:56,  1.51it/s]"
     ]
    },
    {
     "name": "stdout",
     "output_type": "stream",
     "text": [
      "Train: [466/261825/5604]\tepoch: 0\titer: 466\tTime: 0.621 (0.761)\tData: 0.315 (0.426)\tLoss: 287.0128 (288.7782)\tPrec@1: 0.000 (2.463)\tPrec@5: 0.000 (4.104)\tlr 0.100000\n"
     ]
    },
    {
     "name": "stderr",
     "output_type": "stream",
     "text": [
      "\n",
      "Train epoch=0, iter=0:   0%|            | 467/261825 [05:28<46:51:03,  1.55it/s]"
     ]
    },
    {
     "name": "stdout",
     "output_type": "stream",
     "text": [
      "Train: [467/261825/5616]\tepoch: 0\titer: 467\tTime: 0.623 (0.761)\tData: 0.306 (0.426)\tLoss: 260.4702 (288.7177)\tPrec@1: 16.667 (2.493)\tPrec@5: 16.667 (4.131)\tlr 0.100000\n"
     ]
    },
    {
     "name": "stderr",
     "output_type": "stream",
     "text": [
      "\n",
      "Train epoch=0, iter=0:   0%|            | 468/261825 [05:28<46:54:12,  1.55it/s]"
     ]
    },
    {
     "name": "stdout",
     "output_type": "stream",
     "text": [
      "Train: [468/261825/5628]\tepoch: 0\titer: 468\tTime: 0.641 (0.761)\tData: 0.323 (0.425)\tLoss: 279.1510 (288.6973)\tPrec@1: 8.333 (2.505)\tPrec@5: 8.333 (4.140)\tlr 0.100000\n"
     ]
    },
    {
     "name": "stderr",
     "output_type": "stream",
     "text": [
      "\n",
      "Train epoch=0, iter=0:   0%|            | 469/261825 [05:29<46:11:33,  1.57it/s]"
     ]
    },
    {
     "name": "stdout",
     "output_type": "stream",
     "text": [
      "Train: [469/261825/5640]\tepoch: 0\titer: 469\tTime: 0.627 (0.760)\tData: 0.297 (0.425)\tLoss: 238.8127 (288.5911)\tPrec@1: 0.000 (2.500)\tPrec@5: 16.667 (4.167)\tlr 0.100000\n"
     ]
    },
    {
     "name": "stderr",
     "output_type": "stream",
     "text": [
      "\n",
      "Train epoch=0, iter=0:   0%|            | 470/261825 [05:30<46:22:47,  1.57it/s]"
     ]
    },
    {
     "name": "stdout",
     "output_type": "stream",
     "text": [
      "Train: [470/261825/5652]\tepoch: 0\titer: 470\tTime: 0.628 (0.760)\tData: 0.323 (0.425)\tLoss: 277.0555 (288.5666)\tPrec@1: 8.333 (2.512)\tPrec@5: 8.333 (4.176)\tlr 0.100000\n"
     ]
    },
    {
     "name": "stderr",
     "output_type": "stream",
     "text": [
      "\n",
      "Train epoch=0, iter=0:   0%|            | 471/261825 [05:30<45:48:06,  1.59it/s]"
     ]
    },
    {
     "name": "stdout",
     "output_type": "stream",
     "text": [
      "Train: [471/261825/5664]\tepoch: 0\titer: 471\tTime: 0.628 (0.760)\tData: 0.309 (0.425)\tLoss: 282.6207 (288.5540)\tPrec@1: 8.333 (2.525)\tPrec@5: 16.667 (4.202)\tlr 0.100000\n"
     ]
    },
    {
     "name": "stderr",
     "output_type": "stream",
     "text": [
      "\n",
      "Train epoch=0, iter=0:   0%|            | 472/261825 [05:31<46:04:27,  1.58it/s]"
     ]
    },
    {
     "name": "stdout",
     "output_type": "stream",
     "text": [
      "Train: [472/261825/5676]\tepoch: 0\titer: 472\tTime: 0.677 (0.760)\tData: 0.313 (0.425)\tLoss: 275.8889 (288.5273)\tPrec@1: 0.000 (2.519)\tPrec@5: 8.333 (4.211)\tlr 0.100000\n"
     ]
    },
    {
     "name": "stderr",
     "output_type": "stream",
     "text": [
      "\n",
      "Train epoch=0, iter=0:   0%|            | 473/261825 [05:32<47:02:34,  1.54it/s]"
     ]
    },
    {
     "name": "stdout",
     "output_type": "stream",
     "text": [
      "Train: [473/261825/5688]\tepoch: 0\titer: 473\tTime: 0.635 (0.759)\tData: 0.316 (0.424)\tLoss: 276.3661 (288.5016)\tPrec@1: 8.333 (2.532)\tPrec@5: 16.667 (4.237)\tlr 0.100000\n"
     ]
    },
    {
     "name": "stderr",
     "output_type": "stream",
     "text": [
      "\n",
      "Train epoch=0, iter=0:   0%|            | 474/261825 [05:32<46:44:04,  1.55it/s]"
     ]
    },
    {
     "name": "stdout",
     "output_type": "stream",
     "text": [
      "Train: [474/261825/5700]\tepoch: 0\titer: 474\tTime: 0.631 (0.759)\tData: 0.316 (0.424)\tLoss: 237.8908 (288.3951)\tPrec@1: 0.000 (2.526)\tPrec@5: 8.333 (4.246)\tlr 0.100000\n"
     ]
    },
    {
     "name": "stderr",
     "output_type": "stream",
     "text": [
      "\n",
      "Train epoch=0, iter=0:   0%|            | 475/261825 [05:33<46:27:59,  1.56it/s]"
     ]
    },
    {
     "name": "stdout",
     "output_type": "stream",
     "text": [
      "Train: [475/261825/5712]\tepoch: 0\titer: 475\tTime: 0.643 (0.759)\tData: 0.315 (0.424)\tLoss: 336.0818 (288.4953)\tPrec@1: 8.333 (2.539)\tPrec@5: 8.333 (4.254)\tlr 0.100000\n"
     ]
    },
    {
     "name": "stderr",
     "output_type": "stream",
     "text": [
      "\n",
      "Train epoch=0, iter=0:   0%|            | 476/261825 [05:34<46:32:25,  1.56it/s]"
     ]
    },
    {
     "name": "stdout",
     "output_type": "stream",
     "text": [
      "Train: [476/261825/5724]\tepoch: 0\titer: 476\tTime: 0.636 (0.759)\tData: 0.316 (0.424)\tLoss: 267.8778 (288.4520)\tPrec@1: 0.000 (2.533)\tPrec@5: 8.333 (4.263)\tlr 0.100000\n"
     ]
    },
    {
     "name": "stderr",
     "output_type": "stream",
     "text": [
      "\n",
      "Train epoch=0, iter=0:   0%|            | 477/261825 [05:34<46:27:40,  1.56it/s]"
     ]
    },
    {
     "name": "stdout",
     "output_type": "stream",
     "text": [
      "Train: [477/261825/5736]\tepoch: 0\titer: 477\tTime: 0.634 (0.758)\tData: 0.316 (0.423)\tLoss: 255.2980 (288.3827)\tPrec@1: 0.000 (2.528)\tPrec@5: 8.333 (4.271)\tlr 0.100000\n"
     ]
    },
    {
     "name": "stderr",
     "output_type": "stream",
     "text": [
      "\n",
      "Train epoch=0, iter=0:   0%|            | 478/261825 [05:35<46:18:01,  1.57it/s]"
     ]
    },
    {
     "name": "stdout",
     "output_type": "stream",
     "text": [
      "Train: [478/261825/5748]\tepoch: 0\titer: 478\tTime: 0.612 (0.758)\tData: 0.320 (0.423)\tLoss: 300.3640 (288.4077)\tPrec@1: 8.333 (2.540)\tPrec@5: 8.333 (4.280)\tlr 0.100000\n"
     ]
    },
    {
     "name": "stderr",
     "output_type": "stream",
     "text": [
      "\n",
      "Train epoch=0, iter=0:   0%|            | 479/261825 [05:35<46:04:51,  1.58it/s]"
     ]
    },
    {
     "name": "stdout",
     "output_type": "stream",
     "text": [
      "Train: [479/261825/5760]\tepoch: 0\titer: 479\tTime: 0.681 (0.758)\tData: 0.331 (0.423)\tLoss: 360.0390 (288.5569)\tPrec@1: 0.000 (2.535)\tPrec@5: 0.000 (4.271)\tlr 0.100000\n"
     ]
    },
    {
     "name": "stderr",
     "output_type": "stream",
     "text": [
      "\n",
      "Train epoch=0, iter=0:   0%|            | 480/261825 [05:36<46:46:17,  1.55it/s]"
     ]
    },
    {
     "name": "stdout",
     "output_type": "stream",
     "text": [
      "Train: [480/261825/5772]\tepoch: 0\titer: 480\tTime: 0.639 (0.758)\tData: 0.317 (0.423)\tLoss: 299.1561 (288.5789)\tPrec@1: 8.333 (2.547)\tPrec@5: 16.667 (4.297)\tlr 0.100000\n"
     ]
    },
    {
     "name": "stderr",
     "output_type": "stream",
     "text": [
      "\n",
      "Train epoch=0, iter=0:   0%|            | 481/261825 [05:37<46:39:59,  1.56it/s]"
     ]
    },
    {
     "name": "stdout",
     "output_type": "stream",
     "text": [
      "Train: [481/261825/5784]\tepoch: 0\titer: 481\tTime: 0.680 (0.758)\tData: 0.316 (0.423)\tLoss: 317.5826 (288.6391)\tPrec@1: 8.333 (2.559)\tPrec@5: 8.333 (4.305)\tlr 0.100000\n"
     ]
    },
    {
     "name": "stderr",
     "output_type": "stream",
     "text": [
      "\n",
      "Train epoch=0, iter=0:   0%|            | 482/261825 [05:37<47:29:10,  1.53it/s]"
     ]
    },
    {
     "name": "stdout",
     "output_type": "stream",
     "text": [
      "Train: [482/261825/5796]\tepoch: 0\titer: 482\tTime: 0.628 (0.757)\tData: 0.317 (0.422)\tLoss: 291.4721 (288.6450)\tPrec@1: 0.000 (2.553)\tPrec@5: 8.333 (4.313)\tlr 0.100000\n"
     ]
    },
    {
     "name": "stderr",
     "output_type": "stream",
     "text": [
      "\n",
      "Train epoch=0, iter=0:   0%|            | 483/261825 [05:38<46:54:18,  1.55it/s]"
     ]
    },
    {
     "name": "stdout",
     "output_type": "stream",
     "text": [
      "Train: [483/261825/5808]\tepoch: 0\titer: 483\tTime: 0.627 (0.757)\tData: 0.315 (0.422)\tLoss: 267.4983 (288.6013)\tPrec@1: 8.333 (2.565)\tPrec@5: 16.667 (4.339)\tlr 0.100000\n"
     ]
    },
    {
     "name": "stderr",
     "output_type": "stream",
     "text": [
      "\n",
      "Train epoch=0, iter=0:   0%|            | 484/261825 [05:39<46:08:15,  1.57it/s]"
     ]
    },
    {
     "name": "stdout",
     "output_type": "stream",
     "text": [
      "Train: [484/261825/5820]\tepoch: 0\titer: 484\tTime: 0.656 (0.757)\tData: 0.297 (0.422)\tLoss: 275.3494 (288.5740)\tPrec@1: 8.333 (2.577)\tPrec@5: 8.333 (4.347)\tlr 0.100000\n"
     ]
    },
    {
     "name": "stderr",
     "output_type": "stream",
     "text": [
      "\n",
      "Train epoch=0, iter=0:   0%|            | 485/261825 [05:39<47:06:41,  1.54it/s]"
     ]
    },
    {
     "name": "stdout",
     "output_type": "stream",
     "text": [
      "Train: [485/261825/5832]\tepoch: 0\titer: 485\tTime: 0.658 (0.757)\tData: 0.325 (0.422)\tLoss: 255.3285 (288.5056)\tPrec@1: 8.333 (2.589)\tPrec@5: 8.333 (4.355)\tlr 0.100000\n"
     ]
    },
    {
     "name": "stderr",
     "output_type": "stream",
     "text": [
      "\n",
      "Train epoch=0, iter=0:   0%|            | 486/261825 [05:40<47:07:19,  1.54it/s]"
     ]
    },
    {
     "name": "stdout",
     "output_type": "stream",
     "text": [
      "Train: [486/261825/5844]\tepoch: 0\titer: 486\tTime: 0.647 (0.756)\tData: 0.316 (0.421)\tLoss: 259.7769 (288.4466)\tPrec@1: 8.333 (2.601)\tPrec@5: 8.333 (4.363)\tlr 0.100000\n"
     ]
    },
    {
     "name": "stderr",
     "output_type": "stream",
     "text": [
      "\n",
      "Train epoch=0, iter=0:   0%|            | 487/261825 [05:41<47:03:50,  1.54it/s]"
     ]
    },
    {
     "name": "stdout",
     "output_type": "stream",
     "text": [
      "Train: [487/261825/5856]\tepoch: 0\titer: 487\tTime: 0.630 (0.756)\tData: 0.313 (0.421)\tLoss: 289.5322 (288.4488)\tPrec@1: 0.000 (2.596)\tPrec@5: 8.333 (4.372)\tlr 0.100000\n"
     ]
    },
    {
     "name": "stderr",
     "output_type": "stream",
     "text": [
      "\n",
      "Train epoch=0, iter=0:   0%|            | 488/261825 [05:41<46:02:49,  1.58it/s]"
     ]
    },
    {
     "name": "stdout",
     "output_type": "stream",
     "text": [
      "Train: [488/261825/5868]\tepoch: 0\titer: 488\tTime: 0.622 (0.756)\tData: 0.298 (0.421)\tLoss: 297.7411 (288.4678)\tPrec@1: 16.667 (2.624)\tPrec@5: 16.667 (4.397)\tlr 0.100000\n"
     ]
    },
    {
     "name": "stderr",
     "output_type": "stream",
     "text": [
      "\n",
      "Train epoch=0, iter=0:   0%|            | 489/261825 [05:42<46:24:53,  1.56it/s]"
     ]
    },
    {
     "name": "stdout",
     "output_type": "stream",
     "text": [
      "Train: [489/261825/5880]\tepoch: 0\titer: 489\tTime: 0.607 (0.756)\tData: 0.313 (0.421)\tLoss: 287.9532 (288.4668)\tPrec@1: 8.333 (2.636)\tPrec@5: 16.667 (4.422)\tlr 0.100000\n"
     ]
    },
    {
     "name": "stderr",
     "output_type": "stream",
     "text": [
      "\n",
      "Train epoch=0, iter=0:   0%|            | 490/261825 [05:43<45:48:16,  1.58it/s]"
     ]
    },
    {
     "name": "stdout",
     "output_type": "stream",
     "text": [
      "Train: [490/261825/5892]\tepoch: 0\titer: 490\tTime: 0.648 (0.755)\tData: 0.320 (0.421)\tLoss: 263.9325 (288.4168)\tPrec@1: 8.333 (2.648)\tPrec@5: 8.333 (4.430)\tlr 0.100000\n"
     ]
    },
    {
     "name": "stderr",
     "output_type": "stream",
     "text": [
      "\n",
      "Train epoch=0, iter=0:   0%|            | 491/261825 [05:43<46:04:34,  1.58it/s]"
     ]
    },
    {
     "name": "stdout",
     "output_type": "stream",
     "text": [
      "Train: [491/261825/5904]\tepoch: 0\titer: 491\tTime: 0.620 (0.755)\tData: 0.315 (0.420)\tLoss: 293.7754 (288.4277)\tPrec@1: 0.000 (2.642)\tPrec@5: 0.000 (4.421)\tlr 0.100000\n"
     ]
    },
    {
     "name": "stderr",
     "output_type": "stream",
     "text": [
      "\n",
      "Train epoch=0, iter=0:   0%|            | 492/261825 [05:44<45:46:22,  1.59it/s]"
     ]
    },
    {
     "name": "stdout",
     "output_type": "stream",
     "text": [
      "Train: [492/261825/5916]\tepoch: 0\titer: 492\tTime: 0.653 (0.755)\tData: 0.316 (0.420)\tLoss: 291.6578 (288.4343)\tPrec@1: 0.000 (2.637)\tPrec@5: 0.000 (4.412)\tlr 0.100000\n"
     ]
    },
    {
     "name": "stderr",
     "output_type": "stream",
     "text": [
      "\n",
      "Train epoch=0, iter=0:   0%|            | 493/261825 [05:44<46:14:59,  1.57it/s]"
     ]
    },
    {
     "name": "stdout",
     "output_type": "stream",
     "text": [
      "Train: [493/261825/5928]\tepoch: 0\titer: 493\tTime: 0.654 (0.755)\tData: 0.315 (0.420)\tLoss: 363.8639 (288.5869)\tPrec@1: 0.000 (2.632)\tPrec@5: 0.000 (4.403)\tlr 0.100000\n"
     ]
    },
    {
     "name": "stderr",
     "output_type": "stream",
     "text": [
      "\n",
      "Train epoch=0, iter=0:   0%|            | 494/261825 [05:45<46:37:39,  1.56it/s]"
     ]
    },
    {
     "name": "stdout",
     "output_type": "stream",
     "text": [
      "Train: [494/261825/5940]\tepoch: 0\titer: 494\tTime: 0.605 (0.754)\tData: 0.316 (0.420)\tLoss: 293.7841 (288.5974)\tPrec@1: 0.000 (2.626)\tPrec@5: 8.333 (4.411)\tlr 0.100000\n"
     ]
    },
    {
     "name": "stderr",
     "output_type": "stream",
     "text": [
      "\n",
      "Train epoch=0, iter=0:   0%|            | 495/261825 [05:46<46:08:01,  1.57it/s]"
     ]
    },
    {
     "name": "stdout",
     "output_type": "stream",
     "text": [
      "Train: [495/261825/5952]\tepoch: 0\titer: 495\tTime: 0.693 (0.754)\tData: 0.332 (0.420)\tLoss: 308.4329 (288.6375)\tPrec@1: 0.000 (2.621)\tPrec@5: 16.667 (4.435)\tlr 0.100000\n"
     ]
    },
    {
     "name": "stderr",
     "output_type": "stream",
     "text": [
      "\n",
      "Train epoch=0, iter=0:   0%|            | 496/261825 [05:46<47:18:17,  1.53it/s]"
     ]
    },
    {
     "name": "stdout",
     "output_type": "stream",
     "text": [
      "Train: [496/261825/5964]\tepoch: 0\titer: 496\tTime: 0.651 (0.754)\tData: 0.328 (0.419)\tLoss: 230.7115 (288.5209)\tPrec@1: 16.667 (2.649)\tPrec@5: 25.000 (4.477)\tlr 0.100000\n"
     ]
    },
    {
     "name": "stderr",
     "output_type": "stream",
     "text": [
      "\n",
      "Train epoch=0, iter=0:   0%|            | 497/261825 [05:47<47:03:38,  1.54it/s]"
     ]
    },
    {
     "name": "stdout",
     "output_type": "stream",
     "text": [
      "Train: [497/261825/5976]\tepoch: 0\titer: 497\tTime: 0.657 (0.754)\tData: 0.316 (0.419)\tLoss: 310.5117 (288.5651)\tPrec@1: 8.333 (2.661)\tPrec@5: 8.333 (4.485)\tlr 0.100000\n"
     ]
    },
    {
     "name": "stderr",
     "output_type": "stream",
     "text": [
      "\n",
      "Train epoch=0, iter=0:   0%|            | 498/261825 [05:48<47:14:18,  1.54it/s]"
     ]
    },
    {
     "name": "stdout",
     "output_type": "stream",
     "text": [
      "Train: [498/261825/5988]\tepoch: 0\titer: 498\tTime: 0.657 (0.754)\tData: 0.316 (0.419)\tLoss: 264.1458 (288.5161)\tPrec@1: 0.000 (2.655)\tPrec@5: 8.333 (4.492)\tlr 0.100000\n"
     ]
    },
    {
     "name": "stderr",
     "output_type": "stream",
     "text": [
      "\n",
      "Train epoch=0, iter=0:   0%|            | 499/261825 [05:48<47:23:04,  1.53it/s]"
     ]
    },
    {
     "name": "stdout",
     "output_type": "stream",
     "text": [
      "Train: [499/261825/6000]\tepoch: 0\titer: 499\tTime: 0.628 (0.753)\tData: 0.316 (0.419)\tLoss: 347.9307 (288.6349)\tPrec@1: 8.333 (2.667)\tPrec@5: 8.333 (4.500)\tlr 0.100000\n"
     ]
    },
    {
     "name": "stderr",
     "output_type": "stream",
     "text": [
      "\n",
      "Train epoch=0, iter=0:   0%|            | 500/261825 [05:49<46:52:35,  1.55it/s]"
     ]
    },
    {
     "name": "stdout",
     "output_type": "stream",
     "text": [
      "Train: [500/261825/6012]\tepoch: 0\titer: 500\tTime: 0.666 (0.753)\tData: 0.317 (0.418)\tLoss: 331.2738 (288.7200)\tPrec@1: 0.000 (2.661)\tPrec@5: 8.333 (4.508)\tlr 0.100000\n"
     ]
    },
    {
     "name": "stderr",
     "output_type": "stream",
     "text": [
      "\n",
      "Train epoch=0, iter=0:   0%|            | 501/261825 [05:50<47:16:21,  1.54it/s]"
     ]
    },
    {
     "name": "stdout",
     "output_type": "stream",
     "text": [
      "Train: [501/261825/6024]\tepoch: 0\titer: 501\tTime: 0.634 (0.753)\tData: 0.325 (0.418)\tLoss: 246.7936 (288.6365)\tPrec@1: 25.000 (2.706)\tPrec@5: 25.000 (4.548)\tlr 0.100000\n"
     ]
    },
    {
     "name": "stderr",
     "output_type": "stream",
     "text": [
      "\n",
      "Train epoch=0, iter=0:   0%|            | 502/261825 [05:50<47:13:21,  1.54it/s]"
     ]
    },
    {
     "name": "stdout",
     "output_type": "stream",
     "text": [
      "Train: [502/261825/6036]\tepoch: 0\titer: 502\tTime: 0.644 (0.753)\tData: 0.330 (0.418)\tLoss: 315.7919 (288.6905)\tPrec@1: 8.333 (2.717)\tPrec@5: 8.333 (4.556)\tlr 0.100000\n"
     ]
    },
    {
     "name": "stderr",
     "output_type": "stream",
     "text": [
      "\n",
      "Train epoch=0, iter=0:   0%|            | 503/261825 [05:51<46:23:32,  1.56it/s]"
     ]
    },
    {
     "name": "stdout",
     "output_type": "stream",
     "text": [
      "Train: [503/261825/6048]\tepoch: 0\titer: 503\tTime: 0.634 (0.752)\tData: 0.299 (0.418)\tLoss: 262.4532 (288.6385)\tPrec@1: 16.667 (2.745)\tPrec@5: 16.667 (4.580)\tlr 0.100000\n"
     ]
    },
    {
     "name": "stderr",
     "output_type": "stream",
     "text": [
      "\n",
      "Train epoch=0, iter=0:   0%|            | 504/261825 [05:52<46:31:28,  1.56it/s]"
     ]
    },
    {
     "name": "stdout",
     "output_type": "stream",
     "text": [
      "Train: [504/261825/6060]\tepoch: 0\titer: 504\tTime: 0.670 (0.752)\tData: 0.307 (0.418)\tLoss: 312.5995 (288.6859)\tPrec@1: 0.000 (2.739)\tPrec@5: 0.000 (4.571)\tlr 0.100000\n"
     ]
    },
    {
     "name": "stderr",
     "output_type": "stream",
     "text": [
      "\n",
      "Train epoch=0, iter=0:   0%|            | 505/261825 [05:52<47:16:04,  1.54it/s]"
     ]
    },
    {
     "name": "stdout",
     "output_type": "stream",
     "text": [
      "Train: [505/261825/6072]\tepoch: 0\titer: 505\tTime: 0.626 (0.752)\tData: 0.329 (0.418)\tLoss: 344.2827 (288.7958)\tPrec@1: 0.000 (2.734)\tPrec@5: 0.000 (4.562)\tlr 0.100000\n"
     ]
    },
    {
     "name": "stderr",
     "output_type": "stream",
     "text": [
      "\n",
      "Train epoch=0, iter=0:   0%|            | 506/261825 [05:53<46:45:30,  1.55it/s]"
     ]
    },
    {
     "name": "stdout",
     "output_type": "stream",
     "text": [
      "Train: [506/261825/6084]\tepoch: 0\titer: 506\tTime: 0.634 (0.752)\tData: 0.317 (0.417)\tLoss: 306.7371 (288.8312)\tPrec@1: 8.333 (2.745)\tPrec@5: 8.333 (4.569)\tlr 0.100000\n"
     ]
    },
    {
     "name": "stderr",
     "output_type": "stream",
     "text": [
      "\n",
      "Train epoch=0, iter=0:   0%|            | 507/261825 [05:53<46:11:40,  1.57it/s]"
     ]
    },
    {
     "name": "stdout",
     "output_type": "stream",
     "text": [
      "Train: [507/261825/6096]\tepoch: 0\titer: 507\tTime: 0.641 (0.752)\tData: 0.314 (0.417)\tLoss: 353.7683 (288.9590)\tPrec@1: 0.000 (2.740)\tPrec@5: 0.000 (4.560)\tlr 0.100000\n"
     ]
    },
    {
     "name": "stderr",
     "output_type": "stream",
     "text": [
      "\n",
      "Train epoch=0, iter=0:   0%|            | 508/261825 [05:54<46:36:55,  1.56it/s]"
     ]
    },
    {
     "name": "stdout",
     "output_type": "stream",
     "text": [
      "Train: [508/261825/6108]\tepoch: 0\titer: 508\tTime: 0.651 (0.751)\tData: 0.318 (0.417)\tLoss: 315.7145 (289.0116)\tPrec@1: 16.667 (2.767)\tPrec@5: 16.667 (4.584)\tlr 0.100000\n"
     ]
    },
    {
     "name": "stderr",
     "output_type": "stream",
     "text": [
      "\n",
      "Train epoch=0, iter=0:   0%|            | 509/261825 [05:55<46:50:11,  1.55it/s]"
     ]
    },
    {
     "name": "stdout",
     "output_type": "stream",
     "text": [
      "Train: [509/261825/6120]\tepoch: 0\titer: 509\tTime: 0.651 (0.751)\tData: 0.316 (0.417)\tLoss: 316.7771 (289.0660)\tPrec@1: 0.000 (2.761)\tPrec@5: 0.000 (4.575)\tlr 0.100000\n"
     ]
    },
    {
     "name": "stderr",
     "output_type": "stream",
     "text": [
      "\n",
      "Train epoch=0, iter=0:   0%|            | 510/261825 [05:55<46:50:28,  1.55it/s]"
     ]
    },
    {
     "name": "stdout",
     "output_type": "stream",
     "text": [
      "Train: [510/261825/6132]\tepoch: 0\titer: 510\tTime: 0.642 (0.751)\tData: 0.317 (0.417)\tLoss: 334.5097 (289.1550)\tPrec@1: 0.000 (2.756)\tPrec@5: 8.333 (4.583)\tlr 0.100000\n"
     ]
    },
    {
     "name": "stderr",
     "output_type": "stream",
     "text": [
      "\n",
      "Train epoch=0, iter=0:   0%|            | 511/261825 [05:56<46:51:33,  1.55it/s]"
     ]
    },
    {
     "name": "stdout",
     "output_type": "stream",
     "text": [
      "Train: [511/261825/6144]\tepoch: 0\titer: 511\tTime: 0.633 (0.751)\tData: 0.319 (0.416)\tLoss: 310.5174 (289.1967)\tPrec@1: 0.000 (2.751)\tPrec@5: 0.000 (4.574)\tlr 0.100000\n"
     ]
    },
    {
     "name": "stderr",
     "output_type": "stream",
     "text": [
      "\n",
      "Train epoch=0, iter=0:   0%|            | 512/261825 [05:57<46:35:37,  1.56it/s]"
     ]
    },
    {
     "name": "stdout",
     "output_type": "stream",
     "text": [
      "Train: [512/261825/6156]\tepoch: 0\titer: 512\tTime: 0.640 (0.751)\tData: 0.320 (0.416)\tLoss: 279.0121 (289.1768)\tPrec@1: 0.000 (2.745)\tPrec@5: 0.000 (4.565)\tlr 0.100000\n"
     ]
    },
    {
     "name": "stderr",
     "output_type": "stream",
     "text": [
      "\n",
      "Train epoch=0, iter=0:   0%|            | 513/261825 [05:57<46:43:00,  1.55it/s]"
     ]
    },
    {
     "name": "stdout",
     "output_type": "stream",
     "text": [
      "Train: [513/261825/6168]\tepoch: 0\titer: 513\tTime: 0.633 (0.750)\tData: 0.323 (0.416)\tLoss: 302.1122 (289.2020)\tPrec@1: 0.000 (2.740)\tPrec@5: 0.000 (4.556)\tlr 0.100000\n"
     ]
    },
    {
     "name": "stderr",
     "output_type": "stream",
     "text": [
      "\n",
      "Train epoch=0, iter=0:   0%|            | 514/261825 [05:58<46:20:34,  1.57it/s]"
     ]
    },
    {
     "name": "stdout",
     "output_type": "stream",
     "text": [
      "Train: [514/261825/6180]\tepoch: 0\titer: 514\tTime: 0.627 (0.750)\tData: 0.314 (0.416)\tLoss: 343.6828 (289.3078)\tPrec@1: 0.000 (2.735)\tPrec@5: 0.000 (4.547)\tlr 0.100000\n"
     ]
    },
    {
     "name": "stderr",
     "output_type": "stream",
     "text": [
      "\n",
      "Train epoch=0, iter=0:   0%|            | 515/261825 [05:59<45:45:16,  1.59it/s]"
     ]
    },
    {
     "name": "stdout",
     "output_type": "stream",
     "text": [
      "Train: [515/261825/6192]\tepoch: 0\titer: 515\tTime: 0.635 (0.750)\tData: 0.300 (0.416)\tLoss: 268.6756 (289.2678)\tPrec@1: 0.000 (2.729)\tPrec@5: 0.000 (4.538)\tlr 0.100000\n"
     ]
    },
    {
     "name": "stderr",
     "output_type": "stream",
     "text": [
      "\n",
      "Train epoch=0, iter=0:   0%|            | 516/261825 [05:59<46:14:09,  1.57it/s]"
     ]
    },
    {
     "name": "stdout",
     "output_type": "stream",
     "text": [
      "Train: [516/261825/6204]\tepoch: 0\titer: 516\tTime: 0.638 (0.750)\tData: 0.316 (0.415)\tLoss: 276.2033 (289.2426)\tPrec@1: 8.333 (2.740)\tPrec@5: 8.333 (4.545)\tlr 0.100000\n"
     ]
    },
    {
     "name": "stderr",
     "output_type": "stream",
     "text": [
      "\n",
      "Train epoch=0, iter=0:   0%|            | 517/261825 [06:00<46:14:45,  1.57it/s]"
     ]
    },
    {
     "name": "stdout",
     "output_type": "stream",
     "text": [
      "Train: [517/261825/6216]\tepoch: 0\titer: 517\tTime: 0.631 (0.749)\tData: 0.315 (0.415)\tLoss: 334.6285 (289.3302)\tPrec@1: 0.000 (2.735)\tPrec@5: 8.333 (4.553)\tlr 0.100000\n"
     ]
    },
    {
     "name": "stderr",
     "output_type": "stream",
     "text": [
      "\n",
      "Train epoch=0, iter=0:   0%|            | 518/261825 [06:00<45:42:29,  1.59it/s]"
     ]
    },
    {
     "name": "stdout",
     "output_type": "stream",
     "text": [
      "Train: [518/261825/6228]\tepoch: 0\titer: 518\tTime: 0.634 (0.749)\tData: 0.296 (0.415)\tLoss: 248.7142 (289.2519)\tPrec@1: 16.667 (2.762)\tPrec@5: 16.667 (4.576)\tlr 0.100000\n"
     ]
    },
    {
     "name": "stderr",
     "output_type": "stream",
     "text": [
      "\n",
      "Train epoch=0, iter=0:   0%|            | 519/261825 [06:01<46:14:48,  1.57it/s]"
     ]
    },
    {
     "name": "stdout",
     "output_type": "stream",
     "text": [
      "Train: [519/261825/6240]\tepoch: 0\titer: 519\tTime: 0.644 (0.749)\tData: 0.317 (0.415)\tLoss: 294.0644 (289.2612)\tPrec@1: 0.000 (2.756)\tPrec@5: 0.000 (4.567)\tlr 0.100000\n"
     ]
    },
    {
     "name": "stderr",
     "output_type": "stream",
     "text": [
      "\n",
      "Train epoch=0, iter=0:   0%|            | 520/261825 [06:02<46:24:21,  1.56it/s]"
     ]
    },
    {
     "name": "stdout",
     "output_type": "stream",
     "text": [
      "Train: [520/261825/6252]\tepoch: 0\titer: 520\tTime: 0.641 (0.749)\tData: 0.317 (0.415)\tLoss: 286.0501 (289.2550)\tPrec@1: 0.000 (2.751)\tPrec@5: 0.000 (4.559)\tlr 0.100000\n"
     ]
    },
    {
     "name": "stderr",
     "output_type": "stream",
     "text": [
      "\n",
      "Train epoch=0, iter=0:   0%|            | 521/261825 [06:02<46:16:26,  1.57it/s]"
     ]
    },
    {
     "name": "stdout",
     "output_type": "stream",
     "text": [
      "Train: [521/261825/6264]\tepoch: 0\titer: 521\tTime: 0.618 (0.749)\tData: 0.306 (0.414)\tLoss: 340.2867 (289.3528)\tPrec@1: 0.000 (2.746)\tPrec@5: 0.000 (4.550)\tlr 0.100000\n"
     ]
    },
    {
     "name": "stderr",
     "output_type": "stream",
     "text": [
      "\n",
      "Train epoch=0, iter=0:   0%|            | 522/261825 [06:03<45:39:22,  1.59it/s]"
     ]
    },
    {
     "name": "stdout",
     "output_type": "stream",
     "text": [
      "Train: [522/261825/6276]\tepoch: 0\titer: 522\tTime: 0.619 (0.748)\tData: 0.309 (0.414)\tLoss: 262.8848 (289.3022)\tPrec@1: 8.333 (2.757)\tPrec@5: 8.333 (4.557)\tlr 0.100000\n"
     ]
    },
    {
     "name": "stderr",
     "output_type": "stream",
     "text": [
      "\n",
      "Train epoch=0, iter=0:   0%|            | 523/261825 [06:04<46:06:49,  1.57it/s]"
     ]
    },
    {
     "name": "stdout",
     "output_type": "stream",
     "text": [
      "Train: [523/261825/6288]\tepoch: 0\titer: 523\tTime: 0.610 (0.748)\tData: 0.330 (0.414)\tLoss: 253.0335 (289.2330)\tPrec@1: 8.333 (2.767)\tPrec@5: 16.667 (4.580)\tlr 0.100000\n"
     ]
    },
    {
     "name": "stderr",
     "output_type": "stream",
     "text": [
      "\n",
      "Train epoch=0, iter=0:   0%|            | 524/261825 [06:04<45:30:11,  1.60it/s]"
     ]
    },
    {
     "name": "stdout",
     "output_type": "stream",
     "text": [
      "Train: [524/261825/6300]\tepoch: 0\titer: 524\tTime: 0.644 (0.748)\tData: 0.328 (0.414)\tLoss: 308.8948 (289.2704)\tPrec@1: 0.000 (2.762)\tPrec@5: 8.333 (4.587)\tlr 0.100000\n"
     ]
    },
    {
     "name": "stderr",
     "output_type": "stream",
     "text": [
      "\n",
      "Train epoch=0, iter=0:   0%|            | 525/261825 [06:05<45:37:25,  1.59it/s]"
     ]
    },
    {
     "name": "stdout",
     "output_type": "stream",
     "text": [
      "Train: [525/261825/6312]\tepoch: 0\titer: 525\tTime: 0.666 (0.748)\tData: 0.316 (0.414)\tLoss: 248.1600 (289.1923)\tPrec@1: 0.000 (2.757)\tPrec@5: 0.000 (4.579)\tlr 0.100000\n"
     ]
    },
    {
     "name": "stderr",
     "output_type": "stream",
     "text": [
      "\n",
      "Train epoch=0, iter=0:   0%|            | 526/261825 [06:06<46:28:14,  1.56it/s]"
     ]
    },
    {
     "name": "stdout",
     "output_type": "stream",
     "text": [
      "Train: [526/261825/6324]\tepoch: 0\titer: 526\tTime: 0.658 (0.748)\tData: 0.316 (0.413)\tLoss: 355.3103 (289.3177)\tPrec@1: 8.333 (2.767)\tPrec@5: 8.333 (4.586)\tlr 0.100000\n"
     ]
    },
    {
     "name": "stderr",
     "output_type": "stream",
     "text": [
      "\n",
      "Train epoch=0, iter=0:   0%|            | 527/261825 [06:06<46:50:44,  1.55it/s]"
     ]
    },
    {
     "name": "stdout",
     "output_type": "stream",
     "text": [
      "Train: [527/261825/6336]\tepoch: 0\titer: 527\tTime: 0.652 (0.747)\tData: 0.316 (0.413)\tLoss: 265.5287 (289.2727)\tPrec@1: 8.333 (2.778)\tPrec@5: 8.333 (4.593)\tlr 0.100000\n"
     ]
    },
    {
     "name": "stderr",
     "output_type": "stream",
     "text": [
      "\n",
      "Train epoch=0, iter=0:   0%|            | 528/261825 [06:07<47:01:14,  1.54it/s]"
     ]
    },
    {
     "name": "stdout",
     "output_type": "stream",
     "text": [
      "Train: [528/261825/6348]\tepoch: 0\titer: 528\tTime: 0.667 (0.747)\tData: 0.317 (0.413)\tLoss: 185.1464 (289.0758)\tPrec@1: 8.333 (2.788)\tPrec@5: 33.333 (4.647)\tlr 0.100000\n"
     ]
    },
    {
     "name": "stderr",
     "output_type": "stream",
     "text": [
      "\n",
      "Train epoch=0, iter=0:   0%|            | 529/261825 [06:08<47:23:26,  1.53it/s]"
     ]
    },
    {
     "name": "stdout",
     "output_type": "stream",
     "text": [
      "Train: [529/261825/6360]\tepoch: 0\titer: 529\tTime: 0.643 (0.747)\tData: 0.313 (0.413)\tLoss: 263.8297 (289.0282)\tPrec@1: 16.667 (2.814)\tPrec@5: 16.667 (4.670)\tlr 0.100000\n"
     ]
    },
    {
     "name": "stderr",
     "output_type": "stream",
     "text": [
      "\n",
      "Train epoch=0, iter=0:   0%|            | 530/261825 [06:08<47:30:17,  1.53it/s]"
     ]
    },
    {
     "name": "stdout",
     "output_type": "stream",
     "text": [
      "Train: [530/261825/6372]\tepoch: 0\titer: 530\tTime: 0.656 (0.747)\tData: 0.332 (0.413)\tLoss: 299.0268 (289.0471)\tPrec@1: 0.000 (2.809)\tPrec@5: 0.000 (4.661)\tlr 0.100000\n"
     ]
    },
    {
     "name": "stderr",
     "output_type": "stream",
     "text": [
      "\n",
      "Train epoch=0, iter=0:   0%|            | 531/261825 [06:09<47:11:51,  1.54it/s]"
     ]
    },
    {
     "name": "stdout",
     "output_type": "stream",
     "text": [
      "Train: [531/261825/6384]\tepoch: 0\titer: 531\tTime: 0.638 (0.747)\tData: 0.317 (0.413)\tLoss: 245.9353 (288.9660)\tPrec@1: 8.333 (2.820)\tPrec@5: 16.667 (4.684)\tlr 0.100000\n"
     ]
    },
    {
     "name": "stderr",
     "output_type": "stream",
     "text": [
      "\n",
      "Train epoch=0, iter=0:   0%|            | 532/261825 [06:10<47:05:14,  1.54it/s]"
     ]
    },
    {
     "name": "stdout",
     "output_type": "stream",
     "text": [
      "Train: [532/261825/6396]\tepoch: 0\titer: 532\tTime: 0.666 (0.746)\tData: 0.323 (0.412)\tLoss: 190.5603 (288.7814)\tPrec@1: 25.000 (2.861)\tPrec@5: 25.000 (4.722)\tlr 0.100000\n"
     ]
    },
    {
     "name": "stderr",
     "output_type": "stream",
     "text": [
      "\n",
      "Train epoch=0, iter=0:   0%|            | 533/261825 [06:10<47:20:32,  1.53it/s]"
     ]
    },
    {
     "name": "stdout",
     "output_type": "stream",
     "text": [
      "Train: [533/261825/6408]\tepoch: 0\titer: 533\tTime: 0.636 (0.746)\tData: 0.316 (0.412)\tLoss: 324.2584 (288.8478)\tPrec@1: 8.333 (2.871)\tPrec@5: 8.333 (4.728)\tlr 0.100000\n"
     ]
    },
    {
     "name": "stderr",
     "output_type": "stream",
     "text": [
      "\n",
      "Train epoch=0, iter=0:   0%|            | 534/261825 [06:11<46:57:15,  1.55it/s]"
     ]
    },
    {
     "name": "stdout",
     "output_type": "stream",
     "text": [
      "Train: [534/261825/6420]\tepoch: 0\titer: 534\tTime: 0.627 (0.746)\tData: 0.314 (0.412)\tLoss: 337.6736 (288.9391)\tPrec@1: 8.333 (2.882)\tPrec@5: 8.333 (4.735)\tlr 0.100000\n"
     ]
    },
    {
     "name": "stderr",
     "output_type": "stream",
     "text": [
      "\n",
      "Train epoch=0, iter=0:   0%|            | 535/261825 [06:11<46:00:55,  1.58it/s]"
     ]
    },
    {
     "name": "stdout",
     "output_type": "stream",
     "text": [
      "Train: [535/261825/6432]\tepoch: 0\titer: 535\tTime: 0.613 (0.746)\tData: 0.300 (0.412)\tLoss: 245.7096 (288.8584)\tPrec@1: 8.333 (2.892)\tPrec@5: 16.667 (4.757)\tlr 0.100000\n"
     ]
    },
    {
     "name": "stderr",
     "output_type": "stream",
     "text": [
      "\n",
      "Train epoch=0, iter=0:   0%|            | 536/261825 [06:12<46:25:40,  1.56it/s]"
     ]
    },
    {
     "name": "stdout",
     "output_type": "stream",
     "text": [
      "Train: [536/261825/6444]\tepoch: 0\titer: 536\tTime: 0.693 (0.746)\tData: 0.335 (0.412)\tLoss: 279.8842 (288.8417)\tPrec@1: 8.333 (2.902)\tPrec@5: 16.667 (4.780)\tlr 0.100000\n"
     ]
    },
    {
     "name": "stderr",
     "output_type": "stream",
     "text": [
      "\n",
      "Train epoch=0, iter=0:   0%|            | 537/261825 [06:13<47:15:34,  1.54it/s]"
     ]
    },
    {
     "name": "stdout",
     "output_type": "stream",
     "text": [
      "Train: [537/261825/6456]\tepoch: 0\titer: 537\tTime: 0.627 (0.745)\tData: 0.313 (0.411)\tLoss: 384.5933 (289.0197)\tPrec@1: 0.000 (2.897)\tPrec@5: 0.000 (4.771)\tlr 0.100000\n"
     ]
    },
    {
     "name": "stderr",
     "output_type": "stream",
     "text": [
      "\n",
      "Train epoch=0, iter=0:   0%|            | 538/261825 [06:13<46:51:28,  1.55it/s]"
     ]
    },
    {
     "name": "stdout",
     "output_type": "stream",
     "text": [
      "Train: [538/261825/6468]\tepoch: 0\titer: 538\tTime: 0.676 (0.745)\tData: 0.320 (0.411)\tLoss: 314.3509 (289.0667)\tPrec@1: 0.000 (2.891)\tPrec@5: 0.000 (4.762)\tlr 0.100000\n"
     ]
    },
    {
     "name": "stderr",
     "output_type": "stream",
     "text": [
      "\n",
      "Train epoch=0, iter=0:   0%|            | 539/261825 [06:14<47:23:57,  1.53it/s]"
     ]
    },
    {
     "name": "stdout",
     "output_type": "stream",
     "text": [
      "Train: [539/261825/6480]\tepoch: 0\titer: 539\tTime: 0.665 (0.745)\tData: 0.315 (0.411)\tLoss: 306.5974 (289.0992)\tPrec@1: 0.000 (2.886)\tPrec@5: 8.333 (4.769)\tlr 0.100000\n"
     ]
    },
    {
     "name": "stderr",
     "output_type": "stream",
     "text": [
      "\n",
      "Train epoch=0, iter=0:   0%|            | 540/261825 [06:15<47:38:03,  1.52it/s]"
     ]
    },
    {
     "name": "stdout",
     "output_type": "stream",
     "text": [
      "Train: [540/261825/6492]\tepoch: 0\titer: 540\tTime: 0.637 (0.745)\tData: 0.330 (0.411)\tLoss: 253.9767 (289.0342)\tPrec@1: 0.000 (2.880)\tPrec@5: 25.000 (4.806)\tlr 0.100000\n"
     ]
    },
    {
     "name": "stderr",
     "output_type": "stream",
     "text": [
      "\n",
      "Train epoch=0, iter=0:   0%|            | 541/261825 [06:15<47:17:47,  1.53it/s]"
     ]
    },
    {
     "name": "stdout",
     "output_type": "stream",
     "text": [
      "Train: [541/261825/6504]\tepoch: 0\titer: 541\tTime: 0.634 (0.745)\tData: 0.319 (0.411)\tLoss: 318.5374 (289.0887)\tPrec@1: 0.000 (2.875)\tPrec@5: 0.000 (4.797)\tlr 0.100000\n"
     ]
    },
    {
     "name": "stderr",
     "output_type": "stream",
     "text": [
      "\n",
      "Train epoch=0, iter=0:   0%|            | 542/261825 [06:16<46:50:04,  1.55it/s]"
     ]
    },
    {
     "name": "stdout",
     "output_type": "stream",
     "text": [
      "Train: [542/261825/6516]\tepoch: 0\titer: 542\tTime: 0.645 (0.745)\tData: 0.316 (0.411)\tLoss: 323.8254 (289.1526)\tPrec@1: 0.000 (2.870)\tPrec@5: 0.000 (4.788)\tlr 0.100000\n"
     ]
    },
    {
     "name": "stderr",
     "output_type": "stream",
     "text": [
      "\n",
      "Train epoch=0, iter=0:   0%|            | 543/261825 [06:17<46:51:35,  1.55it/s]"
     ]
    },
    {
     "name": "stdout",
     "output_type": "stream",
     "text": [
      "Train: [543/261825/6528]\tepoch: 0\titer: 543\tTime: 0.646 (0.744)\tData: 0.317 (0.410)\tLoss: 279.5373 (289.1350)\tPrec@1: 0.000 (2.865)\tPrec@5: 0.000 (4.779)\tlr 0.100000\n"
     ]
    },
    {
     "name": "stderr",
     "output_type": "stream",
     "text": [
      "\n",
      "Train epoch=0, iter=0:   0%|            | 544/261825 [06:17<46:52:38,  1.55it/s]"
     ]
    },
    {
     "name": "stdout",
     "output_type": "stream",
     "text": [
      "Train: [544/261825/6540]\tepoch: 0\titer: 544\tTime: 0.625 (0.744)\tData: 0.317 (0.410)\tLoss: 276.0009 (289.1109)\tPrec@1: 0.000 (2.859)\tPrec@5: 0.000 (4.771)\tlr 0.100000\n"
     ]
    },
    {
     "name": "stderr",
     "output_type": "stream",
     "text": [
      "\n",
      "Train epoch=0, iter=0:   0%|            | 545/261825 [06:18<46:24:36,  1.56it/s]"
     ]
    },
    {
     "name": "stdout",
     "output_type": "stream",
     "text": [
      "Train: [545/261825/6552]\tepoch: 0\titer: 545\tTime: 0.621 (0.744)\tData: 0.315 (0.410)\tLoss: 322.5469 (289.1721)\tPrec@1: 0.000 (2.854)\tPrec@5: 0.000 (4.762)\tlr 0.100000\n"
     ]
    },
    {
     "name": "stderr",
     "output_type": "stream",
     "text": [
      "\n",
      "Train epoch=0, iter=0:   0%|            | 546/261825 [06:19<46:04:59,  1.57it/s]"
     ]
    },
    {
     "name": "stdout",
     "output_type": "stream",
     "text": [
      "Train: [546/261825/6564]\tepoch: 0\titer: 546\tTime: 0.636 (0.744)\tData: 0.318 (0.410)\tLoss: 287.5931 (289.1693)\tPrec@1: 25.000 (2.895)\tPrec@5: 25.000 (4.799)\tlr 0.100000\n"
     ]
    },
    {
     "name": "stderr",
     "output_type": "stream",
     "text": [
      "\n",
      "Train epoch=0, iter=0:   0%|            | 547/261825 [06:19<46:04:19,  1.58it/s]"
     ]
    },
    {
     "name": "stdout",
     "output_type": "stream",
     "text": [
      "Train: [547/261825/6576]\tepoch: 0\titer: 547\tTime: 0.634 (0.744)\tData: 0.317 (0.410)\tLoss: 315.6458 (289.2176)\tPrec@1: 0.000 (2.889)\tPrec@5: 8.333 (4.805)\tlr 0.100000\n"
     ]
    },
    {
     "name": "stderr",
     "output_type": "stream",
     "text": [
      "\n",
      "Train epoch=0, iter=0:   0%|            | 548/261825 [06:20<46:22:05,  1.57it/s]"
     ]
    },
    {
     "name": "stdout",
     "output_type": "stream",
     "text": [
      "Train: [548/261825/6588]\tepoch: 0\titer: 548\tTime: 0.645 (0.743)\tData: 0.332 (0.410)\tLoss: 322.1251 (289.2775)\tPrec@1: 0.000 (2.884)\tPrec@5: 8.333 (4.812)\tlr 0.100000\n"
     ]
    },
    {
     "name": "stderr",
     "output_type": "stream",
     "text": [
      "\n",
      "Train epoch=0, iter=0:   0%|            | 549/261825 [06:20<46:19:51,  1.57it/s]"
     ]
    },
    {
     "name": "stdout",
     "output_type": "stream",
     "text": [
      "Train: [549/261825/6600]\tepoch: 0\titer: 549\tTime: 0.665 (0.743)\tData: 0.324 (0.409)\tLoss: 303.7543 (289.3038)\tPrec@1: 16.667 (2.909)\tPrec@5: 16.667 (4.833)\tlr 0.100000\n"
     ]
    },
    {
     "name": "stderr",
     "output_type": "stream",
     "text": [
      "\n",
      "Train epoch=0, iter=0:   0%|            | 550/261825 [06:21<46:46:05,  1.55it/s]"
     ]
    },
    {
     "name": "stdout",
     "output_type": "stream",
     "text": [
      "Train: [550/261825/6612]\tepoch: 0\titer: 550\tTime: 0.633 (0.743)\tData: 0.316 (0.409)\tLoss: 320.9293 (289.3612)\tPrec@1: 8.333 (2.919)\tPrec@5: 8.333 (4.840)\tlr 0.100000\n"
     ]
    },
    {
     "name": "stderr",
     "output_type": "stream",
     "text": [
      "\n",
      "Train epoch=0, iter=0:   0%|            | 551/261825 [06:22<46:05:38,  1.57it/s]"
     ]
    },
    {
     "name": "stdout",
     "output_type": "stream",
     "text": [
      "Train: [551/261825/6624]\tepoch: 0\titer: 551\tTime: 0.667 (0.743)\tData: 0.297 (0.409)\tLoss: 255.9335 (289.3007)\tPrec@1: 8.333 (2.929)\tPrec@5: 8.333 (4.846)\tlr 0.100000\n"
     ]
    },
    {
     "name": "stderr",
     "output_type": "stream",
     "text": [
      "\n",
      "Train epoch=0, iter=0:   0%|            | 552/261825 [06:22<47:12:44,  1.54it/s]"
     ]
    },
    {
     "name": "stdout",
     "output_type": "stream",
     "text": [
      "Train: [552/261825/6636]\tepoch: 0\titer: 552\tTime: 0.643 (0.743)\tData: 0.316 (0.409)\tLoss: 260.0016 (289.2477)\tPrec@1: 0.000 (2.923)\tPrec@5: 0.000 (4.837)\tlr 0.100000\n"
     ]
    },
    {
     "name": "stderr",
     "output_type": "stream",
     "text": [
      "\n",
      "Train epoch=0, iter=0:   0%|            | 553/261825 [06:23<47:04:48,  1.54it/s]"
     ]
    },
    {
     "name": "stdout",
     "output_type": "stream",
     "text": [
      "Train: [553/261825/6648]\tepoch: 0\titer: 553\tTime: 0.649 (0.743)\tData: 0.316 (0.409)\tLoss: 299.9431 (289.2670)\tPrec@1: 0.000 (2.918)\tPrec@5: 8.333 (4.844)\tlr 0.100000\n"
     ]
    },
    {
     "name": "stderr",
     "output_type": "stream",
     "text": [
      "\n",
      "Train epoch=0, iter=0:   0%|            | 554/261825 [06:24<47:19:14,  1.53it/s]"
     ]
    },
    {
     "name": "stdout",
     "output_type": "stream",
     "text": [
      "Train: [554/261825/6660]\tepoch: 0\titer: 554\tTime: 0.638 (0.742)\tData: 0.325 (0.409)\tLoss: 334.7071 (289.3489)\tPrec@1: 0.000 (2.913)\tPrec@5: 0.000 (4.835)\tlr 0.100000\n"
     ]
    },
    {
     "name": "stderr",
     "output_type": "stream",
     "text": [
      "\n",
      "Train epoch=0, iter=0:   0%|            | 555/261825 [06:24<46:43:56,  1.55it/s]"
     ]
    },
    {
     "name": "stdout",
     "output_type": "stream",
     "text": [
      "Train: [555/261825/6672]\tepoch: 0\titer: 555\tTime: 0.623 (0.742)\tData: 0.312 (0.408)\tLoss: 224.5287 (289.2323)\tPrec@1: 0.000 (2.908)\tPrec@5: 0.000 (4.826)\tlr 0.100000\n"
     ]
    },
    {
     "name": "stderr",
     "output_type": "stream",
     "text": [
      "\n",
      "Train epoch=0, iter=0:   0%|            | 556/261825 [06:25<45:55:42,  1.58it/s]"
     ]
    },
    {
     "name": "stdout",
     "output_type": "stream",
     "text": [
      "Train: [556/261825/6684]\tepoch: 0\titer: 556\tTime: 0.663 (0.742)\tData: 0.297 (0.408)\tLoss: 206.8631 (289.0844)\tPrec@1: 25.000 (2.947)\tPrec@5: 25.000 (4.862)\tlr 0.100000\n"
     ]
    },
    {
     "name": "stderr",
     "output_type": "stream",
     "text": [
      "\n",
      "Train epoch=0, iter=0:   0%|            | 557/261825 [06:26<46:57:41,  1.55it/s]"
     ]
    },
    {
     "name": "stdout",
     "output_type": "stream",
     "text": [
      "Train: [557/261825/6696]\tepoch: 0\titer: 557\tTime: 0.653 (0.742)\tData: 0.317 (0.408)\tLoss: 304.4276 (289.1119)\tPrec@1: 0.000 (2.942)\tPrec@5: 0.000 (4.854)\tlr 0.100000\n"
     ]
    },
    {
     "name": "stderr",
     "output_type": "stream",
     "text": [
      "\n",
      "Train epoch=0, iter=0:   0%|            | 558/261825 [06:26<47:08:38,  1.54it/s]"
     ]
    },
    {
     "name": "stdout",
     "output_type": "stream",
     "text": [
      "Train: [558/261825/6708]\tepoch: 0\titer: 558\tTime: 0.702 (0.742)\tData: 0.319 (0.408)\tLoss: 266.0912 (289.0707)\tPrec@1: 8.333 (2.952)\tPrec@5: 8.333 (4.860)\tlr 0.100000\n"
     ]
    },
    {
     "name": "stderr",
     "output_type": "stream",
     "text": [
      "\n",
      "Train epoch=0, iter=0:   0%|            | 559/261825 [06:27<48:13:48,  1.50it/s]"
     ]
    },
    {
     "name": "stdout",
     "output_type": "stream",
     "text": [
      "Train: [559/261825/6720]\tepoch: 0\titer: 559\tTime: 0.689 (0.742)\tData: 0.316 (0.408)\tLoss: 275.6778 (289.0468)\tPrec@1: 8.333 (2.961)\tPrec@5: 8.333 (4.866)\tlr 0.100000\n"
     ]
    },
    {
     "name": "stderr",
     "output_type": "stream",
     "text": [
      "\n",
      "Train epoch=0, iter=0:   0%|            | 560/261825 [06:28<48:45:31,  1.49it/s]"
     ]
    },
    {
     "name": "stdout",
     "output_type": "stream",
     "text": [
      "Train: [560/261825/6732]\tepoch: 0\titer: 560\tTime: 0.629 (0.742)\tData: 0.316 (0.408)\tLoss: 219.6182 (288.9230)\tPrec@1: 16.667 (2.986)\tPrec@5: 16.667 (4.887)\tlr 0.100000\n"
     ]
    },
    {
     "name": "stderr",
     "output_type": "stream",
     "text": [
      "\n",
      "Train epoch=0, iter=0:   0%|            | 561/261825 [06:28<47:44:43,  1.52it/s]"
     ]
    },
    {
     "name": "stdout",
     "output_type": "stream",
     "text": [
      "Train: [561/261825/6744]\tepoch: 0\titer: 561\tTime: 0.636 (0.741)\tData: 0.310 (0.407)\tLoss: 396.9431 (289.1153)\tPrec@1: 0.000 (2.980)\tPrec@5: 0.000 (4.878)\tlr 0.100000\n"
     ]
    },
    {
     "name": "stderr",
     "output_type": "stream",
     "text": [
      "\n",
      "Train epoch=0, iter=0:   0%|            | 562/261825 [06:29<47:19:14,  1.53it/s]"
     ]
    },
    {
     "name": "stdout",
     "output_type": "stream",
     "text": [
      "Train: [562/261825/6756]\tepoch: 0\titer: 562\tTime: 0.615 (0.741)\tData: 0.312 (0.407)\tLoss: 304.4903 (289.1426)\tPrec@1: 16.667 (3.005)\tPrec@5: 16.667 (4.899)\tlr 0.100000\n"
     ]
    },
    {
     "name": "stderr",
     "output_type": "stream",
     "text": [
      "\n",
      "Train epoch=0, iter=0:   0%|            | 563/261825 [06:30<46:32:04,  1.56it/s]"
     ]
    },
    {
     "name": "stdout",
     "output_type": "stream",
     "text": [
      "Train: [563/261825/6768]\tepoch: 0\titer: 563\tTime: 0.639 (0.741)\tData: 0.314 (0.407)\tLoss: 348.2010 (289.2473)\tPrec@1: 0.000 (2.999)\tPrec@5: 0.000 (4.891)\tlr 0.100000\n"
     ]
    },
    {
     "name": "stderr",
     "output_type": "stream",
     "text": [
      "\n",
      "Train epoch=0, iter=0:   0%|            | 564/261825 [06:30<46:14:53,  1.57it/s]"
     ]
    },
    {
     "name": "stdout",
     "output_type": "stream",
     "text": [
      "Train: [564/261825/6780]\tepoch: 0\titer: 564\tTime: 0.617 (0.741)\tData: 0.303 (0.407)\tLoss: 262.8662 (289.2006)\tPrec@1: 8.333 (3.009)\tPrec@5: 8.333 (4.897)\tlr 0.100000\n"
     ]
    },
    {
     "name": "stderr",
     "output_type": "stream",
     "text": [
      "\n",
      "Train epoch=0, iter=0:   0%|            | 565/261825 [06:31<46:04:50,  1.57it/s]"
     ]
    },
    {
     "name": "stdout",
     "output_type": "stream",
     "text": [
      "Train: [565/261825/6792]\tepoch: 0\titer: 565\tTime: 0.619 (0.740)\tData: 0.317 (0.407)\tLoss: 325.5779 (289.2649)\tPrec@1: 8.333 (3.018)\tPrec@5: 8.333 (4.903)\tlr 0.100000\n"
     ]
    },
    {
     "name": "stderr",
     "output_type": "stream",
     "text": [
      "\n",
      "Train epoch=0, iter=0:   0%|            | 566/261825 [06:31<46:30:18,  1.56it/s]"
     ]
    },
    {
     "name": "stdout",
     "output_type": "stream",
     "text": [
      "Train: [566/261825/6804]\tepoch: 0\titer: 566\tTime: 0.647 (0.740)\tData: 0.352 (0.407)\tLoss: 308.6712 (289.2991)\tPrec@1: 8.333 (3.028)\tPrec@5: 8.333 (4.909)\tlr 0.100000\n"
     ]
    },
    {
     "name": "stderr",
     "output_type": "stream",
     "text": [
      "\n",
      "Train epoch=0, iter=0:   0%|            | 567/261825 [06:32<45:51:55,  1.58it/s]"
     ]
    },
    {
     "name": "stdout",
     "output_type": "stream",
     "text": [
      "Train: [567/261825/6816]\tepoch: 0\titer: 567\tTime: 0.614 (0.740)\tData: 0.316 (0.407)\tLoss: 327.0515 (289.3655)\tPrec@1: 0.000 (3.022)\tPrec@5: 8.333 (4.915)\tlr 0.100000\n"
     ]
    },
    {
     "name": "stderr",
     "output_type": "stream",
     "text": [
      "\n",
      "Train epoch=0, iter=0:   0%|            | 568/261825 [06:33<45:25:02,  1.60it/s]"
     ]
    },
    {
     "name": "stdout",
     "output_type": "stream",
     "text": [
      "Train: [568/261825/6828]\tepoch: 0\titer: 568\tTime: 0.609 (0.740)\tData: 0.313 (0.406)\tLoss: 297.4724 (289.3798)\tPrec@1: 8.333 (3.032)\tPrec@5: 8.333 (4.921)\tlr 0.100000\n"
     ]
    },
    {
     "name": "stderr",
     "output_type": "stream",
     "text": [
      "\n",
      "Train epoch=0, iter=0:   0%|            | 569/261825 [06:33<45:49:22,  1.58it/s]"
     ]
    },
    {
     "name": "stdout",
     "output_type": "stream",
     "text": [
      "Train: [569/261825/6840]\tepoch: 0\titer: 569\tTime: 0.646 (0.740)\tData: 0.348 (0.406)\tLoss: 332.9520 (289.4562)\tPrec@1: 0.000 (3.026)\tPrec@5: 0.000 (4.912)\tlr 0.100000\n"
     ]
    },
    {
     "name": "stderr",
     "output_type": "stream",
     "text": [
      "\n",
      "Train epoch=0, iter=0:   0%|            | 570/261825 [06:34<45:23:15,  1.60it/s]"
     ]
    },
    {
     "name": "stdout",
     "output_type": "stream",
     "text": [
      "Train: [570/261825/6852]\tepoch: 0\titer: 570\tTime: 0.608 (0.739)\tData: 0.312 (0.406)\tLoss: 332.1823 (289.5310)\tPrec@1: 0.000 (3.021)\tPrec@5: 0.000 (4.904)\tlr 0.100000\n"
     ]
    },
    {
     "name": "stderr",
     "output_type": "stream",
     "text": [
      "\n",
      "Train epoch=0, iter=0:   0%|            | 571/261825 [06:35<44:57:27,  1.61it/s]"
     ]
    },
    {
     "name": "stdout",
     "output_type": "stream",
     "text": [
      "Train: [571/261825/6864]\tepoch: 0\titer: 571\tTime: 0.610 (0.739)\tData: 0.308 (0.406)\tLoss: 308.0459 (289.5634)\tPrec@1: 16.667 (3.045)\tPrec@5: 16.667 (4.924)\tlr 0.100000\n"
     ]
    },
    {
     "name": "stderr",
     "output_type": "stream",
     "text": [
      "\n",
      "Train epoch=0, iter=0:   0%|            | 572/261825 [06:35<44:44:55,  1.62it/s]"
     ]
    },
    {
     "name": "stdout",
     "output_type": "stream",
     "text": [
      "Train: [572/261825/6876]\tepoch: 0\titer: 572\tTime: 0.647 (0.739)\tData: 0.312 (0.406)\tLoss: 285.4171 (289.5562)\tPrec@1: 8.333 (3.054)\tPrec@5: 8.333 (4.930)\tlr 0.100000\n"
     ]
    },
    {
     "name": "stderr",
     "output_type": "stream",
     "text": [
      "\n",
      "Train epoch=0, iter=0:   0%|            | 573/261825 [06:36<45:03:49,  1.61it/s]"
     ]
    },
    {
     "name": "stdout",
     "output_type": "stream",
     "text": [
      "Train: [573/261825/6888]\tepoch: 0\titer: 573\tTime: 0.649 (0.739)\tData: 0.295 (0.406)\tLoss: 317.6327 (289.6051)\tPrec@1: 8.333 (3.063)\tPrec@5: 8.333 (4.936)\tlr 0.100000\n"
     ]
    },
    {
     "name": "stderr",
     "output_type": "stream",
     "text": [
      "\n",
      "Train epoch=0, iter=0:   0%|            | 574/261825 [06:36<45:37:06,  1.59it/s]"
     ]
    },
    {
     "name": "stdout",
     "output_type": "stream",
     "text": [
      "Train: [574/261825/6900]\tepoch: 0\titer: 574\tTime: 0.629 (0.739)\tData: 0.291 (0.405)\tLoss: 279.3205 (289.5872)\tPrec@1: 8.333 (3.072)\tPrec@5: 16.667 (4.957)\tlr 0.100000\n"
     ]
    },
    {
     "name": "stderr",
     "output_type": "stream",
     "text": [
      "\n",
      "Train epoch=0, iter=0:   0%|            | 575/261825 [06:37<45:30:21,  1.59it/s]"
     ]
    },
    {
     "name": "stdout",
     "output_type": "stream",
     "text": [
      "Train: [575/261825/6912]\tepoch: 0\titer: 575\tTime: 0.691 (0.739)\tData: 0.285 (0.405)\tLoss: 306.6218 (289.6168)\tPrec@1: 8.333 (3.082)\tPrec@5: 8.333 (4.962)\tlr 0.100000\n"
     ]
    },
    {
     "name": "stderr",
     "output_type": "stream",
     "text": [
      "\n",
      "Train epoch=0, iter=0:   0%|            | 576/261825 [06:38<46:49:24,  1.55it/s]"
     ]
    },
    {
     "name": "stdout",
     "output_type": "stream",
     "text": [
      "Train: [576/261825/6924]\tepoch: 0\titer: 576\tTime: 0.625 (0.738)\tData: 0.282 (0.405)\tLoss: 280.8770 (289.6016)\tPrec@1: 0.000 (3.076)\tPrec@5: 0.000 (4.954)\tlr 0.100000\n"
     ]
    },
    {
     "name": "stderr",
     "output_type": "stream",
     "text": [
      "\n",
      "Train epoch=0, iter=0:   0%|            | 577/261825 [06:38<46:52:18,  1.55it/s]"
     ]
    },
    {
     "name": "stdout",
     "output_type": "stream",
     "text": [
      "Train: [577/261825/6936]\tepoch: 0\titer: 577\tTime: 0.618 (0.738)\tData: 0.306 (0.405)\tLoss: 341.2089 (289.6909)\tPrec@1: 8.333 (3.085)\tPrec@5: 8.333 (4.960)\tlr 0.100000\n"
     ]
    },
    {
     "name": "stderr",
     "output_type": "stream",
     "text": [
      "\n",
      "Train epoch=0, iter=0:   0%|            | 578/261825 [06:39<46:17:05,  1.57it/s]"
     ]
    },
    {
     "name": "stdout",
     "output_type": "stream",
     "text": [
      "Train: [578/261825/6948]\tepoch: 0\titer: 578\tTime: 0.695 (0.738)\tData: 0.306 (0.405)\tLoss: 299.2184 (289.7074)\tPrec@1: 0.000 (3.080)\tPrec@5: 0.000 (4.951)\tlr 0.100000\n"
     ]
    },
    {
     "name": "stderr",
     "output_type": "stream",
     "text": [
      "\n",
      "Train epoch=0, iter=0:   0%|            | 579/261825 [06:40<47:37:02,  1.52it/s]"
     ]
    },
    {
     "name": "stdout",
     "output_type": "stream",
     "text": [
      "Train: [579/261825/6960]\tepoch: 0\titer: 579\tTime: 0.643 (0.738)\tData: 0.310 (0.404)\tLoss: 291.3814 (289.7103)\tPrec@1: 8.333 (3.089)\tPrec@5: 8.333 (4.957)\tlr 0.100000\n"
     ]
    },
    {
     "name": "stderr",
     "output_type": "stream",
     "text": [
      "\n",
      "Train epoch=0, iter=0:   0%|            | 580/261825 [06:40<47:17:15,  1.53it/s]"
     ]
    },
    {
     "name": "stdout",
     "output_type": "stream",
     "text": [
      "Train: [580/261825/6972]\tepoch: 0\titer: 580\tTime: 0.681 (0.738)\tData: 0.308 (0.404)\tLoss: 300.1003 (289.7281)\tPrec@1: 0.000 (3.084)\tPrec@5: 0.000 (4.948)\tlr 0.100000\n"
     ]
    },
    {
     "name": "stderr",
     "output_type": "stream",
     "text": [
      "\n",
      "Train epoch=0, iter=0:   0%|            | 581/261825 [06:41<47:57:35,  1.51it/s]"
     ]
    },
    {
     "name": "stdout",
     "output_type": "stream",
     "text": [
      "Train: [581/261825/6984]\tepoch: 0\titer: 581\tTime: 0.634 (0.738)\tData: 0.310 (0.404)\tLoss: 343.3485 (289.8203)\tPrec@1: 0.000 (3.078)\tPrec@5: 0.000 (4.940)\tlr 0.100000\n"
     ]
    },
    {
     "name": "stderr",
     "output_type": "stream",
     "text": [
      "\n",
      "Train epoch=0, iter=0:   0%|            | 582/261825 [06:42<47:19:52,  1.53it/s]"
     ]
    },
    {
     "name": "stdout",
     "output_type": "stream",
     "text": [
      "Train: [582/261825/6996]\tepoch: 0\titer: 582\tTime: 0.659 (0.738)\tData: 0.309 (0.404)\tLoss: 315.6513 (289.8646)\tPrec@1: 0.000 (3.073)\tPrec@5: 0.000 (4.931)\tlr 0.100000\n"
     ]
    },
    {
     "name": "stderr",
     "output_type": "stream",
     "text": [
      "\n",
      "Train epoch=0, iter=0:   0%|            | 583/261825 [06:42<47:27:00,  1.53it/s]"
     ]
    },
    {
     "name": "stdout",
     "output_type": "stream",
     "text": [
      "Train: [583/261825/7008]\tepoch: 0\titer: 583\tTime: 0.675 (0.737)\tData: 0.308 (0.404)\tLoss: 272.3394 (289.8346)\tPrec@1: 0.000 (3.068)\tPrec@5: 8.333 (4.937)\tlr 0.100000\n"
     ]
    },
    {
     "name": "stderr",
     "output_type": "stream",
     "text": [
      "\n",
      "Train epoch=0, iter=0:   0%|            | 584/261825 [06:43<47:53:58,  1.51it/s]"
     ]
    },
    {
     "name": "stdout",
     "output_type": "stream",
     "text": [
      "Train: [584/261825/7020]\tepoch: 0\titer: 584\tTime: 0.649 (0.737)\tData: 0.306 (0.404)\tLoss: 249.0715 (289.7649)\tPrec@1: 0.000 (3.063)\tPrec@5: 0.000 (4.929)\tlr 0.100000\n"
     ]
    },
    {
     "name": "stderr",
     "output_type": "stream",
     "text": [
      "\n",
      "Train epoch=0, iter=0:   0%|            | 585/261825 [06:44<47:10:03,  1.54it/s]"
     ]
    },
    {
     "name": "stdout",
     "output_type": "stream",
     "text": [
      "Train: [585/261825/7032]\tepoch: 0\titer: 585\tTime: 0.645 (0.737)\tData: 0.283 (0.403)\tLoss: 313.0458 (289.8046)\tPrec@1: 8.333 (3.072)\tPrec@5: 16.667 (4.949)\tlr 0.100000\n"
     ]
    },
    {
     "name": "stderr",
     "output_type": "stream",
     "text": [
      "\n",
      "Train epoch=0, iter=0:   0%|            | 586/261825 [06:44<46:45:52,  1.55it/s]"
     ]
    },
    {
     "name": "stdout",
     "output_type": "stream",
     "text": [
      "Train: [586/261825/7044]\tepoch: 0\titer: 586\tTime: 0.630 (0.737)\tData: 0.270 (0.403)\tLoss: 256.7312 (289.7483)\tPrec@1: 16.667 (3.095)\tPrec@5: 16.667 (4.969)\tlr 0.100000\n"
     ]
    },
    {
     "name": "stderr",
     "output_type": "stream",
     "text": [
      "\n",
      "Train epoch=0, iter=0:   0%|           | 587/261825 [06:53<220:42:22,  3.04s/it]"
     ]
    },
    {
     "name": "stdout",
     "output_type": "stream",
     "text": [
      "Train: [587/261825/7056]\tepoch: 0\titer: 587\tTime: 8.616 (0.750)\tData: 8.272 (0.417)\tLoss: 309.1074 (289.7812)\tPrec@1: 0.000 (3.090)\tPrec@5: 0.000 (4.960)\tlr 0.100000\n"
     ]
    },
    {
     "name": "stderr",
     "output_type": "stream",
     "text": [
      "\n",
      "Train epoch=0, iter=0:   0%|           | 588/261825 [06:54<168:50:08,  2.33s/it]"
     ]
    },
    {
     "name": "stdout",
     "output_type": "stream",
     "text": [
      "Train: [588/261825/7068]\tepoch: 0\titer: 588\tTime: 0.676 (0.750)\tData: 0.318 (0.416)\tLoss: 239.6594 (289.6961)\tPrec@1: 25.000 (3.127)\tPrec@5: 25.000 (4.994)\tlr 0.100000\n"
     ]
    },
    {
     "name": "stderr",
     "output_type": "stream",
     "text": [
      "\n",
      "Train epoch=0, iter=0:   0%|           | 589/261825 [06:54<132:15:27,  1.82s/it]"
     ]
    },
    {
     "name": "stdout",
     "output_type": "stream",
     "text": [
      "Train: [589/261825/7080]\tepoch: 0\titer: 589\tTime: 0.678 (0.750)\tData: 0.288 (0.416)\tLoss: 270.0127 (289.6628)\tPrec@1: 0.000 (3.121)\tPrec@5: 8.333 (5.000)\tlr 0.100000\n"
     ]
    },
    {
     "name": "stderr",
     "output_type": "stream",
     "text": [
      "\n",
      "Train epoch=0, iter=0:   0%|           | 590/261825 [06:55<107:36:54,  1.48s/it]"
     ]
    },
    {
     "name": "stdout",
     "output_type": "stream",
     "text": [
      "Train: [590/261825/7092]\tepoch: 0\titer: 590\tTime: 0.626 (0.750)\tData: 0.298 (0.416)\tLoss: 265.2284 (289.6214)\tPrec@1: 0.000 (3.116)\tPrec@5: 0.000 (4.992)\tlr 0.100000\n"
     ]
    },
    {
     "name": "stderr",
     "output_type": "stream",
     "text": [
      "\n",
      "Train epoch=0, iter=0:   0%|            | 591/261825 [06:56<88:52:40,  1.22s/it]"
     ]
    },
    {
     "name": "stdout",
     "output_type": "stream",
     "text": [
      "Train: [591/261825/7104]\tepoch: 0\titer: 591\tTime: 0.647 (0.750)\tData: 0.297 (0.416)\tLoss: 287.5687 (289.6179)\tPrec@1: 8.333 (3.125)\tPrec@5: 16.667 (5.011)\tlr 0.100000\n"
     ]
    },
    {
     "name": "stderr",
     "output_type": "stream",
     "text": [
      "\n",
      "Train epoch=0, iter=0:   0%|            | 592/261825 [06:56<76:30:18,  1.05s/it]"
     ]
    },
    {
     "name": "stdout",
     "output_type": "stream",
     "text": [
      "Train: [592/261825/7116]\tepoch: 0\titer: 592\tTime: 0.606 (0.750)\tData: 0.306 (0.416)\tLoss: 307.2982 (289.6477)\tPrec@1: 0.000 (3.120)\tPrec@5: 8.333 (5.017)\tlr 0.100000\n"
     ]
    },
    {
     "name": "stderr",
     "output_type": "stream",
     "text": [
      "\n",
      "Train epoch=0, iter=0:   0%|            | 593/261825 [06:57<66:56:40,  1.08it/s]"
     ]
    },
    {
     "name": "stdout",
     "output_type": "stream",
     "text": [
      "Train: [593/261825/7128]\tepoch: 0\titer: 593\tTime: 0.641 (0.749)\tData: 0.313 (0.415)\tLoss: 313.2616 (289.6875)\tPrec@1: 0.000 (3.114)\tPrec@5: 0.000 (5.008)\tlr 0.100000\n"
     ]
    },
    {
     "name": "stderr",
     "output_type": "stream",
     "text": [
      "\n",
      "Train epoch=0, iter=0:   0%|            | 594/261825 [06:57<60:51:05,  1.19it/s]"
     ]
    },
    {
     "name": "stdout",
     "output_type": "stream",
     "text": [
      "Train: [594/261825/7140]\tepoch: 0\titer: 594\tTime: 0.644 (0.749)\tData: 0.317 (0.415)\tLoss: 219.4966 (289.5695)\tPrec@1: 8.333 (3.123)\tPrec@5: 16.667 (5.028)\tlr 0.100000\n"
     ]
    },
    {
     "name": "stderr",
     "output_type": "stream",
     "text": [
      "\n",
      "Train epoch=0, iter=0:   0%|            | 595/261825 [06:58<56:17:54,  1.29it/s]"
     ]
    },
    {
     "name": "stdout",
     "output_type": "stream",
     "text": [
      "Train: [595/261825/7152]\tepoch: 0\titer: 595\tTime: 0.619 (0.749)\tData: 0.303 (0.415)\tLoss: 319.6904 (289.6201)\tPrec@1: 0.000 (3.118)\tPrec@5: 8.333 (5.034)\tlr 0.100000\n"
     ]
    },
    {
     "name": "stderr",
     "output_type": "stream",
     "text": [
      "\n",
      "Train epoch=0, iter=0:   0%|            | 596/261825 [06:59<52:52:28,  1.37it/s]"
     ]
    },
    {
     "name": "stdout",
     "output_type": "stream",
     "text": [
      "Train: [596/261825/7164]\tepoch: 0\titer: 596\tTime: 0.632 (0.749)\tData: 0.303 (0.415)\tLoss: 288.5386 (289.6183)\tPrec@1: 16.667 (3.141)\tPrec@5: 16.667 (5.053)\tlr 0.100000\n"
     ]
    },
    {
     "name": "stderr",
     "output_type": "stream",
     "text": [
      "\n",
      "Train epoch=0, iter=0:   0%|            | 597/261825 [06:59<50:45:29,  1.43it/s]"
     ]
    },
    {
     "name": "stdout",
     "output_type": "stream",
     "text": [
      "Train: [597/261825/7176]\tepoch: 0\titer: 597\tTime: 0.620 (0.749)\tData: 0.301 (0.415)\tLoss: 250.8542 (289.5534)\tPrec@1: 0.000 (3.135)\tPrec@5: 8.333 (5.059)\tlr 0.100000\n"
     ]
    },
    {
     "name": "stderr",
     "output_type": "stream",
     "text": [
      "\n",
      "Train epoch=0, iter=0:   0%|            | 598/261825 [07:00<49:13:58,  1.47it/s]"
     ]
    },
    {
     "name": "stdout",
     "output_type": "stream",
     "text": [
      "Train: [598/261825/7188]\tepoch: 0\titer: 598\tTime: 0.645 (0.748)\tData: 0.311 (0.415)\tLoss: 342.7047 (289.6422)\tPrec@1: 0.000 (3.130)\tPrec@5: 0.000 (5.050)\tlr 0.100000\n"
     ]
    },
    {
     "name": "stderr",
     "output_type": "stream",
     "text": [
      "\n",
      "Train epoch=0, iter=0:   0%|            | 599/261825 [07:01<48:19:03,  1.50it/s]"
     ]
    },
    {
     "name": "stdout",
     "output_type": "stream",
     "text": [
      "Train: [599/261825/7200]\tepoch: 0\titer: 599\tTime: 0.646 (0.748)\tData: 0.302 (0.414)\tLoss: 346.5375 (289.7370)\tPrec@1: 8.333 (3.139)\tPrec@5: 8.333 (5.056)\tlr 0.100000\n"
     ]
    },
    {
     "name": "stderr",
     "output_type": "stream",
     "text": [
      "\n",
      "Train epoch=0, iter=0:   0%|            | 600/261825 [07:01<47:55:00,  1.51it/s]"
     ]
    },
    {
     "name": "stdout",
     "output_type": "stream",
     "text": [
      "Train: [600/261825/7212]\tepoch: 0\titer: 600\tTime: 0.646 (0.748)\tData: 0.303 (0.414)\tLoss: 212.6819 (289.6088)\tPrec@1: 16.667 (3.161)\tPrec@5: 25.000 (5.089)\tlr 0.100000\n"
     ]
    },
    {
     "name": "stderr",
     "output_type": "stream",
     "text": [
      "\n",
      "Train epoch=0, iter=0:   0%|            | 601/261825 [07:02<47:51:41,  1.52it/s]"
     ]
    },
    {
     "name": "stdout",
     "output_type": "stream",
     "text": [
      "Train: [601/261825/7224]\tepoch: 0\titer: 601\tTime: 0.641 (0.748)\tData: 0.313 (0.414)\tLoss: 304.0716 (289.6328)\tPrec@1: 0.000 (3.156)\tPrec@5: 8.333 (5.094)\tlr 0.100000\n"
     ]
    },
    {
     "name": "stderr",
     "output_type": "stream",
     "text": [
      "\n",
      "Train epoch=0, iter=0:   0%|            | 602/261825 [07:02<47:06:30,  1.54it/s]"
     ]
    },
    {
     "name": "stdout",
     "output_type": "stream",
     "text": [
      "Train: [602/261825/7236]\tepoch: 0\titer: 602\tTime: 0.656 (0.748)\tData: 0.312 (0.414)\tLoss: 371.9978 (289.7694)\tPrec@1: 8.333 (3.165)\tPrec@5: 8.333 (5.100)\tlr 0.100000\n"
     ]
    },
    {
     "name": "stderr",
     "output_type": "stream",
     "text": [
      "\n",
      "Train epoch=0, iter=0:   0%|            | 603/261825 [07:03<47:15:41,  1.54it/s]"
     ]
    },
    {
     "name": "stdout",
     "output_type": "stream",
     "text": [
      "Train: [603/261825/7248]\tepoch: 0\titer: 603\tTime: 0.627 (0.747)\tData: 0.297 (0.414)\tLoss: 220.8107 (289.6552)\tPrec@1: 0.000 (3.159)\tPrec@5: 16.667 (5.119)\tlr 0.100000\n"
     ]
    },
    {
     "name": "stderr",
     "output_type": "stream",
     "text": [
      "\n",
      "Train epoch=0, iter=0:   0%|            | 604/261825 [07:04<46:47:42,  1.55it/s]"
     ]
    },
    {
     "name": "stdout",
     "output_type": "stream",
     "text": [
      "Train: [604/261825/7260]\tepoch: 0\titer: 604\tTime: 0.662 (0.747)\tData: 0.303 (0.413)\tLoss: 290.7079 (289.6570)\tPrec@1: 8.333 (3.168)\tPrec@5: 8.333 (5.124)\tlr 0.100000\n"
     ]
    },
    {
     "name": "stderr",
     "output_type": "stream",
     "text": [
      "\n",
      "Train epoch=0, iter=0:   0%|            | 605/261825 [07:04<46:56:33,  1.55it/s]"
     ]
    },
    {
     "name": "stdout",
     "output_type": "stream",
     "text": [
      "Train: [605/261825/7272]\tepoch: 0\titer: 605\tTime: 0.642 (0.747)\tData: 0.305 (0.413)\tLoss: 353.1492 (289.7617)\tPrec@1: 0.000 (3.163)\tPrec@5: 0.000 (5.116)\tlr 0.100000\n"
     ]
    },
    {
     "name": "stderr",
     "output_type": "stream",
     "text": [
      "\n",
      "Train epoch=0, iter=0:   0%|            | 606/261825 [07:05<47:20:02,  1.53it/s]"
     ]
    },
    {
     "name": "stdout",
     "output_type": "stream",
     "text": [
      "Train: [606/261825/7284]\tepoch: 0\titer: 606\tTime: 0.632 (0.747)\tData: 0.312 (0.413)\tLoss: 313.8060 (289.8014)\tPrec@1: 0.000 (3.158)\tPrec@5: 0.000 (5.107)\tlr 0.100000\n"
     ]
    },
    {
     "name": "stderr",
     "output_type": "stream",
     "text": [
      "\n",
      "Train epoch=0, iter=0:   0%|            | 607/261825 [07:06<46:53:32,  1.55it/s]"
     ]
    },
    {
     "name": "stdout",
     "output_type": "stream",
     "text": [
      "Train: [607/261825/7296]\tepoch: 0\titer: 607\tTime: 0.641 (0.747)\tData: 0.312 (0.413)\tLoss: 242.5819 (289.7237)\tPrec@1: 16.667 (3.180)\tPrec@5: 16.667 (5.126)\tlr 0.100000\n"
     ]
    },
    {
     "name": "stderr",
     "output_type": "stream",
     "text": [
      "\n",
      "Train epoch=0, iter=0:   0%|            | 608/261825 [07:06<46:52:40,  1.55it/s]"
     ]
    },
    {
     "name": "stdout",
     "output_type": "stream",
     "text": [
      "Train: [608/261825/7308]\tepoch: 0\titer: 608\tTime: 0.643 (0.747)\tData: 0.320 (0.413)\tLoss: 335.7336 (289.7993)\tPrec@1: 0.000 (3.175)\tPrec@5: 0.000 (5.118)\tlr 0.100000\n"
     ]
    },
    {
     "name": "stderr",
     "output_type": "stream",
     "text": [
      "\n",
      "Train epoch=0, iter=0:   0%|            | 609/261825 [07:07<46:30:58,  1.56it/s]"
     ]
    },
    {
     "name": "stdout",
     "output_type": "stream",
     "text": [
      "Train: [609/261825/7320]\tepoch: 0\titer: 609\tTime: 0.664 (0.747)\tData: 0.306 (0.413)\tLoss: 369.5244 (289.9300)\tPrec@1: 0.000 (3.169)\tPrec@5: 0.000 (5.109)\tlr 0.100000\n"
     ]
    },
    {
     "name": "stderr",
     "output_type": "stream",
     "text": [
      "\n",
      "Train epoch=0, iter=0:   0%|            | 610/261825 [07:08<47:15:08,  1.54it/s]"
     ]
    },
    {
     "name": "stdout",
     "output_type": "stream",
     "text": [
      "Train: [610/261825/7332]\tepoch: 0\titer: 610\tTime: 0.627 (0.746)\tData: 0.315 (0.412)\tLoss: 337.2185 (290.0073)\tPrec@1: 0.000 (3.164)\tPrec@5: 0.000 (5.101)\tlr 0.100000\n"
     ]
    },
    {
     "name": "stderr",
     "output_type": "stream",
     "text": [
      "\n",
      "Train epoch=0, iter=0:   0%|            | 611/261825 [07:08<46:36:04,  1.56it/s]"
     ]
    },
    {
     "name": "stdout",
     "output_type": "stream",
     "text": [
      "Train: [611/261825/7344]\tepoch: 0\titer: 611\tTime: 0.643 (0.746)\tData: 0.311 (0.412)\tLoss: 313.5059 (290.0457)\tPrec@1: 8.333 (3.173)\tPrec@5: 16.667 (5.120)\tlr 0.100000\n"
     ]
    },
    {
     "name": "stderr",
     "output_type": "stream",
     "text": [
      "\n",
      "Train epoch=0, iter=0:   0%|            | 612/261825 [07:09<46:25:52,  1.56it/s]"
     ]
    },
    {
     "name": "stdout",
     "output_type": "stream",
     "text": [
      "Train: [612/261825/7356]\tepoch: 0\titer: 612\tTime: 0.656 (0.746)\tData: 0.303 (0.412)\tLoss: 297.1547 (290.0573)\tPrec@1: 8.333 (3.181)\tPrec@5: 16.667 (5.139)\tlr 0.100000\n"
     ]
    },
    {
     "name": "stderr",
     "output_type": "stream",
     "text": [
      "\n",
      "Train epoch=0, iter=0:   0%|            | 613/261825 [07:10<46:42:26,  1.55it/s]"
     ]
    },
    {
     "name": "stdout",
     "output_type": "stream",
     "text": [
      "Train: [613/261825/7368]\tepoch: 0\titer: 613\tTime: 0.641 (0.746)\tData: 0.313 (0.412)\tLoss: 321.3420 (290.1082)\tPrec@1: 8.333 (3.189)\tPrec@5: 8.333 (5.144)\tlr 0.100000\n"
     ]
    },
    {
     "name": "stderr",
     "output_type": "stream",
     "text": [
      "\n",
      "Train epoch=0, iter=0:   0%|            | 614/261825 [07:10<46:38:24,  1.56it/s]"
     ]
    },
    {
     "name": "stdout",
     "output_type": "stream",
     "text": [
      "Train: [614/261825/7380]\tepoch: 0\titer: 614\tTime: 0.650 (0.746)\tData: 0.297 (0.412)\tLoss: 344.9579 (290.1974)\tPrec@1: 8.333 (3.198)\tPrec@5: 8.333 (5.149)\tlr 0.100000\n"
     ]
    },
    {
     "name": "stderr",
     "output_type": "stream",
     "text": [
      "\n",
      "Train epoch=0, iter=0:   0%|            | 615/261825 [07:11<46:59:27,  1.54it/s]"
     ]
    },
    {
     "name": "stdout",
     "output_type": "stream",
     "text": [
      "Train: [615/261825/7392]\tepoch: 0\titer: 615\tTime: 0.657 (0.746)\tData: 0.309 (0.412)\tLoss: 301.5493 (290.2159)\tPrec@1: 0.000 (3.193)\tPrec@5: 16.667 (5.168)\tlr 0.100000\n"
     ]
    },
    {
     "name": "stderr",
     "output_type": "stream",
     "text": [
      "\n",
      "Train epoch=0, iter=0:   0%|            | 616/261825 [07:12<47:07:29,  1.54it/s]"
     ]
    },
    {
     "name": "stdout",
     "output_type": "stream",
     "text": [
      "Train: [616/261825/7404]\tepoch: 0\titer: 616\tTime: 0.662 (0.745)\tData: 0.303 (0.411)\tLoss: 338.4502 (290.2940)\tPrec@1: 8.333 (3.201)\tPrec@5: 8.333 (5.173)\tlr 0.100000\n"
     ]
    },
    {
     "name": "stderr",
     "output_type": "stream",
     "text": [
      "\n",
      "Train epoch=0, iter=0:   0%|            | 617/261825 [07:12<47:16:20,  1.53it/s]"
     ]
    },
    {
     "name": "stdout",
     "output_type": "stream",
     "text": [
      "Train: [617/261825/7416]\tepoch: 0\titer: 617\tTime: 0.641 (0.745)\tData: 0.312 (0.411)\tLoss: 274.5973 (290.2686)\tPrec@1: 0.000 (3.196)\tPrec@5: 16.667 (5.191)\tlr 0.100000\n"
     ]
    },
    {
     "name": "stderr",
     "output_type": "stream",
     "text": [
      "\n",
      "Train epoch=0, iter=0:   0%|            | 618/261825 [07:13<47:02:07,  1.54it/s]"
     ]
    },
    {
     "name": "stdout",
     "output_type": "stream",
     "text": [
      "Train: [618/261825/7428]\tepoch: 0\titer: 618\tTime: 0.641 (0.745)\tData: 0.297 (0.411)\tLoss: 262.6611 (290.2240)\tPrec@1: 8.333 (3.204)\tPrec@5: 16.667 (5.210)\tlr 0.100000\n"
     ]
    },
    {
     "name": "stderr",
     "output_type": "stream",
     "text": [
      "\n",
      "Train epoch=0, iter=0:   0%|            | 619/261825 [07:13<47:12:57,  1.54it/s]"
     ]
    },
    {
     "name": "stdout",
     "output_type": "stream",
     "text": [
      "Train: [619/261825/7440]\tepoch: 0\titer: 619\tTime: 0.646 (0.745)\tData: 0.315 (0.411)\tLoss: 330.6768 (290.2893)\tPrec@1: 0.000 (3.199)\tPrec@5: 0.000 (5.202)\tlr 0.100000\n"
     ]
    },
    {
     "name": "stderr",
     "output_type": "stream",
     "text": [
      "\n",
      "Train epoch=0, iter=0:   0%|            | 620/261825 [07:14<46:49:03,  1.55it/s]"
     ]
    },
    {
     "name": "stdout",
     "output_type": "stream",
     "text": [
      "Train: [620/261825/7452]\tepoch: 0\titer: 620\tTime: 0.651 (0.745)\tData: 0.302 (0.411)\tLoss: 232.9638 (290.1970)\tPrec@1: 8.333 (3.207)\tPrec@5: 8.333 (5.207)\tlr 0.100000\n"
     ]
    },
    {
     "name": "stderr",
     "output_type": "stream",
     "text": [
      "\n",
      "Train epoch=0, iter=0:   0%|            | 621/261825 [07:15<46:53:51,  1.55it/s]"
     ]
    },
    {
     "name": "stdout",
     "output_type": "stream",
     "text": [
      "Train: [621/261825/7464]\tepoch: 0\titer: 621\tTime: 0.626 (0.745)\tData: 0.304 (0.411)\tLoss: 259.7643 (290.1480)\tPrec@1: 8.333 (3.215)\tPrec@5: 8.333 (5.212)\tlr 0.100000\n"
     ]
    },
    {
     "name": "stderr",
     "output_type": "stream",
     "text": [
      "\n",
      "Train epoch=0, iter=0:   0%|            | 622/261825 [07:15<46:51:35,  1.55it/s]"
     ]
    },
    {
     "name": "stdout",
     "output_type": "stream",
     "text": [
      "Train: [622/261825/7476]\tepoch: 0\titer: 622\tTime: 0.694 (0.744)\tData: 0.318 (0.410)\tLoss: 304.9142 (290.1718)\tPrec@1: 8.333 (3.224)\tPrec@5: 8.333 (5.217)\tlr 0.100000\n"
     ]
    },
    {
     "name": "stderr",
     "output_type": "stream",
     "text": [
      "\n",
      "Train epoch=0, iter=0:   0%|            | 623/261825 [07:16<47:31:06,  1.53it/s]"
     ]
    },
    {
     "name": "stdout",
     "output_type": "stream",
     "text": [
      "Train: [623/261825/7488]\tepoch: 0\titer: 623\tTime: 0.678 (0.744)\tData: 0.313 (0.410)\tLoss: 338.7969 (290.2497)\tPrec@1: 0.000 (3.218)\tPrec@5: 0.000 (5.208)\tlr 0.100000\n"
     ]
    },
    {
     "name": "stderr",
     "output_type": "stream",
     "text": [
      "\n",
      "Train epoch=0, iter=0:   0%|            | 624/261825 [07:17<48:05:07,  1.51it/s]"
     ]
    },
    {
     "name": "stdout",
     "output_type": "stream",
     "text": [
      "Train: [624/261825/7500]\tepoch: 0\titer: 624\tTime: 0.679 (0.744)\tData: 0.303 (0.410)\tLoss: 273.4042 (290.2227)\tPrec@1: 8.333 (3.227)\tPrec@5: 8.333 (5.213)\tlr 0.100000\n"
     ]
    },
    {
     "name": "stderr",
     "output_type": "stream",
     "text": [
      "\n",
      "Train epoch=0, iter=0:   0%|            | 625/261825 [07:17<48:27:33,  1.50it/s]"
     ]
    },
    {
     "name": "stdout",
     "output_type": "stream",
     "text": [
      "Train: [625/261825/7512]\tepoch: 0\titer: 625\tTime: 0.665 (0.744)\tData: 0.303 (0.410)\tLoss: 358.8097 (290.3323)\tPrec@1: 8.333 (3.235)\tPrec@5: 8.333 (5.218)\tlr 0.100000\n"
     ]
    },
    {
     "name": "stderr",
     "output_type": "stream",
     "text": [
      "\n",
      "Train epoch=0, iter=0:   0%|            | 626/261825 [07:18<48:23:05,  1.50it/s]"
     ]
    },
    {
     "name": "stdout",
     "output_type": "stream",
     "text": [
      "Train: [626/261825/7524]\tepoch: 0\titer: 626\tTime: 0.598 (0.744)\tData: 0.301 (0.410)\tLoss: 326.6632 (290.3902)\tPrec@1: 0.000 (3.230)\tPrec@5: 8.333 (5.223)\tlr 0.100000\n"
     ]
    },
    {
     "name": "stderr",
     "output_type": "stream",
     "text": [
      "\n",
      "Train epoch=0, iter=0:   0%|            | 627/261825 [07:19<47:08:52,  1.54it/s]"
     ]
    },
    {
     "name": "stdout",
     "output_type": "stream",
     "text": [
      "Train: [627/261825/7536]\tepoch: 0\titer: 627\tTime: 0.609 (0.744)\tData: 0.316 (0.410)\tLoss: 323.0213 (290.4422)\tPrec@1: 0.000 (3.225)\tPrec@5: 0.000 (5.215)\tlr 0.100000\n"
     ]
    },
    {
     "name": "stderr",
     "output_type": "stream",
     "text": [
      "\n",
      "Train epoch=0, iter=0:   0%|            | 628/261825 [07:19<46:18:56,  1.57it/s]"
     ]
    },
    {
     "name": "stdout",
     "output_type": "stream",
     "text": [
      "Train: [628/261825/7548]\tepoch: 0\titer: 628\tTime: 0.638 (0.744)\tData: 0.318 (0.409)\tLoss: 233.3420 (290.3514)\tPrec@1: 8.333 (3.233)\tPrec@5: 25.000 (5.246)\tlr 0.100000\n"
     ]
    },
    {
     "name": "stderr",
     "output_type": "stream",
     "text": [
      "\n",
      "Train epoch=0, iter=0:   0%|            | 629/261825 [07:20<46:03:22,  1.58it/s]"
     ]
    },
    {
     "name": "stdout",
     "output_type": "stream",
     "text": [
      "Train: [629/261825/7560]\tepoch: 0\titer: 629\tTime: 0.678 (0.743)\tData: 0.305 (0.409)\tLoss: 321.0637 (290.4001)\tPrec@1: 8.333 (3.241)\tPrec@5: 8.333 (5.251)\tlr 0.100000\n"
     ]
    },
    {
     "name": "stderr",
     "output_type": "stream",
     "text": [
      "\n",
      "Train epoch=0, iter=0:   0%|            | 630/261825 [07:21<46:28:35,  1.56it/s]"
     ]
    },
    {
     "name": "stdout",
     "output_type": "stream",
     "text": [
      "Train: [630/261825/7572]\tepoch: 0\titer: 630\tTime: 0.620 (0.743)\tData: 0.281 (0.409)\tLoss: 292.6273 (290.4037)\tPrec@1: 0.000 (3.236)\tPrec@5: 0.000 (5.243)\tlr 0.100000\n"
     ]
    },
    {
     "name": "stderr",
     "output_type": "stream",
     "text": [
      "\n",
      "Train epoch=0, iter=0:   0%|            | 631/261825 [07:21<46:32:20,  1.56it/s]"
     ]
    },
    {
     "name": "stdout",
     "output_type": "stream",
     "text": [
      "Train: [631/261825/7584]\tepoch: 0\titer: 631\tTime: 0.633 (0.743)\tData: 0.305 (0.409)\tLoss: 256.5078 (290.3500)\tPrec@1: 8.333 (3.244)\tPrec@5: 8.333 (5.248)\tlr 0.100000\n"
     ]
    },
    {
     "name": "stderr",
     "output_type": "stream",
     "text": [
      "\n",
      "Train epoch=0, iter=0:   0%|            | 632/261825 [07:22<46:20:35,  1.57it/s]"
     ]
    },
    {
     "name": "stdout",
     "output_type": "stream",
     "text": [
      "Train: [632/261825/7596]\tepoch: 0\titer: 632\tTime: 0.634 (0.743)\tData: 0.302 (0.409)\tLoss: 279.8156 (290.3334)\tPrec@1: 8.333 (3.252)\tPrec@5: 8.333 (5.253)\tlr 0.100000\n"
     ]
    },
    {
     "name": "stderr",
     "output_type": "stream",
     "text": [
      "\n",
      "Train epoch=0, iter=0:   0%|            | 633/261825 [07:23<45:42:19,  1.59it/s]"
     ]
    },
    {
     "name": "stdout",
     "output_type": "stream",
     "text": [
      "Train: [633/261825/7608]\tepoch: 0\titer: 633\tTime: 0.614 (0.743)\tData: 0.283 (0.409)\tLoss: 228.3062 (290.2355)\tPrec@1: 8.333 (3.260)\tPrec@5: 16.667 (5.271)\tlr 0.100000\n"
     ]
    },
    {
     "name": "stderr",
     "output_type": "stream",
     "text": [
      "\n",
      "Train epoch=0, iter=0:   0%|            | 634/261825 [07:23<45:48:31,  1.58it/s]"
     ]
    },
    {
     "name": "stdout",
     "output_type": "stream",
     "text": [
      "Train: [634/261825/7620]\tepoch: 0\titer: 634\tTime: 0.652 (0.743)\tData: 0.312 (0.408)\tLoss: 280.3395 (290.2199)\tPrec@1: 8.333 (3.268)\tPrec@5: 16.667 (5.289)\tlr 0.100000\n"
     ]
    },
    {
     "name": "stderr",
     "output_type": "stream",
     "text": [
      "\n",
      "Train epoch=0, iter=0:   0%|            | 635/261825 [07:24<46:36:11,  1.56it/s]"
     ]
    },
    {
     "name": "stdout",
     "output_type": "stream",
     "text": [
      "Train: [635/261825/7632]\tepoch: 0\titer: 635\tTime: 0.654 (0.742)\tData: 0.317 (0.408)\tLoss: 243.4955 (290.1465)\tPrec@1: 16.667 (3.289)\tPrec@5: 25.000 (5.320)\tlr 0.100000\n"
     ]
    },
    {
     "name": "stderr",
     "output_type": "stream",
     "text": [
      "\n",
      "Train epoch=0, iter=0:   0%|            | 636/261825 [07:24<46:40:48,  1.55it/s]"
     ]
    },
    {
     "name": "stdout",
     "output_type": "stream",
     "text": [
      "Train: [636/261825/7644]\tepoch: 0\titer: 636\tTime: 0.643 (0.742)\tData: 0.307 (0.408)\tLoss: 272.2874 (290.1185)\tPrec@1: 16.667 (3.310)\tPrec@5: 16.667 (5.338)\tlr 0.100000\n"
     ]
    },
    {
     "name": "stderr",
     "output_type": "stream",
     "text": [
      "\n",
      "Train epoch=0, iter=0:   0%|            | 637/261825 [07:25<46:06:53,  1.57it/s]"
     ]
    },
    {
     "name": "stdout",
     "output_type": "stream",
     "text": [
      "Train: [637/261825/7656]\tepoch: 0\titer: 637\tTime: 0.613 (0.742)\tData: 0.282 (0.408)\tLoss: 248.0124 (290.0525)\tPrec@1: 16.667 (3.331)\tPrec@5: 16.667 (5.355)\tlr 0.100000\n"
     ]
    },
    {
     "name": "stderr",
     "output_type": "stream",
     "text": [
      "\n",
      "Train epoch=0, iter=0:   0%|            | 638/261825 [07:26<46:21:27,  1.57it/s]"
     ]
    },
    {
     "name": "stdout",
     "output_type": "stream",
     "text": [
      "Train: [638/261825/7668]\tepoch: 0\titer: 638\tTime: 0.676 (0.742)\tData: 0.318 (0.408)\tLoss: 301.6558 (290.0706)\tPrec@1: 0.000 (3.326)\tPrec@5: 0.000 (5.347)\tlr 0.100000\n"
     ]
    },
    {
     "name": "stderr",
     "output_type": "stream",
     "text": [
      "\n",
      "Train epoch=0, iter=0:   0%|            | 639/261825 [07:26<47:08:11,  1.54it/s]"
     ]
    },
    {
     "name": "stdout",
     "output_type": "stream",
     "text": [
      "Train: [639/261825/7680]\tepoch: 0\titer: 639\tTime: 0.647 (0.742)\tData: 0.313 (0.408)\tLoss: 317.0485 (290.1128)\tPrec@1: 0.000 (3.320)\tPrec@5: 0.000 (5.339)\tlr 0.100000\n"
     ]
    },
    {
     "name": "stderr",
     "output_type": "stream",
     "text": [
      "\n",
      "Train epoch=0, iter=0:   0%|            | 640/261825 [07:27<46:52:11,  1.55it/s]"
     ]
    },
    {
     "name": "stdout",
     "output_type": "stream",
     "text": [
      "Train: [640/261825/7692]\tepoch: 0\titer: 640\tTime: 0.644 (0.742)\tData: 0.304 (0.407)\tLoss: 302.8102 (290.1326)\tPrec@1: 0.000 (3.315)\tPrec@5: 8.333 (5.343)\tlr 0.100000\n"
     ]
    },
    {
     "name": "stderr",
     "output_type": "stream",
     "text": [
      "\n",
      "Train epoch=0, iter=0:   0%|            | 641/261825 [07:28<46:48:49,  1.55it/s]"
     ]
    },
    {
     "name": "stdout",
     "output_type": "stream",
     "text": [
      "Train: [641/261825/7704]\tepoch: 0\titer: 641\tTime: 0.626 (0.741)\tData: 0.303 (0.407)\tLoss: 272.2386 (290.1047)\tPrec@1: 0.000 (3.310)\tPrec@5: 8.333 (5.348)\tlr 0.100000\n"
     ]
    },
    {
     "name": "stderr",
     "output_type": "stream",
     "text": [
      "\n",
      "Train epoch=0, iter=0:   0%|            | 642/261825 [07:28<46:21:38,  1.56it/s]"
     ]
    },
    {
     "name": "stdout",
     "output_type": "stream",
     "text": [
      "Train: [642/261825/7716]\tepoch: 0\titer: 642\tTime: 0.639 (0.741)\tData: 0.302 (0.407)\tLoss: 357.0794 (290.2088)\tPrec@1: 0.000 (3.305)\tPrec@5: 8.333 (5.353)\tlr 0.100000\n"
     ]
    },
    {
     "name": "stderr",
     "output_type": "stream",
     "text": [
      "\n",
      "Train epoch=0, iter=0:   0%|            | 643/261825 [07:29<46:23:31,  1.56it/s]"
     ]
    },
    {
     "name": "stdout",
     "output_type": "stream",
     "text": [
      "Train: [643/261825/7728]\tepoch: 0\titer: 643\tTime: 0.634 (0.741)\tData: 0.303 (0.407)\tLoss: 253.6144 (290.1520)\tPrec@1: 8.333 (3.313)\tPrec@5: 8.333 (5.357)\tlr 0.100000\n"
     ]
    },
    {
     "name": "stderr",
     "output_type": "stream",
     "text": [
      "\n",
      "Train epoch=0, iter=0:   0%|            | 644/261825 [07:30<46:11:25,  1.57it/s]"
     ]
    },
    {
     "name": "stdout",
     "output_type": "stream",
     "text": [
      "Train: [644/261825/7740]\tepoch: 0\titer: 644\tTime: 0.643 (0.741)\tData: 0.297 (0.407)\tLoss: 293.4090 (290.1571)\tPrec@1: 8.333 (3.320)\tPrec@5: 8.333 (5.362)\tlr 0.100000\n"
     ]
    },
    {
     "name": "stderr",
     "output_type": "stream",
     "text": [
      "\n",
      "Train epoch=0, iter=0:   0%|            | 645/261825 [07:30<46:39:46,  1.55it/s]"
     ]
    },
    {
     "name": "stdout",
     "output_type": "stream",
     "text": [
      "Train: [645/261825/7752]\tepoch: 0\titer: 645\tTime: 0.710 (0.741)\tData: 0.318 (0.407)\tLoss: 256.4878 (290.1049)\tPrec@1: 8.333 (3.328)\tPrec@5: 8.333 (5.366)\tlr 0.100000\n"
     ]
    },
    {
     "name": "stderr",
     "output_type": "stream",
     "text": [
      "\n",
      "Train epoch=0, iter=0:   0%|            | 646/261825 [07:31<47:53:19,  1.51it/s]"
     ]
    },
    {
     "name": "stdout",
     "output_type": "stream",
     "text": [
      "Train: [646/261825/7764]\tepoch: 0\titer: 646\tTime: 0.634 (0.741)\tData: 0.305 (0.406)\tLoss: 229.1589 (290.0107)\tPrec@1: 16.667 (3.349)\tPrec@5: 16.667 (5.384)\tlr 0.100000\n"
     ]
    },
    {
     "name": "stderr",
     "output_type": "stream",
     "text": [
      "\n",
      "Train epoch=0, iter=0:   0%|            | 647/261825 [07:32<47:11:51,  1.54it/s]"
     ]
    },
    {
     "name": "stdout",
     "output_type": "stream",
     "text": [
      "Train: [647/261825/7776]\tepoch: 0\titer: 647\tTime: 0.634 (0.741)\tData: 0.313 (0.406)\tLoss: 268.2728 (289.9772)\tPrec@1: 0.000 (3.344)\tPrec@5: 8.333 (5.388)\tlr 0.100000\n"
     ]
    },
    {
     "name": "stderr",
     "output_type": "stream",
     "text": [
      "\n",
      "Train epoch=0, iter=0:   0%|            | 648/261825 [07:32<46:50:26,  1.55it/s]"
     ]
    },
    {
     "name": "stdout",
     "output_type": "stream",
     "text": [
      "Train: [648/261825/7788]\tepoch: 0\titer: 648\tTime: 0.656 (0.740)\tData: 0.297 (0.406)\tLoss: 362.7644 (290.0894)\tPrec@1: 0.000 (3.338)\tPrec@5: 0.000 (5.380)\tlr 0.100000\n"
     ]
    },
    {
     "name": "stderr",
     "output_type": "stream",
     "text": [
      "\n",
      "Train epoch=0, iter=0:   0%|            | 649/261825 [07:33<47:03:39,  1.54it/s]"
     ]
    },
    {
     "name": "stdout",
     "output_type": "stream",
     "text": [
      "Train: [649/261825/7800]\tepoch: 0\titer: 649\tTime: 0.680 (0.740)\tData: 0.297 (0.406)\tLoss: 319.6951 (290.1349)\tPrec@1: 0.000 (3.333)\tPrec@5: 8.333 (5.385)\tlr 0.100000\n"
     ]
    },
    {
     "name": "stderr",
     "output_type": "stream",
     "text": [
      "\n",
      "Train epoch=0, iter=0:   0%|            | 650/261825 [07:34<47:45:07,  1.52it/s]"
     ]
    },
    {
     "name": "stdout",
     "output_type": "stream",
     "text": [
      "Train: [650/261825/7812]\tepoch: 0\titer: 650\tTime: 0.627 (0.740)\tData: 0.297 (0.406)\tLoss: 327.8327 (290.1928)\tPrec@1: 8.333 (3.341)\tPrec@5: 8.333 (5.389)\tlr 0.100000\n"
     ]
    },
    {
     "name": "stderr",
     "output_type": "stream",
     "text": [
      "\n",
      "Train epoch=0, iter=0:   0%|            | 651/261825 [07:34<47:04:25,  1.54it/s]"
     ]
    },
    {
     "name": "stdout",
     "output_type": "stream",
     "text": [
      "Train: [651/261825/7824]\tepoch: 0\titer: 651\tTime: 0.661 (0.740)\tData: 0.297 (0.406)\tLoss: 329.8477 (290.2536)\tPrec@1: 0.000 (3.336)\tPrec@5: 0.000 (5.381)\tlr 0.100000\n"
     ]
    },
    {
     "name": "stderr",
     "output_type": "stream",
     "text": [
      "\n",
      "Train epoch=0, iter=0:   0%|            | 652/261825 [07:35<47:20:35,  1.53it/s]"
     ]
    },
    {
     "name": "stdout",
     "output_type": "stream",
     "text": [
      "Train: [652/261825/7836]\tepoch: 0\titer: 652\tTime: 0.618 (0.740)\tData: 0.297 (0.405)\tLoss: 322.0940 (290.3024)\tPrec@1: 0.000 (3.331)\tPrec@5: 0.000 (5.373)\tlr 0.100000\n"
     ]
    },
    {
     "name": "stderr",
     "output_type": "stream",
     "text": [
      "\n",
      "Train epoch=0, iter=0:   0%|            | 653/261825 [07:36<48:05:57,  1.51it/s]"
     ]
    },
    {
     "name": "stdout",
     "output_type": "stream",
     "text": [
      "Train: [653/261825/7848]\tepoch: 0\titer: 653\tTime: 0.676 (0.740)\tData: 0.367 (0.405)\tLoss: 293.8907 (290.3079)\tPrec@1: 8.333 (3.338)\tPrec@5: 8.333 (5.377)\tlr 0.100000\n"
     ]
    },
    {
     "name": "stderr",
     "output_type": "stream",
     "text": [
      "\n",
      "Train epoch=0, iter=0:   0%|            | 654/261825 [07:36<46:55:58,  1.55it/s]"
     ]
    },
    {
     "name": "stdout",
     "output_type": "stream",
     "text": [
      "Train: [654/261825/7860]\tepoch: 0\titer: 654\tTime: 0.601 (0.740)\tData: 0.300 (0.405)\tLoss: 256.9594 (290.2570)\tPrec@1: 0.000 (3.333)\tPrec@5: 8.333 (5.382)\tlr 0.100000\n"
     ]
    },
    {
     "name": "stderr",
     "output_type": "stream",
     "text": [
      "\n",
      "Train epoch=0, iter=0:   0%|            | 655/261825 [07:37<45:52:42,  1.58it/s]"
     ]
    },
    {
     "name": "stdout",
     "output_type": "stream",
     "text": [
      "Train: [655/261825/7872]\tepoch: 0\titer: 655\tTime: 0.611 (0.739)\tData: 0.297 (0.405)\tLoss: 321.4828 (290.3046)\tPrec@1: 0.000 (3.328)\tPrec@5: 8.333 (5.386)\tlr 0.100000\n"
     ]
    },
    {
     "name": "stderr",
     "output_type": "stream",
     "text": [
      "\n",
      "Train epoch=0, iter=0:   0%|            | 656/261825 [07:37<45:39:59,  1.59it/s]"
     ]
    },
    {
     "name": "stdout",
     "output_type": "stream",
     "text": [
      "Train: [656/261825/7884]\tepoch: 0\titer: 656\tTime: 0.618 (0.739)\tData: 0.311 (0.405)\tLoss: 367.8396 (290.4226)\tPrec@1: 0.000 (3.323)\tPrec@5: 0.000 (5.378)\tlr 0.100000\n"
     ]
    },
    {
     "name": "stderr",
     "output_type": "stream",
     "text": [
      "\n",
      "Train epoch=0, iter=0:   0%|            | 657/261825 [07:38<45:13:46,  1.60it/s]"
     ]
    },
    {
     "name": "stdout",
     "output_type": "stream",
     "text": [
      "Train: [657/261825/7896]\tepoch: 0\titer: 657\tTime: 0.611 (0.739)\tData: 0.302 (0.405)\tLoss: 276.2235 (290.4010)\tPrec@1: 16.667 (3.343)\tPrec@5: 16.667 (5.395)\tlr 0.100000\n"
     ]
    },
    {
     "name": "stderr",
     "output_type": "stream",
     "text": [
      "\n",
      "Train epoch=0, iter=0:   0%|            | 658/261825 [07:39<44:57:58,  1.61it/s]"
     ]
    },
    {
     "name": "stdout",
     "output_type": "stream",
     "text": [
      "Train: [658/261825/7908]\tepoch: 0\titer: 658\tTime: 0.596 (0.739)\tData: 0.300 (0.405)\tLoss: 257.0517 (290.3504)\tPrec@1: 8.333 (3.351)\tPrec@5: 16.667 (5.412)\tlr 0.100000\n"
     ]
    },
    {
     "name": "stderr",
     "output_type": "stream",
     "text": [
      "\n",
      "Train epoch=0, iter=0:   0%|            | 659/261825 [07:39<44:43:11,  1.62it/s]"
     ]
    },
    {
     "name": "stdout",
     "output_type": "stream",
     "text": [
      "Train: [659/261825/7920]\tepoch: 0\titer: 659\tTime: 0.620 (0.739)\tData: 0.313 (0.405)\tLoss: 274.4989 (290.3264)\tPrec@1: 0.000 (3.346)\tPrec@5: 8.333 (5.417)\tlr 0.100000\n"
     ]
    },
    {
     "name": "stderr",
     "output_type": "stream",
     "text": [
      "\n",
      "Train epoch=0, iter=0:   0%|            | 660/261825 [07:40<44:27:21,  1.63it/s]"
     ]
    },
    {
     "name": "stdout",
     "output_type": "stream",
     "text": [
      "Train: [660/261825/7932]\tepoch: 0\titer: 660\tTime: 1.401 (0.740)\tData: 1.002 (0.405)\tLoss: 243.9951 (290.2563)\tPrec@1: 25.000 (3.379)\tPrec@5: 25.000 (5.446)\tlr 0.100000\n"
     ]
    },
    {
     "name": "stderr",
     "output_type": "stream",
     "text": [
      "\n",
      "Train epoch=0, iter=0:   0%|            | 661/261825 [07:41<61:42:31,  1.18it/s]"
     ]
    },
    {
     "name": "stdout",
     "output_type": "stream",
     "text": [
      "Train: [661/261825/7944]\tepoch: 0\titer: 661\tTime: 0.707 (0.740)\tData: 0.304 (0.405)\tLoss: 305.3206 (290.2791)\tPrec@1: 0.000 (3.374)\tPrec@5: 8.333 (5.451)\tlr 0.100000\n"
     ]
    },
    {
     "name": "stderr",
     "output_type": "stream",
     "text": [
      "\n",
      "Train epoch=0, iter=0:   0%|            | 662/261825 [07:42<58:00:50,  1.25it/s]"
     ]
    },
    {
     "name": "stdout",
     "output_type": "stream",
     "text": [
      "Train: [662/261825/7956]\tepoch: 0\titer: 662\tTime: 0.615 (0.739)\tData: 0.276 (0.405)\tLoss: 309.8484 (290.3086)\tPrec@1: 0.000 (3.369)\tPrec@5: 8.333 (5.455)\tlr 0.100000\n"
     ]
    },
    {
     "name": "stderr",
     "output_type": "stream",
     "text": [
      "\n",
      "Train epoch=0, iter=0:   0%|            | 663/261825 [07:42<54:02:50,  1.34it/s]"
     ]
    },
    {
     "name": "stdout",
     "output_type": "stream",
     "text": [
      "Train: [663/261825/7968]\tepoch: 0\titer: 663\tTime: 0.632 (0.739)\tData: 0.280 (0.405)\tLoss: 347.2070 (290.3943)\tPrec@1: 0.000 (3.363)\tPrec@5: 0.000 (5.447)\tlr 0.100000\n"
     ]
    },
    {
     "name": "stderr",
     "output_type": "stream",
     "text": [
      "\n",
      "Train epoch=0, iter=0:   0%|            | 664/261825 [07:43<51:30:36,  1.41it/s]"
     ]
    },
    {
     "name": "stdout",
     "output_type": "stream",
     "text": [
      "Train: [664/261825/7980]\tepoch: 0\titer: 664\tTime: 0.612 (0.739)\tData: 0.274 (0.405)\tLoss: 273.9186 (290.3695)\tPrec@1: 8.333 (3.371)\tPrec@5: 8.333 (5.451)\tlr 0.100000\n"
     ]
    },
    {
     "name": "stderr",
     "output_type": "stream",
     "text": [
      "\n",
      "Train epoch=0, iter=0:   0%|            | 665/261825 [07:44<49:23:00,  1.47it/s]"
     ]
    },
    {
     "name": "stdout",
     "output_type": "stream",
     "text": [
      "Train: [665/261825/7992]\tepoch: 0\titer: 665\tTime: 0.620 (0.739)\tData: 0.275 (0.404)\tLoss: 309.8163 (290.3987)\tPrec@1: 8.333 (3.378)\tPrec@5: 8.333 (5.455)\tlr 0.100000\n"
     ]
    },
    {
     "name": "stderr",
     "output_type": "stream",
     "text": [
      "\n",
      "Train epoch=0, iter=0:   0%|            | 666/261825 [07:44<48:28:47,  1.50it/s]"
     ]
    },
    {
     "name": "stdout",
     "output_type": "stream",
     "text": [
      "Train: [666/261825/8004]\tepoch: 0\titer: 666\tTime: 0.613 (0.739)\tData: 0.303 (0.404)\tLoss: 322.6372 (290.4470)\tPrec@1: 0.000 (3.373)\tPrec@5: 0.000 (5.447)\tlr 0.100000\n"
     ]
    },
    {
     "name": "stderr",
     "output_type": "stream",
     "text": [
      "\n",
      "Train epoch=0, iter=0:   0%|            | 667/261825 [07:45<47:23:16,  1.53it/s]"
     ]
    },
    {
     "name": "stdout",
     "output_type": "stream",
     "text": [
      "Train: [667/261825/8016]\tepoch: 0\titer: 667\tTime: 0.601 (0.738)\tData: 0.297 (0.404)\tLoss: 316.6014 (290.4862)\tPrec@1: 0.000 (3.368)\tPrec@5: 0.000 (5.439)\tlr 0.100000\n"
     ]
    },
    {
     "name": "stderr",
     "output_type": "stream",
     "text": [
      "\n",
      "Train epoch=0, iter=0:   0%|            | 668/261825 [07:46<46:15:34,  1.57it/s]"
     ]
    },
    {
     "name": "stdout",
     "output_type": "stream",
     "text": [
      "Train: [668/261825/8028]\tepoch: 0\titer: 668\tTime: 0.623 (0.738)\tData: 0.312 (0.404)\tLoss: 287.5113 (290.4818)\tPrec@1: 0.000 (3.363)\tPrec@5: 0.000 (5.431)\tlr 0.100000\n"
     ]
    },
    {
     "name": "stderr",
     "output_type": "stream",
     "text": [
      "\n",
      "Train epoch=0, iter=0:   0%|            | 669/261825 [07:46<46:16:30,  1.57it/s]"
     ]
    },
    {
     "name": "stdout",
     "output_type": "stream",
     "text": [
      "Train: [669/261825/8040]\tepoch: 0\titer: 669\tTime: 0.650 (0.738)\tData: 0.312 (0.404)\tLoss: 336.6438 (290.5507)\tPrec@1: 0.000 (3.358)\tPrec@5: 8.333 (5.435)\tlr 0.100000\n"
     ]
    },
    {
     "name": "stderr",
     "output_type": "stream",
     "text": [
      "\n",
      "Train epoch=0, iter=0:   0%|            | 670/261825 [07:47<46:16:29,  1.57it/s]"
     ]
    },
    {
     "name": "stdout",
     "output_type": "stream",
     "text": [
      "Train: [670/261825/8052]\tepoch: 0\titer: 670\tTime: 0.652 (0.738)\tData: 0.302 (0.404)\tLoss: 274.3799 (290.5266)\tPrec@1: 8.333 (3.366)\tPrec@5: 8.333 (5.440)\tlr 0.100000\n"
     ]
    },
    {
     "name": "stderr",
     "output_type": "stream",
     "text": [
      "\n",
      "Train epoch=0, iter=0:   0%|            | 671/261825 [07:47<46:25:40,  1.56it/s]"
     ]
    },
    {
     "name": "stdout",
     "output_type": "stream",
     "text": [
      "Train: [671/261825/8064]\tepoch: 0\titer: 671\tTime: 0.612 (0.738)\tData: 0.293 (0.404)\tLoss: 335.7480 (290.5939)\tPrec@1: 0.000 (3.361)\tPrec@5: 8.333 (5.444)\tlr 0.100000\n"
     ]
    },
    {
     "name": "stderr",
     "output_type": "stream",
     "text": [
      "\n",
      "Train epoch=0, iter=0:   0%|            | 672/261825 [07:48<45:54:55,  1.58it/s]"
     ]
    },
    {
     "name": "stdout",
     "output_type": "stream",
     "text": [
      "Train: [672/261825/8076]\tepoch: 0\titer: 672\tTime: 0.684 (0.738)\tData: 0.297 (0.403)\tLoss: 262.7088 (290.5524)\tPrec@1: 0.000 (3.356)\tPrec@5: 8.333 (5.448)\tlr 0.100000\n"
     ]
    },
    {
     "name": "stderr",
     "output_type": "stream",
     "text": [
      "\n",
      "Train epoch=0, iter=0:   0%|            | 673/261825 [07:49<47:07:00,  1.54it/s]"
     ]
    },
    {
     "name": "stdout",
     "output_type": "stream",
     "text": [
      "Train: [673/261825/8088]\tepoch: 0\titer: 673\tTime: 0.664 (0.738)\tData: 0.303 (0.403)\tLoss: 262.9595 (290.5114)\tPrec@1: 8.333 (3.363)\tPrec@5: 8.333 (5.453)\tlr 0.100000\n"
     ]
    },
    {
     "name": "stderr",
     "output_type": "stream",
     "text": [
      "\n",
      "Train epoch=0, iter=0:   0%|            | 674/261825 [07:49<47:26:52,  1.53it/s]"
     ]
    },
    {
     "name": "stdout",
     "output_type": "stream",
     "text": [
      "Train: [674/261825/8100]\tepoch: 0\titer: 674\tTime: 0.655 (0.738)\tData: 0.301 (0.403)\tLoss: 242.3162 (290.4401)\tPrec@1: 8.333 (3.370)\tPrec@5: 8.333 (5.457)\tlr 0.100000\n"
     ]
    },
    {
     "name": "stderr",
     "output_type": "stream",
     "text": [
      "\n",
      "Train epoch=0, iter=0:   0%|            | 675/261825 [07:50<47:22:06,  1.53it/s]"
     ]
    },
    {
     "name": "stdout",
     "output_type": "stream",
     "text": [
      "Train: [675/261825/8112]\tepoch: 0\titer: 675\tTime: 0.649 (0.737)\tData: 0.312 (0.403)\tLoss: 286.1089 (290.4337)\tPrec@1: 8.333 (3.378)\tPrec@5: 8.333 (5.461)\tlr 0.100000\n"
     ]
    },
    {
     "name": "stderr",
     "output_type": "stream",
     "text": [
      "\n",
      "Train epoch=0, iter=0:   0%|            | 676/261825 [07:51<47:21:53,  1.53it/s]"
     ]
    },
    {
     "name": "stdout",
     "output_type": "stream",
     "text": [
      "Train: [676/261825/8124]\tepoch: 0\titer: 676\tTime: 0.643 (0.737)\tData: 0.303 (0.403)\tLoss: 315.3093 (290.4704)\tPrec@1: 0.000 (3.373)\tPrec@5: 0.000 (5.453)\tlr 0.100000\n"
     ]
    },
    {
     "name": "stderr",
     "output_type": "stream",
     "text": [
      "\n",
      "Train epoch=0, iter=0:   0%|            | 677/261825 [07:51<47:10:48,  1.54it/s]"
     ]
    },
    {
     "name": "stdout",
     "output_type": "stream",
     "text": [
      "Train: [677/261825/8136]\tepoch: 0\titer: 677\tTime: 0.616 (0.737)\tData: 0.304 (0.403)\tLoss: 316.8664 (290.5093)\tPrec@1: 0.000 (3.368)\tPrec@5: 0.000 (5.445)\tlr 0.100000\n"
     ]
    },
    {
     "name": "stderr",
     "output_type": "stream",
     "text": [
      "\n",
      "Train epoch=0, iter=0:   0%|            | 678/261825 [07:52<46:27:46,  1.56it/s]"
     ]
    },
    {
     "name": "stdout",
     "output_type": "stream",
     "text": [
      "Train: [678/261825/8148]\tepoch: 0\titer: 678\tTime: 0.659 (0.737)\tData: 0.305 (0.403)\tLoss: 223.9017 (290.4112)\tPrec@1: 16.667 (3.387)\tPrec@5: 16.667 (5.461)\tlr 0.100000\n"
     ]
    },
    {
     "name": "stderr",
     "output_type": "stream",
     "text": [
      "\n",
      "Train epoch=0, iter=0:   0%|            | 679/261825 [07:53<46:44:23,  1.55it/s]"
     ]
    },
    {
     "name": "stdout",
     "output_type": "stream",
     "text": [
      "Train: [679/261825/8160]\tepoch: 0\titer: 679\tTime: 0.628 (0.737)\tData: 0.312 (0.402)\tLoss: 252.3609 (290.3553)\tPrec@1: 8.333 (3.395)\tPrec@5: 8.333 (5.466)\tlr 0.100000\n"
     ]
    },
    {
     "name": "stderr",
     "output_type": "stream",
     "text": [
      "\n",
      "Train epoch=0, iter=0:   0%|            | 680/261825 [07:53<46:43:53,  1.55it/s]"
     ]
    },
    {
     "name": "stdout",
     "output_type": "stream",
     "text": [
      "Train: [680/261825/8172]\tepoch: 0\titer: 680\tTime: 0.631 (0.737)\tData: 0.316 (0.402)\tLoss: 328.5965 (290.4114)\tPrec@1: 0.000 (3.390)\tPrec@5: 0.000 (5.458)\tlr 0.100000\n"
     ]
    },
    {
     "name": "stderr",
     "output_type": "stream",
     "text": [
      "\n",
      "Train epoch=0, iter=0:   0%|            | 681/261825 [07:54<46:06:28,  1.57it/s]"
     ]
    },
    {
     "name": "stdout",
     "output_type": "stream",
     "text": [
      "Train: [681/261825/8184]\tepoch: 0\titer: 681\tTime: 0.606 (0.736)\tData: 0.297 (0.402)\tLoss: 253.0460 (290.3566)\tPrec@1: 16.667 (3.409)\tPrec@5: 16.667 (5.474)\tlr 0.100000\n"
     ]
    },
    {
     "name": "stderr",
     "output_type": "stream",
     "text": [
      "\n",
      "Train epoch=0, iter=0:   0%|            | 682/261825 [07:55<45:35:47,  1.59it/s]"
     ]
    },
    {
     "name": "stdout",
     "output_type": "stream",
     "text": [
      "Train: [682/261825/8196]\tepoch: 0\titer: 682\tTime: 0.648 (0.736)\tData: 0.306 (0.402)\tLoss: 325.0298 (290.4074)\tPrec@1: 0.000 (3.404)\tPrec@5: 0.000 (5.466)\tlr 0.100000\n"
     ]
    },
    {
     "name": "stderr",
     "output_type": "stream",
     "text": [
      "\n",
      "Train epoch=0, iter=0:   0%|            | 683/261825 [07:55<45:59:42,  1.58it/s]"
     ]
    },
    {
     "name": "stdout",
     "output_type": "stream",
     "text": [
      "Train: [683/261825/8208]\tepoch: 0\titer: 683\tTime: 0.609 (0.736)\tData: 0.304 (0.402)\tLoss: 380.4232 (290.5390)\tPrec@1: 0.000 (3.399)\tPrec@5: 0.000 (5.458)\tlr 0.100000\n"
     ]
    },
    {
     "name": "stderr",
     "output_type": "stream",
     "text": [
      "\n",
      "Train epoch=0, iter=0:   0%|            | 684/261825 [07:56<45:21:21,  1.60it/s]"
     ]
    },
    {
     "name": "stdout",
     "output_type": "stream",
     "text": [
      "Train: [684/261825/8220]\tepoch: 0\titer: 684\tTime: 0.628 (0.736)\tData: 0.297 (0.402)\tLoss: 222.5224 (290.4397)\tPrec@1: 8.333 (3.406)\tPrec@5: 16.667 (5.474)\tlr 0.100000\n"
     ]
    },
    {
     "name": "stderr",
     "output_type": "stream",
     "text": [
      "\n",
      "Train epoch=0, iter=0:   0%|            | 685/261825 [07:56<45:37:45,  1.59it/s]"
     ]
    },
    {
     "name": "stdout",
     "output_type": "stream",
     "text": [
      "Train: [685/261825/8232]\tepoch: 0\titer: 685\tTime: 0.665 (0.736)\tData: 0.309 (0.402)\tLoss: 242.8113 (290.3703)\tPrec@1: 25.000 (3.438)\tPrec@5: 25.000 (5.503)\tlr 0.100000\n"
     ]
    },
    {
     "name": "stderr",
     "output_type": "stream",
     "text": [
      "\n",
      "Train epoch=0, iter=0:   0%|            | 686/261825 [07:57<46:14:52,  1.57it/s]"
     ]
    },
    {
     "name": "stdout",
     "output_type": "stream",
     "text": [
      "Train: [686/261825/8244]\tepoch: 0\titer: 686\tTime: 0.615 (0.736)\tData: 0.302 (0.401)\tLoss: 267.8202 (290.3374)\tPrec@1: 0.000 (3.433)\tPrec@5: 0.000 (5.495)\tlr 0.100000\n"
     ]
    },
    {
     "name": "stderr",
     "output_type": "stream",
     "text": [
      "\n",
      "Train epoch=0, iter=0:   0%|            | 687/261825 [07:58<46:02:28,  1.58it/s]"
     ]
    },
    {
     "name": "stdout",
     "output_type": "stream",
     "text": [
      "Train: [687/261825/8256]\tepoch: 0\titer: 687\tTime: 0.676 (0.736)\tData: 0.312 (0.401)\tLoss: 282.5204 (290.3260)\tPrec@1: 0.000 (3.428)\tPrec@5: 8.333 (5.499)\tlr 0.100000\n"
     ]
    },
    {
     "name": "stderr",
     "output_type": "stream",
     "text": [
      "\n",
      "Train epoch=0, iter=0:   0%|            | 688/261825 [07:58<46:36:03,  1.56it/s]"
     ]
    },
    {
     "name": "stdout",
     "output_type": "stream",
     "text": [
      "Train: [688/261825/8268]\tepoch: 0\titer: 688\tTime: 0.608 (0.735)\tData: 0.309 (0.401)\tLoss: 295.0005 (290.3329)\tPrec@1: 8.333 (3.435)\tPrec@5: 16.667 (5.515)\tlr 0.100000\n"
     ]
    },
    {
     "name": "stderr",
     "output_type": "stream",
     "text": [
      "\n",
      "Train epoch=0, iter=0:   0%|            | 689/261825 [07:59<46:11:48,  1.57it/s]"
     ]
    },
    {
     "name": "stdout",
     "output_type": "stream",
     "text": [
      "Train: [689/261825/8280]\tepoch: 0\titer: 689\tTime: 0.706 (0.735)\tData: 0.312 (0.401)\tLoss: 320.3862 (290.3764)\tPrec@1: 0.000 (3.430)\tPrec@5: 0.000 (5.507)\tlr 0.100000\n"
     ]
    },
    {
     "name": "stderr",
     "output_type": "stream",
     "text": [
      "\n",
      "Train epoch=0, iter=0:   0%|            | 690/261825 [08:00<47:26:03,  1.53it/s]"
     ]
    },
    {
     "name": "stdout",
     "output_type": "stream",
     "text": [
      "Train: [690/261825/8292]\tepoch: 0\titer: 690\tTime: 0.633 (0.735)\tData: 0.303 (0.401)\tLoss: 353.9962 (290.4685)\tPrec@1: 0.000 (3.425)\tPrec@5: 0.000 (5.499)\tlr 0.100000\n"
     ]
    },
    {
     "name": "stderr",
     "output_type": "stream",
     "text": [
      "\n",
      "Train epoch=0, iter=0:   0%|            | 691/261825 [08:00<46:57:12,  1.54it/s]"
     ]
    },
    {
     "name": "stdout",
     "output_type": "stream",
     "text": [
      "Train: [691/261825/8304]\tepoch: 0\titer: 691\tTime: 0.647 (0.735)\tData: 0.303 (0.401)\tLoss: 255.6179 (290.4182)\tPrec@1: 8.333 (3.432)\tPrec@5: 8.333 (5.503)\tlr 0.100000\n"
     ]
    },
    {
     "name": "stderr",
     "output_type": "stream",
     "text": [
      "\n",
      "Train epoch=0, iter=0:   0%|            | 692/261825 [08:01<46:55:08,  1.55it/s]"
     ]
    },
    {
     "name": "stdout",
     "output_type": "stream",
     "text": [
      "Train: [692/261825/8316]\tepoch: 0\titer: 692\tTime: 0.613 (0.735)\tData: 0.297 (0.401)\tLoss: 325.4472 (290.4687)\tPrec@1: 0.000 (3.427)\tPrec@5: 0.000 (5.495)\tlr 0.100000\n"
     ]
    },
    {
     "name": "stderr",
     "output_type": "stream",
     "text": [
      "\n",
      "Train epoch=0, iter=0:   0%|            | 693/261825 [08:02<46:11:33,  1.57it/s]"
     ]
    },
    {
     "name": "stdout",
     "output_type": "stream",
     "text": [
      "Train: [693/261825/8328]\tepoch: 0\titer: 693\tTime: 0.676 (0.735)\tData: 0.312 (0.400)\tLoss: 314.6201 (290.5035)\tPrec@1: 8.333 (3.434)\tPrec@5: 8.333 (5.500)\tlr 0.100000\n"
     ]
    },
    {
     "name": "stderr",
     "output_type": "stream",
     "text": [
      "\n",
      "Train epoch=0, iter=0:   0%|            | 694/261825 [08:02<47:26:35,  1.53it/s]"
     ]
    },
    {
     "name": "stdout",
     "output_type": "stream",
     "text": [
      "Train: [694/261825/8340]\tepoch: 0\titer: 694\tTime: 0.659 (0.735)\tData: 0.315 (0.400)\tLoss: 253.6075 (290.4504)\tPrec@1: 25.000 (3.465)\tPrec@5: 25.000 (5.528)\tlr 0.100000\n"
     ]
    },
    {
     "name": "stderr",
     "output_type": "stream",
     "text": [
      "\n",
      "Train epoch=0, iter=0:   0%|            | 695/261825 [08:03<47:09:25,  1.54it/s]"
     ]
    },
    {
     "name": "stdout",
     "output_type": "stream",
     "text": [
      "Train: [695/261825/8352]\tepoch: 0\titer: 695\tTime: 0.665 (0.735)\tData: 0.297 (0.400)\tLoss: 280.8538 (290.4366)\tPrec@1: 8.333 (3.472)\tPrec@5: 8.333 (5.532)\tlr 0.100000\n"
     ]
    },
    {
     "name": "stderr",
     "output_type": "stream",
     "text": [
      "\n",
      "Train epoch=0, iter=0:   0%|            | 696/261825 [08:04<47:49:18,  1.52it/s]"
     ]
    },
    {
     "name": "stdout",
     "output_type": "stream",
     "text": [
      "Train: [696/261825/8364]\tepoch: 0\titer: 696\tTime: 0.658 (0.735)\tData: 0.325 (0.400)\tLoss: 307.0404 (290.4604)\tPrec@1: 8.333 (3.479)\tPrec@5: 8.333 (5.536)\tlr 0.100000\n"
     ]
    },
    {
     "name": "stderr",
     "output_type": "stream",
     "text": [
      "\n",
      "Train epoch=0, iter=0:   0%|            | 697/261825 [08:04<47:47:40,  1.52it/s]"
     ]
    },
    {
     "name": "stdout",
     "output_type": "stream",
     "text": [
      "Train: [697/261825/8376]\tepoch: 0\titer: 697\tTime: 0.679 (0.734)\tData: 0.315 (0.400)\tLoss: 276.4672 (290.4404)\tPrec@1: 8.333 (3.486)\tPrec@5: 8.333 (5.540)\tlr 0.100000\n"
     ]
    },
    {
     "name": "stderr",
     "output_type": "stream",
     "text": [
      "\n",
      "Train epoch=0, iter=0:   0%|            | 698/261825 [08:05<47:53:33,  1.51it/s]"
     ]
    },
    {
     "name": "stdout",
     "output_type": "stream",
     "text": [
      "Train: [698/261825/8388]\tepoch: 0\titer: 698\tTime: 0.627 (0.734)\tData: 0.314 (0.400)\tLoss: 256.3133 (290.3915)\tPrec@1: 8.333 (3.493)\tPrec@5: 25.000 (5.567)\tlr 0.100000\n"
     ]
    },
    {
     "name": "stderr",
     "output_type": "stream",
     "text": [
      "\n",
      "Train epoch=0, iter=0:   0%|            | 699/261825 [08:06<47:10:13,  1.54it/s]"
     ]
    },
    {
     "name": "stdout",
     "output_type": "stream",
     "text": [
      "Train: [699/261825/8400]\tepoch: 0\titer: 699\tTime: 0.626 (0.734)\tData: 0.307 (0.400)\tLoss: 299.7338 (290.4049)\tPrec@1: 8.333 (3.500)\tPrec@5: 8.333 (5.571)\tlr 0.100000\n"
     ]
    },
    {
     "name": "stderr",
     "output_type": "stream",
     "text": [
      "\n",
      "Train epoch=0, iter=0:   0%|            | 700/261825 [08:06<46:38:16,  1.56it/s]"
     ]
    },
    {
     "name": "stdout",
     "output_type": "stream",
     "text": [
      "Train: [700/261825/8412]\tepoch: 0\titer: 700\tTime: 0.638 (0.734)\tData: 0.307 (0.400)\tLoss: 304.5241 (290.4250)\tPrec@1: 8.333 (3.507)\tPrec@5: 8.333 (5.575)\tlr 0.100000\n"
     ]
    },
    {
     "name": "stderr",
     "output_type": "stream",
     "text": [
      "\n",
      "Train epoch=0, iter=0:   0%|            | 701/261825 [08:07<47:13:08,  1.54it/s]"
     ]
    },
    {
     "name": "stdout",
     "output_type": "stream",
     "text": [
      "Train: [701/261825/8424]\tepoch: 0\titer: 701\tTime: 0.693 (0.734)\tData: 0.330 (0.399)\tLoss: 319.0621 (290.4658)\tPrec@1: 8.333 (3.514)\tPrec@5: 8.333 (5.579)\tlr 0.100000\n"
     ]
    },
    {
     "name": "stderr",
     "output_type": "stream",
     "text": [
      "\n",
      "Train epoch=0, iter=0:   0%|            | 702/261825 [08:08<47:29:26,  1.53it/s]"
     ]
    },
    {
     "name": "stdout",
     "output_type": "stream",
     "text": [
      "Train: [702/261825/8436]\tepoch: 0\titer: 702\tTime: 0.610 (0.734)\tData: 0.301 (0.399)\tLoss: 235.1200 (290.3871)\tPrec@1: 8.333 (3.521)\tPrec@5: 33.333 (5.619)\tlr 0.100000\n"
     ]
    },
    {
     "name": "stderr",
     "output_type": "stream",
     "text": [
      "\n",
      "Train epoch=0, iter=0:   0%|            | 703/261825 [08:08<46:30:16,  1.56it/s]"
     ]
    },
    {
     "name": "stdout",
     "output_type": "stream",
     "text": [
      "Train: [703/261825/8448]\tepoch: 0\titer: 703\tTime: 0.609 (0.734)\tData: 0.300 (0.399)\tLoss: 268.0329 (290.3553)\tPrec@1: 0.000 (3.516)\tPrec@5: 16.667 (5.634)\tlr 0.100000\n"
     ]
    },
    {
     "name": "stderr",
     "output_type": "stream",
     "text": [
      "\n",
      "Train epoch=0, iter=0:   0%|            | 704/261825 [08:09<46:13:41,  1.57it/s]"
     ]
    },
    {
     "name": "stdout",
     "output_type": "stream",
     "text": [
      "Train: [704/261825/8460]\tepoch: 0\titer: 704\tTime: 0.638 (0.733)\tData: 0.319 (0.399)\tLoss: 351.8139 (290.4425)\tPrec@1: 8.333 (3.522)\tPrec@5: 16.667 (5.650)\tlr 0.100000\n"
     ]
    },
    {
     "name": "stderr",
     "output_type": "stream",
     "text": [
      "\n",
      "Train epoch=0, iter=0:   0%|            | 705/261825 [08:09<45:51:37,  1.58it/s]"
     ]
    },
    {
     "name": "stdout",
     "output_type": "stream",
     "text": [
      "Train: [705/261825/8472]\tepoch: 0\titer: 705\tTime: 0.608 (0.733)\tData: 0.300 (0.399)\tLoss: 230.8353 (290.3581)\tPrec@1: 0.000 (3.517)\tPrec@5: 8.333 (5.654)\tlr 0.100000\n"
     ]
    },
    {
     "name": "stderr",
     "output_type": "stream",
     "text": [
      "\n",
      "Train epoch=0, iter=0:   0%|            | 706/261825 [08:10<45:21:48,  1.60it/s]"
     ]
    },
    {
     "name": "stdout",
     "output_type": "stream",
     "text": [
      "Train: [706/261825/8484]\tepoch: 0\titer: 706\tTime: 0.615 (0.733)\tData: 0.301 (0.399)\tLoss: 345.7161 (290.4364)\tPrec@1: 0.000 (3.512)\tPrec@5: 0.000 (5.646)\tlr 0.100000\n"
     ]
    },
    {
     "name": "stderr",
     "output_type": "stream",
     "text": [
      "\n",
      "Train epoch=0, iter=0:   0%|            | 707/261825 [08:11<45:07:27,  1.61it/s]"
     ]
    },
    {
     "name": "stdout",
     "output_type": "stream",
     "text": [
      "Train: [707/261825/8496]\tepoch: 0\titer: 707\tTime: 0.639 (0.733)\tData: 0.300 (0.399)\tLoss: 302.1690 (290.4529)\tPrec@1: 0.000 (3.508)\tPrec@5: 8.333 (5.650)\tlr 0.100000\n"
     ]
    },
    {
     "name": "stderr",
     "output_type": "stream",
     "text": [
      "\n",
      "Train epoch=0, iter=0:   0%|            | 708/261825 [08:11<44:54:47,  1.61it/s]"
     ]
    },
    {
     "name": "stdout",
     "output_type": "stream",
     "text": [
      "Train: [708/261825/8508]\tepoch: 0\titer: 708\tTime: 0.648 (0.733)\tData: 0.274 (0.398)\tLoss: 280.3435 (290.4387)\tPrec@1: 0.000 (3.503)\tPrec@5: 8.333 (5.654)\tlr 0.100000\n"
     ]
    },
    {
     "name": "stderr",
     "output_type": "stream",
     "text": [
      "\n",
      "Train epoch=0, iter=0:   0%|            | 709/261825 [08:12<45:24:23,  1.60it/s]"
     ]
    },
    {
     "name": "stdout",
     "output_type": "stream",
     "text": [
      "Train: [709/261825/8520]\tepoch: 0\titer: 709\tTime: 0.690 (0.733)\tData: 0.283 (0.398)\tLoss: 288.3997 (290.4358)\tPrec@1: 0.000 (3.498)\tPrec@5: 8.333 (5.657)\tlr 0.100000\n"
     ]
    },
    {
     "name": "stderr",
     "output_type": "stream",
     "text": [
      "\n",
      "Train epoch=0, iter=0:   0%|            | 710/261825 [08:13<47:00:55,  1.54it/s]"
     ]
    },
    {
     "name": "stdout",
     "output_type": "stream",
     "text": [
      "Train: [710/261825/8532]\tepoch: 0\titer: 710\tTime: 0.627 (0.733)\tData: 0.288 (0.398)\tLoss: 258.4446 (290.3908)\tPrec@1: 8.333 (3.504)\tPrec@5: 8.333 (5.661)\tlr 0.100000\n"
     ]
    },
    {
     "name": "stderr",
     "output_type": "stream",
     "text": [
      "\n",
      "Train epoch=0, iter=0:   0%|            | 711/261825 [08:13<47:00:11,  1.54it/s]"
     ]
    },
    {
     "name": "stdout",
     "output_type": "stream",
     "text": [
      "Train: [711/261825/8544]\tepoch: 0\titer: 711\tTime: 0.605 (0.732)\tData: 0.309 (0.398)\tLoss: 298.2371 (290.4018)\tPrec@1: 8.333 (3.511)\tPrec@5: 16.667 (5.676)\tlr 0.100000\n"
     ]
    },
    {
     "name": "stderr",
     "output_type": "stream",
     "text": [
      "\n",
      "Train epoch=0, iter=0:   0%|            | 712/261825 [08:14<46:03:32,  1.57it/s]"
     ]
    },
    {
     "name": "stdout",
     "output_type": "stream",
     "text": [
      "Train: [712/261825/8556]\tepoch: 0\titer: 712\tTime: 0.671 (0.732)\tData: 0.314 (0.398)\tLoss: 237.5461 (290.3277)\tPrec@1: 16.667 (3.530)\tPrec@5: 33.333 (5.715)\tlr 0.100000\n"
     ]
    },
    {
     "name": "stderr",
     "output_type": "stream",
     "text": [
      "\n",
      "Train epoch=0, iter=0:   0%|            | 713/261825 [08:14<46:52:10,  1.55it/s]"
     ]
    },
    {
     "name": "stdout",
     "output_type": "stream",
     "text": [
      "Train: [713/261825/8568]\tepoch: 0\titer: 713\tTime: 0.646 (0.732)\tData: 0.298 (0.398)\tLoss: 339.4462 (290.3965)\tPrec@1: 8.333 (3.536)\tPrec@5: 8.333 (5.719)\tlr 0.100000\n"
     ]
    },
    {
     "name": "stderr",
     "output_type": "stream",
     "text": [
      "\n",
      "Train epoch=0, iter=0:   0%|            | 714/261825 [08:15<46:50:35,  1.55it/s]"
     ]
    },
    {
     "name": "stdout",
     "output_type": "stream",
     "text": [
      "Train: [714/261825/8580]\tepoch: 0\titer: 714\tTime: 0.670 (0.732)\tData: 0.297 (0.398)\tLoss: 195.1640 (290.2632)\tPrec@1: 33.333 (3.578)\tPrec@5: 41.667 (5.769)\tlr 0.100000\n"
     ]
    },
    {
     "name": "stderr",
     "output_type": "stream",
     "text": [
      "\n",
      "Train epoch=0, iter=0:   0%|            | 715/261825 [08:16<47:22:01,  1.53it/s]"
     ]
    },
    {
     "name": "stdout",
     "output_type": "stream",
     "text": [
      "Train: [715/261825/8592]\tepoch: 0\titer: 715\tTime: 0.628 (0.732)\tData: 0.297 (0.398)\tLoss: 291.3601 (290.2648)\tPrec@1: 0.000 (3.573)\tPrec@5: 0.000 (5.761)\tlr 0.100000\n"
     ]
    },
    {
     "name": "stderr",
     "output_type": "stream",
     "text": [
      "\n",
      "Train epoch=0, iter=0:   0%|            | 716/261825 [08:16<46:59:32,  1.54it/s]"
     ]
    },
    {
     "name": "stdout",
     "output_type": "stream",
     "text": [
      "Train: [716/261825/8604]\tepoch: 0\titer: 716\tTime: 0.649 (0.732)\tData: 0.307 (0.397)\tLoss: 364.0707 (290.3677)\tPrec@1: 0.000 (3.568)\tPrec@5: 0.000 (5.753)\tlr 0.100000\n"
     ]
    },
    {
     "name": "stderr",
     "output_type": "stream",
     "text": [
      "\n",
      "Train epoch=0, iter=0:   0%|            | 717/261825 [08:17<46:55:02,  1.55it/s]"
     ]
    },
    {
     "name": "stdout",
     "output_type": "stream",
     "text": [
      "Train: [717/261825/8616]\tepoch: 0\titer: 717\tTime: 0.625 (0.732)\tData: 0.302 (0.397)\tLoss: 263.5089 (290.3303)\tPrec@1: 16.667 (3.586)\tPrec@5: 16.667 (5.768)\tlr 0.100000\n"
     ]
    },
    {
     "name": "stderr",
     "output_type": "stream",
     "text": [
      "\n",
      "Train epoch=0, iter=0:   0%|            | 718/261825 [08:18<46:42:29,  1.55it/s]"
     ]
    },
    {
     "name": "stdout",
     "output_type": "stream",
     "text": [
      "Train: [718/261825/8628]\tepoch: 0\titer: 718\tTime: 0.678 (0.732)\tData: 0.312 (0.397)\tLoss: 176.9330 (290.1726)\tPrec@1: 0.000 (3.581)\tPrec@5: 8.333 (5.772)\tlr 0.100000\n"
     ]
    },
    {
     "name": "stderr",
     "output_type": "stream",
     "text": [
      "\n",
      "Train epoch=0, iter=0:   0%|            | 719/261825 [08:18<47:09:58,  1.54it/s]"
     ]
    },
    {
     "name": "stdout",
     "output_type": "stream",
     "text": [
      "Train: [719/261825/8640]\tepoch: 0\titer: 719\tTime: 0.615 (0.732)\tData: 0.313 (0.397)\tLoss: 309.0409 (290.1988)\tPrec@1: 8.333 (3.588)\tPrec@5: 8.333 (5.775)\tlr 0.100000\n"
     ]
    },
    {
     "name": "stderr",
     "output_type": "stream",
     "text": [
      "\n",
      "Train epoch=0, iter=0:   0%|            | 720/261825 [08:19<46:21:23,  1.56it/s]"
     ]
    },
    {
     "name": "stdout",
     "output_type": "stream",
     "text": [
      "Train: [720/261825/8652]\tepoch: 0\titer: 720\tTime: 0.613 (0.731)\tData: 0.307 (0.397)\tLoss: 313.4314 (290.2310)\tPrec@1: 0.000 (3.583)\tPrec@5: 8.333 (5.779)\tlr 0.100000\n"
     ]
    },
    {
     "name": "stderr",
     "output_type": "stream",
     "text": [
      "\n",
      "Train epoch=0, iter=0:   0%|           | 721/261825 [08:27<196:22:01,  2.71s/it]"
     ]
    },
    {
     "name": "stdout",
     "output_type": "stream",
     "text": [
      "Train: [721/261825/8664]\tepoch: 0\titer: 721\tTime: 7.583 (0.741)\tData: 7.218 (0.406)\tLoss: 300.0010 (290.2445)\tPrec@1: 0.000 (3.578)\tPrec@5: 0.000 (5.771)\tlr 0.100000\n"
     ]
    },
    {
     "name": "stderr",
     "output_type": "stream",
     "text": [
      "\n",
      "Train epoch=0, iter=0:   0%|           | 722/261825 [08:27<151:31:51,  2.09s/it]"
     ]
    },
    {
     "name": "stdout",
     "output_type": "stream",
     "text": [
      "Train: [722/261825/8676]\tepoch: 0\titer: 722\tTime: 0.617 (0.741)\tData: 0.297 (0.406)\tLoss: 340.5992 (290.3142)\tPrec@1: 0.000 (3.573)\tPrec@5: 0.000 (5.763)\tlr 0.100000\n"
     ]
    },
    {
     "name": "stderr",
     "output_type": "stream",
     "text": [
      "\n",
      "Train epoch=0, iter=0:   0%|           | 723/261825 [08:28<119:50:17,  1.65s/it]"
     ]
    },
    {
     "name": "stdout",
     "output_type": "stream",
     "text": [
      "Train: [723/261825/8688]\tepoch: 0\titer: 723\tTime: 0.666 (0.741)\tData: 0.313 (0.406)\tLoss: 303.5114 (290.3325)\tPrec@1: 0.000 (3.568)\tPrec@5: 0.000 (5.755)\tlr 0.100000\n"
     ]
    },
    {
     "name": "stderr",
     "output_type": "stream",
     "text": [
      "\n",
      "Train epoch=0, iter=0:   0%|            | 724/261825 [08:28<98:46:57,  1.36s/it]"
     ]
    },
    {
     "name": "stdout",
     "output_type": "stream",
     "text": [
      "Train: [724/261825/8700]\tepoch: 0\titer: 724\tTime: 0.643 (0.740)\tData: 0.317 (0.406)\tLoss: 324.4284 (290.3795)\tPrec@1: 8.333 (3.575)\tPrec@5: 8.333 (5.759)\tlr 0.100000\n"
     ]
    },
    {
     "name": "stderr",
     "output_type": "stream",
     "text": [
      "\n",
      "Train epoch=0, iter=0:   0%|            | 725/261825 [08:29<82:49:17,  1.14s/it]"
     ]
    },
    {
     "name": "stdout",
     "output_type": "stream",
     "text": [
      "Train: [725/261825/8712]\tepoch: 0\titer: 725\tTime: 0.641 (0.740)\tData: 0.303 (0.406)\tLoss: 275.5909 (290.3591)\tPrec@1: 0.000 (3.570)\tPrec@5: 8.333 (5.762)\tlr 0.100000\n"
     ]
    },
    {
     "name": "stderr",
     "output_type": "stream",
     "text": [
      "\n",
      "Train epoch=0, iter=0:   0%|            | 726/261825 [08:30<71:54:03,  1.01it/s]"
     ]
    },
    {
     "name": "stdout",
     "output_type": "stream",
     "text": [
      "Train: [726/261825/8724]\tepoch: 0\titer: 726\tTime: 0.616 (0.740)\tData: 0.303 (0.406)\tLoss: 306.6270 (290.3815)\tPrec@1: 8.333 (3.576)\tPrec@5: 16.667 (5.777)\tlr 0.100000\n"
     ]
    },
    {
     "name": "stderr",
     "output_type": "stream",
     "text": [
      "\n",
      "Train epoch=0, iter=0:   0%|            | 727/261825 [08:30<63:44:34,  1.14it/s]"
     ]
    },
    {
     "name": "stdout",
     "output_type": "stream",
     "text": [
      "Train: [727/261825/8736]\tepoch: 0\titer: 727\tTime: 0.655 (0.740)\tData: 0.303 (0.406)\tLoss: 305.5149 (290.4023)\tPrec@1: 0.000 (3.571)\tPrec@5: 0.000 (5.769)\tlr 0.100000\n"
     ]
    },
    {
     "name": "stderr",
     "output_type": "stream",
     "text": [
      "\n",
      "Train epoch=0, iter=0:   0%|            | 728/261825 [08:31<58:54:12,  1.23it/s]"
     ]
    },
    {
     "name": "stdout",
     "output_type": "stream",
     "text": [
      "Train: [728/261825/8748]\tepoch: 0\titer: 728\tTime: 0.624 (0.740)\tData: 0.303 (0.405)\tLoss: 279.2032 (290.3869)\tPrec@1: 0.000 (3.567)\tPrec@5: 8.333 (5.773)\tlr 0.100000\n"
     ]
    },
    {
     "name": "stderr",
     "output_type": "stream",
     "text": [
      "\n",
      "Train epoch=0, iter=0:   0%|            | 729/261825 [08:32<54:43:21,  1.33it/s]"
     ]
    },
    {
     "name": "stdout",
     "output_type": "stream",
     "text": [
      "Train: [729/261825/8760]\tepoch: 0\titer: 729\tTime: 0.624 (0.740)\tData: 0.304 (0.405)\tLoss: 348.3211 (290.4662)\tPrec@1: 0.000 (3.562)\tPrec@5: 8.333 (5.776)\tlr 0.100000\n"
     ]
    },
    {
     "name": "stderr",
     "output_type": "stream",
     "text": [
      "\n",
      "Train epoch=0, iter=0:   0%|            | 730/261825 [08:32<51:47:28,  1.40it/s]"
     ]
    },
    {
     "name": "stdout",
     "output_type": "stream",
     "text": [
      "Train: [730/261825/8772]\tepoch: 0\titer: 730\tTime: 0.634 (0.740)\tData: 0.296 (0.405)\tLoss: 297.5118 (290.4759)\tPrec@1: 0.000 (3.557)\tPrec@5: 8.333 (5.780)\tlr 0.100000\n"
     ]
    },
    {
     "name": "stderr",
     "output_type": "stream",
     "text": [
      "\n",
      "Train epoch=0, iter=0:   0%|            | 731/261825 [08:33<50:15:14,  1.44it/s]"
     ]
    },
    {
     "name": "stdout",
     "output_type": "stream",
     "text": [
      "Train: [731/261825/8784]\tepoch: 0\titer: 731\tTime: 0.670 (0.739)\tData: 0.305 (0.405)\tLoss: 299.8356 (290.4887)\tPrec@1: 0.000 (3.552)\tPrec@5: 8.333 (5.783)\tlr 0.100000\n"
     ]
    },
    {
     "name": "stderr",
     "output_type": "stream",
     "text": [
      "\n",
      "Train epoch=0, iter=0:   0%|            | 732/261825 [08:34<49:44:38,  1.46it/s]"
     ]
    },
    {
     "name": "stdout",
     "output_type": "stream",
     "text": [
      "Train: [732/261825/8796]\tepoch: 0\titer: 732\tTime: 0.644 (0.739)\tData: 0.303 (0.405)\tLoss: 267.9373 (290.4579)\tPrec@1: 8.333 (3.558)\tPrec@5: 16.667 (5.798)\tlr 0.100000\n"
     ]
    },
    {
     "name": "stderr",
     "output_type": "stream",
     "text": [
      "\n",
      "Train epoch=0, iter=0:   0%|            | 733/261825 [08:34<48:47:56,  1.49it/s]"
     ]
    },
    {
     "name": "stdout",
     "output_type": "stream",
     "text": [
      "Train: [733/261825/8808]\tepoch: 0\titer: 733\tTime: 0.631 (0.739)\tData: 0.300 (0.405)\tLoss: 215.1114 (290.3553)\tPrec@1: 0.000 (3.554)\tPrec@5: 8.333 (5.802)\tlr 0.100000\n"
     ]
    },
    {
     "name": "stderr",
     "output_type": "stream",
     "text": [
      "\n",
      "Train epoch=0, iter=0:   0%|            | 734/261825 [08:35<47:15:55,  1.53it/s]"
     ]
    },
    {
     "name": "stdout",
     "output_type": "stream",
     "text": [
      "Train: [734/261825/8820]\tepoch: 0\titer: 734\tTime: 0.636 (0.739)\tData: 0.286 (0.404)\tLoss: 310.2749 (290.3824)\tPrec@1: 8.333 (3.560)\tPrec@5: 16.667 (5.816)\tlr 0.100000\n"
     ]
    },
    {
     "name": "stderr",
     "output_type": "stream",
     "text": [
      "\n",
      "Train epoch=0, iter=0:   0%|            | 735/261825 [08:35<47:40:38,  1.52it/s]"
     ]
    },
    {
     "name": "stdout",
     "output_type": "stream",
     "text": [
      "Train: [735/261825/8832]\tepoch: 0\titer: 735\tTime: 0.615 (0.739)\tData: 0.307 (0.404)\tLoss: 307.8596 (290.4061)\tPrec@1: 8.333 (3.567)\tPrec@5: 8.333 (5.820)\tlr 0.100000\n"
     ]
    },
    {
     "name": "stderr",
     "output_type": "stream",
     "text": [
      "\n",
      "Train epoch=0, iter=0:   0%|            | 736/261825 [08:36<46:39:19,  1.55it/s]"
     ]
    },
    {
     "name": "stdout",
     "output_type": "stream",
     "text": [
      "Train: [736/261825/8844]\tepoch: 0\titer: 736\tTime: 0.625 (0.739)\tData: 0.303 (0.404)\tLoss: 324.0027 (290.4517)\tPrec@1: 0.000 (3.562)\tPrec@5: 0.000 (5.812)\tlr 0.100000\n"
     ]
    },
    {
     "name": "stderr",
     "output_type": "stream",
     "text": [
      "\n",
      "Train epoch=0, iter=0:   0%|            | 737/261825 [08:37<46:09:22,  1.57it/s]"
     ]
    },
    {
     "name": "stdout",
     "output_type": "stream",
     "text": [
      "Train: [737/261825/8856]\tepoch: 0\titer: 737\tTime: 0.667 (0.739)\tData: 0.297 (0.404)\tLoss: 272.3044 (290.4271)\tPrec@1: 16.667 (3.579)\tPrec@5: 25.000 (5.838)\tlr 0.100000\n"
     ]
    },
    {
     "name": "stderr",
     "output_type": "stream",
     "text": [
      "\n",
      "Train epoch=0, iter=0:   0%|            | 738/261825 [08:37<46:57:08,  1.54it/s]"
     ]
    },
    {
     "name": "stdout",
     "output_type": "stream",
     "text": [
      "Train: [738/261825/8868]\tepoch: 0\titer: 738\tTime: 0.621 (0.738)\tData: 0.305 (0.404)\tLoss: 216.8558 (290.3275)\tPrec@1: 0.000 (3.575)\tPrec@5: 16.667 (5.853)\tlr 0.100000\n"
     ]
    },
    {
     "name": "stderr",
     "output_type": "stream",
     "text": [
      "\n",
      "Train epoch=0, iter=0:   0%|            | 739/261825 [08:38<46:20:37,  1.56it/s]"
     ]
    },
    {
     "name": "stdout",
     "output_type": "stream",
     "text": [
      "Train: [739/261825/8880]\tepoch: 0\titer: 739\tTime: 0.628 (0.738)\tData: 0.304 (0.404)\tLoss: 255.7176 (290.2808)\tPrec@1: 8.333 (3.581)\tPrec@5: 25.000 (5.878)\tlr 0.100000\n"
     ]
    },
    {
     "name": "stderr",
     "output_type": "stream",
     "text": [
      "\n",
      "Train epoch=0, iter=0:   0%|            | 740/261825 [08:39<46:06:49,  1.57it/s]"
     ]
    },
    {
     "name": "stdout",
     "output_type": "stream",
     "text": [
      "Train: [740/261825/8892]\tepoch: 0\titer: 740\tTime: 0.639 (0.738)\tData: 0.304 (0.404)\tLoss: 313.5780 (290.3122)\tPrec@1: 0.000 (3.576)\tPrec@5: 0.000 (5.870)\tlr 0.100000\n"
     ]
    },
    {
     "name": "stderr",
     "output_type": "stream",
     "text": [
      "\n",
      "Train epoch=0, iter=0:   0%|            | 741/261825 [08:39<46:11:31,  1.57it/s]"
     ]
    },
    {
     "name": "stdout",
     "output_type": "stream",
     "text": [
      "Train: [741/261825/8904]\tepoch: 0\titer: 741\tTime: 0.629 (0.738)\tData: 0.304 (0.404)\tLoss: 323.2092 (290.3566)\tPrec@1: 0.000 (3.571)\tPrec@5: 0.000 (5.863)\tlr 0.100000\n"
     ]
    },
    {
     "name": "stderr",
     "output_type": "stream",
     "text": [
      "\n",
      "Train epoch=0, iter=0:   0%|            | 742/261825 [08:40<46:06:58,  1.57it/s]"
     ]
    },
    {
     "name": "stdout",
     "output_type": "stream",
     "text": [
      "Train: [742/261825/8916]\tepoch: 0\titer: 742\tTime: 0.688 (0.738)\tData: 0.308 (0.403)\tLoss: 237.9816 (290.2861)\tPrec@1: 16.667 (3.589)\tPrec@5: 16.667 (5.877)\tlr 0.100000\n"
     ]
    },
    {
     "name": "stderr",
     "output_type": "stream",
     "text": [
      "\n",
      "Train epoch=0, iter=0:   0%|            | 743/261825 [08:41<47:23:55,  1.53it/s]"
     ]
    },
    {
     "name": "stdout",
     "output_type": "stream",
     "text": [
      "Train: [743/261825/8928]\tepoch: 0\titer: 743\tTime: 0.630 (0.738)\tData: 0.313 (0.403)\tLoss: 231.7118 (290.2073)\tPrec@1: 0.000 (3.584)\tPrec@5: 16.667 (5.892)\tlr 0.100000\n"
     ]
    },
    {
     "name": "stderr",
     "output_type": "stream",
     "text": [
      "\n",
      "Train epoch=0, iter=0:   0%|            | 744/261825 [08:41<46:52:53,  1.55it/s]"
     ]
    },
    {
     "name": "stdout",
     "output_type": "stream",
     "text": [
      "Train: [744/261825/8940]\tepoch: 0\titer: 744\tTime: 0.672 (0.738)\tData: 0.313 (0.403)\tLoss: 262.6628 (290.1703)\tPrec@1: 8.333 (3.591)\tPrec@5: 8.333 (5.895)\tlr 0.100000\n"
     ]
    },
    {
     "name": "stderr",
     "output_type": "stream",
     "text": [
      "\n",
      "Train epoch=0, iter=0:   0%|            | 745/261825 [08:42<47:06:20,  1.54it/s]"
     ]
    },
    {
     "name": "stdout",
     "output_type": "stream",
     "text": [
      "Train: [745/261825/8952]\tepoch: 0\titer: 745\tTime: 0.632 (0.738)\tData: 0.297 (0.403)\tLoss: 211.1003 (290.0644)\tPrec@1: 16.667 (3.608)\tPrec@5: 25.000 (5.920)\tlr 0.100000\n"
     ]
    },
    {
     "name": "stderr",
     "output_type": "stream",
     "text": [
      "\n",
      "Train epoch=0, iter=0:   0%|            | 746/261825 [08:43<47:03:24,  1.54it/s]"
     ]
    },
    {
     "name": "stdout",
     "output_type": "stream",
     "text": [
      "Train: [746/261825/8964]\tepoch: 0\titer: 746\tTime: 0.672 (0.738)\tData: 0.316 (0.403)\tLoss: 331.7682 (290.1202)\tPrec@1: 0.000 (3.603)\tPrec@5: 0.000 (5.913)\tlr 0.100000\n"
     ]
    },
    {
     "name": "stderr",
     "output_type": "stream",
     "text": [
      "\n",
      "Train epoch=0, iter=0:   0%|            | 747/261825 [08:43<47:15:56,  1.53it/s]"
     ]
    },
    {
     "name": "stdout",
     "output_type": "stream",
     "text": [
      "Train: [747/261825/8976]\tepoch: 0\titer: 747\tTime: 0.621 (0.737)\tData: 0.302 (0.403)\tLoss: 365.9193 (290.2215)\tPrec@1: 0.000 (3.598)\tPrec@5: 0.000 (5.905)\tlr 0.100000\n"
     ]
    },
    {
     "name": "stderr",
     "output_type": "stream",
     "text": [
      "\n",
      "Train epoch=0, iter=0:   0%|            | 748/261825 [08:44<46:37:40,  1.56it/s]"
     ]
    },
    {
     "name": "stdout",
     "output_type": "stream",
     "text": [
      "Train: [748/261825/8988]\tepoch: 0\titer: 748\tTime: 0.651 (0.737)\tData: 0.302 (0.403)\tLoss: 212.1243 (290.1172)\tPrec@1: 25.000 (3.627)\tPrec@5: 25.000 (5.930)\tlr 0.100000\n"
     ]
    },
    {
     "name": "stderr",
     "output_type": "stream",
     "text": [
      "\n",
      "Train epoch=0, iter=0:   0%|            | 749/261825 [08:44<46:50:04,  1.55it/s]"
     ]
    },
    {
     "name": "stdout",
     "output_type": "stream",
     "text": [
      "Train: [749/261825/9000]\tepoch: 0\titer: 749\tTime: 0.637 (0.737)\tData: 0.303 (0.403)\tLoss: 179.9790 (289.9704)\tPrec@1: 25.000 (3.656)\tPrec@5: 25.000 (5.956)\tlr 0.100000\n"
     ]
    },
    {
     "name": "stderr",
     "output_type": "stream",
     "text": [
      "\n",
      "Train epoch=0, iter=0:   0%|            | 750/261825 [08:45<46:48:18,  1.55it/s]"
     ]
    },
    {
     "name": "stdout",
     "output_type": "stream",
     "text": [
      "Train: [750/261825/9012]\tepoch: 0\titer: 750\tTime: 0.673 (0.737)\tData: 0.310 (0.402)\tLoss: 252.1130 (289.9200)\tPrec@1: 0.000 (3.651)\tPrec@5: 8.333 (5.959)\tlr 0.100000\n"
     ]
    },
    {
     "name": "stderr",
     "output_type": "stream",
     "text": [
      "\n",
      "Train epoch=0, iter=0:   0%|            | 751/261825 [08:46<47:34:05,  1.52it/s]"
     ]
    },
    {
     "name": "stdout",
     "output_type": "stream",
     "text": [
      "Train: [751/261825/9024]\tepoch: 0\titer: 751\tTime: 0.640 (0.737)\tData: 0.318 (0.402)\tLoss: 238.3975 (289.8515)\tPrec@1: 25.000 (3.679)\tPrec@5: 25.000 (5.984)\tlr 0.100000\n"
     ]
    },
    {
     "name": "stderr",
     "output_type": "stream",
     "text": [
      "\n",
      "Train epoch=0, iter=0:   0%|            | 752/261825 [08:46<46:49:03,  1.55it/s]"
     ]
    },
    {
     "name": "stdout",
     "output_type": "stream",
     "text": [
      "Train: [752/261825/9036]\tepoch: 0\titer: 752\tTime: 0.665 (0.737)\tData: 0.296 (0.402)\tLoss: 289.2758 (289.8507)\tPrec@1: 16.667 (3.696)\tPrec@5: 16.667 (5.998)\tlr 0.100000\n"
     ]
    },
    {
     "name": "stderr",
     "output_type": "stream",
     "text": [
      "\n",
      "Train epoch=0, iter=0:   0%|            | 753/261825 [08:47<47:15:40,  1.53it/s]"
     ]
    },
    {
     "name": "stdout",
     "output_type": "stream",
     "text": [
      "Train: [753/261825/9048]\tepoch: 0\titer: 753\tTime: 0.602 (0.737)\tData: 0.297 (0.402)\tLoss: 240.0738 (289.7847)\tPrec@1: 0.000 (3.691)\tPrec@5: 0.000 (5.990)\tlr 0.100000\n"
     ]
    },
    {
     "name": "stderr",
     "output_type": "stream",
     "text": [
      "\n",
      "Train epoch=0, iter=0:   0%|            | 754/261825 [08:48<46:11:20,  1.57it/s]"
     ]
    },
    {
     "name": "stdout",
     "output_type": "stream",
     "text": [
      "Train: [754/261825/9060]\tepoch: 0\titer: 754\tTime: 0.668 (0.737)\tData: 0.313 (0.402)\tLoss: 251.5219 (289.7340)\tPrec@1: 25.000 (3.720)\tPrec@5: 25.000 (6.015)\tlr 0.100000\n"
     ]
    },
    {
     "name": "stderr",
     "output_type": "stream",
     "text": [
      "\n",
      "Train epoch=0, iter=0:   0%|            | 755/261825 [08:48<46:56:52,  1.54it/s]"
     ]
    },
    {
     "name": "stdout",
     "output_type": "stream",
     "text": [
      "Train: [755/261825/9072]\tepoch: 0\titer: 755\tTime: 0.627 (0.736)\tData: 0.302 (0.402)\tLoss: 298.3701 (289.7455)\tPrec@1: 0.000 (3.715)\tPrec@5: 0.000 (6.007)\tlr 0.100000\n"
     ]
    },
    {
     "name": "stderr",
     "output_type": "stream",
     "text": [
      "\n",
      "Train epoch=0, iter=0:   0%|            | 756/261825 [08:49<46:30:50,  1.56it/s]"
     ]
    },
    {
     "name": "stdout",
     "output_type": "stream",
     "text": [
      "Train: [756/261825/9084]\tepoch: 0\titer: 756\tTime: 0.624 (0.736)\tData: 0.303 (0.402)\tLoss: 322.7974 (289.7891)\tPrec@1: 8.333 (3.721)\tPrec@5: 8.333 (6.011)\tlr 0.100000\n"
     ]
    },
    {
     "name": "stderr",
     "output_type": "stream",
     "text": [
      "\n",
      "Train epoch=0, iter=0:   0%|            | 757/261825 [08:50<46:03:43,  1.57it/s]"
     ]
    },
    {
     "name": "stdout",
     "output_type": "stream",
     "text": [
      "Train: [757/261825/9096]\tepoch: 0\titer: 757\tTime: 0.629 (0.736)\tData: 0.297 (0.401)\tLoss: 338.7303 (289.8537)\tPrec@1: 0.000 (3.716)\tPrec@5: 0.000 (6.003)\tlr 0.100000\n"
     ]
    },
    {
     "name": "stderr",
     "output_type": "stream",
     "text": [
      "\n",
      "Train epoch=0, iter=0:   0%|            | 758/261825 [08:50<46:23:39,  1.56it/s]"
     ]
    },
    {
     "name": "stdout",
     "output_type": "stream",
     "text": [
      "Train: [758/261825/9108]\tepoch: 0\titer: 758\tTime: 0.655 (0.736)\tData: 0.320 (0.401)\tLoss: 332.5429 (289.9099)\tPrec@1: 0.000 (3.711)\tPrec@5: 8.333 (6.006)\tlr 0.100000\n"
     ]
    },
    {
     "name": "stderr",
     "output_type": "stream",
     "text": [
      "\n",
      "Train epoch=0, iter=0:   0%|            | 759/261825 [08:51<46:18:01,  1.57it/s]"
     ]
    },
    {
     "name": "stdout",
     "output_type": "stream",
     "text": [
      "Train: [759/261825/9120]\tepoch: 0\titer: 759\tTime: 0.621 (0.736)\tData: 0.302 (0.401)\tLoss: 288.3043 (289.9078)\tPrec@1: 8.333 (3.717)\tPrec@5: 8.333 (6.009)\tlr 0.100000\n"
     ]
    },
    {
     "name": "stderr",
     "output_type": "stream",
     "text": [
      "\n",
      "Train epoch=0, iter=0:   0%|            | 760/261825 [08:52<45:55:47,  1.58it/s]"
     ]
    },
    {
     "name": "stdout",
     "output_type": "stream",
     "text": [
      "Train: [760/261825/9132]\tepoch: 0\titer: 760\tTime: 0.628 (0.736)\tData: 0.302 (0.401)\tLoss: 336.5343 (289.9691)\tPrec@1: 16.667 (3.734)\tPrec@5: 16.667 (6.023)\tlr 0.100000\n"
     ]
    },
    {
     "name": "stderr",
     "output_type": "stream",
     "text": [
      "\n",
      "Train epoch=0, iter=0:   0%|            | 761/261825 [08:52<45:50:40,  1.58it/s]"
     ]
    },
    {
     "name": "stdout",
     "output_type": "stream",
     "text": [
      "Train: [761/261825/9144]\tepoch: 0\titer: 761\tTime: 0.692 (0.736)\tData: 0.302 (0.401)\tLoss: 248.2194 (289.9143)\tPrec@1: 16.667 (3.751)\tPrec@5: 16.667 (6.037)\tlr 0.100000\n"
     ]
    },
    {
     "name": "stderr",
     "output_type": "stream",
     "text": [
      "\n",
      "Train epoch=0, iter=0:   0%|            | 762/261825 [08:53<47:08:04,  1.54it/s]"
     ]
    },
    {
     "name": "stdout",
     "output_type": "stream",
     "text": [
      "Train: [762/261825/9156]\tepoch: 0\titer: 762\tTime: 0.622 (0.735)\tData: 0.303 (0.401)\tLoss: 229.3365 (289.8349)\tPrec@1: 8.333 (3.757)\tPrec@5: 25.000 (6.062)\tlr 0.100000\n"
     ]
    },
    {
     "name": "stderr",
     "output_type": "stream",
     "text": [
      "\n",
      "Train epoch=0, iter=0:   0%|            | 763/261825 [08:53<46:20:44,  1.56it/s]"
     ]
    },
    {
     "name": "stdout",
     "output_type": "stream",
     "text": [
      "Train: [763/261825/9168]\tepoch: 0\titer: 763\tTime: 0.627 (0.735)\tData: 0.291 (0.401)\tLoss: 254.7510 (289.7890)\tPrec@1: 8.333 (3.763)\tPrec@5: 8.333 (6.065)\tlr 0.100000\n"
     ]
    },
    {
     "name": "stderr",
     "output_type": "stream",
     "text": [
      "\n",
      "Train epoch=0, iter=0:   0%|            | 764/261825 [08:54<46:32:41,  1.56it/s]"
     ]
    },
    {
     "name": "stdout",
     "output_type": "stream",
     "text": [
      "Train: [764/261825/9180]\tepoch: 0\titer: 764\tTime: 0.626 (0.735)\tData: 0.313 (0.401)\tLoss: 292.0386 (289.7920)\tPrec@1: 8.333 (3.769)\tPrec@5: 8.333 (6.068)\tlr 0.100000\n"
     ]
    },
    {
     "name": "stderr",
     "output_type": "stream",
     "text": [
      "\n",
      "Train epoch=0, iter=0:   0%|            | 765/261825 [08:55<46:12:00,  1.57it/s]"
     ]
    },
    {
     "name": "stdout",
     "output_type": "stream",
     "text": [
      "Train: [765/261825/9192]\tepoch: 0\titer: 765\tTime: 0.672 (0.735)\tData: 0.313 (0.400)\tLoss: 310.2308 (289.8186)\tPrec@1: 0.000 (3.764)\tPrec@5: 8.333 (6.070)\tlr 0.100000\n"
     ]
    },
    {
     "name": "stderr",
     "output_type": "stream",
     "text": [
      "\n",
      "Train epoch=0, iter=0:   0%|            | 766/261825 [08:55<46:46:44,  1.55it/s]"
     ]
    },
    {
     "name": "stdout",
     "output_type": "stream",
     "text": [
      "Train: [766/261825/9204]\tepoch: 0\titer: 766\tTime: 0.624 (0.735)\tData: 0.307 (0.400)\tLoss: 247.9733 (289.7641)\tPrec@1: 0.000 (3.759)\tPrec@5: 8.333 (6.073)\tlr 0.100000\n"
     ]
    },
    {
     "name": "stderr",
     "output_type": "stream",
     "text": [
      "\n",
      "Train epoch=0, iter=0:   0%|            | 767/261825 [08:56<46:14:33,  1.57it/s]"
     ]
    },
    {
     "name": "stdout",
     "output_type": "stream",
     "text": [
      "Train: [767/261825/9216]\tepoch: 0\titer: 767\tTime: 0.671 (0.735)\tData: 0.302 (0.400)\tLoss: 319.7084 (289.8031)\tPrec@1: 0.000 (3.754)\tPrec@5: 8.333 (6.076)\tlr 0.100000\n"
     ]
    },
    {
     "name": "stderr",
     "output_type": "stream",
     "text": [
      "\n",
      "Train epoch=0, iter=0:   0%|            | 768/261825 [08:57<46:53:27,  1.55it/s]"
     ]
    },
    {
     "name": "stdout",
     "output_type": "stream",
     "text": [
      "Train: [768/261825/9228]\tepoch: 0\titer: 768\tTime: 0.618 (0.735)\tData: 0.311 (0.400)\tLoss: 233.6684 (289.7301)\tPrec@1: 0.000 (3.749)\tPrec@5: 8.333 (6.079)\tlr 0.100000\n"
     ]
    },
    {
     "name": "stderr",
     "output_type": "stream",
     "text": [
      "\n",
      "Train epoch=0, iter=0:   0%|            | 769/261825 [08:57<46:46:06,  1.55it/s]"
     ]
    },
    {
     "name": "stdout",
     "output_type": "stream",
     "text": [
      "Train: [769/261825/9240]\tepoch: 0\titer: 769\tTime: 0.631 (0.735)\tData: 0.322 (0.400)\tLoss: 308.2019 (289.7541)\tPrec@1: 16.667 (3.766)\tPrec@5: 16.667 (6.093)\tlr 0.100000\n"
     ]
    },
    {
     "name": "stderr",
     "output_type": "stream",
     "text": [
      "\n",
      "Train epoch=0, iter=0:   0%|            | 770/261825 [08:58<46:03:39,  1.57it/s]"
     ]
    },
    {
     "name": "stdout",
     "output_type": "stream",
     "text": [
      "Train: [770/261825/9252]\tepoch: 0\titer: 770\tTime: 0.650 (0.734)\tData: 0.303 (0.400)\tLoss: 266.7685 (289.7242)\tPrec@1: 8.333 (3.772)\tPrec@5: 16.667 (6.107)\tlr 0.100000\n"
     ]
    },
    {
     "name": "stderr",
     "output_type": "stream",
     "text": [
      "\n",
      "Train epoch=0, iter=0:   0%|            | 771/261825 [08:59<46:17:17,  1.57it/s]"
     ]
    },
    {
     "name": "stdout",
     "output_type": "stream",
     "text": [
      "Train: [771/261825/9264]\tepoch: 0\titer: 771\tTime: 0.640 (0.734)\tData: 0.312 (0.400)\tLoss: 250.2641 (289.6732)\tPrec@1: 8.333 (3.778)\tPrec@5: 16.667 (6.120)\tlr 0.100000\n"
     ]
    },
    {
     "name": "stderr",
     "output_type": "stream",
     "text": [
      "\n",
      "Train epoch=0, iter=0:   0%|            | 772/261825 [08:59<46:19:40,  1.57it/s]"
     ]
    },
    {
     "name": "stdout",
     "output_type": "stream",
     "text": [
      "Train: [772/261825/9276]\tepoch: 0\titer: 772\tTime: 0.638 (0.734)\tData: 0.315 (0.400)\tLoss: 293.6475 (289.6783)\tPrec@1: 16.667 (3.795)\tPrec@5: 16.667 (6.134)\tlr 0.100000\n"
     ]
    },
    {
     "name": "stderr",
     "output_type": "stream",
     "text": [
      "\n",
      "Train epoch=0, iter=0:   0%|            | 773/261825 [09:00<46:18:37,  1.57it/s]"
     ]
    },
    {
     "name": "stdout",
     "output_type": "stream",
     "text": [
      "Train: [773/261825/9288]\tepoch: 0\titer: 773\tTime: 0.656 (0.734)\tData: 0.312 (0.400)\tLoss: 342.1147 (289.7461)\tPrec@1: 0.000 (3.790)\tPrec@5: 0.000 (6.126)\tlr 0.100000\n"
     ]
    },
    {
     "name": "stderr",
     "output_type": "stream",
     "text": [
      "\n",
      "Train epoch=0, iter=0:   0%|            | 774/261825 [09:01<46:56:11,  1.54it/s]"
     ]
    },
    {
     "name": "stdout",
     "output_type": "stream",
     "text": [
      "Train: [774/261825/9300]\tepoch: 0\titer: 774\tTime: 0.689 (0.734)\tData: 0.310 (0.399)\tLoss: 329.8034 (289.7977)\tPrec@1: 0.000 (3.785)\tPrec@5: 16.667 (6.140)\tlr 0.100000\n"
     ]
    },
    {
     "name": "stderr",
     "output_type": "stream",
     "text": [
      "\n",
      "Train epoch=0, iter=0:   0%|            | 775/261825 [09:01<47:43:26,  1.52it/s]"
     ]
    },
    {
     "name": "stdout",
     "output_type": "stream",
     "text": [
      "Train: [775/261825/9312]\tepoch: 0\titer: 775\tTime: 0.626 (0.734)\tData: 0.306 (0.399)\tLoss: 309.7010 (289.8234)\tPrec@1: 0.000 (3.780)\tPrec@5: 0.000 (6.132)\tlr 0.100000\n"
     ]
    },
    {
     "name": "stderr",
     "output_type": "stream",
     "text": [
      "\n",
      "Train epoch=0, iter=0:   0%|            | 776/261825 [09:02<46:56:50,  1.54it/s]"
     ]
    },
    {
     "name": "stdout",
     "output_type": "stream",
     "text": [
      "Train: [776/261825/9324]\tepoch: 0\titer: 776\tTime: 0.624 (0.734)\tData: 0.302 (0.399)\tLoss: 215.0139 (289.7271)\tPrec@1: 25.000 (3.807)\tPrec@5: 33.333 (6.167)\tlr 0.100000\n"
     ]
    },
    {
     "name": "stderr",
     "output_type": "stream",
     "text": [
      "\n",
      "Train epoch=0, iter=0:   0%|            | 777/261825 [09:02<46:28:08,  1.56it/s]"
     ]
    },
    {
     "name": "stdout",
     "output_type": "stream",
     "text": [
      "Train: [777/261825/9336]\tepoch: 0\titer: 777\tTime: 0.641 (0.734)\tData: 0.303 (0.399)\tLoss: 276.2484 (289.7098)\tPrec@1: 16.667 (3.824)\tPrec@5: 25.000 (6.191)\tlr 0.100000\n"
     ]
    },
    {
     "name": "stderr",
     "output_type": "stream",
     "text": [
      "\n",
      "Train epoch=0, iter=0:   0%|            | 778/261825 [09:03<46:31:33,  1.56it/s]"
     ]
    },
    {
     "name": "stdout",
     "output_type": "stream",
     "text": [
      "Train: [778/261825/9348]\tepoch: 0\titer: 778\tTime: 0.648 (0.734)\tData: 0.305 (0.399)\tLoss: 323.0021 (289.7525)\tPrec@1: 8.333 (3.830)\tPrec@5: 8.333 (6.194)\tlr 0.100000\n"
     ]
    },
    {
     "name": "stderr",
     "output_type": "stream",
     "text": [
      "\n",
      "Train epoch=0, iter=0:   0%|            | 779/261825 [09:04<46:39:09,  1.55it/s]"
     ]
    },
    {
     "name": "stdout",
     "output_type": "stream",
     "text": [
      "Train: [779/261825/9360]\tepoch: 0\titer: 779\tTime: 0.630 (0.733)\tData: 0.303 (0.399)\tLoss: 269.5327 (289.7266)\tPrec@1: 16.667 (3.846)\tPrec@5: 25.000 (6.218)\tlr 0.100000\n"
     ]
    },
    {
     "name": "stderr",
     "output_type": "stream",
     "text": [
      "\n",
      "Train epoch=0, iter=0:   0%|            | 780/261825 [09:04<46:02:01,  1.58it/s]"
     ]
    },
    {
     "name": "stdout",
     "output_type": "stream",
     "text": [
      "Train: [780/261825/9372]\tepoch: 0\titer: 780\tTime: 0.638 (0.733)\tData: 0.302 (0.399)\tLoss: 266.4034 (289.6967)\tPrec@1: 8.333 (3.852)\tPrec@5: 16.667 (6.231)\tlr 0.100000\n"
     ]
    },
    {
     "name": "stderr",
     "output_type": "stream",
     "text": [
      "\n",
      "Train epoch=0, iter=0:   0%|            | 781/261825 [09:05<46:21:00,  1.56it/s]"
     ]
    },
    {
     "name": "stdout",
     "output_type": "stream",
     "text": [
      "Train: [781/261825/9384]\tepoch: 0\titer: 781\tTime: 0.627 (0.733)\tData: 0.297 (0.399)\tLoss: 300.7274 (289.7109)\tPrec@1: 0.000 (3.847)\tPrec@5: 8.333 (6.234)\tlr 0.100000\n"
     ]
    },
    {
     "name": "stderr",
     "output_type": "stream",
     "text": [
      "\n",
      "Train epoch=0, iter=0:   0%|            | 782/261825 [09:06<46:25:09,  1.56it/s]"
     ]
    },
    {
     "ename": "KeyboardInterrupt",
     "evalue": "",
     "output_type": "error",
     "traceback": [
      "\u001b[1;31m---------------------------------------------------------------------------\u001b[0m",
      "\u001b[1;31mKeyboardInterrupt\u001b[0m                         Traceback (most recent call last)",
      "\u001b[1;32m<ipython-input-16-3435b262f1ae>\u001b[0m in \u001b[0;36m<module>\u001b[1;34m\u001b[0m\n\u001b[1;32m----> 1\u001b[1;33m \u001b[0mtrainer\u001b[0m\u001b[1;33m.\u001b[0m\u001b[0mtrain\u001b[0m\u001b[1;33m(\u001b[0m\u001b[1;33m)\u001b[0m\u001b[1;33m\u001b[0m\u001b[1;33m\u001b[0m\u001b[0m\n\u001b[0m",
      "\u001b[1;32m~\\Documents\\VGGFace2-pytorch-master\\trainer.py\u001b[0m in \u001b[0;36mtrain\u001b[1;34m(self)\u001b[0m\n\u001b[0;32m    228\u001b[0m         \u001b[1;32mfor\u001b[0m \u001b[0mepoch\u001b[0m \u001b[1;32min\u001b[0m \u001b[0mtqdm\u001b[0m\u001b[1;33m.\u001b[0m\u001b[0mtrange\u001b[0m\u001b[1;33m(\u001b[0m\u001b[0mself\u001b[0m\u001b[1;33m.\u001b[0m\u001b[0mepoch\u001b[0m\u001b[1;33m,\u001b[0m \u001b[0mmax_epoch\u001b[0m\u001b[1;33m,\u001b[0m \u001b[0mdesc\u001b[0m\u001b[1;33m=\u001b[0m\u001b[1;34m'Train'\u001b[0m\u001b[1;33m,\u001b[0m \u001b[0mncols\u001b[0m\u001b[1;33m=\u001b[0m\u001b[1;36m80\u001b[0m\u001b[1;33m)\u001b[0m\u001b[1;33m:\u001b[0m\u001b[1;33m\u001b[0m\u001b[1;33m\u001b[0m\u001b[0m\n\u001b[0;32m    229\u001b[0m             \u001b[0mself\u001b[0m\u001b[1;33m.\u001b[0m\u001b[0mepoch\u001b[0m \u001b[1;33m=\u001b[0m \u001b[0mepoch\u001b[0m\u001b[1;33m\u001b[0m\u001b[1;33m\u001b[0m\u001b[0m\n\u001b[1;32m--> 230\u001b[1;33m             \u001b[0mself\u001b[0m\u001b[1;33m.\u001b[0m\u001b[0mtrain_epoch\u001b[0m\u001b[1;33m(\u001b[0m\u001b[1;33m)\u001b[0m\u001b[1;33m\u001b[0m\u001b[1;33m\u001b[0m\u001b[0m\n\u001b[0m\u001b[0;32m    231\u001b[0m             \u001b[1;32mif\u001b[0m \u001b[0mself\u001b[0m\u001b[1;33m.\u001b[0m\u001b[0miteration\u001b[0m \u001b[1;33m>=\u001b[0m \u001b[0mself\u001b[0m\u001b[1;33m.\u001b[0m\u001b[0mmax_iter\u001b[0m\u001b[1;33m:\u001b[0m\u001b[1;33m\u001b[0m\u001b[1;33m\u001b[0m\u001b[0m\n\u001b[0;32m    232\u001b[0m                 \u001b[1;32mbreak\u001b[0m\u001b[1;33m\u001b[0m\u001b[1;33m\u001b[0m\u001b[0m\n",
      "\u001b[1;32m~\\Documents\\VGGFace2-pytorch-master\\trainer.py\u001b[0m in \u001b[0;36mtrain_epoch\u001b[1;34m(self)\u001b[0m\n\u001b[0;32m    191\u001b[0m \u001b[1;33m\u001b[0m\u001b[0m\n\u001b[0;32m    192\u001b[0m             \u001b[0mself\u001b[0m\u001b[1;33m.\u001b[0m\u001b[0moptim\u001b[0m\u001b[1;33m.\u001b[0m\u001b[0mzero_grad\u001b[0m\u001b[1;33m(\u001b[0m\u001b[1;33m)\u001b[0m\u001b[1;33m\u001b[0m\u001b[1;33m\u001b[0m\u001b[0m\n\u001b[1;32m--> 193\u001b[1;33m             \u001b[0mloss\u001b[0m\u001b[1;33m.\u001b[0m\u001b[0mbackward\u001b[0m\u001b[1;33m(\u001b[0m\u001b[1;33m)\u001b[0m\u001b[1;33m\u001b[0m\u001b[1;33m\u001b[0m\u001b[0m\n\u001b[0m\u001b[0;32m    194\u001b[0m             \u001b[0mself\u001b[0m\u001b[1;33m.\u001b[0m\u001b[0moptim\u001b[0m\u001b[1;33m.\u001b[0m\u001b[0mstep\u001b[0m\u001b[1;33m(\u001b[0m\u001b[1;33m)\u001b[0m\u001b[1;33m\u001b[0m\u001b[1;33m\u001b[0m\u001b[0m\n\u001b[0;32m    195\u001b[0m \u001b[1;33m\u001b[0m\u001b[0m\n",
      "\u001b[1;32m~\\AppData\\Local\\Continuum\\anaconda3\\envs\\pytorch_env\\lib\\site-packages\\torch\\tensor.py\u001b[0m in \u001b[0;36mbackward\u001b[1;34m(self, gradient, retain_graph, create_graph)\u001b[0m\n\u001b[0;32m    105\u001b[0m                 \u001b[0mproducts\u001b[0m\u001b[1;33m.\u001b[0m \u001b[0mDefaults\u001b[0m \u001b[0mto\u001b[0m\u001b[0;31m \u001b[0m\u001b[0;31m`\u001b[0m\u001b[0;31m`\u001b[0m\u001b[1;32mFalse\u001b[0m\u001b[0;31m`\u001b[0m\u001b[0;31m`\u001b[0m\u001b[1;33m.\u001b[0m\u001b[1;33m\u001b[0m\u001b[1;33m\u001b[0m\u001b[0m\n\u001b[0;32m    106\u001b[0m         \"\"\"\n\u001b[1;32m--> 107\u001b[1;33m         \u001b[0mtorch\u001b[0m\u001b[1;33m.\u001b[0m\u001b[0mautograd\u001b[0m\u001b[1;33m.\u001b[0m\u001b[0mbackward\u001b[0m\u001b[1;33m(\u001b[0m\u001b[0mself\u001b[0m\u001b[1;33m,\u001b[0m \u001b[0mgradient\u001b[0m\u001b[1;33m,\u001b[0m \u001b[0mretain_graph\u001b[0m\u001b[1;33m,\u001b[0m \u001b[0mcreate_graph\u001b[0m\u001b[1;33m)\u001b[0m\u001b[1;33m\u001b[0m\u001b[1;33m\u001b[0m\u001b[0m\n\u001b[0m\u001b[0;32m    108\u001b[0m \u001b[1;33m\u001b[0m\u001b[0m\n\u001b[0;32m    109\u001b[0m     \u001b[1;32mdef\u001b[0m \u001b[0mregister_hook\u001b[0m\u001b[1;33m(\u001b[0m\u001b[0mself\u001b[0m\u001b[1;33m,\u001b[0m \u001b[0mhook\u001b[0m\u001b[1;33m)\u001b[0m\u001b[1;33m:\u001b[0m\u001b[1;33m\u001b[0m\u001b[1;33m\u001b[0m\u001b[0m\n",
      "\u001b[1;32m~\\AppData\\Local\\Continuum\\anaconda3\\envs\\pytorch_env\\lib\\site-packages\\torch\\autograd\\__init__.py\u001b[0m in \u001b[0;36mbackward\u001b[1;34m(tensors, grad_tensors, retain_graph, create_graph, grad_variables)\u001b[0m\n\u001b[0;32m     91\u001b[0m     Variable._execution_engine.run_backward(\n\u001b[0;32m     92\u001b[0m         \u001b[0mtensors\u001b[0m\u001b[1;33m,\u001b[0m \u001b[0mgrad_tensors\u001b[0m\u001b[1;33m,\u001b[0m \u001b[0mretain_graph\u001b[0m\u001b[1;33m,\u001b[0m \u001b[0mcreate_graph\u001b[0m\u001b[1;33m,\u001b[0m\u001b[1;33m\u001b[0m\u001b[1;33m\u001b[0m\u001b[0m\n\u001b[1;32m---> 93\u001b[1;33m         allow_unreachable=True)  # allow_unreachable flag\n\u001b[0m\u001b[0;32m     94\u001b[0m \u001b[1;33m\u001b[0m\u001b[0m\n\u001b[0;32m     95\u001b[0m \u001b[1;33m\u001b[0m\u001b[0m\n",
      "\u001b[1;31mKeyboardInterrupt\u001b[0m: "
     ]
    }
   ],
   "source": [
    "trainer.train()"
   ]
  },
  {
   "cell_type": "code",
   "execution_count": null,
   "metadata": {},
   "outputs": [],
   "source": []
  }
 ],
 "metadata": {
  "kernelspec": {
   "display_name": "pytorch_env",
   "language": "python",
   "name": "pytorch_env"
  },
  "language_info": {
   "codemirror_mode": {
    "name": "ipython",
    "version": 3
   },
   "file_extension": ".py",
   "mimetype": "text/x-python",
   "name": "python",
   "nbconvert_exporter": "python",
   "pygments_lexer": "ipython3",
   "version": "3.7.4"
  }
 },
 "nbformat": 4,
 "nbformat_minor": 2
}
